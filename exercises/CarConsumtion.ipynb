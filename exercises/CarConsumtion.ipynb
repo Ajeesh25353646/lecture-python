{
 "cells": [
  {
   "cell_type": "markdown",
   "metadata": {},
   "source": [
    "# Python Catch-up Exam (DU, 08/06/2020): Car consumtion"
   ]
  },
  {
   "cell_type": "markdown",
   "metadata": {},
   "source": [
    "> + **Due time** 15/06/2020\n",
    "> + **Send your final notebook** at [romain.madar@cern.ch](mailto:romain.madar@cern.ch)\n",
    "> \n",
    "> The final mark will be a number between 0 (very bad) and 20 (very good). The evaluation of this work takes into account mainly the correctness of the answers, but also the clarity of the explanations and the quality of the code."
   ]
  },
  {
   "cell_type": "markdown",
   "metadata": {},
   "source": [
    "## General informations\n",
    "\n",
    "\n",
    "### A bit of context\n",
    "\n",
    "Car consumption is a key element from many points of view (ecology, cost, fuel choice for a new car, ...). Most of the time, consumptions annouced by car constructors are not reflecting consumptions observed in real use-cases. The goal of this work is to analyze 280 car travels in order to estimate the real car consumption of the studied case, and understand how to possibly optimize it. The first part focuses on the analysis of the travels (distance, duration, etc...) while the second part focuses on the consumption.\n",
    "\n",
    "\n",
    "### Data description\n",
    "\n",
    "The data associated to the 280 car travels to be analyzed are provided *via* a `csv` file containings 7 informatios for each travel:\n",
    "  1. `distance_Km`: travel distance [unit: kilometer],\n",
    "  1. `conso_L100km`: averaged consomation of the travel [unit: Liter / 100 km]\n",
    "  1. `duration_H`: duration of the travel [unit: hours, *e.g.* 0.3 means $60 \\times 0.3 = 18\\,$min]\n",
    "  1. `price_EuroL`: price of the fuel for this travel [unit: Euros / Liter]\n",
    "  1. `dayTime_H`: hour of the day at which the travel was done [number between 0 and 23)]\n",
    "  1. `weekDay`: day of the week at which the travel was done [number between 1 (monday) and 7 (sunday)]\n",
    "  1. `yearMonth`: month of the year at which the travel was done [number between 1 (january) and 12 (december)]"
   ]
  },
  {
   "cell_type": "markdown",
   "metadata": {},
   "source": [
    "### Import packages"
   ]
  },
  {
   "cell_type": "code",
   "execution_count": 1,
   "metadata": {},
   "outputs": [],
   "source": [
    "import pandas as pd\n",
    "import numpy as np\n",
    "import matplotlib.pyplot as plt"
   ]
  },
  {
   "cell_type": "markdown",
   "metadata": {},
   "source": [
    "### Import data"
   ]
  },
  {
   "cell_type": "code",
   "execution_count": 2,
   "metadata": {},
   "outputs": [
    {
     "data": {
      "text/html": [
       "<div>\n",
       "<style scoped>\n",
       "    .dataframe tbody tr th:only-of-type {\n",
       "        vertical-align: middle;\n",
       "    }\n",
       "\n",
       "    .dataframe tbody tr th {\n",
       "        vertical-align: top;\n",
       "    }\n",
       "\n",
       "    .dataframe thead th {\n",
       "        text-align: right;\n",
       "    }\n",
       "</style>\n",
       "<table border=\"1\" class=\"dataframe\">\n",
       "  <thead>\n",
       "    <tr style=\"text-align: right;\">\n",
       "      <th></th>\n",
       "      <th>distance_Km</th>\n",
       "      <th>conso_L100km</th>\n",
       "      <th>duration_H</th>\n",
       "      <th>price_EuroL</th>\n",
       "      <th>dayTime_H</th>\n",
       "      <th>weekDay</th>\n",
       "      <th>yearMonth</th>\n",
       "    </tr>\n",
       "  </thead>\n",
       "  <tbody>\n",
       "    <tr>\n",
       "      <th>0</th>\n",
       "      <td>15.5</td>\n",
       "      <td>5.6</td>\n",
       "      <td>0.550000</td>\n",
       "      <td>1.34</td>\n",
       "      <td>7</td>\n",
       "      <td>1</td>\n",
       "      <td>2</td>\n",
       "    </tr>\n",
       "    <tr>\n",
       "      <th>1</th>\n",
       "      <td>12.4</td>\n",
       "      <td>4.5</td>\n",
       "      <td>0.216667</td>\n",
       "      <td>1.45</td>\n",
       "      <td>19</td>\n",
       "      <td>7</td>\n",
       "      <td>2</td>\n",
       "    </tr>\n",
       "    <tr>\n",
       "      <th>2</th>\n",
       "      <td>4.5</td>\n",
       "      <td>4.0</td>\n",
       "      <td>0.133333</td>\n",
       "      <td>1.45</td>\n",
       "      <td>18</td>\n",
       "      <td>7</td>\n",
       "      <td>2</td>\n",
       "    </tr>\n",
       "    <tr>\n",
       "      <th>3</th>\n",
       "      <td>0.4</td>\n",
       "      <td>11.7</td>\n",
       "      <td>0.033333</td>\n",
       "      <td>1.45</td>\n",
       "      <td>18</td>\n",
       "      <td>7</td>\n",
       "      <td>2</td>\n",
       "    </tr>\n",
       "    <tr>\n",
       "      <th>4</th>\n",
       "      <td>0.5</td>\n",
       "      <td>10.6</td>\n",
       "      <td>0.066667</td>\n",
       "      <td>1.45</td>\n",
       "      <td>11</td>\n",
       "      <td>7</td>\n",
       "      <td>2</td>\n",
       "    </tr>\n",
       "  </tbody>\n",
       "</table>\n",
       "</div>"
      ],
      "text/plain": [
       "   distance_Km  conso_L100km  duration_H  price_EuroL  dayTime_H  weekDay  \\\n",
       "0         15.5           5.6    0.550000         1.34          7        1   \n",
       "1         12.4           4.5    0.216667         1.45         19        7   \n",
       "2          4.5           4.0    0.133333         1.45         18        7   \n",
       "3          0.4          11.7    0.033333         1.45         18        7   \n",
       "4          0.5          10.6    0.066667         1.45         11        7   \n",
       "\n",
       "   yearMonth  \n",
       "0          2  \n",
       "1          2  \n",
       "2          2  \n",
       "3          2  \n",
       "4          2  "
      ]
     },
     "execution_count": 2,
     "metadata": {},
     "output_type": "execute_result"
    }
   ],
   "source": [
    "df = pd.read_csv('CarData.csv')\n",
    "df.head()"
   ]
  },
  {
   "cell_type": "markdown",
   "metadata": {},
   "source": [
    "## Part I : travel analysis (10 pts)\n",
    "\n",
    "### 1. Average values (2 pts + 2 bonus pts)"
   ]
  },
  {
   "cell_type": "markdown",
   "metadata": {},
   "source": [
    " - what is the average traveled distance (in km)?"
   ]
  },
  {
   "cell_type": "code",
   "execution_count": null,
   "metadata": {},
   "outputs": [],
   "source": []
  },
  {
   "cell_type": "markdown",
   "metadata": {},
   "source": [
    " - what is the average travel duration (in minutes)?"
   ]
  },
  {
   "cell_type": "code",
   "execution_count": null,
   "metadata": {
    "scrolled": true
   },
   "outputs": [],
   "source": []
  },
  {
   "cell_type": "markdown",
   "metadata": {},
   "source": [
    " - *bonus:* are these averages representative of the sample ? A quantitative criteria and a discussion are expected."
   ]
  },
  {
   "cell_type": "code",
   "execution_count": null,
   "metadata": {},
   "outputs": [],
   "source": []
  },
  {
   "cell_type": "markdown",
   "metadata": {},
   "source": [
    "### 2. Distributions (6 pts)"
   ]
  },
  {
   "cell_type": "markdown",
   "metadata": {},
   "source": [
    " - plot the histogram of the traveled distances"
   ]
  },
  {
   "cell_type": "code",
   "execution_count": null,
   "metadata": {},
   "outputs": [],
   "source": []
  },
  {
   "cell_type": "markdown",
   "metadata": {},
   "source": [
    " - plot the histogram of the travel durations"
   ]
  },
  {
   "cell_type": "code",
   "execution_count": null,
   "metadata": {},
   "outputs": [],
   "source": []
  },
  {
   "cell_type": "markdown",
   "metadata": {},
   "source": [
    " - compute the distance $D$ which satisfies $f_{\\text{travels}}(d<D) = 90\\%$ (with a precision of 1\\%), where $f_{\\text{travels}}(d<D)$ is the fraction of travels having a distance below $D$. Improve the histogram of distances using this information."
   ]
  },
  {
   "cell_type": "code",
   "execution_count": null,
   "metadata": {},
   "outputs": [],
   "source": []
  },
  {
   "cell_type": "markdown",
   "metadata": {},
   "source": [
    " - compute the averaged speed for *each travel* (in km/h) and plot the corresponding distribution. Add this information to the original dataframe"
   ]
  },
  {
   "cell_type": "code",
   "execution_count": null,
   "metadata": {
    "scrolled": true
   },
   "outputs": [],
   "source": []
  },
  {
   "cell_type": "markdown",
   "metadata": {},
   "source": [
    "### 3. Is there a favored time to travel? (2 pts)\n",
    "\n",
    "Are there some periods of the day (*e.g.* morning or afternoon), some days of the week (*e.g.* sunday or monday), having more travels?"
   ]
  },
  {
   "cell_type": "code",
   "execution_count": null,
   "metadata": {},
   "outputs": [],
   "source": []
  },
  {
   "cell_type": "markdown",
   "metadata": {},
   "source": [
    "## Part II: consumption analysis (10 pts)"
   ]
  },
  {
   "cell_type": "markdown",
   "metadata": {},
   "source": [
    "### 1. Typical consumption values (2 pts)"
   ]
  },
  {
   "cell_type": "markdown",
   "metadata": {},
   "source": [
    "What are the minimum, mean and maximum consumptions?"
   ]
  },
  {
   "cell_type": "code",
   "execution_count": null,
   "metadata": {},
   "outputs": [],
   "source": []
  },
  {
   "cell_type": "markdown",
   "metadata": {},
   "source": [
    "### 2.  Distributions (8 pts)"
   ]
  },
  {
   "cell_type": "markdown",
   "metadata": {},
   "source": [
    " - Plot the distribution of the consumption."
   ]
  },
  {
   "cell_type": "code",
   "execution_count": null,
   "metadata": {},
   "outputs": [],
   "source": []
  },
  {
   "cell_type": "markdown",
   "metadata": {},
   "source": [
    " - How this distribution changes when a sub-set of travels (*e.g.* long, short, fast slow, ...) is selected?"
   ]
  },
  {
   "cell_type": "code",
   "execution_count": null,
   "metadata": {},
   "outputs": [],
   "source": []
  },
  {
   "cell_type": "markdown",
   "metadata": {},
   "source": [
    " - According to you, is the maximum consumption found above representative?"
   ]
  },
  {
   "cell_type": "code",
   "execution_count": null,
   "metadata": {},
   "outputs": [],
   "source": []
  },
  {
   "cell_type": "markdown",
   "metadata": {},
   "source": [
    " + Can you isolate types of travels having a generally lower consumption?"
   ]
  },
  {
   "cell_type": "code",
   "execution_count": null,
   "metadata": {},
   "outputs": [],
   "source": []
  }
 ],
 "metadata": {
  "kernelspec": {
   "display_name": "Python 3",
   "language": "python",
   "name": "python3"
  },
  "language_info": {
   "codemirror_mode": {
    "name": "ipython",
    "version": 3
   },
   "file_extension": ".py",
   "mimetype": "text/x-python",
   "name": "python",
   "nbconvert_exporter": "python",
   "pygments_lexer": "ipython3",
   "version": "3.7.3"
  }
 },
 "nbformat": 4,
 "nbformat_minor": 2
}
