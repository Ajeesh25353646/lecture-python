{
 "cells": [
  {
   "cell_type": "code",
   "execution_count": 5,
   "id": "db6ccbe0-af99-43f4-a896-a47ddb7354a4",
   "metadata": {},
   "outputs": [],
   "source": [
    "# Text to be written (can be one line string 'my text' or multiple lines string - docstring)\n",
    "text = '''Gervaise avait attendu Lantier jusqu’à deux heures du matin. Puis,\n",
    "toute frissonnante d’être restée en camisole à l’air vif de la fenêtre,\n",
    "elle s’était assoupie, jetée en travers du lit, fiévreuse, les joues\n",
    "trempées de larmes.\n",
    "'''\n",
    "\n",
    "# Open in write mode\n",
    "f = open('test.txt', 'w')\n",
    "\n",
    "# Write string\n",
    "f.write(text)\n",
    "\n",
    "# Close\n",
    "f.close()"
   ]
  },
  {
   "cell_type": "code",
   "execution_count": 7,
   "id": "b2fc326e-1a98-49f8-b3a2-9cdb9c715410",
   "metadata": {},
   "outputs": [
    {
     "name": "stdout",
     "output_type": "stream",
     "text": [
      "\n",
      "\n",
      "==================================================\n",
      "This line: Gervaise avait attendu Lantier jusqu’à deux heures du matin. Puis,\n",
      "\n",
      "This line has 2 sentences: \n",
      " - sentence 0: ['Gervaise', 'avait', 'attendu', 'Lantier', 'jusqu’à', 'deux', 'heures', 'du', 'matin']\n",
      " - sentence 1: ['Puis,']\n",
      "\n",
      "\n",
      "==================================================\n",
      "This line: toute frissonnante d’être restée en camisole à l’air vif de la fenêtre,\n",
      "\n",
      "This line has 1 sentences: \n",
      " - sentence 0: ['toute', 'frissonnante', 'd’être', 'restée', 'en', 'camisole', 'à', 'l’air', 'vif', 'de', 'la', 'fenêtre,']\n",
      "\n",
      "\n",
      "==================================================\n",
      "This line: elle s’était assoupie, jetée en travers du lit, fiévreuse, les joues\n",
      "\n",
      "This line has 1 sentences: \n",
      " - sentence 0: ['elle', 's’était', 'assoupie,', 'jetée', 'en', 'travers', 'du', 'lit,', 'fiévreuse,', 'les', 'joues']\n",
      "\n",
      "\n",
      "==================================================\n",
      "This line: trempées de larmes.\n",
      "\n",
      "This line has 2 sentences: \n",
      " - sentence 0: ['trempées', 'de', 'larmes']\n",
      " - sentence 1: ['']\n"
     ]
    }
   ],
   "source": [
    "# Open the file in read mode\n",
    "f = open('test.txt', 'r')\n",
    "\n",
    "# Loop over the lines\n",
    "for line in f:\n",
    "    \n",
    "    # Print a header to make the ouput clearer\n",
    "    print('\\n\\n{}'.format('='*50))\n",
    "    \n",
    "    # Print the line as it is given\n",
    "    print('This line: {}'.format(line))\n",
    "    \n",
    "    # Split by '.' to isolate sentence\n",
    "    sentences = line.split('.')\n",
    "    print('This line has {} sentences: '.format(len(sentences)))\n",
    "    \n",
    "    # Split each sentence by ' ' to isolate words\n",
    "    for i,s in enumerate(sentences):\n",
    "        sclean = s.strip()\n",
    "        words = sclean.split(' ')\n",
    "        print(' - sentence {}: {}'.format(i, words))\n",
    "\n",
    "f.close()"
   ]
  },
  {
   "cell_type": "code",
   "execution_count": null,
   "id": "e67d08af-3df5-43eb-bd26-d1efcbdf8973",
   "metadata": {},
   "outputs": [],
   "source": []
  },
  {
   "cell_type": "code",
   "execution_count": null,
   "id": "acff41c7-7cd3-418b-b5f0-feb322aa2eee",
   "metadata": {},
   "outputs": [],
   "source": []
  },
  {
   "cell_type": "code",
   "execution_count": null,
   "id": "9e10136b-6d74-406a-93e5-c826701602da",
   "metadata": {},
   "outputs": [],
   "source": []
  },
  {
   "cell_type": "code",
   "execution_count": 44,
   "id": "b782726a-127e-4c47-a9d6-f45d6a2f81ed",
   "metadata": {},
   "outputs": [
    {
     "name": "stdout",
     "output_type": "stream",
     "text": [
      "Gervaise avait attendu Lantier jusqu’à deux heures du matin. Puis,\n",
      "\n",
      "toute frissonnante d’être restée en camisole à l’air vif de la fenêtre,\n",
      "\n",
      "elle s’était assoupie, jetée en travers du lit, fiévreuse, les joues\n",
      "\n",
      "trempées de larmes.\n",
      "\n"
     ]
    }
   ],
   "source": [
    "f = open('test.txt', 'r')\n",
    "for l in f:\n",
    "    print(l)"
   ]
  },
  {
   "cell_type": "code",
   "execution_count": 45,
   "id": "654baf9d-5c95-4740-a526-d1d073d27f47",
   "metadata": {},
   "outputs": [],
   "source": [
    "for l in f:\n",
    "    print(l)"
   ]
  },
  {
   "cell_type": "code",
   "execution_count": null,
   "id": "ea906a5b-efdb-4b0b-8716-b801db6ff20c",
   "metadata": {},
   "outputs": [],
   "source": []
  },
  {
   "cell_type": "code",
   "execution_count": 8,
   "id": "e237d765-faf1-4fa9-b7c0-06602352729a",
   "metadata": {},
   "outputs": [],
   "source": [
    "# Data taken from kaggle: https://www.kaggle.com/jolasa/waves-measuring-buoys-data-mooloolaba\n",
    "data_csv_format = '''index,date,height,heightMax,period,energy,direction,temperature\n",
    "1,01/01/2017 00:00,-99.9,-99.9,-99.9,-99.9,-99.9,-99.9\n",
    "2,01/01/2017 00:30,0.875,1.39,4.421,4.506,-99.9,-99.9\n",
    "3,01/01/2017 01:00,0.763,1.15,4.52,5.513,49,25.65\n",
    "4,01/01/2017 01:30,0.77,1.41,4.582,5.647,75,25.5\n",
    "5,01/01/2017 02:00,0.747,1.16,4.515,5.083,91,25.45\n",
    "6,01/01/2017 02:30,0.718,1.61,4.614,6.181,68,25.45\n",
    "7,01/01/2017 03:00,0.707,1.34,4.568,4.705,73,25.5\n",
    "8,01/01/2017 03:30,0.729,1.21,4.786,4.484,63,25.5\n",
    "9,01/01/2017 04:00,0.733,1.2,4.897,5.042,68,25.5\n",
    "10,01/01/2017 04:30,0.711,1.29,5.019,8.439,66,25.5\n",
    "11,01/01/2017 05:00,0.698,1.11,4.867,4.584,64,25.55\n",
    "12,01/01/2017 05:30,0.686,1.14,4.755,5.211,56,25.55\n",
    "13,01/01/2017 06:00,0.721,1.12,4.843,5.813,67,25.5\n",
    "14,01/01/2017 06:30,0.679,1.22,4.948,4.71,81,25.45\n",
    "15,01/01/2017 07:00,0.66,1.08,5.068,5.353,90,25.45\n",
    "16,01/01/2017 07:30,0.662,1.18,5.263,7.436,67,25.4\n",
    "17,01/01/2017 08:00,0.653,1.21,5.007,6.001,90,25.45\n",
    "18,01/01/2017 08:30,0.665,1.17,4.952,6.414,90,25.55\n",
    "19,01/01/2017 09:00,0.684,1.55,5.022,6.691,88,25.6\n",
    "20,01/01/2017 09:30,0.679,1.09,4.926,6.804,88,25.65\n",
    "21,01/01/2017 10:00,0.667,1.12,4.928,6.641,122,25.75\n",
    "22,01/01/2017 10:30,0.688,1.13,4.808,5.958,91,25.7\n",
    "23,01/01/2017 11:00,0.644,0.99,4.559,6.691,92,25.9\n",
    "'''"
   ]
  },
  {
   "cell_type": "code",
   "execution_count": 10,
   "id": "45b59e71-6f27-4724-a57d-35aa937a3ddf",
   "metadata": {},
   "outputs": [],
   "source": [
    "fcsv = open('wave.csv', 'w')\n",
    "fcsv.write(data_csv_format)\n",
    "fcsv.close()"
   ]
  },
  {
   "cell_type": "code",
   "execution_count": 28,
   "id": "7acbd370-bc2d-48f5-9920-2e4ec0e2f0eb",
   "metadata": {},
   "outputs": [
    {
     "name": "stdout",
     "output_type": "stream",
     "text": [
      "test test\n"
     ]
    }
   ],
   "source": [
    "ex = '\\n test test\\n'\n",
    "print(ex.strip())"
   ]
  },
  {
   "cell_type": "code",
   "execution_count": 29,
   "id": "7223e545-d6d1-4e88-a638-b0a5033b5667",
   "metadata": {},
   "outputs": [],
   "source": [
    "f = open('wave.csv', 'r')\n",
    "data_raw = []\n",
    "for line in f:\n",
    "    d = line.strip().split(',')\n",
    "    data_raw.append(d[2:])"
   ]
  },
  {
   "cell_type": "markdown",
   "id": "a9bfb07f-4c9e-4549-8ce9-480ae8159495",
   "metadata": {},
   "source": [
    "1. Organize the wave data as a list of dictionnary, as follow :\n",
    "```python\n",
    "# list of dictionnary\n",
    "waves = [\n",
    " \n",
    "  # wave 1\n",
    " {k1: val1, k2: val2, ...},    \n",
    " \n",
    " # wave 2\n",
    " {k1: val1, k2: val2, ...},\n",
    " \n",
    " ...   \n",
    "]\n",
    "```\n",
    "\n",
    "2. Compute the mean of each feature"
   ]
  },
  {
   "cell_type": "code",
   "execution_count": 56,
   "id": "2247c20b-e7fe-42a0-bb82-1b92993f419c",
   "metadata": {},
   "outputs": [],
   "source": [
    "# Question 1: data organization\n",
    "\n",
    "# Get the features and data\n",
    "features = data_raw[0]\n",
    "data = data_raw[1:]\n",
    "\n",
    "# Loop over the waves and fill the list\n",
    "waves = []\n",
    "for d in data:\n",
    "    this_wave = {f:float(x) for f, x in zip(features, d)}\n",
    "    waves.append(this_wave)\n",
    "\n",
    "#for i, w in enumerate(waves):\n",
    "#    print(i, w)"
   ]
  },
  {
   "cell_type": "code",
   "execution_count": 62,
   "id": "2379e128-a3f7-46e9-995e-6a303b6069d7",
   "metadata": {},
   "outputs": [
    {
     "name": "stdout",
     "output_type": "stream",
     "text": [
      "{'height': 0.706318181818182, 'heightMax': 1.2213636363636364, 'period': 4.812181818181819, 'energy': 5.813954545454546, 'direction': 78.04761904761905, 'temperature': 25.549999999999997}\n"
     ]
    }
   ],
   "source": [
    "# Question 2 : compute the mean of each features\n",
    "\n",
    "# Helper function\n",
    "def mean_list(l):\n",
    "    res = 0\n",
    "    for i, x in enumerate(l):\n",
    "        res+=x\n",
    "    return res/len(l)\n",
    "\n",
    "# Loop over features\n",
    "means = {}\n",
    "for f in features:\n",
    "    vals = [w[f] for w in waves if w[f]>0]\n",
    "    means[f] = mean_list(vals)\n",
    "\n",
    "print(means)"
   ]
  },
  {
   "cell_type": "code",
   "execution_count": 50,
   "id": "f69197b1-8d96-437d-8cd3-3c7b8d052d4f",
   "metadata": {},
   "outputs": [],
   "source": [
    "f = open('wave.csv', 'r')\n",
    "\n",
    "# Question 1\n",
    "elements = f.readline().strip().split(',')\n",
    "waves = [{elm:value for elm,value in zip(elements[2:], l.strip().split(',')[2:])} for l in f]\n",
    "# print(waves)\n",
    "\n",
    "#Question 2"
   ]
  },
  {
   "cell_type": "markdown",
   "id": "5d5018ab-ea22-43a7-987e-7b5950f50df8",
   "metadata": {},
   "source": [
    "# Numpy Lecture"
   ]
  },
  {
   "cell_type": "code",
   "execution_count": 63,
   "id": "d91895ea-7227-42c0-b597-de135706196a",
   "metadata": {},
   "outputs": [],
   "source": [
    "import numpy as np"
   ]
  },
  {
   "cell_type": "code",
   "execution_count": 64,
   "id": "2e36bfbd-95eb-4a9e-9f51-cd752b7e667d",
   "metadata": {},
   "outputs": [
    {
     "name": "stdout",
     "output_type": "stream",
     "text": [
      "<class 'list'> <class 'numpy.ndarray'>\n"
     ]
    }
   ],
   "source": [
    "l1 = [1, 2, 3]\n",
    "l2 = [4, 5, 6]\n",
    "a1 = np.array(l1)\n",
    "a2 = np.array(l2)\n",
    "print(type(l1), type(a1))"
   ]
  },
  {
   "cell_type": "code",
   "execution_count": 65,
   "id": "173f7b20-43c2-4fd0-98d9-45374512d68b",
   "metadata": {},
   "outputs": [
    {
     "data": {
      "text/plain": [
       "[1, 2, 3, 4, 5, 6]"
      ]
     },
     "execution_count": 65,
     "metadata": {},
     "output_type": "execute_result"
    }
   ],
   "source": [
    "l1+l2"
   ]
  },
  {
   "cell_type": "code",
   "execution_count": 66,
   "id": "6bd25059-f334-42bd-9a96-a569c19533bb",
   "metadata": {},
   "outputs": [
    {
     "data": {
      "text/plain": [
       "array([5, 7, 9])"
      ]
     },
     "execution_count": 66,
     "metadata": {},
     "output_type": "execute_result"
    }
   ],
   "source": [
    "a1+a2"
   ]
  },
  {
   "cell_type": "code",
   "execution_count": 67,
   "id": "e6fd760e-678c-4b60-8841-b9db2c9dd69b",
   "metadata": {},
   "outputs": [
    {
     "data": {
      "text/plain": [
       "[1, 2, 3, 1, 2, 3, 1, 2, 3, 1, 2, 3, 1, 2, 3]"
      ]
     },
     "execution_count": 67,
     "metadata": {},
     "output_type": "execute_result"
    }
   ],
   "source": [
    "l1*5"
   ]
  },
  {
   "cell_type": "code",
   "execution_count": 68,
   "id": "15ebc4d9-caaf-4f86-a5ee-a2f3bd1a00cc",
   "metadata": {},
   "outputs": [
    {
     "data": {
      "text/plain": [
       "array([ 5, 10, 15])"
      ]
     },
     "execution_count": 68,
     "metadata": {},
     "output_type": "execute_result"
    }
   ],
   "source": [
    "a1*5"
   ]
  },
  {
   "cell_type": "code",
   "execution_count": 70,
   "id": "13d8aff6-9240-4868-a764-9342e4437f13",
   "metadata": {},
   "outputs": [
    {
     "data": {
      "text/plain": [
       "(2, 2)"
      ]
     },
     "execution_count": 70,
     "metadata": {},
     "output_type": "execute_result"
    }
   ],
   "source": [
    "l1[1], a1[1]"
   ]
  },
  {
   "cell_type": "code",
   "execution_count": 71,
   "id": "ffaf9e68-663f-47f6-871b-691fcb1c1b61",
   "metadata": {},
   "outputs": [
    {
     "data": {
      "text/plain": [
       "([2], array([2]))"
      ]
     },
     "execution_count": 71,
     "metadata": {},
     "output_type": "execute_result"
    }
   ],
   "source": [
    "start, end, step = 1, 2, 1\n",
    "l1[start:end:step], a1[start:end:step]"
   ]
  },
  {
   "cell_type": "code",
   "execution_count": 77,
   "id": "eda2290a-6f2a-4a43-80ba-87d371fdb5e2",
   "metadata": {},
   "outputs": [
    {
     "data": {
      "text/plain": [
       "array([1, 1, 1, 2, 1, 3, 3])"
      ]
     },
     "execution_count": 77,
     "metadata": {},
     "output_type": "execute_result"
    }
   ],
   "source": [
    "indices = [0,0,0, 1, 0, 2, 2]\n",
    "a1[indices]"
   ]
  },
  {
   "cell_type": "code",
   "execution_count": 78,
   "id": "91bcf906-e2b8-4662-aba5-63d22c50d723",
   "metadata": {},
   "outputs": [
    {
     "ename": "TypeError",
     "evalue": "list indices must be integers or slices, not list",
     "output_type": "error",
     "traceback": [
      "\u001b[0;31m---------------------------------------------------------------------------\u001b[0m",
      "\u001b[0;31mTypeError\u001b[0m                                 Traceback (most recent call last)",
      "Cell \u001b[0;32mIn[78], line 1\u001b[0m\n\u001b[0;32m----> 1\u001b[0m \u001b[43ml1\u001b[49m\u001b[43m[\u001b[49m\u001b[43m[\u001b[49m\u001b[38;5;241;43m0\u001b[39;49m\u001b[43m,\u001b[49m\u001b[38;5;241;43m0\u001b[39;49m\u001b[43m,\u001b[49m\u001b[38;5;241;43m0\u001b[39;49m\u001b[43m,\u001b[49m\u001b[43m \u001b[49m\u001b[38;5;241;43m1\u001b[39;49m\u001b[43m,\u001b[49m\u001b[43m \u001b[49m\u001b[38;5;241;43m0\u001b[39;49m\u001b[43m,\u001b[49m\u001b[43m \u001b[49m\u001b[38;5;241;43m2\u001b[39;49m\u001b[43m,\u001b[49m\u001b[43m \u001b[49m\u001b[38;5;241;43m2\u001b[39;49m\u001b[43m]\u001b[49m\u001b[43m]\u001b[49m\n",
      "\u001b[0;31mTypeError\u001b[0m: list indices must be integers or slices, not list"
     ]
    }
   ],
   "source": [
    "l1[[0,0,0, 1, 0, 2, 2]]"
   ]
  },
  {
   "cell_type": "code",
   "execution_count": 79,
   "id": "509a01dc-c379-45ed-a566-4a9f095f844b",
   "metadata": {},
   "outputs": [
    {
     "name": "stdout",
     "output_type": "stream",
     "text": [
      "l1=[1, 10, 3], l2=[1, 10, 3]\n"
     ]
    }
   ],
   "source": [
    "# Create a list\n",
    "l1 = [1, 2, 3]\n",
    "\n",
    "# Getting a copy and modifying it\n",
    "l2 = l1\n",
    "l2[1] = 10\n",
    "\n",
    "# Print the two lists : both are modified\n",
    "print(f'l1={l1}, l2={l2}')"
   ]
  },
  {
   "cell_type": "code",
   "execution_count": 81,
   "id": "4169ff29-4128-4c10-a333-f98e939abc33",
   "metadata": {},
   "outputs": [
    {
     "name": "stdout",
     "output_type": "stream",
     "text": [
      "l1=[1, 2, 3], l2=[1, 10, 3]\n"
     ]
    }
   ],
   "source": [
    "import copy\n",
    "\n",
    "# Create a list\n",
    "l1 = [1, 2, 3]\n",
    "\n",
    "# Getting a copy and modifying it\n",
    "l2 = copy.copy(l1)\n",
    "l2[1] = 10\n",
    "\n",
    "# Print the two lists : both are modified\n",
    "print(f'l1={l1}, l2={l2}')"
   ]
  },
  {
   "cell_type": "code",
   "execution_count": 83,
   "id": "5d9e5410-5818-4603-b92f-97f60501687f",
   "metadata": {},
   "outputs": [
    {
     "name": "stdout",
     "output_type": "stream",
     "text": [
      "l1=[1, [2, 22], 3], l2=[1, [2, 10], 3]\n"
     ]
    }
   ],
   "source": [
    "# Create a list\n",
    "l1 = [1, [2, 22], 3]\n",
    "\n",
    "# Getting a copy and modifying it\n",
    "l2 = copy.deepcopy(l1)\n",
    "l2[1][1] = 10\n",
    "\n",
    "# Print the two lists : both are modified\n",
    "print(f'l1={l1}, l2={l2}')"
   ]
  },
  {
   "cell_type": "code",
   "execution_count": 84,
   "id": "2df95567-4b5c-493c-b8da-d92e4d5cb788",
   "metadata": {},
   "outputs": [
    {
     "name": "stdout",
     "output_type": "stream",
     "text": [
      "a.dtype = int64\n",
      "a.shape = (2, 3)\n",
      "a.size  = 6\n",
      "a.ndim  = 2\n"
     ]
    }
   ],
   "source": [
    "points = np.array([[ 0,  1, 2],\n",
    "                   [ 3,  4, 5]])\n",
    "\n",
    "print('a.dtype = {}'.format(points.dtype))\n",
    "print('a.shape = {}'.format(points.shape))\n",
    "print('a.size  = {}'.format(points.size))\n",
    "print('a.ndim  = {}'.format(points.ndim))"
   ]
  },
  {
   "cell_type": "code",
   "execution_count": 87,
   "id": "2609f87b-5b54-4f58-836b-f6189829d6f6",
   "metadata": {},
   "outputs": [
    {
     "data": {
      "text/plain": [
       "dict_items"
      ]
     },
     "execution_count": 87,
     "metadata": {},
     "output_type": "execute_result"
    }
   ],
   "source": [
    "d = {0:'t'}\n",
    "type(d.items())"
   ]
  },
  {
   "cell_type": "code",
   "execution_count": 89,
   "id": "a1e88176-1ca3-4dcf-b4eb-64b748784a5c",
   "metadata": {},
   "outputs": [
    {
     "data": {
      "text/plain": [
       "15"
      ]
     },
     "execution_count": 89,
     "metadata": {},
     "output_type": "execute_result"
    }
   ],
   "source": [
    "points.sum()"
   ]
  },
  {
   "cell_type": "code",
   "execution_count": 90,
   "id": "e10f2c91-6892-4550-9a9f-95d0c00e4ffb",
   "metadata": {},
   "outputs": [],
   "source": [
    "a = np.random.randint(low=1, high=100, size=100000)\n",
    "\n",
    "def explicit_loop_for_inverse(array):\n",
    "    res = []\n",
    "    for a in array:\n",
    "        res.append(1./a)\n",
    "    return np.array(res)"
   ]
  },
  {
   "cell_type": "code",
   "execution_count": 91,
   "id": "c57c0412-8cab-4e6c-a73b-7b4ae2c2ce56",
   "metadata": {},
   "outputs": [
    {
     "name": "stdout",
     "output_type": "stream",
     "text": [
      "148 ms ± 777 μs per loop (mean ± std. dev. of 7 runs, 10 loops each)\n"
     ]
    }
   ],
   "source": [
    "%timeit explicit_loop_for_inverse(a)"
   ]
  },
  {
   "cell_type": "code",
   "execution_count": 92,
   "id": "7b2f22d1-e805-476a-aaff-b5734c8ccbbb",
   "metadata": {},
   "outputs": [
    {
     "name": "stdout",
     "output_type": "stream",
     "text": [
      "116 μs ± 1.27 μs per loop (mean ± std. dev. of 7 runs, 10,000 loops each)\n"
     ]
    }
   ],
   "source": [
    "%timeit 1./a"
   ]
  },
  {
   "cell_type": "code",
   "execution_count": 93,
   "id": "b5302e6f-da1f-4423-80fe-742f59d60ca6",
   "metadata": {},
   "outputs": [],
   "source": [
    "# Generate 5 vectors (x,y,z)\n",
    "positions = np.random.randint(low=1, high=100, size=(5, 3))"
   ]
  },
  {
   "cell_type": "code",
   "execution_count": 95,
   "id": "7e893737-c918-436a-a6a6-4bf7db675c98",
   "metadata": {},
   "outputs": [
    {
     "data": {
      "text/plain": [
       "44.93333333333333"
      ]
     },
     "execution_count": 95,
     "metadata": {},
     "output_type": "execute_result"
    }
   ],
   "source": [
    "positions.mean()"
   ]
  },
  {
   "cell_type": "code",
   "execution_count": 98,
   "id": "fd2a363e-1430-4831-8800-dbc60b7e44ad",
   "metadata": {},
   "outputs": [],
   "source": [
    "bary = np.mean(positions, axis=0)"
   ]
  },
  {
   "cell_type": "markdown",
   "id": "02b42615-8b88-4342-b6d9-8cbbcd2f858a",
   "metadata": {},
   "source": [
    "1. Using `np.sqrt()` ufunc, compute the distances of each point to the barycenter."
   ]
  },
  {
   "cell_type": "code",
   "execution_count": 100,
   "id": "305c6846-eac1-4a35-8acb-6c25c9bcc684",
   "metadata": {},
   "outputs": [],
   "source": [
    "distances = np.sum((positions - bary)**2, axis=1)**0.5"
   ]
  },
  {
   "cell_type": "code",
   "execution_count": 103,
   "id": "46ec1bbe-1b69-4b97-9c50-68a388956e64",
   "metadata": {},
   "outputs": [],
   "source": [
    "positions = np.random.randint(low=1, high=100, size=(1000000, 3))\n",
    "\n",
    "def distance_bary(p):\n",
    "    bary = np.mean(p, axis=0)\n",
    "    return np.sum((p - bary)**2, axis=1)**0.5\n",
    "\n",
    "def distance_loop(p):\n",
    "    bary = np.mean(p, axis=0)\n",
    "    for r in p:\n",
    "        d = np.sqrt((r[0]-bary[0])**2 + (r[1]-bary[1])**2 + (r[2]-bary[2])**2)"
   ]
  },
  {
   "cell_type": "code",
   "execution_count": 102,
   "id": "3dd37a1d-d4a0-4dec-98cb-1d0fe329dc34",
   "metadata": {},
   "outputs": [
    {
     "name": "stdout",
     "output_type": "stream",
     "text": [
      "46.9 ms ± 884 μs per loop (mean ± std. dev. of 7 runs, 10 loops each)\n"
     ]
    }
   ],
   "source": [
    "%timeit distance_bary(positions)"
   ]
  },
  {
   "cell_type": "code",
   "execution_count": 104,
   "id": "f7a723cc-1335-4547-a037-d1fb31931953",
   "metadata": {},
   "outputs": [
    {
     "name": "stdout",
     "output_type": "stream",
     "text": [
      "2.26 s ± 29.2 ms per loop (mean ± std. dev. of 7 runs, 1 loop each)\n"
     ]
    }
   ],
   "source": [
    "%timeit distance_loop(positions)"
   ]
  },
  {
   "cell_type": "code",
   "execution_count": 105,
   "id": "b92a10c1-512d-4fac-9a8b-666531becfc9",
   "metadata": {},
   "outputs": [
    {
     "name": "stdout",
     "output_type": "stream",
     "text": [
      "a+b = \n",
      "[6 7 8]\n"
     ]
    }
   ],
   "source": [
    "# operation between shape (3) and (1)\n",
    "a = np.array([1, 2, 3])\n",
    "b = np.array([5])\n",
    "print('a+b = \\n{}'.format(a+b))"
   ]
  },
  {
   "cell_type": "code",
   "execution_count": 106,
   "id": "d028f9c2-d647-4f64-ad27-7c65d792bbd3",
   "metadata": {},
   "outputs": [
    {
     "name": "stdout",
     "output_type": "stream",
     "text": [
      "a+b = \n",
      "[[5 6 7]\n",
      " [6 7 8]]\n"
     ]
    }
   ],
   "source": [
    "# operation between shape (3) and (2,1)\n",
    "a = np.array([1, 2, 3])\n",
    "b = np.array([\n",
    "              [4],\n",
    "              [5],\n",
    "             ])\n",
    "print('a+b = \\n{}'.format(a+b))"
   ]
  },
  {
   "cell_type": "code",
   "execution_count": 107,
   "id": "0fa88da3-a259-4ded-bf7a-c691217c993d",
   "metadata": {},
   "outputs": [
    {
     "ename": "ValueError",
     "evalue": "operands could not be broadcast together with shapes (2,5) (2,) ",
     "output_type": "error",
     "traceback": [
      "\u001b[0;31m---------------------------------------------------------------------------\u001b[0m",
      "\u001b[0;31mValueError\u001b[0m                                Traceback (most recent call last)",
      "Cell \u001b[0;32mIn[107], line 4\u001b[0m\n\u001b[1;32m      2\u001b[0m a \u001b[38;5;241m=\u001b[39m np\u001b[38;5;241m.\u001b[39marange(\u001b[38;5;241m10\u001b[39m)\u001b[38;5;241m.\u001b[39mreshape(\u001b[38;5;241m2\u001b[39m,\u001b[38;5;241m5\u001b[39m)\n\u001b[1;32m      3\u001b[0m b \u001b[38;5;241m=\u001b[39m np\u001b[38;5;241m.\u001b[39marray([\u001b[38;5;241m10\u001b[39m, \u001b[38;5;241m20\u001b[39m])\n\u001b[0;32m----> 4\u001b[0m \u001b[43ma\u001b[49m\u001b[38;5;241;43m+\u001b[39;49m\u001b[43mb\u001b[49m\n",
      "\u001b[0;31mValueError\u001b[0m: operands could not be broadcast together with shapes (2,5) (2,) "
     ]
    }
   ],
   "source": [
    "# Arrays (2, 5) and (2,)\n",
    "a = np.arange(10).reshape(2,5)\n",
    "b = np.array([10, 20])\n",
    "a+b"
   ]
  },
  {
   "cell_type": "code",
   "execution_count": 110,
   "id": "85314267-eb8c-4534-93f0-1405b88bd88b",
   "metadata": {},
   "outputs": [
    {
     "data": {
      "text/plain": [
       "array([[0, 1, 2, 3, 4],\n",
       "       [5, 6, 7, 8, 9]])"
      ]
     },
     "execution_count": 110,
     "metadata": {},
     "output_type": "execute_result"
    }
   ],
   "source": [
    "a"
   ]
  },
  {
   "cell_type": "code",
   "execution_count": 111,
   "id": "c8e05cb8-739d-4da4-879b-dc5ba517bcb7",
   "metadata": {},
   "outputs": [
    {
     "data": {
      "text/plain": [
       "array([10, 20])"
      ]
     },
     "execution_count": 111,
     "metadata": {},
     "output_type": "execute_result"
    }
   ],
   "source": [
    "b"
   ]
  },
  {
   "cell_type": "code",
   "execution_count": 108,
   "id": "dd136b35-fd85-4d3c-a4bf-716d3d6995e0",
   "metadata": {},
   "outputs": [
    {
     "data": {
      "text/plain": [
       "array([[10, 11, 12, 13, 14],\n",
       "       [25, 26, 27, 28, 29]])"
      ]
     },
     "execution_count": 108,
     "metadata": {},
     "output_type": "execute_result"
    }
   ],
   "source": [
    "a+b[:, np.newaxis]"
   ]
  },
  {
   "cell_type": "code",
   "execution_count": 109,
   "id": "30ffff5b-b4a0-478d-8800-973e9b2a1a03",
   "metadata": {},
   "outputs": [
    {
     "data": {
      "text/plain": [
       "array([[10, 11, 12, 13, 14],\n",
       "       [25, 26, 27, 28, 29]])"
      ]
     },
     "execution_count": 109,
     "metadata": {},
     "output_type": "execute_result"
    }
   ],
   "source": [
    "b[:, np.newaxis] + a"
   ]
  },
  {
   "cell_type": "code",
   "execution_count": 112,
   "id": "91c4fcd3-90cd-4e20-b0b6-17692a8c270b",
   "metadata": {},
   "outputs": [],
   "source": [
    "c = np.array([10, 20, 30])"
   ]
  },
  {
   "cell_type": "code",
   "execution_count": 116,
   "id": "419c3f16-947b-4b47-a269-b171e32ec7a2",
   "metadata": {},
   "outputs": [
    {
     "data": {
      "text/plain": [
       "(2, 5, 3)"
      ]
     },
     "execution_count": 116,
     "metadata": {},
     "output_type": "execute_result"
    }
   ],
   "source": [
    "r = a[:, :, np.newaxis] + c[np.newaxis, np.newaxis, :]\n",
    "r.shape"
   ]
  },
  {
   "cell_type": "code",
   "execution_count": 117,
   "id": "c757168d-a3a8-4840-8153-e9f540d5f358",
   "metadata": {},
   "outputs": [
    {
     "data": {
      "text/plain": [
       "array([22, 43, 49, 92, 88, 96, 99, 62, 82, 28])"
      ]
     },
     "execution_count": 117,
     "metadata": {},
     "output_type": "execute_result"
    }
   ],
   "source": [
    "a = np.random.randint(low=1, high=100, size=10)\n",
    "a"
   ]
  },
  {
   "cell_type": "code",
   "execution_count": 119,
   "id": "a7758457-2137-43b2-9b3e-5c9f1cff33ff",
   "metadata": {},
   "outputs": [
    {
     "data": {
      "text/plain": [
       "array([[[[6, 7],\n",
       "         [1, 0]],\n",
       "\n",
       "        [[2, 1],\n",
       "         [3, 3]]],\n",
       "\n",
       "\n",
       "       [[[1, 5],\n",
       "         [6, 3]],\n",
       "\n",
       "        [[3, 5],\n",
       "         [4, 6]]]])"
      ]
     },
     "execution_count": 119,
     "metadata": {},
     "output_type": "execute_result"
    }
   ],
   "source": [
    "idx = np.random.randint(low=0, high=9, size=(2, 2, 2, 2))\n",
    "idx"
   ]
  },
  {
   "cell_type": "code",
   "execution_count": 120,
   "id": "5aa0a041-cc21-477a-8334-33c10ea99f60",
   "metadata": {},
   "outputs": [
    {
     "data": {
      "text/plain": [
       "array([[[[99, 62],\n",
       "         [43, 22]],\n",
       "\n",
       "        [[49, 43],\n",
       "         [92, 92]]],\n",
       "\n",
       "\n",
       "       [[[43, 96],\n",
       "         [99, 92]],\n",
       "\n",
       "        [[92, 96],\n",
       "         [88, 99]]]])"
      ]
     },
     "execution_count": 120,
     "metadata": {},
     "output_type": "execute_result"
    }
   ],
   "source": [
    "a[idx]"
   ]
  },
  {
   "cell_type": "code",
   "execution_count": 127,
   "id": "31d7970d-9758-4cf6-b5e7-2cf9f8090c62",
   "metadata": {},
   "outputs": [],
   "source": [
    "# 2 teams of 5 players each = 10 players\n",
    "# 3D positions time evolution of each player \n",
    "# recorded over 20 points.\n",
    "players = np.random.randint(low=1, high=100, size=(20, 10, 3))"
   ]
  },
  {
   "cell_type": "markdown",
   "id": "9e5993ab-783c-42de-8827-c25e9b891a5c",
   "metadata": {},
   "source": [
    "1. Find all the positions of the 3rd player\n",
    "2. Compute the barycenters as function of time of the first 5 players (team 1) and the 5 second players (team 2)\n",
    "3. Compute the distances between the barycenters of the 2 teams\n",
    "4. Compute the number of team 2 players (as function of time) which are around the player 0 (distance<20)"
   ]
  },
  {
   "cell_type": "code",
   "execution_count": 128,
   "id": "4282a333-8e2c-4f1a-966e-817a53b0b233",
   "metadata": {},
   "outputs": [],
   "source": [
    "# 1. all positions of player 3\n",
    "player3 = players[:, 2, :]"
   ]
  },
  {
   "cell_type": "code",
   "execution_count": 129,
   "id": "fcbe1254-e87a-41d3-9b0a-6173608a77c1",
   "metadata": {},
   "outputs": [],
   "source": [
    "# 2. barycenter of both teams\n",
    "team1 = players[:, 0:5, :]\n",
    "team2 = players[:, 5: , :]\n",
    "\n",
    "bary1 = np.mean(team1, axis=1)\n",
    "bary2 = np.mean(team2, axis=1)"
   ]
  },
  {
   "cell_type": "code",
   "execution_count": 131,
   "id": "2bdaba08-da10-48fc-bb86-990166c1c4dd",
   "metadata": {},
   "outputs": [],
   "source": [
    "# 3. Distance between the 2 barycenters\n",
    "distances = np.sum((bary1 - bary2)**2, axis=-1)**0.5"
   ]
  },
  {
   "cell_type": "code",
   "execution_count": 157,
   "id": "d75c9b62-d81d-4cf5-9651-55d0251baefb",
   "metadata": {},
   "outputs": [
    {
     "data": {
      "text/plain": [
       "array([0, 0, 1, 0, 1, 2, 0, 0, 0, 0, 1, 0, 0, 1, 0, 0, 1, 0, 0, 0])"
      ]
     },
     "execution_count": 157,
     "metadata": {},
     "output_type": "execute_result"
    }
   ],
   "source": [
    "# 4. Number of team 2 players around (d<20) the player 0\n",
    "\n",
    "# Compute the distance from player 0 to all players of team 2\n",
    "player0 = team1[:, 0, :]\n",
    "p0_bd = player0[:, np.newaxis, :]\n",
    "d = np.sum( (p0_bd-team2)**2, axis=-1 )**0.5\n",
    "\n",
    "# Get a mask of d<20\n",
    "Nplayers_around0 = np.count_nonzero(d<20, axis=1)\n",
    "Nplayers_around0"
   ]
  },
  {
   "cell_type": "code",
   "execution_count": 132,
   "id": "4693e404-bb46-421d-a41d-4adba00d425a",
   "metadata": {},
   "outputs": [],
   "source": [
    "a = np.random.randint(low=-100, high=100, size=(5, 3))"
   ]
  },
  {
   "cell_type": "code",
   "execution_count": 133,
   "id": "e011561f-0d93-4a8a-b164-d735bf98d460",
   "metadata": {},
   "outputs": [
    {
     "data": {
      "text/plain": [
       "array([[ -6,  87, -44],\n",
       "       [ 80, -47,  25],\n",
       "       [-17,  60,  -1],\n",
       "       [-53,  48,  64],\n",
       "       [ 43,  87, -54]])"
      ]
     },
     "execution_count": 133,
     "metadata": {},
     "output_type": "execute_result"
    }
   ],
   "source": [
    "a"
   ]
  },
  {
   "cell_type": "code",
   "execution_count": 134,
   "id": "50ec9f4a-ab15-4c82-9193-28b6d1c372c8",
   "metadata": {},
   "outputs": [
    {
     "data": {
      "text/plain": [
       "array([[ True, False,  True],\n",
       "       [False,  True, False],\n",
       "       [ True, False,  True],\n",
       "       [ True, False, False],\n",
       "       [False, False,  True]])"
      ]
     },
     "execution_count": 134,
     "metadata": {},
     "output_type": "execute_result"
    }
   ],
   "source": [
    "mask = a<0\n",
    "mask"
   ]
  },
  {
   "cell_type": "code",
   "execution_count": 135,
   "id": "22ec1298-4ab8-40f2-9a8b-39658a3695eb",
   "metadata": {},
   "outputs": [
    {
     "data": {
      "text/plain": [
       "array([[ 0, 87,  0],\n",
       "       [80,  0, 25],\n",
       "       [ 0, 60,  0],\n",
       "       [ 0, 48, 64],\n",
       "       [43, 87,  0]])"
      ]
     },
     "execution_count": 135,
     "metadata": {},
     "output_type": "execute_result"
    }
   ],
   "source": [
    "a[mask] = 0\n",
    "a"
   ]
  },
  {
   "cell_type": "code",
   "execution_count": 137,
   "id": "12d86ae0-87e5-4880-885b-7ee52fe2d2e4",
   "metadata": {},
   "outputs": [
    {
     "name": "stdout",
     "output_type": "stream",
     "text": [
      "(5, 3) (5, 3) (7,)\n"
     ]
    }
   ],
   "source": [
    "print(a.shape, mask.shape, a[mask].shape)"
   ]
  },
  {
   "cell_type": "code",
   "execution_count": 139,
   "id": "e2fb3eac-0ca1-43a0-8c8a-26d89c8022ac",
   "metadata": {},
   "outputs": [
    {
     "name": "stdout",
     "output_type": "stream",
     "text": [
      "[[ 0 87  0]\n",
      " [80  0 25]\n",
      " [ 0 60  0]\n",
      " [ 0 48 64]\n",
      " [43 87  0]]\n",
      "[[ True False  True]\n",
      " [False  True False]\n",
      " [ True False  True]\n",
      " [ True False False]\n",
      " [False False  True]]\n",
      "[0 0 0 0 0 0 0]\n"
     ]
    }
   ],
   "source": [
    "print(a)\n",
    "print(mask)\n",
    "print(a[mask])"
   ]
  },
  {
   "cell_type": "markdown",
   "id": "13965bfd-ec94-4ba1-9e7e-a21bea0c589d",
   "metadata": {},
   "source": [
    "# Pratical session : the smeared cube "
   ]
  },
  {
   "cell_type": "code",
   "execution_count": 166,
   "id": "274c6037-05f1-4c25-b521-fe63a16232ab",
   "metadata": {},
   "outputs": [],
   "source": [
    "data = np.random.normal(size=(1000, 3))\n",
    "xi, yi, zi = data[:,0], data[:,1], data[:,2]"
   ]
  },
  {
   "cell_type": "code",
   "execution_count": 171,
   "id": "827df9bf-32bb-486d-855d-37d4ac2ee43a",
   "metadata": {
    "scrolled": true
   },
   "outputs": [
    {
     "data": {
      "image/png": "[encoded data removed]",
      "text/plain": [
       "<Figure size 640x480 with 1 Axes>"
      ]
     },
     "metadata": {},
     "output_type": "display_data"
    }
   ],
   "source": [
    "import matplotlib.pyplot as plt\n",
    "from mpl_toolkits import mplot3d\n",
    "ax = plt.axes(projection='3d')\n",
    "ax.scatter3D(xi, yi, zi);"
   ]
  },
  {
   "cell_type": "code",
   "execution_count": null,
   "id": "a7009df4-be7a-4084-929f-055cfe614b5e",
   "metadata": {},
   "outputs": [],
   "source": []
  },
  {
   "cell_type": "code",
   "execution_count": null,
   "id": "779b9b5a-f6d9-471d-98b4-0a4036e8b5c8",
   "metadata": {},
   "outputs": [],
   "source": []
  }
 ],
 "metadata": {
  "kernelspec": {
   "display_name": "Python 3 (ipykernel)",
   "language": "python",
   "name": "python3"
  },
  "language_info": {
   "codemirror_mode": {
    "name": "ipython",
    "version": 3
   },
   "file_extension": ".py",
   "mimetype": "text/x-python",
   "name": "python",
   "nbconvert_exporter": "python",
   "pygments_lexer": "ipython3",
   "version": "3.10.14"
  }
 },
 "nbformat": 4,
 "nbformat_minor": 5
}
