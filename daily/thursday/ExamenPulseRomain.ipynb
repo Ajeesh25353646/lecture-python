{
 "cells": [
  {
   "cell_type": "markdown",
   "metadata": {},
   "source": [
    "# Python Exam (Master, 08/11/2019): electric pulse analysis"
   ]
  },
  {
   "cell_type": "markdown",
   "metadata": {},
   "source": [
    "> + **Allocated time:** 1h30\n",
    "> + **Send your final notebook** at the end of the exam at [romain.madar@cern.ch](mailto:romain.madar@cern.ch) and [lennart.rustige@cern.ch](mailto:lennart.rustige@cern.ch)\n",
    "> + **Allowed documents:** documentation of [python](https://docs.python.org/3/), [numpy](https://numpy.org/devdocs/user/index.html), [matplotlib](https://matplotlib.org/contents.html), [pandas](https://pandas.pydata.org/pandas-docs/stable/) and [scipy](https://docs.scipy.org/doc/scipy/reference/) as well as the documentation from the notebook interface using `Shift+tab` keyboard shortcut, `help(module)` or `help(function)`.\n",
    "> \n",
    "> The final mark will be a number between 0 (very bad) and 10 (very good). The evaluation of this exam takes into account mainly the correctness of the answers, but also the clarity of the explanations and the quality of the code. *There is no required knowledge about particle physics, detectors, ATLAS or CERN to answer the questions asked in this exam.*"
   ]
  },
  {
   "cell_type": "markdown",
   "metadata": {},
   "source": [
    "## General informations\n",
    "\n",
    "### A bit of context ...\n",
    "\n",
    "In any physics experiment, detectors are used to quantitatively measure the studied phenomena, by delivering (in almost any case) an electric signal that can be later processed and analyzed. The playground for this exam is an example of a basic electric signal analysis, where the actual pulse comes from a light-to-current converter (as known as *photo-multiplier*) used in one of the particle detector, called ATLAS, recording proton-proton collisions which are performed in the Large Hadron Collider (LHC) at CERN. "
   ]
  },
  {
   "cell_type": "markdown",
   "metadata": {},
   "source": [
    "### Import packages"
   ]
  },
  {
   "cell_type": "code",
   "execution_count": 42,
   "metadata": {},
   "outputs": [],
   "source": [
    "import pandas as pd\n",
    "import numpy as np\n",
    "import matplotlib.pyplot as plt\n",
    "from scipy.optimize import curve_fit\n",
    "\n",
    "# Disable some warning due to the tool evolution\n",
    "import warnings\n",
    "warnings.simplefilter(\"ignore\", category=FutureWarning)"
   ]
  },
  {
   "cell_type": "markdown",
   "metadata": {},
   "source": [
    "### Import data\n",
    "\n",
    "The data are loaded into a pandas dataframe `df` using a `csv` file which were produced by a scope during a real measurement campaign. Two columns are available: the time value called `T` (in Second) and the voltage value called `V` (in Volt). The following cell load the dataframe and print the first 10 values."
   ]
  },
  {
   "cell_type": "code",
   "execution_count": 43,
   "metadata": {},
   "outputs": [
    {
     "data": {
      "text/html": [
       "<div>\n",
       "<style scoped>\n",
       "    .dataframe tbody tr th:only-of-type {\n",
       "        vertical-align: middle;\n",
       "    }\n",
       "\n",
       "    .dataframe tbody tr th {\n",
       "        vertical-align: top;\n",
       "    }\n",
       "\n",
       "    .dataframe thead th {\n",
       "        text-align: right;\n",
       "    }\n",
       "</style>\n",
       "<table border=\"1\" class=\"dataframe\">\n",
       "  <thead>\n",
       "    <tr style=\"text-align: right;\">\n",
       "      <th></th>\n",
       "      <th>T</th>\n",
       "      <th>V</th>\n",
       "    </tr>\n",
       "  </thead>\n",
       "  <tbody>\n",
       "    <tr>\n",
       "      <th>0</th>\n",
       "      <td>-4.000000e-08</td>\n",
       "      <td>-0.437750</td>\n",
       "    </tr>\n",
       "    <tr>\n",
       "      <th>1</th>\n",
       "      <td>-3.960000e-08</td>\n",
       "      <td>-0.437547</td>\n",
       "    </tr>\n",
       "    <tr>\n",
       "      <th>2</th>\n",
       "      <td>-3.920000e-08</td>\n",
       "      <td>-0.437109</td>\n",
       "    </tr>\n",
       "    <tr>\n",
       "      <th>3</th>\n",
       "      <td>-3.880000e-08</td>\n",
       "      <td>-0.437016</td>\n",
       "    </tr>\n",
       "    <tr>\n",
       "      <th>4</th>\n",
       "      <td>-3.840000e-08</td>\n",
       "      <td>-0.436938</td>\n",
       "    </tr>\n",
       "    <tr>\n",
       "      <th>5</th>\n",
       "      <td>-3.800000e-08</td>\n",
       "      <td>-0.436781</td>\n",
       "    </tr>\n",
       "    <tr>\n",
       "      <th>6</th>\n",
       "      <td>-3.760000e-08</td>\n",
       "      <td>-0.436422</td>\n",
       "    </tr>\n",
       "    <tr>\n",
       "      <th>7</th>\n",
       "      <td>-3.720000e-08</td>\n",
       "      <td>-0.437000</td>\n",
       "    </tr>\n",
       "    <tr>\n",
       "      <th>8</th>\n",
       "      <td>-3.680000e-08</td>\n",
       "      <td>-0.437750</td>\n",
       "    </tr>\n",
       "    <tr>\n",
       "      <th>9</th>\n",
       "      <td>-3.640000e-08</td>\n",
       "      <td>-0.439312</td>\n",
       "    </tr>\n",
       "  </tbody>\n",
       "</table>\n",
       "</div>"
      ],
      "text/plain": [
       "              T         V\n",
       "0 -4.000000e-08 -0.437750\n",
       "1 -3.960000e-08 -0.437547\n",
       "2 -3.920000e-08 -0.437109\n",
       "3 -3.880000e-08 -0.437016\n",
       "4 -3.840000e-08 -0.436938\n",
       "5 -3.800000e-08 -0.436781\n",
       "6 -3.760000e-08 -0.436422\n",
       "7 -3.720000e-08 -0.437000\n",
       "8 -3.680000e-08 -0.437750\n",
       "9 -3.640000e-08 -0.439312"
      ]
     },
     "execution_count": 43,
     "metadata": {},
     "output_type": "execute_result"
    }
   ],
   "source": [
    "# Skip the first 15 lines, rename the column and specify the type of data (float)\n",
    "filePath = '../../data/pulse.csv'\n",
    "df = pd.read_csv(filePath, skiprows=15, names=['T', 'V'], dtype=np.float64)\n",
    "\n",
    "# Display the first 10 rows\n",
    "df.head(10)"
   ]
  },
  {
   "cell_type": "markdown",
   "metadata": {},
   "source": [
    "## 1. Plot the pulse `V(t)` (1 pts)"
   ]
  },
  {
   "cell_type": "code",
   "execution_count": 44,
   "metadata": {},
   "outputs": [
    {
     "data": {
      "image/png": "[encoded data removed]",
      "text/plain": [
       "<Figure size 432x288 with 1 Axes>"
      ]
     },
     "metadata": {
      "needs_background": "light"
     },
     "output_type": "display_data"
    }
   ],
   "source": [
    "plt.plot(df['T'], df['V']);"
   ]
  },
  {
   "cell_type": "markdown",
   "metadata": {},
   "source": [
    "## 2. Transforming the pulse (6 pts)\n",
    "\n",
    "### 2. a) Add a column to `df` containing the time in ns, called `Tns`. Plot the result (1 pts)"
   ]
  },
  {
   "cell_type": "code",
   "execution_count": 45,
   "metadata": {},
   "outputs": [
    {
     "data": {
      "text/plain": [
       "(-0.5, -0.4)"
      ]
     },
     "execution_count": 45,
     "metadata": {},
     "output_type": "execute_result"
    },
    {
     "data": {
      "image/png": "[encoded data removed]",
      "text/plain": [
       "<Figure size 432x288 with 1 Axes>"
      ]
     },
     "metadata": {
      "needs_background": "light"
     },
     "output_type": "display_data"
    }
   ],
   "source": [
    "df['Tns'] = df['T'] * 1e9\n",
    "plt.plot(df['Tns'], df['V'], 'o');\n",
    "plt.ylim(-0.5, -0.4)"
   ]
  },
  {
   "cell_type": "markdown",
   "metadata": {},
   "source": [
    "### 2. b) What is the pedestal of the pulse, defined as the voltage value if no pulse were present ? (1 pts)"
   ]
  },
  {
   "cell_type": "code",
   "execution_count": 46,
   "metadata": {},
   "outputs": [
    {
     "name": "stdout",
     "output_type": "stream",
     "text": [
      "-0.43943087500000005\n"
     ]
    }
   ],
   "source": [
    "#df[df['V']>-0.43]\n",
    "ped = np.mean(df['V'][:80])\n",
    "print(ped)"
   ]
  },
  {
   "cell_type": "markdown",
   "metadata": {},
   "source": [
    "### 2. c) Add a column to `df` containing the pedestal-substracted voltage, called `Vnorm`. Plot the result (1 pts)"
   ]
  },
  {
   "cell_type": "code",
   "execution_count": 47,
   "metadata": {},
   "outputs": [
    {
     "data": {
      "image/png": "[encoded data removed]",
      "text/plain": [
       "<Figure size 432x288 with 1 Axes>"
      ]
     },
     "metadata": {
      "needs_background": "light"
     },
     "output_type": "display_data"
    }
   ],
   "source": [
    "df['Vnorm'] = df['V'] - ped\n",
    "plt.plot(df['Tns'], df['Vnorm'], 'o');"
   ]
  },
  {
   "cell_type": "markdown",
   "metadata": {},
   "source": [
    "### 2. d) Normalize `Vnorm` to have a minumum of 0.0 and a maximum of 1.0. Plot the result (1 pts)"
   ]
  },
  {
   "cell_type": "code",
   "execution_count": 48,
   "metadata": {},
   "outputs": [
    {
     "name": "stdout",
     "output_type": "stream",
     "text": [
      "0.668571875\n"
     ]
    },
    {
     "data": {
      "image/png": "[encoded data removed]",
      "text/plain": [
       "<Figure size 432x288 with 1 Axes>"
      ]
     },
     "metadata": {
      "needs_background": "light"
     },
     "output_type": "display_data"
    }
   ],
   "source": [
    "Vmax = np.max(df['Vnorm'])\n",
    "print(Vmax)\n",
    "\n",
    "df['Vnorm'] = df['Vnorm'] / Vmax\n",
    "df['Vnorm'] = df['Vnorm'] - np.min(df['Vnorm'])\n",
    "plt.plot(df['Tns'], df['Vnorm'], 'o');"
   ]
  },
  {
   "cell_type": "markdown",
   "metadata": {},
   "source": [
    "### 2. e) Find `Tmax` which has the max amplitude (1 pts)\n",
    "HINT: checkout `np.argmax()` function."
   ]
  },
  {
   "cell_type": "code",
   "execution_count": 49,
   "metadata": {},
   "outputs": [
    {
     "name": "stdout",
     "output_type": "stream",
     "text": [
      "18.8\n"
     ]
    }
   ],
   "source": [
    "iMax = np.argmax(df['Vnorm'])\n",
    "Tmax = df['Tns'][iMax]\n",
    "print(Tmax)"
   ]
  },
  {
   "cell_type": "markdown",
   "metadata": {},
   "source": [
    "### 2. f) Plot the transformed pulse satisfying `Tmax=0`, `Vmin=0` and `Vmax=1` (1 pts)"
   ]
  },
  {
   "cell_type": "code",
   "execution_count": 50,
   "metadata": {},
   "outputs": [
    {
     "data": {
      "image/png": "[encoded data removed]",
      "text/plain": [
       "<Figure size 432x288 with 1 Axes>"
      ]
     },
     "metadata": {
      "needs_background": "light"
     },
     "output_type": "display_data"
    }
   ],
   "source": [
    "df['Tnorm'] = df['Tns'] - Tmax\n",
    "plt.plot(df['Tnorm'], df['Vnorm'], 'o');"
   ]
  },
  {
   "cell_type": "markdown",
   "metadata": {},
   "source": [
    "## 3. Pulse caracterization (3 pts)"
   ]
  },
  {
   "cell_type": "markdown",
   "metadata": {},
   "source": [
    "### 3. a) Compute and plot the cumulative sum of the pulse (1 pts)\n",
    "\n",
    "The cumulative sum is defined as $\\mathcal{V}(t) = \\sum_{\\tau\\leq t} V(\\tau)$\n",
    "\n",
    "HINT: checkout `np.cumsum()` function"
   ]
  },
  {
   "cell_type": "code",
   "execution_count": 51,
   "metadata": {},
   "outputs": [
    {
     "data": {
      "image/png": "[encoded data removed]",
      "text/plain": [
       "<Figure size 432x288 with 1 Axes>"
      ]
     },
     "metadata": {
      "needs_background": "light"
     },
     "output_type": "display_data"
    }
   ],
   "source": [
    "df['Vcum'] = np.cumsum(df['Vnorm'])\n",
    "plt.plot(df['Tnorm'], df['Vcum'], 'o');"
   ]
  },
  {
   "cell_type": "markdown",
   "metadata": {},
   "source": [
    "### 3. b) Compute the full width of the pulse at its half maximum (2 pts)\n",
    "\n",
    "This width is defined as $|t_1 - t_2|$ width $V(t_1)=V(t_2)=V_{\\text{max}}/2$"
   ]
  },
  {
   "cell_type": "code",
   "execution_count": 62,
   "metadata": {
    "scrolled": false
   },
   "outputs": [
    {
     "name": "stdout",
     "output_type": "stream",
     "text": [
      "Tr=25.20, Tl=-14.40\n",
      "FHW =  39.6\n"
     ]
    }
   ],
   "source": [
    "# Split the pulse\n",
    "Vl = df.Vnorm[df.Tnorm<0].values\n",
    "Vr = df.Vnorm[df.Tnorm>0].values\n",
    "Tl = df.Tnorm[df.Tnorm<0].values\n",
    "Tr = df.Tnorm[df.Tnorm>0].values\n",
    "\n",
    "diffl = np.abs(Vl-0.5)\n",
    "diffr = np.abs(Vr-0.5)\n",
    "\n",
    "tl = Tl[np.argmin(diffl)]\n",
    "tr = Tr[np.argmin(diffr)]\n",
    "\n",
    "print(f'Tr={tr:.2f}, Tl={tl:.2f}')\n",
    "print('FHW = ', tr-tl)"
   ]
  },
  {
   "cell_type": "code",
   "execution_count": null,
   "metadata": {},
   "outputs": [],
   "source": []
  },
  {
   "cell_type": "markdown",
   "metadata": {},
   "source": [
    "### 3. c) Compute the derivative of the pulse, and plot it together with the pulse\n",
    "\n",
    "This derivative is defined as $\\frac{v_{i+1} - v_{i}}{t_{i+1} - t_{i}}$."
   ]
  },
  {
   "cell_type": "code",
   "execution_count": 81,
   "metadata": {},
   "outputs": [
    {
     "data": {
      "image/png": "[encoded data removed]",
      "text/plain": [
       "<Figure size 432x288 with 1 Axes>"
      ]
     },
     "metadata": {
      "needs_background": "light"
     },
     "output_type": "display_data"
    }
   ],
   "source": [
    "Vs = df.Vnorm.values\n",
    "Ts = df.Tnorm.values\n",
    "Tmeans = (Ts[1:] + Ts[:-1]) / 2\n",
    "Vmeans = (Vs[1:] + Vs[:-1]) / 2\n",
    "dV = Vs[1:] - Vs[:-1]\n",
    "dt = Ts[1:] - Ts[:-1]\n",
    "Vprime = dV/dt\n",
    "\n",
    "plt.plot(Tmeans, Vmeans)\n",
    "plt.plot(Tmeans, Vprime);"
   ]
  },
  {
   "cell_type": "markdown",
   "metadata": {},
   "source": [
    "## Bonus question\n",
    "\n",
    "### Perform a fit of the peak by a gaussian on the time window $[-10, 10]$ ns and plot the result.\n",
    "\n",
    "Reminder: a gaussian function of amplitude $A$, average $\\mu$ and width $\\sigma$ can be expressed as\n",
    "\n",
    "$$\n",
    "\\mathcal{G}(x) = A \\, \\exp\\left( -\\frac{(x - \\mu)^2}{2\\sigma^2} \\right)\n",
    "$$\n",
    "\n",
    "Two-levels question: \n",
    " 1. using existing fitting tool\n",
    " 2. using only numpy"
   ]
  },
  {
   "cell_type": "code",
   "execution_count": 76,
   "metadata": {},
   "outputs": [],
   "source": [
    "# Define the model\n",
    "def model(t, A, mu, sigma):\n",
    "    return A * np.exp( -(t-mu)**2 / (2*sigma**2) )"
   ]
  },
  {
   "cell_type": "code",
   "execution_count": 82,
   "metadata": {},
   "outputs": [
    {
     "name": "stdout",
     "output_type": "stream",
     "text": [
      "\n",
      "5\n",
      "[ 1.00605889  0.15861921 14.50154836]\n",
      "\n",
      "10\n",
      "[ 1.00641325  0.80559771 14.91579833]\n",
      "\n",
      "20\n",
      "[  1.01905009   2.80119347 -14.61691531]\n",
      "\n",
      "30\n",
      "[  1.01299929   4.56169598 -15.23350511]\n"
     ]
    },
    {
     "data": {
      "image/png": "[encoded data removed]",
      "text/plain": [
       "<Figure size 432x288 with 1 Axes>"
      ]
     },
     "metadata": {
      "needs_background": "light"
     },
     "output_type": "display_data"
    }
   ],
   "source": [
    "# Loop over time windows\n",
    "for Twind in [5, 10, 20, 30]:\n",
    "    \n",
    "    # Select data to fit\n",
    "    to_keep = (df.Tnorm>-Twind) & (df.Tnorm<Twind)\n",
    "    x = df.Tnorm[to_keep]\n",
    "    y = df.Vnorm[to_keep]\n",
    "\n",
    "    # Perform the fit\n",
    "    p, cov = curve_fit(model, x, y, p0=(1, 0, 40))\n",
    "    print()\n",
    "    print(Twind)\n",
    "    print(p)\n",
    "    \n",
    "    # Plots the results\n",
    "    times = np.linspace(-Twind, Twind, 1000)\n",
    "    Vpred = model(times, *p)\n",
    "    plt.plot(times, Vpred, label='model')\n",
    "    \n",
    "plt.plot(df.Tnorm, df.Vnorm, label='data')\n",
    "plt.legend();"
   ]
  },
  {
   "cell_type": "markdown",
   "metadata": {},
   "source": [
    "### By hand fit\n",
    "\n",
    "1. Write a loss function depending on the model parameters (since the data are fixed for this problem. We considere the amplitude `A` to fixed at 1.0 for what follows.\n",
    "```python\n",
    "def loss(mu, sigma):\n",
    "    res = 0\n",
    "    ...\n",
    "    return res\n",
    "```\n",
    "\n",
    "2. Using double nested loop, find the parameters for which the loss function is minimal.\n",
    "\n",
    "3. Using broadcasting and vectorization to scan the parameters. **HINT:** start with implementing this approach with only one parameter (*e.g.* fixing $\\mu$ at 0)."
   ]
  },
  {
   "cell_type": "code",
   "execution_count": 95,
   "metadata": {},
   "outputs": [],
   "source": [
    "# Initial data\n",
    "Vs = df.Vnorm.values\n",
    "Ts = df.Tnorm.values\n",
    "\n",
    "# Selecting the range\n",
    "Vs = Vs[(Ts>-10) & (Ts<10)]\n",
    "Ts = Ts[(Ts>-10) & (Ts<10)]\n",
    "\n",
    "# Loss function\n",
    "def loss(mu, sigma):\n",
    "    residus = Vs - np.exp(-(Ts-mu)**2/(2*sigma**2))\n",
    "    return np.sum( residus**2 )"
   ]
  },
  {
   "cell_type": "code",
   "execution_count": 98,
   "metadata": {
    "scrolled": false
   },
   "outputs": [
    {
     "name": "stdout",
     "output_type": "stream",
     "text": [
      "0.005722972801265472 0.8787878787878789 -15.656565656565654\n"
     ]
    }
   ],
   "source": [
    "Mus = np.linspace(-3, 3, 100)\n",
    "Sigmas = np.linspace(-50, 50, 100)\n",
    "\n",
    "loss_array = []\n",
    "lmin, isigMin, iMuMin = 1e10, -1, -1\n",
    "for imu, mu in enumerate(Mus):\n",
    "    for isig, sigma in enumerate(Sigmas):\n",
    "        l = loss(mu, sigma)\n",
    "        loss_array.append(l)\n",
    "        if l<lmin:\n",
    "            lmin = l\n",
    "            iMuMin, isigMin = imu, isig\n",
    "\n",
    "print(lmin, Mus[iMuMin], Sigmas[isigMin])"
   ]
  },
  {
   "cell_type": "code",
   "execution_count": null,
   "metadata": {},
   "outputs": [],
   "source": []
  },
  {
   "cell_type": "code",
   "execution_count": null,
   "metadata": {},
   "outputs": [],
   "source": []
  },
  {
   "cell_type": "code",
   "execution_count": null,
   "metadata": {},
   "outputs": [],
   "source": []
  },
  {
   "cell_type": "code",
   "execution_count": null,
   "metadata": {},
   "outputs": [],
   "source": []
  }
 ],
 "metadata": {
  "kernelspec": {
   "display_name": "Python 3 (ipykernel)",
   "language": "python",
   "name": "python3"
  },
  "language_info": {
   "codemirror_mode": {
    "name": "ipython",
    "version": 3
   },
   "file_extension": ".py",
   "mimetype": "text/x-python",
   "name": "python",
   "nbconvert_exporter": "python",
   "pygments_lexer": "ipython3",
   "version": "3.10.5"
  }
 },
 "nbformat": 4,
 "nbformat_minor": 2
}
