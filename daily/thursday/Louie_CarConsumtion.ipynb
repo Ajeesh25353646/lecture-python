{
 "cells": [
  {
   "cell_type": "markdown",
   "metadata": {},
   "source": [
    "# Python Catch-up Exam (DU, 08/06/2020): Car consumtion"
   ]
  },
  {
   "cell_type": "markdown",
   "metadata": {},
   "source": [
    "> + **Due time** 15/06/2020\n",
    "> + **Send your final notebook** at [romain.madar@cern.ch](mailto:romain.madar@cern.ch)\n",
    "> \n",
    "> The final mark will be a number between 0 (very bad) and 20 (very good). The evaluation of this work takes into account mainly the correctness of the answers, but also the clarity of the explanations and the quality of the code."
   ]
  },
  {
   "cell_type": "markdown",
   "metadata": {},
   "source": [
    "## General informations\n",
    "\n",
    "\n",
    "### A bit of context\n",
    "\n",
    "Car consumption is a key element from many points of view (ecology, cost, fuel choice for a new car, ...). Most of the time, consumptions annouced by car constructors are not reflecting consumptions observed in real use-cases. The goal of this work is to analyze 280 car travels in order to estimate the real car consumption of the studied case, and understand how to possibly optimize it. The first part focuses on the analysis of the travels (distance, duration, etc...) while the second part focuses on the consumption.\n",
    "\n",
    "\n",
    "### Data description\n",
    "\n",
    "The data associated to the 280 car travels to be analyzed are provided *via* a `csv` file containings 7 informatios for each travel:\n",
    "  1. `distance_Km`: travel distance [unit: kilometer],\n",
    "  1. `conso_L100km`: averaged consomation of the travel [unit: Liter / 100 km]\n",
    "  1. `duration_H`: duration of the travel [unit: hours, *e.g.* 0.3 means $60 \\times 0.3 = 18\\,$min]\n",
    "  1. `price_EuroL`: price of the fuel for this travel [unit: Euros / Liter]\n",
    "  1. `dayTime_H`: hour of the day at which the travel was done [number between 0 and 23)]\n",
    "  1. `weekDay`: day of the week at which the travel was done [number between 1 (monday) and 7 (sunday)]\n",
    "  1. `yearMonth`: month of the year at which the travel was done [number between 1 (january) and 12 (december)]\n",
    "  \n",
    "  "
   ]
  },
  {
   "cell_type": "markdown",
   "metadata": {},
   "source": [
    "### Import packages"
   ]
  },
  {
   "cell_type": "code",
   "execution_count": 2,
   "metadata": {},
   "outputs": [],
   "source": [
    "import pandas as pd\n",
    "import numpy as np\n",
    "import matplotlib.pyplot as plt"
   ]
  },
  {
   "cell_type": "markdown",
   "metadata": {},
   "source": [
    "### Import data"
   ]
  },
  {
   "cell_type": "code",
   "execution_count": 5,
   "metadata": {},
   "outputs": [
    {
     "data": {
      "text/html": [
       "<div>\n",
       "<style scoped>\n",
       "    .dataframe tbody tr th:only-of-type {\n",
       "        vertical-align: middle;\n",
       "    }\n",
       "\n",
       "    .dataframe tbody tr th {\n",
       "        vertical-align: top;\n",
       "    }\n",
       "\n",
       "    .dataframe thead th {\n",
       "        text-align: right;\n",
       "    }\n",
       "</style>\n",
       "<table border=\"1\" class=\"dataframe\">\n",
       "  <thead>\n",
       "    <tr style=\"text-align: right;\">\n",
       "      <th></th>\n",
       "      <th>distance_Km</th>\n",
       "      <th>conso_L100km</th>\n",
       "      <th>duration_H</th>\n",
       "      <th>price_EuroL</th>\n",
       "      <th>dayTime_H</th>\n",
       "      <th>weekDay</th>\n",
       "      <th>yearMonth</th>\n",
       "    </tr>\n",
       "  </thead>\n",
       "  <tbody>\n",
       "    <tr>\n",
       "      <th>0</th>\n",
       "      <td>15.5</td>\n",
       "      <td>5.6</td>\n",
       "      <td>0.550000</td>\n",
       "      <td>1.34</td>\n",
       "      <td>7</td>\n",
       "      <td>1</td>\n",
       "      <td>2</td>\n",
       "    </tr>\n",
       "    <tr>\n",
       "      <th>1</th>\n",
       "      <td>12.4</td>\n",
       "      <td>4.5</td>\n",
       "      <td>0.216667</td>\n",
       "      <td>1.45</td>\n",
       "      <td>19</td>\n",
       "      <td>7</td>\n",
       "      <td>2</td>\n",
       "    </tr>\n",
       "    <tr>\n",
       "      <th>2</th>\n",
       "      <td>4.5</td>\n",
       "      <td>4.0</td>\n",
       "      <td>0.133333</td>\n",
       "      <td>1.45</td>\n",
       "      <td>18</td>\n",
       "      <td>7</td>\n",
       "      <td>2</td>\n",
       "    </tr>\n",
       "    <tr>\n",
       "      <th>3</th>\n",
       "      <td>0.4</td>\n",
       "      <td>11.7</td>\n",
       "      <td>0.033333</td>\n",
       "      <td>1.45</td>\n",
       "      <td>18</td>\n",
       "      <td>7</td>\n",
       "      <td>2</td>\n",
       "    </tr>\n",
       "    <tr>\n",
       "      <th>4</th>\n",
       "      <td>0.5</td>\n",
       "      <td>10.6</td>\n",
       "      <td>0.066667</td>\n",
       "      <td>1.45</td>\n",
       "      <td>11</td>\n",
       "      <td>7</td>\n",
       "      <td>2</td>\n",
       "    </tr>\n",
       "  </tbody>\n",
       "</table>\n",
       "</div>"
      ],
      "text/plain": [
       "   distance_Km  conso_L100km  duration_H  price_EuroL  dayTime_H  weekDay  \\\n",
       "0         15.5           5.6    0.550000         1.34          7        1   \n",
       "1         12.4           4.5    0.216667         1.45         19        7   \n",
       "2          4.5           4.0    0.133333         1.45         18        7   \n",
       "3          0.4          11.7    0.033333         1.45         18        7   \n",
       "4          0.5          10.6    0.066667         1.45         11        7   \n",
       "\n",
       "   yearMonth  \n",
       "0          2  \n",
       "1          2  \n",
       "2          2  \n",
       "3          2  \n",
       "4          2  "
      ]
     },
     "execution_count": 5,
     "metadata": {},
     "output_type": "execute_result"
    }
   ],
   "source": [
    "dayTime_Hdf = pd.read_csv('../data/CarData.csv')\n",
    "df.head()"
   ]
  },
  {
   "cell_type": "markdown",
   "metadata": {},
   "source": [
    "## Part I : travel analysis (10 pts)\n",
    "\n",
    "### 1. Average values (2 pts + 2 bonus pts)"
   ]
  },
  {
   "cell_type": "markdown",
   "metadata": {},
   "source": [
    " - what is the average traveled distance (in km)?"
   ]
  },
  {
   "cell_type": "code",
   "execution_count": 6,
   "metadata": {},
   "outputs": [
    {
     "data": {
      "text/plain": [
       "16.659642857142856"
      ]
     },
     "execution_count": 6,
     "metadata": {},
     "output_type": "execute_result"
    }
   ],
   "source": [
    "np.mean(df[\"distance_Km\"])"
   ]
  },
  {
   "cell_type": "markdown",
   "metadata": {},
   "source": [
    " - what is the average travel duration (in minutes)?"
   ]
  },
  {
   "cell_type": "code",
   "execution_count": 8,
   "metadata": {
    "scrolled": true
   },
   "outputs": [
    {
     "data": {
      "text/plain": [
       "20.91071428571428"
      ]
     },
     "execution_count": 8,
     "metadata": {},
     "output_type": "execute_result"
    }
   ],
   "source": [
    "np.mean(df[\"duration_H\"])*60"
   ]
  },
  {
   "cell_type": "markdown",
   "metadata": {},
   "source": [
    " - *bonus:* are these averages representative of the sample ? A quantitative criteria and a discussion are expected."
   ]
  },
  {
   "cell_type": "code",
   "execution_count": 15,
   "metadata": {},
   "outputs": [
    {
     "name": "stdout",
     "output_type": "stream",
     "text": [
      "the mean of 16km is in the bulk of the distrubtion but we have a very long tail of much longer trips. \n"
     ]
    },
    {
     "data": {
      "image/png": "[encoded data removed]",
      "text/plain": [
       "<Figure size 432x288 with 1 Axes>"
      ]
     },
     "metadata": {
      "needs_background": "light"
     },
     "output_type": "display_data"
    }
   ],
   "source": [
    "plt.hist(df[\"distance_Km\"], bins=100);\n",
    "print(\"the mean of 16km is in the bulk of the distrubtion but we have a very long tail of much longer trips. \")"
   ]
  },
  {
   "cell_type": "code",
   "execution_count": 16,
   "metadata": {},
   "outputs": [
    {
     "name": "stdout",
     "output_type": "stream",
     "text": [
      "the mean of 21min is in the bulk of the distrubtion but we have a very long tail of much longer trips. \n"
     ]
    },
    {
     "data": {
      "image/png": "[encoded data removed]",
      "text/plain": [
       "<Figure size 432x288 with 1 Axes>"
      ]
     },
     "metadata": {
      "needs_background": "light"
     },
     "output_type": "display_data"
    }
   ],
   "source": [
    "plt.hist(df[\"duration_H\"]*60, bins=100);\n",
    "print(\"the mean of 21min is in the bulk of the distrubtion but we have a very long tail of much longer trips. \")"
   ]
  },
  {
   "cell_type": "markdown",
   "metadata": {},
   "source": [
    "### 2. Distributions (6 pts)"
   ]
  },
  {
   "cell_type": "code",
   "execution_count": null,
   "metadata": {},
   "outputs": [],
   "source": []
  },
  {
   "cell_type": "markdown",
   "metadata": {},
   "source": [
    " - plot the histogram of the traveled distances"
   ]
  },
  {
   "cell_type": "code",
   "execution_count": 21,
   "metadata": {},
   "outputs": [
    {
     "data": {
      "text/plain": [
       "Text(0, 0.5, 'counts per bin')"
      ]
     },
     "execution_count": 21,
     "metadata": {},
     "output_type": "execute_result"
    },
    {
     "data": {
      "image/png": "[encoded data removed]",
      "text/plain": [
       "<Figure size 432x288 with 1 Axes>"
      ]
     },
     "metadata": {
      "needs_background": "light"
     },
     "output_type": "display_data"
    }
   ],
   "source": [
    "plt.hist(df[\"distance_Km\"]);\n",
    "plt.title(\"ditance distribution\")\n",
    "plt.xlabel('distance [km]')\n",
    "plt.ylabel('counts per bin')"
   ]
  },
  {
   "cell_type": "markdown",
   "metadata": {},
   "source": [
    " - plot the histogram of the travel durations"
   ]
  },
  {
   "cell_type": "code",
   "execution_count": 22,
   "metadata": {},
   "outputs": [
    {
     "data": {
      "text/plain": [
       "Text(0, 0.5, 'counts per bin')"
      ]
     },
     "execution_count": 22,
     "metadata": {},
     "output_type": "execute_result"
    },
    {
     "data": {
      "image/png": "[encoded data removed]",
      "text/plain": [
       "<Figure size 432x288 with 1 Axes>"
      ]
     },
     "metadata": {
      "needs_background": "light"
     },
     "output_type": "display_data"
    }
   ],
   "source": [
    "plt.hist(df[\"duration_H\"]);\n",
    "plt.title(\"duration distribution\")\n",
    "plt.xlabel('duration [h]')\n",
    "plt.ylabel('counts per bin')"
   ]
  },
  {
   "cell_type": "markdown",
   "metadata": {},
   "source": [
    " - compute the distance $D$ which satisfies $f_{\\text{travels}}(d<D) = 90\\%$ (with a precision of 1\\%), where $f_{\\text{travels}}(d<D)$ is the fraction of travels having a distance below $D$. Improve the histogram of distances using this information."
   ]
  },
  {
   "cell_type": "code",
   "execution_count": 36,
   "metadata": {},
   "outputs": [
    {
     "name": "stdout",
     "output_type": "stream",
     "text": [
      "16.700433400866803 0.9\n"
     ]
    }
   ],
   "source": [
    "def getFraction(distance_values, D):\n",
    "    return sum(distance_values < D) / len(distance_values)\n",
    "    \n",
    "    \n",
    "for D in np.linspace(0, 300, 500000):\n",
    "    f = getFraction(df['distance_Km'], D)\n",
    "    if f >=0.9:\n",
    "        print(D, f)\n",
    "        break\n",
    "    "
   ]
  },
  {
   "cell_type": "code",
   "execution_count": 38,
   "metadata": {},
   "outputs": [
    {
     "data": {
      "text/plain": [
       "16.709999999999997"
      ]
     },
     "execution_count": 38,
     "metadata": {},
     "output_type": "execute_result"
    }
   ],
   "source": [
    "np.quantile(df['distance_Km'], 0.9)"
   ]
  },
  {
   "cell_type": "code",
   "execution_count": 42,
   "metadata": {},
   "outputs": [
    {
     "data": {
      "text/plain": [
       "Text(0, 0.5, 'counts per bin')"
      ]
     },
     "execution_count": 42,
     "metadata": {},
     "output_type": "execute_result"
    },
    {
     "data": {
      "image/png": "[encoded data removed]",
      "text/plain": [
       "<Figure size 432x288 with 1 Axes>"
      ]
     },
     "metadata": {
      "needs_background": "light"
     },
     "output_type": "display_data"
    }
   ],
   "source": [
    "plt.hist(df[\"distance_Km\"], bins=np.linspace(0, 20, 10));\n",
    "plt.title(\"ditance distribution\")\n",
    "plt.xlabel('distance [km]')\n",
    "plt.ylabel('counts per bin')"
   ]
  },
  {
   "cell_type": "markdown",
   "metadata": {},
   "source": [
    " - compute the averaged speed for *each travel* (in km/h) and plot the corresponding distribution. Add this information to the original dataframe"
   ]
  },
  {
   "cell_type": "code",
   "execution_count": 41,
   "metadata": {
    "scrolled": true
   },
   "outputs": [
    {
     "data": {
      "text/plain": [
       "(array([38., 75., 90., 58.,  8.,  1.,  4.,  1.,  3.,  2.]),\n",
       " array([  6.        ,  18.03157895,  30.06315789,  42.09473684,\n",
       "         54.12631579,  66.15789474,  78.18947368,  90.22105263,\n",
       "        102.25263158, 114.28421053, 126.31578947]),\n",
       " <BarContainer object of 10 artists>)"
      ]
     },
     "execution_count": 41,
     "metadata": {},
     "output_type": "execute_result"
    },
    {
     "data": {
      "image/png": "[encoded data removed]",
      "text/plain": [
       "<Figure size 432x288 with 1 Axes>"
      ]
     },
     "metadata": {
      "needs_background": "light"
     },
     "output_type": "display_data"
    }
   ],
   "source": [
    "df['speed']= df['distance_Km'] / df['duration_H']\n",
    "\n",
    "plt.hist(df['speed'])"
   ]
  },
  {
   "cell_type": "markdown",
   "metadata": {},
   "source": [
    "### 3. Is there a favored time to travel? (2 pts)\n",
    "\n",
    "Are there some periods of the day (*e.g.* morning or afternoon), some days of the week (*e.g.* sunday or monday), having more travels?"
   ]
  },
  {
   "cell_type": "code",
   "execution_count": 47,
   "metadata": {
    "scrolled": true
   },
   "outputs": [
    {
     "data": {
      "text/plain": [
       "(array([ 1.,  0.,  0.,  0.,  0.,  0.,  0., 24., 26., 20., 11., 27., 12.,\n",
       "         7., 11.,  7., 28., 50., 31., 16.,  6.,  1.,  2.]),\n",
       " array([ 0.,  1.,  2.,  3.,  4.,  5.,  6.,  7.,  8.,  9., 10., 11., 12.,\n",
       "        13., 14., 15., 16., 17., 18., 19., 20., 21., 22., 23.]),\n",
       " <BarContainer object of 23 artists>)"
      ]
     },
     "execution_count": 47,
     "metadata": {},
     "output_type": "execute_result"
    },
    {
     "data": {
      "image/png": "[encoded data removed]",
      "text/plain": [
       "<Figure size 432x288 with 1 Axes>"
      ]
     },
     "metadata": {
      "needs_background": "light"
     },
     "output_type": "display_data"
    }
   ],
   "source": [
    "plt.hist(df['dayTime_H'], bins=np.linspace(0,23, 24))"
   ]
  },
  {
   "cell_type": "code",
   "execution_count": 52,
   "metadata": {},
   "outputs": [
    {
     "data": {
      "text/plain": [
       "(array([49., 39., 45., 47., 37., 39., 24.]),\n",
       " array([1.        , 1.85714286, 2.71428571, 3.57142857, 4.42857143,\n",
       "        5.28571429, 6.14285714, 7.        ]),\n",
       " <BarContainer object of 7 artists>)"
      ]
     },
     "execution_count": 52,
     "metadata": {},
     "output_type": "execute_result"
    },
    {
     "data": {
      "image/png": "[encoded data removed]",
      "text/plain": [
       "<Figure size 432x288 with 1 Axes>"
      ]
     },
     "metadata": {
      "needs_background": "light"
     },
     "output_type": "display_data"
    }
   ],
   "source": [
    "plt.hist(df['weekDay'], bins=np.linspace(1,7,8))"
   ]
  },
  {
   "cell_type": "markdown",
   "metadata": {},
   "source": [
    "## Part II: consumption analysis (10 pts)"
   ]
  },
  {
   "cell_type": "markdown",
   "metadata": {},
   "source": [
    "### 1. Typical consumption values (2 pts)"
   ]
  },
  {
   "cell_type": "markdown",
   "metadata": {},
   "source": [
    "What are the minimum, mean and maximum consumptions?"
   ]
  },
  {
   "cell_type": "code",
   "execution_count": 55,
   "metadata": {
    "scrolled": true
   },
   "outputs": [
    {
     "name": "stdout",
     "output_type": "stream",
     "text": [
      "the mean; max and min are 5.8725000000000005 11.7 3.6\n"
     ]
    }
   ],
   "source": [
    "conso = df[\"conso_L100km\"]\n",
    "mean_conso =  np.mean(conso)\n",
    "max_conso = np.max(conso)\n",
    "min_conso = np.min(conso)\n",
    "\n",
    "print('the mean; max and min are', mean_conso, max_conso, min_conso)"
   ]
  },
  {
   "cell_type": "code",
   "execution_count": 58,
   "metadata": {},
   "outputs": [
    {
     "data": {
      "text/plain": [
       "3.6"
      ]
     },
     "execution_count": 58,
     "metadata": {},
     "output_type": "execute_result"
    }
   ],
   "source": [
    "df[\"conso_L100km\"].min() # an alternative equivalent method"
   ]
  },
  {
   "cell_type": "markdown",
   "metadata": {},
   "source": [
    "### 2.  Distributions (8 pts)"
   ]
  },
  {
   "cell_type": "markdown",
   "metadata": {},
   "source": [
    " - Plot the distribution of the consumption."
   ]
  },
  {
   "cell_type": "code",
   "execution_count": 56,
   "metadata": {},
   "outputs": [
    {
     "data": {
      "text/plain": [
       "(array([19., 84., 81., 47., 20., 12.,  6.,  6.,  3.,  2.]),\n",
       " array([ 3.6 ,  4.41,  5.22,  6.03,  6.84,  7.65,  8.46,  9.27, 10.08,\n",
       "        10.89, 11.7 ]),\n",
       " <BarContainer object of 10 artists>)"
      ]
     },
     "execution_count": 56,
     "metadata": {},
     "output_type": "execute_result"
    },
    {
     "data": {
      "image/png": "[encoded data removed]",
      "text/plain": [
       "<Figure size 432x288 with 1 Axes>"
      ]
     },
     "metadata": {
      "needs_background": "light"
     },
     "output_type": "display_data"
    }
   ],
   "source": [
    "plt.hist(conso)"
   ]
  },
  {
   "cell_type": "markdown",
   "metadata": {},
   "source": [
    " - How this distribution changes when a sub-set of travels (*e.g.* long, short, fast slow, ...) is selected?"
   ]
  },
  {
   "cell_type": "code",
   "execution_count": 70,
   "metadata": {},
   "outputs": [],
   "source": [
    "fast_mask = df[\"speed\"] > 60\n",
    "fast_conso = conso[fast_mask]\n",
    "slow_mask = df[\"speed\"] < 60\n",
    "slow_conso = conso[slow_mask]"
   ]
  },
  {
   "cell_type": "code",
   "execution_count": 76,
   "metadata": {},
   "outputs": [
    {
     "data": {
      "image/png": "[encoded data removed]",
      "text/plain": [
       "<Figure size 432x288 with 1 Axes>"
      ]
     },
     "metadata": {
      "needs_background": "light"
     },
     "output_type": "display_data"
    }
   ],
   "source": [
    "\n",
    "binning = np.linspace(0, 12, 10)\n",
    "plt.hist(conso, label='all journeys', alpha=0.3, bins=binning, density=1)\n",
    "plt.hist(fast_conso, label='fast journeys', alpha=0.3, bins=binning, density=1)\n",
    "plt.hist(slow_conso, label='slow journeys', alpha=0.3, bins=binning, density=1)\n",
    "plt.legend();"
   ]
  },
  {
   "cell_type": "markdown",
   "metadata": {},
   "source": [
    " - According to you, is the maximum consumption found above representative?"
   ]
  },
  {
   "cell_type": "code",
   "execution_count": 78,
   "metadata": {},
   "outputs": [],
   "source": [
    "long_mask = df[\"distance_Km\"] > 100\n",
    "long_conso = conso[long_mask]\n",
    "short_mask = df[\"distance_Km\"] < 60\n",
    "short_conso = conso[short_mask]"
   ]
  },
  {
   "cell_type": "code",
   "execution_count": 79,
   "metadata": {},
   "outputs": [
    {
     "data": {
      "image/png": "[encoded data removed]",
      "text/plain": [
       "<Figure size 432x288 with 1 Axes>"
      ]
     },
     "metadata": {
      "needs_background": "light"
     },
     "output_type": "display_data"
    }
   ],
   "source": [
    "binning = np.linspace(0, 12, 10)\n",
    "plt.hist(conso, label='all journeys', alpha=0.3, bins=binning, density=1)\n",
    "plt.hist(long_conso, label='long journeys', alpha=0.3, bins=binning, density=1)\n",
    "plt.hist(short_conso, label='short journeys', alpha=0.3, bins=binning, density=1)\n",
    "plt.legend();"
   ]
  },
  {
   "cell_type": "markdown",
   "metadata": {},
   "source": [
    " + Can you isolate types of travels having a generally lower consumption?"
   ]
  },
  {
   "cell_type": "code",
   "execution_count": 81,
   "metadata": {},
   "outputs": [
    {
     "data": {
      "text/plain": [
       "Text(0, 0.5, 'duration')"
      ]
     },
     "execution_count": 81,
     "metadata": {},
     "output_type": "execute_result"
    },
    {
     "data": {
      "image/png": "[encoded data removed]",
      "text/plain": [
       "<Figure size 432x288 with 1 Axes>"
      ]
     },
     "metadata": {
      "needs_background": "light"
     },
     "output_type": "display_data"
    }
   ],
   "source": [
    "plt.scatter(conso, df['duration_H'])\n",
    "plt.xlabel('conso')\n",
    "plt.ylabel('duration')"
   ]
  },
  {
   "cell_type": "code",
   "execution_count": 82,
   "metadata": {},
   "outputs": [
    {
     "data": {
      "text/plain": [
       "Text(0, 0.5, 'speed')"
      ]
     },
     "execution_count": 82,
     "metadata": {},
     "output_type": "execute_result"
    },
    {
     "data": {
      "image/png": "[encoded data removed]",
      "text/plain": [
       "<Figure size 432x288 with 1 Axes>"
      ]
     },
     "metadata": {
      "needs_background": "light"
     },
     "output_type": "display_data"
    }
   ],
   "source": [
    "plt.scatter(conso, df['speed'])\n",
    "plt.xlabel('conso')\n",
    "plt.ylabel('speed')"
   ]
  },
  {
   "cell_type": "code",
   "execution_count": 85,
   "metadata": {},
   "outputs": [
    {
     "data": {
      "text/plain": [
       "(0.0, 20.0)"
      ]
     },
     "execution_count": 85,
     "metadata": {},
     "output_type": "execute_result"
    },
    {
     "data": {
      "image/png": "[encoded data removed]",
      "text/plain": [
       "<Figure size 432x288 with 1 Axes>"
      ]
     },
     "metadata": {
      "needs_background": "light"
     },
     "output_type": "display_data"
    }
   ],
   "source": [
    "plt.scatter(conso, df['distance_Km'])\n",
    "plt.xlabel('conso')\n",
    "plt.ylabel('dist')\n",
    "\n",
    "plt.ylim(0,20)"
   ]
  },
  {
   "cell_type": "code",
   "execution_count": 86,
   "metadata": {},
   "outputs": [
    {
     "data": {
      "text/plain": [
       "Text(0, 0.5, 'month')"
      ]
     },
     "execution_count": 86,
     "metadata": {},
     "output_type": "execute_result"
    },
    {
     "data": {
      "image/png": "[encoded data removed]",
      "text/plain": [
       "<Figure size 432x288 with 1 Axes>"
      ]
     },
     "metadata": {
      "needs_background": "light"
     },
     "output_type": "display_data"
    }
   ],
   "source": [
    "plt.scatter(conso, df['yearMonth'])\n",
    "plt.xlabel('conso')\n",
    "plt.ylabel('month')"
   ]
  },
  {
   "cell_type": "code",
   "execution_count": null,
   "metadata": {},
   "outputs": [],
   "source": []
  }
 ],
 "metadata": {
  "kernelspec": {
   "display_name": "Python 3 (ipykernel)",
   "language": "python",
   "name": "python3"
  },
  "language_info": {
   "codemirror_mode": {
    "name": "ipython",
    "version": 3
   },
   "file_extension": ".py",
   "mimetype": "text/x-python",
   "name": "python",
   "nbconvert_exporter": "python",
   "pygments_lexer": "ipython3",
   "version": "3.10.5"
  }
 },
 "nbformat": 4,
 "nbformat_minor": 2
}
