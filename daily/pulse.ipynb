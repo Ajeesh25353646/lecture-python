{
 "cells": [
  {
   "cell_type": "markdown",
   "metadata": {},
   "source": [
    "# Python Exam (Master, 08/11/2019): electric pulse analysis"
   ]
  },
  {
   "cell_type": "markdown",
   "metadata": {},
   "source": [
    "> + **Allocated time:** 1h30\n",
    "> + **Send your final notebook** at the end of the exam at [romain.madar@cern.ch](mailto:romain.madar@cern.ch) and [lennart.rustige@cern.ch](mailto:lennart.rustige@cern.ch)\n",
    "> + **Allowed documents:** documentation of [python](https://docs.python.org/3/), [numpy](https://numpy.org/devdocs/user/index.html), [matplotlib](https://matplotlib.org/contents.html), [pandas](https://pandas.pydata.org/pandas-docs/stable/) and [scipy](https://docs.scipy.org/doc/scipy/reference/) as well as the documentation from the notebook interface using `Shift+tab` keyboard shortcut, `help(module)` or `help(function)`.\n",
    "> \n",
    "> The final mark will be a number between 0 (very bad) and 10 (very good). The evaluation of this exam takes into account mainly the correctness of the answers, but also the clarity of the explanations and the quality of the code. *There is no required knowledge about particle physics, detectors, ATLAS or CERN to answer the questions asked in this exam.*"
   ]
  },
  {
   "cell_type": "markdown",
   "metadata": {},
   "source": [
    "## General informations\n",
    "\n",
    "### A bit of context ...\n",
    "\n",
    "In any physics experiment, detectors are used to quantitatively measure the studied phenomena, by delivering (in almost any case) an electric signal that can be later processed and analyzed. The playground for this exam is an example of a basic electric signal analysis, where the actual pulse comes from a light-to-current converter (as known as *photo-multiplier*) used in one of the particle detector, called ATLAS, recording proton-proton collisions which are performed in the Large Hadron Collider (LHC) at CERN. "
   ]
  },
  {
   "cell_type": "markdown",
   "metadata": {},
   "source": [
    "### Import packages"
   ]
  },
  {
   "cell_type": "code",
   "execution_count": 1,
   "metadata": {},
   "outputs": [],
   "source": [
    "import pandas as pd\n",
    "import numpy as np\n",
    "import matplotlib.pyplot as plt\n",
    "from scipy.optimize import curve_fit\n",
    "\n",
    "# Disable some warning due to the tool evolution\n",
    "import warnings\n",
    "warnings.simplefilter(\"ignore\", category=FutureWarning)"
   ]
  },
  {
   "cell_type": "markdown",
   "metadata": {},
   "source": [
    "### Import data\n",
    "\n",
    "The data are loaded into a pandas dataframe `df` using a `csv` file which were produced by a scope during a real measurement campaign. Two columns are available: the time value called `T` (in Second) and the voltage value called `V` (in Volt). The following cell load the dataframe and print the first 10 values."
   ]
  },
  {
   "cell_type": "code",
   "execution_count": 2,
   "metadata": {},
   "outputs": [
    {
     "data": {
      "text/html": [
       "<div>\n",
       "<style scoped>\n",
       "    .dataframe tbody tr th:only-of-type {\n",
       "        vertical-align: middle;\n",
       "    }\n",
       "\n",
       "    .dataframe tbody tr th {\n",
       "        vertical-align: top;\n",
       "    }\n",
       "\n",
       "    .dataframe thead th {\n",
       "        text-align: right;\n",
       "    }\n",
       "</style>\n",
       "<table border=\"1\" class=\"dataframe\">\n",
       "  <thead>\n",
       "    <tr style=\"text-align: right;\">\n",
       "      <th></th>\n",
       "      <th>T</th>\n",
       "      <th>V</th>\n",
       "    </tr>\n",
       "  </thead>\n",
       "  <tbody>\n",
       "    <tr>\n",
       "      <th>0</th>\n",
       "      <td>-4.000000e-08</td>\n",
       "      <td>-0.437750</td>\n",
       "    </tr>\n",
       "    <tr>\n",
       "      <th>1</th>\n",
       "      <td>-3.960000e-08</td>\n",
       "      <td>-0.437547</td>\n",
       "    </tr>\n",
       "    <tr>\n",
       "      <th>2</th>\n",
       "      <td>-3.920000e-08</td>\n",
       "      <td>-0.437109</td>\n",
       "    </tr>\n",
       "    <tr>\n",
       "      <th>3</th>\n",
       "      <td>-3.880000e-08</td>\n",
       "      <td>-0.437016</td>\n",
       "    </tr>\n",
       "    <tr>\n",
       "      <th>4</th>\n",
       "      <td>-3.840000e-08</td>\n",
       "      <td>-0.436938</td>\n",
       "    </tr>\n",
       "    <tr>\n",
       "      <th>5</th>\n",
       "      <td>-3.800000e-08</td>\n",
       "      <td>-0.436781</td>\n",
       "    </tr>\n",
       "    <tr>\n",
       "      <th>6</th>\n",
       "      <td>-3.760000e-08</td>\n",
       "      <td>-0.436422</td>\n",
       "    </tr>\n",
       "    <tr>\n",
       "      <th>7</th>\n",
       "      <td>-3.720000e-08</td>\n",
       "      <td>-0.437000</td>\n",
       "    </tr>\n",
       "    <tr>\n",
       "      <th>8</th>\n",
       "      <td>-3.680000e-08</td>\n",
       "      <td>-0.437750</td>\n",
       "    </tr>\n",
       "    <tr>\n",
       "      <th>9</th>\n",
       "      <td>-3.640000e-08</td>\n",
       "      <td>-0.439312</td>\n",
       "    </tr>\n",
       "  </tbody>\n",
       "</table>\n",
       "</div>"
      ],
      "text/plain": [
       "              T         V\n",
       "0 -4.000000e-08 -0.437750\n",
       "1 -3.960000e-08 -0.437547\n",
       "2 -3.920000e-08 -0.437109\n",
       "3 -3.880000e-08 -0.437016\n",
       "4 -3.840000e-08 -0.436938\n",
       "5 -3.800000e-08 -0.436781\n",
       "6 -3.760000e-08 -0.436422\n",
       "7 -3.720000e-08 -0.437000\n",
       "8 -3.680000e-08 -0.437750\n",
       "9 -3.640000e-08 -0.439312"
      ]
     },
     "execution_count": 2,
     "metadata": {},
     "output_type": "execute_result"
    }
   ],
   "source": [
    "# Skip the first 15 lines, rename the column and specify the type of data (float)\n",
    "filePath = 'pulse.csv'\n",
    "df = pd.read_csv(filePath, skiprows=15, names=['T', 'V'], dtype=np.float64)\n",
    "\n",
    "# Display the first 10 rows\n",
    "df.head(10)"
   ]
  },
  {
   "cell_type": "markdown",
   "metadata": {},
   "source": [
    "## 1. Plot the pulse `V(t)` (1 pts)"
   ]
  },
  {
   "cell_type": "code",
   "execution_count": 4,
   "metadata": {},
   "outputs": [
    {
     "data": {
      "image/png": "[encoded data removed]",
      "text/plain": [
       "<Figure size 432x288 with 1 Axes>"
      ]
     },
     "metadata": {
      "needs_background": "light"
     },
     "output_type": "display_data"
    }
   ],
   "source": [
    "plt.figure()\n",
    "plt.plot(df['T'], df['V'], '.')\n",
    "plt.xlabel('T')\n",
    "plt.ylabel('V');"
   ]
  },
  {
   "cell_type": "markdown",
   "metadata": {},
   "source": [
    "## 2. Transforming the pulse (6 pts)\n",
    "\n",
    "### 2. a) Add a column to `df` containing the time in ns, called `Tns`. Plot the result (1 pts)"
   ]
  },
  {
   "cell_type": "code",
   "execution_count": 5,
   "metadata": {},
   "outputs": [
    {
     "data": {
      "text/html": [
       "<div>\n",
       "<style scoped>\n",
       "    .dataframe tbody tr th:only-of-type {\n",
       "        vertical-align: middle;\n",
       "    }\n",
       "\n",
       "    .dataframe tbody tr th {\n",
       "        vertical-align: top;\n",
       "    }\n",
       "\n",
       "    .dataframe thead th {\n",
       "        text-align: right;\n",
       "    }\n",
       "</style>\n",
       "<table border=\"1\" class=\"dataframe\">\n",
       "  <thead>\n",
       "    <tr style=\"text-align: right;\">\n",
       "      <th></th>\n",
       "      <th>T</th>\n",
       "      <th>V</th>\n",
       "      <th>Tns</th>\n",
       "    </tr>\n",
       "  </thead>\n",
       "  <tbody>\n",
       "    <tr>\n",
       "      <th>0</th>\n",
       "      <td>-4.000000e-08</td>\n",
       "      <td>-0.437750</td>\n",
       "      <td>-40.0</td>\n",
       "    </tr>\n",
       "    <tr>\n",
       "      <th>1</th>\n",
       "      <td>-3.960000e-08</td>\n",
       "      <td>-0.437547</td>\n",
       "      <td>-39.6</td>\n",
       "    </tr>\n",
       "    <tr>\n",
       "      <th>2</th>\n",
       "      <td>-3.920000e-08</td>\n",
       "      <td>-0.437109</td>\n",
       "      <td>-39.2</td>\n",
       "    </tr>\n",
       "    <tr>\n",
       "      <th>3</th>\n",
       "      <td>-3.880000e-08</td>\n",
       "      <td>-0.437016</td>\n",
       "      <td>-38.8</td>\n",
       "    </tr>\n",
       "    <tr>\n",
       "      <th>4</th>\n",
       "      <td>-3.840000e-08</td>\n",
       "      <td>-0.436938</td>\n",
       "      <td>-38.4</td>\n",
       "    </tr>\n",
       "    <tr>\n",
       "      <th>5</th>\n",
       "      <td>-3.800000e-08</td>\n",
       "      <td>-0.436781</td>\n",
       "      <td>-38.0</td>\n",
       "    </tr>\n",
       "    <tr>\n",
       "      <th>6</th>\n",
       "      <td>-3.760000e-08</td>\n",
       "      <td>-0.436422</td>\n",
       "      <td>-37.6</td>\n",
       "    </tr>\n",
       "    <tr>\n",
       "      <th>7</th>\n",
       "      <td>-3.720000e-08</td>\n",
       "      <td>-0.437000</td>\n",
       "      <td>-37.2</td>\n",
       "    </tr>\n",
       "    <tr>\n",
       "      <th>8</th>\n",
       "      <td>-3.680000e-08</td>\n",
       "      <td>-0.437750</td>\n",
       "      <td>-36.8</td>\n",
       "    </tr>\n",
       "    <tr>\n",
       "      <th>9</th>\n",
       "      <td>-3.640000e-08</td>\n",
       "      <td>-0.439312</td>\n",
       "      <td>-36.4</td>\n",
       "    </tr>\n",
       "  </tbody>\n",
       "</table>\n",
       "</div>"
      ],
      "text/plain": [
       "              T         V   Tns\n",
       "0 -4.000000e-08 -0.437750 -40.0\n",
       "1 -3.960000e-08 -0.437547 -39.6\n",
       "2 -3.920000e-08 -0.437109 -39.2\n",
       "3 -3.880000e-08 -0.437016 -38.8\n",
       "4 -3.840000e-08 -0.436938 -38.4\n",
       "5 -3.800000e-08 -0.436781 -38.0\n",
       "6 -3.760000e-08 -0.436422 -37.6\n",
       "7 -3.720000e-08 -0.437000 -37.2\n",
       "8 -3.680000e-08 -0.437750 -36.8\n",
       "9 -3.640000e-08 -0.439312 -36.4"
      ]
     },
     "execution_count": 5,
     "metadata": {},
     "output_type": "execute_result"
    }
   ],
   "source": [
    "df['Tns'] = df['T'] * 1e9\n",
    "df.head(10)"
   ]
  },
  {
   "cell_type": "code",
   "execution_count": 6,
   "metadata": {},
   "outputs": [
    {
     "data": {
      "image/png": "[encoded data removed]",
      "text/plain": [
       "<Figure size 432x288 with 1 Axes>"
      ]
     },
     "metadata": {
      "needs_background": "light"
     },
     "output_type": "display_data"
    }
   ],
   "source": [
    "plt.figure()\n",
    "plt.plot(df['Tns'], df['V'], '.')\n",
    "plt.xlabel('T (ns)')\n",
    "plt.ylabel('V');"
   ]
  },
  {
   "cell_type": "markdown",
   "metadata": {},
   "source": [
    "### 2. b) What is the pedestal of the pulse, defined as the voltage value if no pulse were present ? (1 pts)"
   ]
  },
  {
   "cell_type": "code",
   "execution_count": 8,
   "metadata": {
    "scrolled": true
   },
   "outputs": [
    {
     "data": {
      "image/png": "[encoded data removed]",
      "text/plain": [
       "<Figure size 432x288 with 1 Axes>"
      ]
     },
     "metadata": {
      "needs_background": "light"
     },
     "output_type": "display_data"
    }
   ],
   "source": [
    "plt.figure()\n",
    "plt.plot(df['Tns'][df.Tns<-5], df['V'][df.Tns<-5], '.')\n",
    "plt.xlabel('T (ns)')\n",
    "plt.ylabel('V');"
   ]
  },
  {
   "cell_type": "code",
   "execution_count": 10,
   "metadata": {},
   "outputs": [
    {
     "name": "stdout",
     "output_type": "stream",
     "text": [
      "pedestal = -0.440\n"
     ]
    }
   ],
   "source": [
    "ped = df['V'][df.Tns<-5].mean()\n",
    "print(f'pedestal = {ped:.3f}')"
   ]
  },
  {
   "cell_type": "markdown",
   "metadata": {},
   "source": [
    "### 2. c) Add a column to `df` containing the pedestal-substracted voltage, called `Vnorm`. Plot the result (1 pts)"
   ]
  },
  {
   "cell_type": "code",
   "execution_count": 11,
   "metadata": {},
   "outputs": [
    {
     "data": {
      "image/png": "[encoded data removed]",
      "text/plain": [
       "<Figure size 432x288 with 1 Axes>"
      ]
     },
     "metadata": {
      "needs_background": "light"
     },
     "output_type": "display_data"
    }
   ],
   "source": [
    "df['Vnorm'] = df['V'] - ped\n",
    "\n",
    "plt.figure()\n",
    "plt.plot(df.Tns, df.Vnorm, '.')\n",
    "plt.xlabel('T (ns)')\n",
    "plt.ylabel('V');"
   ]
  },
  {
   "cell_type": "markdown",
   "metadata": {},
   "source": [
    "### 2. d) Normalize `Vnorm` to have a minumum of 0.0 and a maximum of 1.0. Plot the result (1 pts)"
   ]
  },
  {
   "cell_type": "code",
   "execution_count": 12,
   "metadata": {},
   "outputs": [
    {
     "data": {
      "image/png": "[encoded data removed]",
      "text/plain": [
       "<Figure size 432x288 with 1 Axes>"
      ]
     },
     "metadata": {
      "needs_background": "light"
     },
     "output_type": "display_data"
    }
   ],
   "source": [
    "df.Vnorm = df.Vnorm / df.Vnorm.max()\n",
    "\n",
    "plt.figure()\n",
    "plt.plot(df.Tns, df.Vnorm, '.')\n",
    "plt.xlabel('T (ns)')\n",
    "plt.ylabel('V (normalized)');"
   ]
  },
  {
   "cell_type": "markdown",
   "metadata": {},
   "source": [
    "### 2. e) Find `Tmax` which has the max amplitude (1 pts)\n",
    "HINT: checkout `np.argmax()` function."
   ]
  },
  {
   "cell_type": "code",
   "execution_count": 15,
   "metadata": {},
   "outputs": [
    {
     "name": "stdout",
     "output_type": "stream",
     "text": [
      "Tmax = 18.8\n"
     ]
    }
   ],
   "source": [
    "idmax = df.Vnorm.argmax()\n",
    "\n",
    "Tmax = df['Tns'][idmax]\n",
    "\n",
    "print(f'Tmax = {Tmax}')"
   ]
  },
  {
   "cell_type": "markdown",
   "metadata": {},
   "source": [
    "### 2. f) Plot the transformed pulse satisfying `Tmax=0`, `Vmin=0` and `Vmax=1` (1 pts)"
   ]
  },
  {
   "cell_type": "code",
   "execution_count": 18,
   "metadata": {},
   "outputs": [
    {
     "data": {
      "image/png": "[encoded data removed]",
      "text/plain": [
       "<Figure size 432x288 with 1 Axes>"
      ]
     },
     "metadata": {
      "needs_background": "light"
     },
     "output_type": "display_data"
    }
   ],
   "source": [
    "Ttrans = df.Tns - Tmax\n",
    "\n",
    "plt.figure()\n",
    "plt.plot(Ttrans, df.Vnorm, '.')\n",
    "plt.vlines(0, 0, 1, colors='r')\n",
    "plt.xlabel('T (ns)')\n",
    "plt.ylabel('V (normalized)');"
   ]
  },
  {
   "cell_type": "markdown",
   "metadata": {},
   "source": [
    "## 3. Pulse caracterization (3 pts)"
   ]
  },
  {
   "cell_type": "markdown",
   "metadata": {},
   "source": [
    "### 3. a) Compute and plot the cumulative sum of the pulse (1 pts)\n",
    "\n",
    "The cumulative sum is defined as $\\mathcal{V}(t) = \\sum_{\\tau\\leq t} V(\\tau)$\n",
    "\n",
    "HINT: checkout `np.cumsum()` function"
   ]
  },
  {
   "cell_type": "code",
   "execution_count": 19,
   "metadata": {},
   "outputs": [
    {
     "data": {
      "image/png": "[encoded data removed]",
      "text/plain": [
       "<Figure size 432x288 with 1 Axes>"
      ]
     },
     "metadata": {
      "needs_background": "light"
     },
     "output_type": "display_data"
    }
   ],
   "source": [
    "Vcumsum = df.Vnorm.cumsum()\n",
    "\n",
    "plt.figure()\n",
    "plt.plot(df.Tns, Vcumsum, '.')\n",
    "plt.xlabel('T (ns)')\n",
    "plt.ylabel('V (cummulative sum)');"
   ]
  },
  {
   "cell_type": "markdown",
   "metadata": {},
   "source": [
    "### 3. b) Compute the full width of the pulse at its half maximum (2 pts)\n",
    "\n",
    "This width is defined as $|t_1 - t_2|$ width $V(t_1)=V(t_2)=V_{\\text{max}}/2$"
   ]
  },
  {
   "cell_type": "code",
   "execution_count": 20,
   "metadata": {},
   "outputs": [
    {
     "name": "stdout",
     "output_type": "stream",
     "text": [
      "t1 = -14.400000000000002\n",
      "t2 = 25.2\n",
      "width = 39.6\n"
     ]
    }
   ],
   "source": [
    "Vm2 = df.Vnorm.max()/2\n",
    "\n",
    "left = Ttrans < 0\n",
    "mask = df.Vnorm[left] < Vm2\n",
    "t1 = Ttrans[left][mask]\n",
    "t1 = t1.max()\n",
    "\n",
    "right = Ttrans > 0\n",
    "mask = df.Vnorm[right] < Vm2\n",
    "t2 = Ttrans[right][mask]\n",
    "t2 = t2.min()\n",
    "\n",
    "print(f't1 = {t1}')\n",
    "print(f't2 = {t2}')\n",
    "print(f'width = {np.abs(t1 - t2)}')"
   ]
  },
  {
   "cell_type": "code",
   "execution_count": 22,
   "metadata": {},
   "outputs": [
    {
     "data": {
      "image/png": "[encoded data removed]",
      "text/plain": [
       "<Figure size 432x288 with 1 Axes>"
      ]
     },
     "metadata": {
      "needs_background": "light"
     },
     "output_type": "display_data"
    }
   ],
   "source": [
    "plt.figure()\n",
    "plt.plot(Ttrans, df.Vnorm, '.')\n",
    "plt.vlines([t1, t2], 0, Vm2, colors='r', linestyles='dashed')\n",
    "plt.hlines(Vm2, t1, t2, colors='r')\n",
    "plt.xlabel('T (ns)')\n",
    "plt.ylabel('V (normalized)');"
   ]
  },
  {
   "cell_type": "markdown",
   "metadata": {},
   "source": [
    "## Bonus question\n",
    "\n",
    "### Perform a fit of the peak by a gaussian on the time window $[-10, 10]$ ns and plot the result.\n",
    "\n",
    "Reminder: a gaussian function of amplitude $A$, average $\\mu$ and width $\\sigma$ can be expressed as\n",
    "\n",
    "$$\n",
    "\\mathcal{G}(x) = A \\, \\exp\\left( -\\frac{(x - \\mu)^2}{2\\sigma^2} \\right)\n",
    "$$"
   ]
  },
  {
   "cell_type": "code",
   "execution_count": 23,
   "metadata": {},
   "outputs": [],
   "source": [
    "# The function to fit\n",
    "def gaus(x, A, mu, sig):\n",
    "    return A * np.exp(-(x - mu)**2 / (2 * sig**2))"
   ]
  },
  {
   "cell_type": "code",
   "execution_count": 24,
   "metadata": {},
   "outputs": [
    {
     "name": "stdout",
     "output_type": "stream",
     "text": [
      "A   = 1.0004778060793147\n",
      "mu  = 0.805625048600355\n",
      "sig = 14.870474622525784\n"
     ]
    }
   ],
   "source": [
    "Tfit = Ttrans[(Ttrans>-10) & (Ttrans<10)]\n",
    "Vfit = df.Vnorm[(Ttrans>-10) & (Ttrans<10)]\n",
    "\n",
    "par, cov = curve_fit(gaus, Tfit, Vfit)\n",
    "\n",
    "print(f'A   = {par[0]}')\n",
    "print(f'mu  = {par[1]}')\n",
    "print(f'sig = {par[2]}')"
   ]
  },
  {
   "cell_type": "code",
   "execution_count": 26,
   "metadata": {},
   "outputs": [
    {
     "data": {
      "image/png": "[encoded data removed]",
      "text/plain": [
       "<Figure size 432x288 with 1 Axes>"
      ]
     },
     "metadata": {
      "needs_background": "light"
     },
     "output_type": "display_data"
    }
   ],
   "source": [
    "Tcont = np.linspace(-10,10,200)\n",
    "\n",
    "plt.figure()\n",
    "plt.plot(Tfit, Vfit, '.', label='data')\n",
    "plt.plot(Tcont, gaus(Tcont, *par), label='fit')\n",
    "plt.legend()\n",
    "plt.xlabel('T (ns)')\n",
    "plt.ylabel('V (normalized)');"
   ]
  },
  {
   "cell_type": "code",
   "execution_count": 27,
   "metadata": {},
   "outputs": [
    {
     "data": {
      "image/png": "[encoded data removed]",
      "text/plain": [
       "<Figure size 432x288 with 1 Axes>"
      ]
     },
     "metadata": {
      "needs_background": "light"
     },
     "output_type": "display_data"
    }
   ],
   "source": [
    "Tcont = np.linspace(Ttrans.min(),Ttrans.max(),1000)\n",
    "\n",
    "plt.figure()\n",
    "plt.plot(Ttrans, df.Vnorm, '.', label='data')\n",
    "plt.plot(Tcont, gaus(Tcont, *par), label='fit')\n",
    "plt.legend()\n",
    "plt.xlabel('T (ns)')\n",
    "plt.ylabel('V (normalized)');"
   ]
  },
  {
   "cell_type": "code",
   "execution_count": null,
   "metadata": {},
   "outputs": [],
   "source": []
  }
 ],
 "metadata": {
  "kernelspec": {
   "display_name": "Python 3",
   "language": "python",
   "name": "python3"
  },
  "language_info": {
   "codemirror_mode": {
    "name": "ipython",
    "version": 3
   },
   "file_extension": ".py",
   "mimetype": "text/x-python",
   "name": "python",
   "nbconvert_exporter": "python",
   "pygments_lexer": "ipython3",
   "version": "3.9.5"
  }
 },
 "nbformat": 4,
 "nbformat_minor": 2
}
