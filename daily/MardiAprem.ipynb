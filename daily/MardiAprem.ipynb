{
 "cells": [
  {
   "cell_type": "code",
   "execution_count": 18,
   "metadata": {},
   "outputs": [
    {
     "name": "stderr",
     "output_type": "stream",
     "text": [
      "Matplotlib is building the font cache; this may take a moment.\n"
     ]
    },
    {
     "name": "stdout",
     "output_type": "stream",
     "text": [
      "[1, 2, 3] [3, 4, 5]\n"
     ]
    }
   ],
   "source": [
    "import matplotlib.pyplot as plt\n",
    "%matplotlib inline\n",
    "\n",
    "import numpy as np\n",
    "l1, l2 = [1, 2, 3], [3, 4, 5]\n",
    "a1, a2 = np.array([1, 2, 3]), np.array([3, 4, 5])\n",
    "print(l1, l2)"
   ]
  },
  {
   "cell_type": "code",
   "execution_count": 2,
   "metadata": {},
   "outputs": [
    {
     "name": "stdout",
     "output_type": "stream",
     "text": [
      "python list: [2, 3]\n",
      "numpy array: [2 3]\n"
     ]
    }
   ],
   "source": [
    "# Indexing with a slicing: obj[1:3]\n",
    "print('python list: {}'.format(l1[1:3]))\n",
    "print('numpy array: {}'.format(a1[1:3]))"
   ]
  },
  {
   "cell_type": "code",
   "execution_count": 3,
   "metadata": {},
   "outputs": [
    {
     "ename": "TypeError",
     "evalue": "list indices must be integers or slices, not list",
     "output_type": "error",
     "traceback": [
      "\u001b[0;31m---------------------------------------------------------------------------\u001b[0m",
      "\u001b[0;31mTypeError\u001b[0m                                 Traceback (most recent call last)",
      "\u001b[0;32m<ipython-input-3-759e2537ab5c>\u001b[0m in \u001b[0;36m<module>\u001b[0;34m\u001b[0m\n\u001b[1;32m      1\u001b[0m \u001b[0midx\u001b[0m \u001b[0;34m=\u001b[0m \u001b[0;34m[\u001b[0m\u001b[0;36m0\u001b[0m\u001b[0;34m,\u001b[0m \u001b[0;36m2\u001b[0m\u001b[0;34m]\u001b[0m\u001b[0;34m\u001b[0m\u001b[0;34m\u001b[0m\u001b[0m\n\u001b[0;32m----> 2\u001b[0;31m \u001b[0mprint\u001b[0m\u001b[0;34m(\u001b[0m\u001b[0;34m'python list: {}'\u001b[0m\u001b[0;34m.\u001b[0m\u001b[0mformat\u001b[0m\u001b[0;34m(\u001b[0m\u001b[0ml1\u001b[0m\u001b[0;34m[\u001b[0m\u001b[0midx\u001b[0m\u001b[0;34m]\u001b[0m\u001b[0;34m)\u001b[0m\u001b[0;34m)\u001b[0m\u001b[0;34m\u001b[0m\u001b[0;34m\u001b[0m\u001b[0m\n\u001b[0m",
      "\u001b[0;31mTypeError\u001b[0m: list indices must be integers or slices, not list"
     ]
    }
   ],
   "source": [
    "idx = [0, 2]\n",
    "print('python list: {}'.format(l1[idx]))"
   ]
  },
  {
   "cell_type": "code",
   "execution_count": 8,
   "metadata": {},
   "outputs": [
    {
     "name": "stdout",
     "output_type": "stream",
     "text": [
      "numpy array: [[2 3]\n",
      " [1 2]\n",
      " [2 2]\n",
      " [2 2]\n",
      " [2 2]]\n"
     ]
    }
   ],
   "source": [
    "idx = np.array([[1, 2], [0, 1], [1, 1], [1, 1], [1, 1]])\n",
    "print('numpy array: {}'.format(a1[idx]))"
   ]
  },
  {
   "cell_type": "code",
   "execution_count": 13,
   "metadata": {},
   "outputs": [],
   "source": [
    "points = np.array([[[0, 0], [0, 1], [0, 2]],\n",
    "                   [[1, 0], [1, 1], [1, 2]]])"
   ]
  },
  {
   "cell_type": "code",
   "execution_count": 14,
   "metadata": {},
   "outputs": [
    {
     "data": {
      "text/plain": [
       "3"
      ]
     },
     "execution_count": 14,
     "metadata": {},
     "output_type": "execute_result"
    }
   ],
   "source": [
    "points.ndim"
   ]
  },
  {
   "cell_type": "code",
   "execution_count": 15,
   "metadata": {},
   "outputs": [
    {
     "data": {
      "text/plain": [
       "(2, 3, 2)"
      ]
     },
     "execution_count": 15,
     "metadata": {},
     "output_type": "execute_result"
    }
   ],
   "source": [
    "points.shape"
   ]
  },
  {
   "cell_type": "code",
   "execution_count": 38,
   "metadata": {},
   "outputs": [
    {
     "data": {
      "image/png": "[encoded data removed]",
      "text/plain": [
       "<Figure size 432x288 with 1 Axes>"
      ]
     },
     "metadata": {
      "needs_background": "light"
     },
     "output_type": "display_data"
    }
   ],
   "source": [
    "x = np.linspace(-3.14, 3.14, 10000)\n",
    "y = np.sin(x)\n",
    "plt.plot(x,y);"
   ]
  },
  {
   "cell_type": "code",
   "execution_count": 31,
   "metadata": {},
   "outputs": [
    {
     "data": {
      "image/png": "[encoded data removed]",
      "text/plain": [
       "<Figure size 432x288 with 1 Axes>"
      ]
     },
     "metadata": {
      "needs_background": "light"
     },
     "output_type": "display_data"
    }
   ],
   "source": [
    "a = np.random.randint(low=0, high=255, size=(10, 10, 3))\n",
    "plt.imshow(a);"
   ]
  },
  {
   "cell_type": "code",
   "execution_count": 35,
   "metadata": {},
   "outputs": [
    {
     "data": {
      "text/plain": [
       "<matplotlib.image.AxesImage at 0x7f7dd0c91190>"
      ]
     },
     "execution_count": 35,
     "metadata": {},
     "output_type": "execute_result"
    },
    {
     "data": {
      "image/png": "[encoded data removed]",
      "text/plain": [
       "<Figure size 432x288 with 1 Axes>"
      ]
     },
     "metadata": {
      "needs_background": "light"
     },
     "output_type": "display_data"
    }
   ],
   "source": [
    "b = np.mean(a, axis=2)\n",
    "plt.imshow(b)"
   ]
  },
  {
   "cell_type": "code",
   "execution_count": 42,
   "metadata": {},
   "outputs": [
    {
     "data": {
      "text/plain": [
       "array([80, 56, 36, 50, 55, 76, 48, 69, 77, 86])"
      ]
     },
     "execution_count": 42,
     "metadata": {},
     "output_type": "execute_result"
    }
   ],
   "source": [
    "x = np.random.randint(low=1, high=100, size=10)\n",
    "x"
   ]
  },
  {
   "cell_type": "code",
   "execution_count": 43,
   "metadata": {},
   "outputs": [
    {
     "data": {
      "text/plain": [
       "array([252, 180, 120, 162, 177, 240, 156, 219, 243, 270])"
      ]
     },
     "execution_count": 43,
     "metadata": {},
     "output_type": "execute_result"
    }
   ],
   "source": [
    "y = 3*x + 12\n",
    "y"
   ]
  },
  {
   "cell_type": "code",
   "execution_count": 63,
   "metadata": {},
   "outputs": [],
   "source": [
    "r = np.random.randint(low=1, high=100, size=(10, 3))\n",
    "b = np.array([100, 0, 200, 10, 12, 100, 200, 300, 600, 900])"
   ]
  },
  {
   "cell_type": "code",
   "execution_count": 64,
   "metadata": {},
   "outputs": [
    {
     "name": "stdout",
     "output_type": "stream",
     "text": [
      "(10, 3) (10,)\n"
     ]
    }
   ],
   "source": [
    "print(r.shape, b.shape)"
   ]
  },
  {
   "cell_type": "code",
   "execution_count": 65,
   "metadata": {},
   "outputs": [
    {
     "name": "stdout",
     "output_type": "stream",
     "text": [
      "[100   0 200  10  12 100 200 300 600 900]\n",
      "[[100]\n",
      " [  0]\n",
      " [200]\n",
      " [ 10]\n",
      " [ 12]\n",
      " [100]\n",
      " [200]\n",
      " [300]\n",
      " [600]\n",
      " [900]]\n"
     ]
    }
   ],
   "source": [
    "print(b)\n",
    "b = b.reshape(10, 1)\n",
    "print(b)"
   ]
  },
  {
   "cell_type": "code",
   "execution_count": 66,
   "metadata": {},
   "outputs": [
    {
     "data": {
      "text/plain": [
       "array([[105, 154, 154],\n",
       "       [ 50,  98,  29],\n",
       "       [264, 293, 255],\n",
       "       [ 58,  92,  81],\n",
       "       [ 43, 110,  54],\n",
       "       [105, 175, 159],\n",
       "       [287, 250, 284],\n",
       "       [356, 301, 327],\n",
       "       [628, 671, 696],\n",
       "       [906, 985, 989]])"
      ]
     },
     "execution_count": 66,
     "metadata": {},
     "output_type": "execute_result"
    }
   ],
   "source": [
    "r+b"
   ]
  },
  {
   "cell_type": "code",
   "execution_count": 67,
   "metadata": {},
   "outputs": [
    {
     "data": {
      "text/plain": [
       "array([[  15,  154, 1054],\n",
       "       [  60,  198, 1029],\n",
       "       [  74,  193, 1055],\n",
       "       [  58,  182, 1071],\n",
       "       [  41,  198, 1042],\n",
       "       [  15,  175, 1059],\n",
       "       [  97,  150, 1084],\n",
       "       [  66,  101, 1027],\n",
       "       [  38,  171, 1096],\n",
       "       [  16,  185, 1089]])"
      ]
     },
     "execution_count": 67,
     "metadata": {},
     "output_type": "execute_result"
    }
   ],
   "source": [
    "r + np.array([10, 100, 1000])"
   ]
  },
  {
   "cell_type": "code",
   "execution_count": 70,
   "metadata": {},
   "outputs": [
    {
     "data": {
      "text/plain": [
       "array([81, 64, 84, 75, 96, 92,  4, 96, 39, 18, 94, 46, 78, 15, 97, 52,  8,\n",
       "       29,  5, 12, 48, 64, 95, 52, 88, 80, 78, 47, 28, 75, 46, 68,  5, 93,\n",
       "       10, 17, 92,  5, 91, 72, 85, 67, 26, 81, 15, 56, 72,  5, 27, 54])"
      ]
     },
     "execution_count": 70,
     "metadata": {},
     "output_type": "execute_result"
    }
   ],
   "source": [
    "a = np.random.randint(low=1, high=100, size=(50))\n",
    "a"
   ]
  },
  {
   "cell_type": "code",
   "execution_count": 71,
   "metadata": {},
   "outputs": [
    {
     "data": {
      "text/plain": [
       "array([78, 29, 95])"
      ]
     },
     "execution_count": 71,
     "metadata": {},
     "output_type": "execute_result"
    }
   ],
   "source": [
    "# slicing\n",
    "a[12:27:5]"
   ]
  },
  {
   "cell_type": "code",
   "execution_count": 72,
   "metadata": {},
   "outputs": [
    {
     "data": {
      "text/plain": [
       "array([81,  4, 78, 96])"
      ]
     },
     "execution_count": 72,
     "metadata": {},
     "output_type": "execute_result"
    }
   ],
   "source": [
    "# fancy indexing\n",
    "idx = [0, 6, 12, 7]\n",
    "a[idx]"
   ]
  },
  {
   "cell_type": "code",
   "execution_count": 73,
   "metadata": {},
   "outputs": [
    {
     "data": {
      "text/plain": [
       "array([ True,  True,  True,  True,  True,  True, False,  True, False,\n",
       "       False,  True, False,  True, False,  True,  True, False, False,\n",
       "       False, False, False,  True,  True,  True,  True,  True,  True,\n",
       "       False, False,  True, False,  True, False,  True, False, False,\n",
       "        True, False,  True,  True,  True,  True, False,  True, False,\n",
       "        True,  True, False, False,  True])"
      ]
     },
     "execution_count": 73,
     "metadata": {},
     "output_type": "execute_result"
    }
   ],
   "source": [
    "a>50"
   ]
  },
  {
   "cell_type": "code",
   "execution_count": 77,
   "metadata": {},
   "outputs": [
    {
     "data": {
      "text/plain": [
       "array([81, 64, 84, 75, 96, 92, 96, 94, 78, 97, 52, 64, 95, 52, 88, 80, 78,\n",
       "       75, 68, 93, 92, 91, 72, 85, 67, 81, 56, 72, 54])"
      ]
     },
     "execution_count": 77,
     "metadata": {},
     "output_type": "execute_result"
    }
   ],
   "source": [
    "a[a>50]"
   ]
  },
  {
   "cell_type": "code",
   "execution_count": 80,
   "metadata": {},
   "outputs": [
    {
     "data": {
      "text/plain": [
       "array([[[ 9, 17],\n",
       "        [45, 84],\n",
       "        [35, 92],\n",
       "        [38, 66],\n",
       "        [87, 72]],\n",
       "\n",
       "       [[ 8, 14],\n",
       "        [31, 18],\n",
       "        [57, 80],\n",
       "        [95, 26],\n",
       "        [52,  5]],\n",
       "\n",
       "       [[38, 17],\n",
       "        [35, 87],\n",
       "        [ 3, 99],\n",
       "        [22, 43],\n",
       "        [ 6, 26]],\n",
       "\n",
       "       [[68, 74],\n",
       "        [59, 11],\n",
       "        [81, 47],\n",
       "        [92, 87],\n",
       "        [44, 24]],\n",
       "\n",
       "       [[71,  3],\n",
       "        [27, 16],\n",
       "        [54, 71],\n",
       "        [10, 74],\n",
       "        [60, 82]]])"
      ]
     },
     "execution_count": 80,
     "metadata": {},
     "output_type": "execute_result"
    }
   ],
   "source": [
    "a = np.random.randint(low=1, high=100, size=(5, 5, 2))\n",
    "a"
   ]
  },
  {
   "cell_type": "code",
   "execution_count": 85,
   "metadata": {},
   "outputs": [
    {
     "data": {
      "text/plain": [
       "array([[ 8, 14],\n",
       "       [59, 11]])"
      ]
     },
     "execution_count": 85,
     "metadata": {},
     "output_type": "execute_result"
    }
   ],
   "source": [
    "a[[1, 3], [0, 1], :]"
   ]
  },
  {
   "cell_type": "code",
   "execution_count": 92,
   "metadata": {},
   "outputs": [
    {
     "data": {
      "text/plain": [
       "(array([0, 0, 0, 0, 0, 1, 1, 1, 1, 1, 1, 2, 2, 2, 2, 2, 2, 2, 2, 3, 3, 3,\n",
       "        3, 4, 4, 4, 4]),\n",
       " array([0, 0, 1, 2, 3, 0, 0, 1, 1, 3, 4, 0, 0, 1, 2, 3, 3, 4, 4, 1, 2, 4,\n",
       "        4, 0, 1, 1, 3]),\n",
       " array([0, 1, 0, 0, 0, 0, 1, 0, 1, 1, 1, 0, 1, 0, 0, 0, 1, 0, 1, 1, 1, 0,\n",
       "        1, 1, 0, 1, 0]))"
      ]
     },
     "execution_count": 92,
     "metadata": {},
     "output_type": "execute_result"
    }
   ],
   "source": [
    "idx = np.where(a<50)\n",
    "idx"
   ]
  },
  {
   "cell_type": "code",
   "execution_count": 91,
   "metadata": {},
   "outputs": [
    {
     "data": {
      "text/plain": [
       "array([ 9, 17, 45, 35, 38,  8, 14, 31, 18, 26,  5, 38, 17, 35,  3, 22, 43,\n",
       "        6, 26, 11, 47, 44, 24,  3, 27, 16, 10])"
      ]
     },
     "execution_count": 91,
     "metadata": {},
     "output_type": "execute_result"
    }
   ],
   "source": [
    "a[idx]"
   ]
  },
  {
   "cell_type": "code",
   "execution_count": 94,
   "metadata": {},
   "outputs": [
    {
     "name": "stdout",
     "output_type": "stream",
     "text": [
      "(5, 5, 2)\n",
      "(27,)\n"
     ]
    }
   ],
   "source": [
    "print(a.shape)\n",
    "print(a[a<50].shape)"
   ]
  },
  {
   "cell_type": "code",
   "execution_count": 98,
   "metadata": {},
   "outputs": [],
   "source": [
    "a = np.random.randint(low=1, high=100, size=(2, 2, 2))"
   ]
  },
  {
   "cell_type": "code",
   "execution_count": 99,
   "metadata": {},
   "outputs": [],
   "source": [
    "a[a>50] = -1"
   ]
  },
  {
   "cell_type": "code",
   "execution_count": 100,
   "metadata": {},
   "outputs": [
    {
     "data": {
      "text/plain": [
       "array([[[45, -1],\n",
       "        [24, -1]],\n",
       "\n",
       "       [[25, -1],\n",
       "        [ 2, 11]]])"
      ]
     },
     "execution_count": 100,
     "metadata": {},
     "output_type": "execute_result"
    }
   ],
   "source": [
    "a"
   ]
  },
  {
   "cell_type": "code",
   "execution_count": 101,
   "metadata": {},
   "outputs": [],
   "source": [
    "a = np.random.normal(5, 2, size=(1000, 1000))"
   ]
  },
  {
   "cell_type": "markdown",
   "metadata": {},
   "source": [
    "1. Calculer la fraction de nombres negatifs."
   ]
  },
  {
   "cell_type": "code",
   "execution_count": 107,
   "metadata": {},
   "outputs": [
    {
     "name": "stdout",
     "output_type": "stream",
     "text": [
      "0.00613\n"
     ]
    }
   ],
   "source": [
    "b = a[a<0]\n",
    "print(b.size / a.size)"
   ]
  },
  {
   "cell_type": "markdown",
   "metadata": {},
   "source": [
    "2. Calculer la valeur moyenne et la RMS de tous les nombres negatifs, en utilisant les *fonctions universelles* numpy."
   ]
  },
  {
   "cell_type": "code",
   "execution_count": 110,
   "metadata": {},
   "outputs": [
    {
     "name": "stdout",
     "output_type": "stream",
     "text": [
      "-0.642279602754869 0.5951129887919347 0.5951129887919347\n"
     ]
    }
   ],
   "source": [
    "print(np.mean(b), np.std(b), np.mean((b-np.mean(b))**2)**0.5)"
   ]
  },
  {
   "cell_type": "markdown",
   "metadata": {},
   "source": [
    "3. Calculer les maximums ligne par ligne, et calculer la valeur moyennee sur toutes les lignes."
   ]
  },
  {
   "cell_type": "code",
   "execution_count": 113,
   "metadata": {},
   "outputs": [
    {
     "name": "stdout",
     "output_type": "stream",
     "text": [
      "11.523566265804453\n"
     ]
    }
   ],
   "source": [
    "c = np.max(a, axis=1)\n",
    "print(np.mean(c))"
   ]
  },
  {
   "cell_type": "markdown",
   "metadata": {},
   "source": [
    "4. Calculer la somme cumulative sur chaque ligne, et comparer les derniers elements de chaque ligne, en calculant l'écart type des 1000 resultats."
   ]
  },
  {
   "cell_type": "code",
   "execution_count": 120,
   "metadata": {},
   "outputs": [
    {
     "name": "stdout",
     "output_type": "stream",
     "text": [
      "62.512216028171586 4999.458469878193\n"
     ]
    }
   ],
   "source": [
    "d = np.cumsum(a, axis=1)\n",
    "e = d[:, -1]\n",
    "print(np.std(e), np.mean(e))"
   ]
  },
  {
   "cell_type": "code",
   "execution_count": 121,
   "metadata": {},
   "outputs": [
    {
     "data": {
      "text/plain": [
       "(array([  4.,  26., 104., 233., 296., 210.,  86.,  32.,   8.,   1.]),\n",
       " array([4795.60207264, 4841.06453879, 4886.52700493, 4931.98947107,\n",
       "        4977.45193721, 5022.91440335, 5068.37686949, 5113.83933563,\n",
       "        5159.30180177, 5204.76426791, 5250.22673405]),\n",
       " <BarContainer object of 10 artists>)"
      ]
     },
     "execution_count": 121,
     "metadata": {},
     "output_type": "execute_result"
    },
    {
     "data": {
      "image/png": "[encoded data removed]",
      "text/plain": [
       "<Figure size 432x288 with 1 Axes>"
      ]
     },
     "metadata": {
      "needs_background": "light"
     },
     "output_type": "display_data"
    }
   ],
   "source": [
    "plt.hist(e)"
   ]
  },
  {
   "cell_type": "code",
   "execution_count": 104,
   "metadata": {},
   "outputs": [
    {
     "data": {
      "text/plain": [
       "10"
      ]
     },
     "execution_count": 104,
     "metadata": {},
     "output_type": "execute_result"
    }
   ],
   "source": [
    "len(A)"
   ]
  },
  {
   "cell_type": "code",
   "execution_count": 105,
   "metadata": {},
   "outputs": [
    {
     "data": {
      "text/plain": [
       "100"
      ]
     },
     "execution_count": 105,
     "metadata": {},
     "output_type": "execute_result"
    }
   ],
   "source": [
    "A.size"
   ]
  },
  {
   "cell_type": "code",
   "execution_count": null,
   "metadata": {},
   "outputs": [],
   "source": []
  }
 ],
 "metadata": {
  "kernelspec": {
   "display_name": "Python 3",
   "language": "python",
   "name": "python3"
  },
  "language_info": {
   "codemirror_mode": {
    "name": "ipython",
    "version": 3
   },
   "file_extension": ".py",
   "mimetype": "text/x-python",
   "name": "python",
   "nbconvert_exporter": "python",
   "pygments_lexer": "ipython3",
   "version": "3.8.5"
  }
 },
 "nbformat": 4,
 "nbformat_minor": 4
}
