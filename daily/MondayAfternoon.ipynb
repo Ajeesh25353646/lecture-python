{
 "cells": [
  {
   "cell_type": "code",
   "execution_count": 2,
   "metadata": {},
   "outputs": [
    {
     "name": "stdout",
     "output_type": "stream",
     "text": [
      "Hello world !!!\n"
     ]
    }
   ],
   "source": [
    "print('Hello world !!!')"
   ]
  },
  {
   "cell_type": "markdown",
   "metadata": {},
   "source": [
    "+ I write normal text\n",
    "+ I write another normal text\n",
    "+ I **write** bold text\n",
    "\n",
    "# My title\n",
    "\n",
    "## 2. My sub-title"
   ]
  },
  {
   "cell_type": "markdown",
   "metadata": {},
   "source": [
    "$$\n",
    "\\sum_{i=0}^{n} i^2 \\neq \\int^{\\infty}_{0} \\varphi \\times f(\\theta) \\times \\sin\\left(\\frac{\\pi x}{x+1}\\right) \\, \\mathrm{d}x\n",
    "$$\n"
   ]
  },
  {
   "cell_type": "code",
   "execution_count": 1,
   "metadata": {},
   "outputs": [
    {
     "name": "stdout",
     "output_type": "stream",
     "text": [
      "5\n"
     ]
    }
   ],
   "source": [
    "## CODE 1\n",
    "x = 2\n",
    "y = 3\n",
    "print(x+y)"
   ]
  },
  {
   "cell_type": "code",
   "execution_count": 3,
   "metadata": {},
   "outputs": [
    {
     "name": "stdout",
     "output_type": "stream",
     "text": [
      "20\n"
     ]
    }
   ],
   "source": [
    "## CODE 2\n",
    "x = 10\n",
    "print(x+y)"
   ]
  },
  {
   "cell_type": "code",
   "execution_count": 2,
   "metadata": {},
   "outputs": [
    {
     "name": "stdout",
     "output_type": "stream",
     "text": [
      "12\n"
     ]
    }
   ],
   "source": [
    "## CODE 3\n",
    "y = 10\n",
    "print(x+y)"
   ]
  },
  {
   "cell_type": "code",
   "execution_count": 7,
   "metadata": {},
   "outputs": [],
   "source": [
    "def myFunc(x):\n",
    "    return x*3"
   ]
  },
  {
   "cell_type": "code",
   "execution_count": 8,
   "metadata": {},
   "outputs": [
    {
     "data": {
      "text/plain": [
       "6"
      ]
     },
     "execution_count": 8,
     "metadata": {},
     "output_type": "execute_result"
    }
   ],
   "source": [
    "myFunc(2)"
   ]
  },
  {
   "cell_type": "code",
   "execution_count": 12,
   "metadata": {},
   "outputs": [],
   "source": [
    "def SumUpToN(n):\n",
    "    '''\n",
    "    This function returns the sum of the n first integers:\n",
    "       sum = 1 + 2 + ... + n\n",
    "    '''\n",
    "    \n",
    "    # Initisalisation\n",
    "    s = 0\n",
    "    \n",
    "    # Loop over from to n\n",
    "    for i in range(n+1):\n",
    "         s = s + i\n",
    "            \n",
    "    # Return the result\n",
    "    return s"
   ]
  },
  {
   "cell_type": "code",
   "execution_count": 13,
   "metadata": {},
   "outputs": [
    {
     "name": "stdout",
     "output_type": "stream",
     "text": [
      "15\n"
     ]
    }
   ],
   "source": [
    "print(SumUpToN(5))"
   ]
  },
  {
   "cell_type": "code",
   "execution_count": 10,
   "metadata": {},
   "outputs": [
    {
     "name": "stdout",
     "output_type": "stream",
     "text": [
      "Help on function SumUpToN in module __main__:\n",
      "\n",
      "SumUpToN(N)\n",
      "    This function returns the sum of the n first integers:\n",
      "       sum = 1 + 2 + ... + n\n",
      "\n"
     ]
    }
   ],
   "source": [
    "help(SumUpToN)"
   ]
  },
  {
   "cell_type": "code",
   "execution_count": 14,
   "metadata": {},
   "outputs": [
    {
     "data": {
      "image/png": "[encoded data removed]",
      "text/plain": [
       "<Figure size 432x288 with 1 Axes>"
      ]
     },
     "metadata": {
      "needs_background": "light"
     },
     "output_type": "display_data"
    }
   ],
   "source": [
    "# import python plotting tool\n",
    "import matplotlib.pyplot as plt\n",
    "\n",
    "# Define its behaviour in the notebook.\n",
    "# Note: this command needs to be run once per notebook, note per cell.\n",
    "%matplotlib inline\n",
    "\n",
    "# Define Xs = [0, 1, ... 49].\n",
    "Xs = range(50)\n",
    "\n",
    "# Define Ys = [SumUpToN(0), SumUpToN(1), ..., SumUpToN(49)].\n",
    "Ys = [SumUpToN(x) for x in Xs]\n",
    "\n",
    "# Plot Ys vs Xs.\n",
    "plt.plot(Xs, Ys)\n",
    "\n",
    "# Add label to x-axis.\n",
    "# Mote the \";\" to avoid to have line printed (try without to check).\n",
    "plt.xlabel('N')\n",
    "plt.ylabel('Sum of intergers up to N');"
   ]
  },
  {
   "cell_type": "code",
   "execution_count": null,
   "metadata": {},
   "outputs": [],
   "source": [
    "SumUpToN()"
   ]
  },
  {
   "cell_type": "code",
   "execution_count": 19,
   "metadata": {},
   "outputs": [
    {
     "ename": "TypeError",
     "evalue": "can't multiply sequence by non-int of type 'str'",
     "output_type": "error",
     "traceback": [
      "\u001b[0;31m---------------------------------------------------------------------------\u001b[0m",
      "\u001b[0;31mTypeError\u001b[0m                                 Traceback (most recent call last)",
      "\u001b[0;32m<ipython-input-19-61b03a983f62>\u001b[0m in \u001b[0;36m<module>\u001b[0;34m\u001b[0m\n\u001b[1;32m      2\u001b[0m \u001b[0mb\u001b[0m \u001b[0;34m=\u001b[0m \u001b[0;34m''\u001b[0m\u001b[0;34m\u001b[0m\u001b[0;34m\u001b[0m\u001b[0m\n\u001b[1;32m      3\u001b[0m \u001b[0mc\u001b[0m \u001b[0;34m=\u001b[0m \u001b[0;34m'World'\u001b[0m\u001b[0;34m\u001b[0m\u001b[0;34m\u001b[0m\u001b[0m\n\u001b[0;32m----> 4\u001b[0;31m \u001b[0mprint\u001b[0m\u001b[0;34m(\u001b[0m\u001b[0ma\u001b[0m\u001b[0;34m*\u001b[0m\u001b[0mc\u001b[0m\u001b[0;34m)\u001b[0m\u001b[0;34m\u001b[0m\u001b[0;34m\u001b[0m\u001b[0m\n\u001b[0m",
      "\u001b[0;31mTypeError\u001b[0m: can't multiply sequence by non-int of type 'str'"
     ]
    }
   ],
   "source": [
    "a = 'Hello'\n",
    "b = ''\n",
    "c = 'World'\n",
    "print(a*c)"
   ]
  },
  {
   "cell_type": "code",
   "execution_count": 22,
   "metadata": {},
   "outputs": [],
   "source": [
    "l1 = ['a', 3, 2, [0,1]]\n",
    "l2 = ['hello', 'world']"
   ]
  },
  {
   "cell_type": "code",
   "execution_count": 23,
   "metadata": {},
   "outputs": [
    {
     "data": {
      "text/plain": [
       "['a', 3, 2, [0, 1], 'hello', 'world']"
      ]
     },
     "execution_count": 23,
     "metadata": {},
     "output_type": "execute_result"
    }
   ],
   "source": [
    "l1+l2"
   ]
  },
  {
   "cell_type": "code",
   "execution_count": 25,
   "metadata": {},
   "outputs": [
    {
     "name": "stdout",
     "output_type": "stream",
     "text": [
      "H\n",
      "e\n",
      "l\n",
      "l\n",
      "o\n",
      " \n",
      "W\n",
      "o\n",
      "r\n",
      "l\n",
      "d\n"
     ]
    }
   ],
   "source": [
    "for i in 'Hello World':\n",
    "    print(i)"
   ]
  },
  {
   "cell_type": "code",
   "execution_count": 26,
   "metadata": {},
   "outputs": [
    {
     "name": "stdout",
     "output_type": "stream",
     "text": [
      "HelloHelloHelloHelloHelloHelloHelloHelloHelloHello\n"
     ]
    }
   ],
   "source": [
    "print('Hello'*10)"
   ]
  },
  {
   "cell_type": "code",
   "execution_count": 28,
   "metadata": {},
   "outputs": [
    {
     "name": "stdout",
     "output_type": "stream",
     "text": [
      "a 4\n"
     ]
    }
   ],
   "source": [
    "l1 = ['a', 3, 2, [0,1]]\n",
    "print(l1[0], len(l1))"
   ]
  },
  {
   "cell_type": "code",
   "execution_count": 29,
   "metadata": {},
   "outputs": [
    {
     "data": {
      "text/plain": [
       "['Summing',\n",
       " 'two',\n",
       " 'strings',\n",
       " 'is',\n",
       " 'possible',\n",
       " '(all',\n",
       " 'other',\n",
       " 'operators',\n",
       " 'dont',\n",
       " 'work)']"
      ]
     },
     "execution_count": 29,
     "metadata": {},
     "output_type": "execute_result"
    }
   ],
   "source": [
    "sentence = \"Summing two strings is possible (all other operators dont work)\"\n",
    "sentence.split(' ')"
   ]
  },
  {
   "cell_type": "markdown",
   "metadata": {},
   "source": [
    "**Question** write a code that count and print the number of letters in each word."
   ]
  },
  {
   "cell_type": "code",
   "execution_count": 32,
   "metadata": {},
   "outputs": [
    {
     "name": "stdout",
     "output_type": "stream",
     "text": [
      "Summing --> 7\n",
      "two --> 3\n",
      "strings --> 7\n",
      "is --> 2\n",
      "possible --> 8\n",
      "(all --> 4\n",
      "other --> 5\n",
      "operators --> 9\n",
      "dont --> 4\n",
      "work) --> 5\n"
     ]
    }
   ],
   "source": [
    "for word in sentence.split(' '):\n",
    "    print(f'{word} --> {len(word)}')"
   ]
  },
  {
   "cell_type": "code",
   "execution_count": 34,
   "metadata": {},
   "outputs": [
    {
     "name": "stdout",
     "output_type": "stream",
     "text": [
      "THe number of letter in word Summing is 7\n"
     ]
    }
   ],
   "source": [
    "word = 'Summing'\n",
    "n = len(word)\n",
    "\n",
    "message = f'THe number of letter in word {word} is {n}'\n",
    "print(message)"
   ]
  },
  {
   "cell_type": "code",
   "execution_count": 35,
   "metadata": {},
   "outputs": [
    {
     "name": "stdout",
     "output_type": "stream",
     "text": [
      "False\n"
     ]
    }
   ],
   "source": [
    "l = [0, 1, 5, 8, 'Hello', [2, 3], 'number of letter']\n",
    "print('banana' in l)"
   ]
  },
  {
   "cell_type": "code",
   "execution_count": 38,
   "metadata": {},
   "outputs": [
    {
     "data": {
      "text/plain": [
       "[5, 'Hello']"
      ]
     },
     "execution_count": 38,
     "metadata": {},
     "output_type": "execute_result"
    }
   ],
   "source": [
    "# indexing\n",
    "l[2:5:2]"
   ]
  },
  {
   "cell_type": "code",
   "execution_count": 39,
   "metadata": {},
   "outputs": [
    {
     "name": "stdout",
     "output_type": "stream",
     "text": [
      "['number of letter', [2, 3], 'Hello', 8, 5, 1, 0]\n"
     ]
    }
   ],
   "source": [
    "lInversed = l[::-1]\n",
    "print(lInversed)"
   ]
  },
  {
   "cell_type": "code",
   "execution_count": 40,
   "metadata": {},
   "outputs": [
    {
     "data": {
      "text/plain": [
       "[2, 3]"
      ]
     },
     "execution_count": 40,
     "metadata": {},
     "output_type": "execute_result"
    }
   ],
   "source": [
    "l[-2]"
   ]
  },
  {
   "cell_type": "markdown",
   "metadata": {},
   "source": [
    "**Question2** take a sentence, and revert each words (letters in the opposite order) and write again the sentence.\n",
    "> example:  'two strings' -> 'owt sgnirts'"
   ]
  },
  {
   "cell_type": "code",
   "execution_count": 47,
   "metadata": {},
   "outputs": [
    {
     "name": "stdout",
     "output_type": "stream",
     "text": [
      "gnimmuS owt sgnirts si elbissop\n"
     ]
    }
   ],
   "source": [
    "sentence = 'Summing two strings is possible'\n",
    "res_list = []\n",
    "for w in sentence.split(' '):\n",
    "    res_list.append(w[::-1])\n",
    "\n",
    "res = ' '.join(res_list)\n",
    "#res = ' '\n",
    "#print(sentence)\n",
    "print(res)"
   ]
  },
  {
   "cell_type": "code",
   "execution_count": 50,
   "metadata": {},
   "outputs": [],
   "source": [
    "person = {\n",
    "    'Age'   : 35, \n",
    "    'Weight': 50, \n",
    "    'Name'  : 'Jacques',\n",
    "    'Eyes'  : 'blue',\n",
    "}"
   ]
  },
  {
   "cell_type": "code",
   "execution_count": 52,
   "metadata": {},
   "outputs": [
    {
     "data": {
      "text/plain": [
       "35"
      ]
     },
     "execution_count": 52,
     "metadata": {},
     "output_type": "execute_result"
    }
   ],
   "source": [
    "person['Age']"
   ]
  },
  {
   "cell_type": "code",
   "execution_count": 53,
   "metadata": {},
   "outputs": [
    {
     "name": "stdout",
     "output_type": "stream",
     "text": [
      "Age 35\n",
      "Weight 50\n",
      "Name Jacques\n",
      "Eyes blue\n"
     ]
    }
   ],
   "source": [
    "for k, v in person.items():\n",
    "    print(k, v)"
   ]
  },
  {
   "cell_type": "code",
   "execution_count": 54,
   "metadata": {},
   "outputs": [
    {
     "name": "stdout",
     "output_type": "stream",
     "text": [
      "True\n",
      "False\n"
     ]
    }
   ],
   "source": [
    "print('Age' in person)\n",
    "print('Height' in person)"
   ]
  },
  {
   "cell_type": "code",
   "execution_count": null,
   "metadata": {},
   "outputs": [],
   "source": []
  },
  {
   "cell_type": "code",
   "execution_count": null,
   "metadata": {},
   "outputs": [],
   "source": []
  },
  {
   "cell_type": "code",
   "execution_count": null,
   "metadata": {},
   "outputs": [],
   "source": []
  },
  {
   "cell_type": "code",
   "execution_count": 66,
   "metadata": {},
   "outputs": [],
   "source": [
    "# Data taken from kaggle: https://www.kaggle.com/jolasa/waves-measuring-buoys-data-mooloolaba\n",
    "data_csv_format = '''index,date,height,heightMax,period,energy,direction,temperature\n",
    "1,01/01/2017 00:00,-99.9,-99.9,-99.9,-99.9,-99.9,-99.9\n",
    "2,01/01/2017 00:30,0.875,1.39,4.421,4.506,-99.9,-99.9\n",
    "3,01/01/2017 01:00,0.763,1.15,4.52,5.513,49,25.65\n",
    "4,01/01/2017 01:30,0.77,1.41,4.582,5.647,75,25.5\n",
    "5,01/01/2017 02:00,0.747,1.16,4.515,5.083,91,25.45\n",
    "6,01/01/2017 02:30,0.718,1.61,4.614,6.181,68,25.45\n",
    "7,01/01/2017 03:00,0.707,1.34,4.568,4.705,73,25.5\n",
    "8,01/01/2017 03:30,0.729,1.21,4.786,4.484,63,25.5\n",
    "9,01/01/2017 04:00,0.733,1.2,4.897,5.042,68,25.5\n",
    "10,01/01/2017 04:30,0.711,1.29,5.019,8.439,66,25.5\n",
    "11,01/01/2017 05:00,0.698,1.11,4.867,4.584,64,25.55\n",
    "12,01/01/2017 05:30,0.686,1.14,4.755,5.211,56,25.55\n",
    "13,01/01/2017 06:00,0.721,1.12,4.843,5.813,67,25.5\n",
    "14,01/01/2017 06:30,0.679,1.22,4.948,4.71,81,25.45\n",
    "15,01/01/2017 07:00,0.66,1.08,5.068,5.353,90,25.45\n",
    "16,01/01/2017 07:30,0.662,1.18,5.263,7.436,67,25.4\n",
    "17,01/01/2017 08:00,0.653,1.21,5.007,6.001,90,25.45\n",
    "18,01/01/2017 08:30,0.665,1.17,4.952,6.414,90,25.55\n",
    "19,01/01/2017 09:00,0.684,1.55,5.022,6.691,88,25.6\n",
    "20,01/01/2017 09:30,0.679,1.09,4.926,6.804,88,25.65\n",
    "21,01/01/2017 10:00,0.667,1.12,4.928,6.641,122,25.75\n",
    "22,01/01/2017 10:30,0.688,1.13,4.808,5.958,91,25.7\n",
    "23,01/01/2017 11:00,0.644,0.99,4.559,6.691,92,25.9\n",
    "'''\n",
    "\n",
    "# Create csv file using these data\n",
    "f = open('wave_data.csv', 'w')\n",
    "f.write(data_csv_format)\n",
    "f.close()"
   ]
  },
  {
   "cell_type": "code",
   "execution_count": null,
   "metadata": {},
   "outputs": [],
   "source": []
  },
  {
   "cell_type": "code",
   "execution_count": 56,
   "metadata": {},
   "outputs": [],
   "source": [
    "# Text to be written (can be one line string 'my text' or multiple lines string - docstring)\n",
    "text = '''Gervaise avait attendu Lantier jusqu’à deux heures du matin. Puis,\n",
    "toute frissonnante d’être restée en camisole à l’air vif de la fenêtre,\n",
    "elle s’était assoupie, jetée en travers du lit, fiévreuse, les joues\n",
    "trempées de larmes.\n",
    "'''\n",
    "\n",
    "# Open in write mode\n",
    "f = open('test.txt', 'w')\n",
    "\n",
    "# Write string\n",
    "f.write(text)\n",
    "\n",
    "# Close\n",
    "f.close()"
   ]
  },
  {
   "cell_type": "code",
   "execution_count": 63,
   "metadata": {},
   "outputs": [],
   "source": [
    "fInput  = open('test.txt', 'r')\n",
    "fOutput = open('withoutE.txt', 'w')\n",
    "for line in fInput:\n",
    "    line = line.replace('e', '')\n",
    "    fOutput.write(line)\n",
    "\n",
    "fOutput.close()"
   ]
  },
  {
   "cell_type": "code",
   "execution_count": 65,
   "metadata": {},
   "outputs": [],
   "source": [
    "# Remove a letter from a string 'text': result = text.replace('ToBeRemoved', '')"
   ]
  },
  {
   "cell_type": "code",
   "execution_count": 73,
   "metadata": {},
   "outputs": [
    {
     "name": "stdout",
     "output_type": "stream",
     "text": [
      "0 0\n",
      "1 1\n",
      "2 5\n",
      "3 8\n",
      "4 Hello\n",
      "5 [2, 3]\n",
      "6 number of letter\n"
     ]
    }
   ],
   "source": [
    "l = [0, 1, 5, 8, 'Hello', [2, 3], 'number of letter']\n",
    "i=0\n",
    "for element in l:\n",
    "    print(i, element)\n",
    "    i=i+1"
   ]
  },
  {
   "cell_type": "code",
   "execution_count": 75,
   "metadata": {},
   "outputs": [
    {
     "name": "stdout",
     "output_type": "stream",
     "text": [
      "orange orange\n",
      "pineapple brown\n",
      "apple green\n",
      "pear yellow\n",
      "prune green\n",
      "banana yellow\n"
     ]
    }
   ],
   "source": [
    "fruits = ['orange', 'pineapple', 'apple', 'pear', 'prune', 'banana']\n",
    "colors = ['orange', 'brown', 'green', 'yellow', 'green', 'yellow']\n",
    "\n",
    "for c, f in zip(fruits, colors):\n",
    "    print(c, f)"
   ]
  },
  {
   "cell_type": "code",
   "execution_count": 82,
   "metadata": {},
   "outputs": [],
   "source": [
    "def Sum(*args):\n",
    "    r = 0\n",
    "    for a in args:\n",
    "        r += a\n",
    "    return r"
   ]
  },
  {
   "cell_type": "code",
   "execution_count": 97,
   "metadata": {},
   "outputs": [
    {
     "data": {
      "text/plain": [
       "78"
      ]
     },
     "execution_count": 97,
     "metadata": {},
     "output_type": "execute_result"
    }
   ],
   "source": [
    "numbers = [3, 4, 6, 10, 55]\n",
    "Sum(*numbers)"
   ]
  },
  {
   "cell_type": "code",
   "execution_count": 85,
   "metadata": {},
   "outputs": [
    {
     "data": {
      "text/plain": [
       "3"
      ]
     },
     "execution_count": 85,
     "metadata": {},
     "output_type": "execute_result"
    }
   ],
   "source": [
    "Sum(3)"
   ]
  },
  {
   "cell_type": "code",
   "execution_count": null,
   "metadata": {},
   "outputs": [],
   "source": []
  },
  {
   "cell_type": "code",
   "execution_count": 89,
   "metadata": {},
   "outputs": [],
   "source": [
    "def printPerson(age, weight, eye):\n",
    "    print('age', age)\n",
    "    print('weight', weight)\n",
    "    print('eye', eye)\n",
    "    return"
   ]
  },
  {
   "cell_type": "code",
   "execution_count": 88,
   "metadata": {},
   "outputs": [
    {
     "name": "stdout",
     "output_type": "stream",
     "text": [
      "age 23\n",
      "weight 50\n",
      "eye brown\n"
     ]
    }
   ],
   "source": [
    "printPerson(23, 50, 'brown')"
   ]
  },
  {
   "cell_type": "code",
   "execution_count": 93,
   "metadata": {},
   "outputs": [
    {
     "name": "stdout",
     "output_type": "stream",
     "text": [
      "age 30\n",
      "eye brown\n",
      "weight 50\n",
      "hairs blond\n"
     ]
    }
   ],
   "source": [
    "def printPerson_KW(**kwargs):\n",
    "    for k, v in kwargs.items():\n",
    "        print(k, v)\n",
    "    return\n",
    "\n",
    "printPerson_KW(age=30, eye='brown', weight=50, hairs='blond')"
   ]
  },
  {
   "cell_type": "code",
   "execution_count": 95,
   "metadata": {},
   "outputs": [
    {
     "name": "stdout",
     "output_type": "stream",
     "text": [
      "age 30\n",
      "eye brown\n",
      "weight 50\n",
      "hairs blond\n"
     ]
    }
   ],
   "source": [
    "person = {'age': 30, 'eye': 'brown', 'weight': 50, 'hairs': 'blond'}\n",
    "printPerson_KW(**person)"
   ]
  },
  {
   "cell_type": "code",
   "execution_count": 99,
   "metadata": {},
   "outputs": [],
   "source": []
  },
  {
   "cell_type": "code",
   "execution_count": 104,
   "metadata": {},
   "outputs": [
    {
     "data": {
      "image/png": "[encoded data removed]",
      "text/plain": [
       "<Figure size 432x288 with 1 Axes>"
      ]
     },
     "metadata": {
      "needs_background": "light"
     },
     "output_type": "display_data"
    }
   ],
   "source": [
    "# Define Xs = [0, 1, ... 49].\n",
    "Xs = range(50)\n",
    "Ys = [SumUpToN(x) for x in Xs]\n",
    "\n",
    "# Plot style\n",
    "style = {\n",
    "    'color': 'red',\n",
    "    'label': 'Sum(N)',\n",
    "    'markersize': 12,\n",
    "    'marker': '*',\n",
    "}\n",
    "\n",
    "# Plot Ys vs Xs.\n",
    "#plt.plot(Xs, Ys, **style)\n",
    "plt.plot(Xs, Ys, color= 'red', label='Sum(N)', markersize=12, marker='*')\n",
    "plt.xlabel('N')\n",
    "plt.ylabel('Sum of intergers up to N');"
   ]
  },
  {
   "cell_type": "code",
   "execution_count": null,
   "metadata": {},
   "outputs": [],
   "source": []
  }
 ],
 "metadata": {
  "kernelspec": {
   "display_name": "Python 3",
   "language": "python",
   "name": "python3"
  },
  "language_info": {
   "codemirror_mode": {
    "name": "ipython",
    "version": 3
   },
   "file_extension": ".py",
   "mimetype": "text/x-python",
   "name": "python",
   "nbconvert_exporter": "python",
   "pygments_lexer": "ipython3",
   "version": "3.8.5"
  }
 },
 "nbformat": 4,
 "nbformat_minor": 4
}
