{
 "cells": [
  {
   "cell_type": "markdown",
   "metadata": {},
   "source": [
    "## Exercise 1\n",
    "\n",
    "**Objective** : Create a function that do the following\n",
    "* Take 1 or 2 keyword arguments (`sentence`, and `filename`)\n",
    "* Count the number of words in `sentence`\n",
    "* Count the number of vowels ('voyelles' in French) in the whole `sentence` string\n",
    "* Give the number of letter in the shortest ang longest word in `sentence` (hint : there is a `min` and a `max` function in python)\n",
    "* For each word in `sentence`, print the first and last letter\n",
    "* If a `filename` argument is given, all the results must be written in a file (if not, just print in the notebook)\n",
    "\n",
    "Of course, you should test your function to make sure it works.\n",
    "\n",
    "You can also write a bit of documentation to explain what the function do."
   ]
  },
  {
   "cell_type": "code",
   "execution_count": 1,
   "metadata": {},
   "outputs": [],
   "source": [
    "def processSentence(**kwargs):\n",
    "    \n",
    "    if 'sentence' not in kwargs:\n",
    "        return 'No sentence given'\n",
    "    \n",
    "    # Count number of words\n",
    "    words = kwargs['sentence'].split(' ')\n",
    "    nWords = len(words)\n",
    "    \n",
    "    # Count the number of vowels\n",
    "    vowels = ['a', 'e', 'i', 'o', 'u', 'y']\n",
    "    isVowels = [1 if l in vowels else 0 for l in kwargs['sentence']]\n",
    "    nVowels = sum(isVowels)\n",
    "    \n",
    "    # Number of letters in the shortest ang longest word\n",
    "    nLetters = [len(w) for w in words]\n",
    "    nShortest, nLongest = min(nLetters), max(nLetters)\n",
    "\n",
    "    # Result\n",
    "    res  = f'Number of words : {nWords}\\n'\n",
    "    res += f'Number of vowels: {nVowels}\\n'\n",
    "    res += f'Shortest/Longest: {nShortest}/{nLongest}\\n'\n",
    "    \n",
    "    if 'filename' in kwargs:\n",
    "        f = open(kwargs['filename'], 'w')\n",
    "        f.write(res)\n",
    "        f.close()\n",
    "    else:\n",
    "        print(res)"
   ]
  },
  {
   "cell_type": "code",
   "execution_count": 2,
   "metadata": {},
   "outputs": [],
   "source": [
    "example = 'Give the number of letter in the shortest ang longest word in'\n",
    "\n",
    "job = {'sentence': example, 'filename':'processedSentence.txt'}\n",
    "processSentence(**job)"
   ]
  }
 ],
 "metadata": {
  "kernelspec": {
   "display_name": "Python 3",
   "language": "python",
   "name": "python3"
  },
  "language_info": {
   "codemirror_mode": {
    "name": "ipython",
    "version": 3
   },
   "file_extension": ".py",
   "mimetype": "text/x-python",
   "name": "python",
   "nbconvert_exporter": "python",
   "pygments_lexer": "ipython3",
   "version": "3.8.5"
  }
 },
 "nbformat": 4,
 "nbformat_minor": 5
}
