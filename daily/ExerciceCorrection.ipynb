{
 "cells": [
  {
   "cell_type": "code",
   "execution_count": 27,
   "id": "6570449f",
   "metadata": {},
   "outputs": [],
   "source": [
    "def processSentence(**kwargs):\n",
    "    \n",
    "    if 'sentence' not in kwargs:\n",
    "        return 'No sentence given'\n",
    "    \n",
    "    # Count number of words\n",
    "    words = kwargs['sentence'].split(' ')\n",
    "    nWords = len(words)\n",
    "    \n",
    "    # Count the number of vowels\n",
    "    vowels = ['a', 'e', 'i', 'o', 'u', 'y']\n",
    "    isVowels = [1 if l in vowels else 0 for l in kwargs['sentence']]\n",
    "    nVowels = sum(isVowels)\n",
    "    \n",
    "    # Number of letters in the shortest ang longest word\n",
    "    nLetters = [len(w) for w in words]\n",
    "    nShortest, nLongest = min(nLetters), max(nLetters)\n",
    "\n",
    "    # Result\n",
    "    res  = f'Number of words : {nWords}\\n'\n",
    "    res += f'Number of vowels: {nVowels}\\n'\n",
    "    res += f'Shortest/Longest: {nShortest}/{nLongest}\\n'\n",
    "    \n",
    "    if 'filename' in kwargs:\n",
    "        f = open(kwargs['filename'], 'w')\n",
    "        f.write(res)\n",
    "        f.close()\n",
    "    else:\n",
    "        print(res)"
   ]
  },
  {
   "cell_type": "code",
   "execution_count": 32,
   "id": "a055d8c4",
   "metadata": {},
   "outputs": [],
   "source": [
    "example = 'Give the number of letter in the shortest ang longest word in'\n",
    "\n",
    "job = {'sentence': example, 'filename':'processedSentence.txt'}\n",
    "processSentence(**job)"
   ]
  },
  {
   "cell_type": "code",
   "execution_count": 20,
   "id": "c1383ec1",
   "metadata": {},
   "outputs": [],
   "source": []
  },
  {
   "cell_type": "code",
   "execution_count": null,
   "id": "c97e2aa4",
   "metadata": {},
   "outputs": [],
   "source": []
  }
 ],
 "metadata": {
  "kernelspec": {
   "display_name": "Python 3",
   "language": "python",
   "name": "python3"
  },
  "language_info": {
   "codemirror_mode": {
    "name": "ipython",
    "version": 3
   },
   "file_extension": ".py",
   "mimetype": "text/x-python",
   "name": "python",
   "nbconvert_exporter": "python",
   "pygments_lexer": "ipython3",
   "version": "3.8.8"
  }
 },
 "nbformat": 4,
 "nbformat_minor": 5
}
