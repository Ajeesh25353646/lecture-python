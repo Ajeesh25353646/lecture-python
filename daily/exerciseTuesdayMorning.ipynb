{
 "cells": [
  {
   "cell_type": "markdown",
   "metadata": {},
   "source": [
    "## Exercise 1\n",
    "\n",
    "**Objective** : Create a function that do the following\n",
    "* Take 1 or 2 keyword arguments (`sentence`, and `filename`)\n",
    "* Count the number of words in `sentence`\n",
    "* Count the number of vowels ('voyelles' in French) in the whole `sentence` string\n",
    "* Give the number of letter in the shortest ang longest word in `sentence` (hint : there is a `min` and a `max` function in python)\n",
    "* For each word in `sentence`, print the first and last letter\n",
    "* If a `filename` argument is given, all the results must be written in a file (if not, just print in the notebook)\n",
    "\n",
    "Of course, you should test your function to make sure it works.\n",
    "\n",
    "You can also write a bit of documentation to explain what the function do."
   ]
  },
  {
   "cell_type": "code",
   "execution_count": null,
   "metadata": {},
   "outputs": [],
   "source": []
  }
 ],
 "metadata": {
  "kernelspec": {
   "display_name": "Python 3",
   "language": "python",
   "name": "python3"
  },
  "language_info": {
   "codemirror_mode": {
    "name": "ipython",
    "version": 3
   },
   "file_extension": ".py",
   "mimetype": "text/x-python",
   "name": "python",
   "nbconvert_exporter": "python",
   "pygments_lexer": "ipython3",
   "version": "3.6.9"
  }
 },
 "nbformat": 4,
 "nbformat_minor": 2
}
