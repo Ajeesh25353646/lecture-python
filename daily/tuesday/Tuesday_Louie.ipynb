{
 "cells": [
  {
   "cell_type": "markdown",
   "id": "2adbaee1-b137-4e26-a05c-29db4360c58c",
   "metadata": {},
   "source": [
    "# Revision on dict"
   ]
  },
  {
   "cell_type": "code",
   "execution_count": 7,
   "id": "f4650eb9-a0bf-4d27-9cbf-f11206ca36d2",
   "metadata": {},
   "outputs": [],
   "source": [
    "mydict= {'ages':[24, 45], 'name':'louie'}"
   ]
  },
  {
   "cell_type": "code",
   "execution_count": 8,
   "id": "4bf0cff8-892c-474a-b393-4e47920fcb5d",
   "metadata": {},
   "outputs": [
    {
     "name": "stdout",
     "output_type": "stream",
     "text": [
      "dict_keys(['ages', 'name'])\n"
     ]
    }
   ],
   "source": [
    "print(mydict.keys())"
   ]
  },
  {
   "cell_type": "code",
   "execution_count": 9,
   "id": "5be61be1-d35a-4a0b-9b20-d1eff7f5387c",
   "metadata": {},
   "outputs": [
    {
     "name": "stdout",
     "output_type": "stream",
     "text": [
      "dict_values([[24, 45], 'louie'])\n"
     ]
    }
   ],
   "source": [
    "print(mydict.values())"
   ]
  },
  {
   "cell_type": "code",
   "execution_count": 4,
   "id": "969f4d04-58cf-43ca-a51a-53f3d55825f7",
   "metadata": {},
   "outputs": [
    {
     "name": "stdout",
     "output_type": "stream",
     "text": [
      "age 24\n",
      "name louie\n"
     ]
    }
   ],
   "source": [
    "for key, value in mydict.items():\n",
    "    print(key, value)"
   ]
  },
  {
   "cell_type": "code",
   "execution_count": 6,
   "id": "5d8de3eb-d4f7-459e-9a46-d26841972df6",
   "metadata": {},
   "outputs": [
    {
     "name": "stdout",
     "output_type": "stream",
     "text": [
      "age 24\n",
      "name louie\n"
     ]
    }
   ],
   "source": [
    "for key in mydict.keys():\n",
    "    print(key, mydict[key])"
   ]
  },
  {
   "cell_type": "markdown",
   "id": "f91b616f-740e-4cd2-9bcd-ef2986e22deb",
   "metadata": {},
   "source": [
    "# Numpy"
   ]
  },
  {
   "cell_type": "code",
   "execution_count": 15,
   "id": "e55670a4-c4e2-43a4-b61d-721941c46a0f",
   "metadata": {},
   "outputs": [],
   "source": [
    "#list comprehension\n",
    "\n",
    "l1 = [i**2 for i in range(5)]\n",
    "l2 = [ 5, 9.4, 4.4, 8.7, 9.7]"
   ]
  },
  {
   "cell_type": "code",
   "execution_count": 16,
   "id": "d13f36c7-0290-4091-976f-93aa87cc7066",
   "metadata": {},
   "outputs": [
    {
     "name": "stdout",
     "output_type": "stream",
     "text": [
      "[0, 1, 4, 9, 16]\n",
      "[5, 9.4, 4.4, 8.7, 9.7]\n"
     ]
    }
   ],
   "source": [
    "print(l1)\n",
    "print(l2)"
   ]
  },
  {
   "cell_type": "code",
   "execution_count": 17,
   "id": "06c312e4-c0e1-4809-8831-a06377fd8280",
   "metadata": {},
   "outputs": [
    {
     "name": "stdout",
     "output_type": "stream",
     "text": [
      "[0, 1, 4, 9, 16, 5, 9.4, 4.4, 8.7, 9.7]\n"
     ]
    }
   ],
   "source": [
    "print(l1+l2)"
   ]
  },
  {
   "cell_type": "code",
   "execution_count": 18,
   "id": "7fcbcb23-7041-4d8d-8870-d5a47e9834a6",
   "metadata": {},
   "outputs": [
    {
     "name": "stdout",
     "output_type": "stream",
     "text": [
      "[0, 1, 4, 9, 16, 0, 1, 4, 9, 16, 0, 1, 4, 9, 16]\n"
     ]
    }
   ],
   "source": [
    "print(3*l1)"
   ]
  },
  {
   "cell_type": "code",
   "execution_count": 19,
   "id": "f645b6e3-bc31-4064-8649-476bc38d10b5",
   "metadata": {},
   "outputs": [],
   "source": [
    "l3 = l2*5"
   ]
  },
  {
   "cell_type": "code",
   "execution_count": 30,
   "id": "e7634882-50a9-4221-b5c4-6a89eb69e040",
   "metadata": {},
   "outputs": [
    {
     "name": "stdout",
     "output_type": "stream",
     "text": [
      "7.44000e+00\n"
     ]
    }
   ],
   "source": [
    "# calculate the mean\n",
    "mean = 0\n",
    "for element in l3:\n",
    "    mean = mean + element\n",
    "mean = mean / len(l3)\n",
    "print (f'{mean:.5e}')"
   ]
  },
  {
   "cell_type": "markdown",
   "id": "13df57f7-6342-47da-bc7d-406331fe3a7c",
   "metadata": {},
   "source": [
    "this is fine but for complex operqtions or long lists, it is slow and cumbersome. that's why we introduce NUMPY"
   ]
  },
  {
   "cell_type": "markdown",
   "id": "99db4787-be0b-4a7c-acda-0e47c9d30054",
   "metadata": {},
   "source": [
    "numpy = numerical python"
   ]
  },
  {
   "cell_type": "code",
   "execution_count": 33,
   "id": "b4b7d516-c65a-4ffc-a5c3-f730b380c6c1",
   "metadata": {},
   "outputs": [],
   "source": [
    "import numpy as np"
   ]
  },
  {
   "cell_type": "markdown",
   "id": "11e05113-4bce-4041-8d5a-f7f3b1890602",
   "metadata": {},
   "source": [
    "the most important object in numpy is the numpu array, which is a lot like a list but with extra special features which make it more performant and practical to use"
   ]
  },
  {
   "cell_type": "code",
   "execution_count": 34,
   "id": "f89c86b3-a7b5-4f42-936e-a1035d4708be",
   "metadata": {},
   "outputs": [],
   "source": [
    "a1 = np.array(l1)\n",
    "a2 = np.array(l2)"
   ]
  },
  {
   "cell_type": "code",
   "execution_count": 35,
   "id": "412c6e2d-a27f-4808-80bf-b93ac4759ce2",
   "metadata": {},
   "outputs": [
    {
     "data": {
      "text/plain": [
       "array([ 0,  1,  4,  9, 16])"
      ]
     },
     "execution_count": 35,
     "metadata": {},
     "output_type": "execute_result"
    }
   ],
   "source": [
    "a1"
   ]
  },
  {
   "cell_type": "code",
   "execution_count": 36,
   "id": "aed9eaf8-0577-4804-8f89-bb589038ee74",
   "metadata": {},
   "outputs": [
    {
     "data": {
      "text/plain": [
       "[0, 1, 4, 9, 16, 5, 9.4, 4.4, 8.7, 9.7]"
      ]
     },
     "execution_count": 36,
     "metadata": {},
     "output_type": "execute_result"
    }
   ],
   "source": [
    "l1 + l2"
   ]
  },
  {
   "cell_type": "code",
   "execution_count": 39,
   "id": "9a52bfab-876b-445d-9793-919674d6979e",
   "metadata": {},
   "outputs": [
    {
     "data": {
      "text/plain": [
       "array([ 5. , 10.4,  8.4, 17.7, 25.7])"
      ]
     },
     "execution_count": 39,
     "metadata": {},
     "output_type": "execute_result"
    }
   ],
   "source": [
    "a1 + a2 # adding arrays does the addition element by element instead of concatenating"
   ]
  },
  {
   "cell_type": "code",
   "execution_count": 40,
   "id": "cfc0bb6a-254f-4506-86d6-dd0c850380d9",
   "metadata": {},
   "outputs": [
    {
     "ename": "ValueError",
     "evalue": "operands could not be broadcast together with shapes (5,) (3,) ",
     "output_type": "error",
     "traceback": [
      "\u001b[0;31m---------------------------------------------------------------------------\u001b[0m",
      "\u001b[0;31mValueError\u001b[0m                                Traceback (most recent call last)",
      "Cell \u001b[0;32mIn[40], line 1\u001b[0m\n\u001b[0;32m----> 1\u001b[0m \u001b[43ma1\u001b[49m\u001b[43m \u001b[49m\u001b[38;5;241;43m+\u001b[39;49m\u001b[43m \u001b[49m\u001b[43mnp\u001b[49m\u001b[38;5;241;43m.\u001b[39;49m\u001b[43marray\u001b[49m\u001b[43m(\u001b[49m\u001b[43m[\u001b[49m\u001b[38;5;241;43m1\u001b[39;49m\u001b[43m,\u001b[49m\u001b[43m \u001b[49m\u001b[38;5;241;43m2\u001b[39;49m\u001b[43m,\u001b[49m\u001b[43m \u001b[49m\u001b[38;5;241;43m3\u001b[39;49m\u001b[43m]\u001b[49m\u001b[43m)\u001b[49m \u001b[38;5;66;03m# but this means that the arrays should have the same length\u001b[39;00m\n",
      "\u001b[0;31mValueError\u001b[0m: operands could not be broadcast together with shapes (5,) (3,) "
     ]
    }
   ],
   "source": [
    "a1 + np.array([1, 2, 3]) # but this means that the arrays should have the same length"
   ]
  },
  {
   "cell_type": "code",
   "execution_count": 41,
   "id": "630ab05d-468a-4f9c-ae3d-2be01c158d5d",
   "metadata": {},
   "outputs": [
    {
     "name": "stdout",
     "output_type": "stream",
     "text": [
      "[5, 10.4, 8.4, 17.7, 25.7]\n"
     ]
    }
   ],
   "source": [
    "# if we wanted to element-wise add the elements of a liwt it's much more complicated\n",
    "\n",
    "lnew = []\n",
    "for i in range (len(l1)):\n",
    "    lnew.append( l1[i] + l2[i])\n",
    "print (lnew)"
   ]
  },
  {
   "cell_type": "code",
   "execution_count": 42,
   "id": "f74ff317-a1a0-46cf-a701-ad1a9e0bbe90",
   "metadata": {},
   "outputs": [
    {
     "data": {
      "text/plain": [
       "array([ 5. , 10.4,  8.4, 17.7, 25.7])"
      ]
     },
     "execution_count": 42,
     "metadata": {},
     "output_type": "execute_result"
    }
   ],
   "source": [
    "# more painful than just\n",
    "a1 + a2"
   ]
  },
  {
   "cell_type": "code",
   "execution_count": 43,
   "id": "be0a6983-7ed6-4f93-9236-6c892ff3739f",
   "metadata": {},
   "outputs": [],
   "source": [
    "# this is called vectorization: it means the loop is implicit and you can do all operations element_wise"
   ]
  },
  {
   "cell_type": "code",
   "execution_count": 44,
   "id": "b1afdd80-6236-4f23-af53-bb038504a401",
   "metadata": {},
   "outputs": [
    {
     "data": {
      "text/plain": [
       "array([ 0.        ,  0.84147098, -0.7568025 ,  0.41211849, -0.28790332])"
      ]
     },
     "execution_count": 44,
     "metadata": {},
     "output_type": "execute_result"
    }
   ],
   "source": [
    "np.sin(a1)"
   ]
  },
  {
   "cell_type": "code",
   "execution_count": 46,
   "id": "f67c6ded-854c-4816-92bc-b60a26f55f37",
   "metadata": {},
   "outputs": [],
   "source": [
    "matrix  = [[1 , 2 , 3], [4, 5, 6] , [7, 8, 9]]"
   ]
  },
  {
   "cell_type": "code",
   "execution_count": 47,
   "id": "423f3fac-8a01-4951-bb4c-394ec6e3067e",
   "metadata": {},
   "outputs": [],
   "source": [
    "np_matrix =  np.array(matrix)"
   ]
  },
  {
   "cell_type": "code",
   "execution_count": 48,
   "id": "7024a1d6-9085-4e3a-ae12-6a99dce7096a",
   "metadata": {},
   "outputs": [
    {
     "data": {
      "text/plain": [
       "array([[1, 2, 3],\n",
       "       [4, 5, 6],\n",
       "       [7, 8, 9]])"
      ]
     },
     "execution_count": 48,
     "metadata": {},
     "output_type": "execute_result"
    }
   ],
   "source": [
    "np_matrix"
   ]
  },
  {
   "cell_type": "code",
   "execution_count": 49,
   "id": "3eb54c3d-bd36-4588-99de-72d47eff502b",
   "metadata": {},
   "outputs": [
    {
     "data": {
      "text/plain": [
       "(3, 3)"
      ]
     },
     "execution_count": 49,
     "metadata": {},
     "output_type": "execute_result"
    }
   ],
   "source": [
    "np_matrix.shape"
   ]
  },
  {
   "cell_type": "code",
   "execution_count": 61,
   "id": "fcc137ba-a462-43a6-b401-7c0441b6af72",
   "metadata": {},
   "outputs": [
    {
     "name": "stdout",
     "output_type": "stream",
     "text": [
      "[[-4.45969769 -2.41614684  2.0100075 ]\n",
      " [ 9.34635638 19.28366219 30.96017029]\n",
      " [43.75390225 57.85449997 74.08886974]] float64\n"
     ]
    }
   ],
   "source": [
    "a5 = np.cos(np_matrix) + np_matrix**2 -6\n",
    "print (a5, a5.dtype)"
   ]
  },
  {
   "cell_type": "markdown",
   "id": "3c81e565-229b-44aa-809f-2b3f2ea12252",
   "metadata": {},
   "source": [
    "we can ask an array about certain of its properties"
   ]
  },
  {
   "cell_type": "code",
   "execution_count": 53,
   "id": "31ae74fd-dfc0-47b1-9f6e-d5915f94bd4a",
   "metadata": {
    "scrolled": true
   },
   "outputs": [
    {
     "data": {
      "text/plain": [
       "dtype('float64')"
      ]
     },
     "execution_count": 53,
     "metadata": {},
     "output_type": "execute_result"
    }
   ],
   "source": [
    "np_matrix.dtype\n",
    "np.sin(np_matrix).dtype"
   ]
  },
  {
   "cell_type": "code",
   "execution_count": 54,
   "id": "909296b8-3f2a-4dfe-b45d-56e795f9529a",
   "metadata": {},
   "outputs": [
    {
     "data": {
      "text/plain": [
       "(3, 3)"
      ]
     },
     "execution_count": 54,
     "metadata": {},
     "output_type": "execute_result"
    }
   ],
   "source": [
    "np_matrix.shape"
   ]
  },
  {
   "cell_type": "code",
   "execution_count": 56,
   "id": "e8f87986-9362-46d1-af58-5dcc9012be9c",
   "metadata": {},
   "outputs": [
    {
     "data": {
      "text/plain": [
       "2"
      ]
     },
     "execution_count": 56,
     "metadata": {},
     "output_type": "execute_result"
    }
   ],
   "source": [
    "np_matrix.ndim"
   ]
  },
  {
   "cell_type": "code",
   "execution_count": 59,
   "id": "efe47f21-b52f-46b9-bd78-6cfe3f11a7c2",
   "metadata": {},
   "outputs": [
    {
     "name": "stdout",
     "output_type": "stream",
     "text": [
      "[[1 2 3]\n",
      " [4 5 6]\n",
      " [7 8 9]]\n",
      "[[1 4 7]\n",
      " [2 5 8]\n",
      " [3 6 9]]\n"
     ]
    }
   ],
   "source": [
    "print(np_matrix)\n",
    "print(np_matrix.T)"
   ]
  },
  {
   "cell_type": "code",
   "execution_count": 62,
   "id": "93f5df18-4331-45a5-b818-e9d0ca221e61",
   "metadata": {},
   "outputs": [
    {
     "name": "stdout",
     "output_type": "stream",
     "text": [
      "[[1 2 3]\n",
      " [4 5 6]\n",
      " [7 8 9]]\n"
     ]
    }
   ],
   "source": [
    "print(np_matrix)\n"
   ]
  },
  {
   "cell_type": "code",
   "execution_count": 64,
   "id": "7006cbc7-3584-4682-9da8-e39d09755462",
   "metadata": {},
   "outputs": [
    {
     "name": "stdout",
     "output_type": "stream",
     "text": [
      "[[1]\n",
      " [2]\n",
      " [3]\n",
      " [4]\n",
      " [5]\n",
      " [6]\n",
      " [7]\n",
      " [8]\n",
      " [9]]\n"
     ]
    }
   ],
   "source": [
    "print(np_matrix.reshape(9,1))"
   ]
  },
  {
   "cell_type": "code",
   "execution_count": 65,
   "id": "d2015f0f-c6c0-4dec-9868-afa1da4dcaab",
   "metadata": {},
   "outputs": [],
   "source": [
    "mat1 = np.array([[j for j in range(i, i+2)] for i in range (10)])"
   ]
  },
  {
   "cell_type": "code",
   "execution_count": 66,
   "id": "f4cf9e30-103a-4157-a516-03f14113ee49",
   "metadata": {},
   "outputs": [
    {
     "data": {
      "text/plain": [
       "array([[ 0,  1],\n",
       "       [ 1,  2],\n",
       "       [ 2,  3],\n",
       "       [ 3,  4],\n",
       "       [ 4,  5],\n",
       "       [ 5,  6],\n",
       "       [ 6,  7],\n",
       "       [ 7,  8],\n",
       "       [ 8,  9],\n",
       "       [ 9, 10]])"
      ]
     },
     "execution_count": 66,
     "metadata": {},
     "output_type": "execute_result"
    }
   ],
   "source": [
    "mat1"
   ]
  },
  {
   "cell_type": "code",
   "execution_count": 67,
   "id": "cc9a8000-ad9b-4fea-88d6-eb514e26c599",
   "metadata": {},
   "outputs": [
    {
     "data": {
      "text/plain": [
       "(10, 2)"
      ]
     },
     "execution_count": 67,
     "metadata": {},
     "output_type": "execute_result"
    }
   ],
   "source": [
    "mat1.shape"
   ]
  },
  {
   "cell_type": "code",
   "execution_count": 68,
   "id": "353968fb-81d2-4e10-8116-5c0ca405d65f",
   "metadata": {},
   "outputs": [
    {
     "data": {
      "text/plain": [
       "array([[ 0,  1,  1,  2,  2],\n",
       "       [ 3,  3,  4,  4,  5],\n",
       "       [ 5,  6,  6,  7,  7],\n",
       "       [ 8,  8,  9,  9, 10]])"
      ]
     },
     "execution_count": 68,
     "metadata": {},
     "output_type": "execute_result"
    }
   ],
   "source": [
    "mat1.reshape(4,5)"
   ]
  },
  {
   "cell_type": "code",
   "execution_count": 69,
   "id": "013cf213-9018-4aa4-bf4e-301c2c9f8255",
   "metadata": {},
   "outputs": [],
   "source": [
    "# so matrix multiplication and manipulation becomes easy with numpy\n"
   ]
  },
  {
   "cell_type": "markdown",
   "id": "958d8cf9-bcca-4da1-8b9b-71959f20db9f",
   "metadata": {},
   "source": [
    "## three properties of numpy arrays"
   ]
  },
  {
   "cell_type": "markdown",
   "id": "82d985a4-c820-4399-80c7-abf5ffe0186b",
   "metadata": {},
   "source": [
    "### vectorization"
   ]
  },
  {
   "cell_type": "code",
   "execution_count": 70,
   "id": "1e265db9-ef5c-4927-bdd2-ae3bf74b8c60",
   "metadata": {},
   "outputs": [],
   "source": [
    "a = np.random.normal(0, 1, size=100000)"
   ]
  },
  {
   "cell_type": "code",
   "execution_count": 71,
   "id": "b203974b-d870-4b6c-a1c7-316c11b84940",
   "metadata": {},
   "outputs": [
    {
     "name": "stdout",
     "output_type": "stream",
     "text": [
      "[-0.89178819  0.26301674  0.31339397 ...  0.91703123  0.78535631\n",
      " -1.09921233]\n"
     ]
    }
   ],
   "source": [
    "print(a)"
   ]
  },
  {
   "cell_type": "code",
   "execution_count": 72,
   "id": "b4baa209-e3a8-4996-880d-5bad9a5688ac",
   "metadata": {},
   "outputs": [],
   "source": [
    "# we wanr to get the list of 1/x"
   ]
  },
  {
   "cell_type": "code",
   "execution_count": 80,
   "id": "24271f39-ca95-4604-9b31-5e4a8ef244fa",
   "metadata": {},
   "outputs": [],
   "source": [
    "def explicit_loop(array):\n",
    "    result =[]\n",
    "    for element in array:\n",
    "        result.append(1/element)\n",
    "    return np.array (result)"
   ]
  },
  {
   "cell_type": "code",
   "execution_count": 83,
   "id": "8fd2f17d-9cac-4337-9297-8574fccc7ede",
   "metadata": {},
   "outputs": [
    {
     "name": "stdout",
     "output_type": "stream",
     "text": [
      "21.5 ms ± 730 μs per loop (mean ± std. dev. of 7 runs, 10 loops each)\n"
     ]
    }
   ],
   "source": [
    "%timeit explicit_loop(a)"
   ]
  },
  {
   "cell_type": "code",
   "execution_count": 86,
   "id": "b624fd48-0813-4c2a-b893-4d6eb7bdaf81",
   "metadata": {},
   "outputs": [
    {
     "name": "stdout",
     "output_type": "stream",
     "text": [
      "17.4 ms ± 55.2 μs per loop (mean ± std. dev. of 7 runs, 100 loops each)\n"
     ]
    }
   ],
   "source": [
    "#method 2: list comprehension\n",
    "%timeit a2 = np.array([1/x for x in a])"
   ]
  },
  {
   "cell_type": "code",
   "execution_count": 85,
   "id": "bf9eff54-c912-47e0-846b-7187ba5ca465",
   "metadata": {},
   "outputs": [
    {
     "data": {
      "text/plain": [
       "array([-1.12134251,  3.80203935,  3.19087182, ...,  1.0904754 ,\n",
       "        1.2733074 , -0.90974234])"
      ]
     },
     "execution_count": 85,
     "metadata": {},
     "output_type": "execute_result"
    }
   ],
   "source": [
    "a2"
   ]
  },
  {
   "cell_type": "code",
   "execution_count": 87,
   "id": "837171d8-decc-456f-9251-de834064f584",
   "metadata": {},
   "outputs": [
    {
     "name": "stdout",
     "output_type": "stream",
     "text": [
      "67.5 μs ± 677 ns per loop (mean ± std. dev. of 7 runs, 10,000 loops each)\n"
     ]
    }
   ],
   "source": [
    "# method 3 numpy array vectorization\n",
    "%timeit a3 = 1/a"
   ]
  },
  {
   "cell_type": "code",
   "execution_count": 89,
   "id": "cde4189f-1c28-4c1f-b85c-4e1b6f87d180",
   "metadata": {},
   "outputs": [
    {
     "ename": "TypeError",
     "evalue": "'int' object is not iterable",
     "output_type": "error",
     "traceback": [
      "\u001b[0;31m---------------------------------------------------------------------------\u001b[0m",
      "\u001b[0;31mTypeError\u001b[0m                                 Traceback (most recent call last)",
      "Cell \u001b[0;32mIn[89], line 1\u001b[0m\n\u001b[0;32m----> 1\u001b[0m \u001b[38;5;28;43mmax\u001b[39;49m\u001b[43m(\u001b[49m\u001b[38;5;241;43m1\u001b[39;49m\u001b[43m)\u001b[49m\n",
      "\u001b[0;31mTypeError\u001b[0m: 'int' object is not iterable"
     ]
    }
   ],
   "source": [
    "max(1)"
   ]
  },
  {
   "cell_type": "markdown",
   "id": "32f7e49a-e5e4-4b2c-99ff-3aadb15d4868",
   "metadata": {},
   "source": [
    "max(1/a)"
   ]
  },
  {
   "cell_type": "code",
   "execution_count": 92,
   "id": "af09ac45-b850-4cd8-8a73-9b51e2a341d6",
   "metadata": {},
   "outputs": [
    {
     "data": {
      "text/plain": [
       "58879"
      ]
     },
     "execution_count": 92,
     "metadata": {},
     "output_type": "execute_result"
    }
   ],
   "source": [
    "np.argmax(1/a)"
   ]
  },
  {
   "cell_type": "code",
   "execution_count": 96,
   "id": "16f8c3f5-c22b-484f-af9c-22892246f5ae",
   "metadata": {},
   "outputs": [],
   "source": [
    "vector3D =  np.random.normal(5, 2, size=(3,100000)).T"
   ]
  },
  {
   "cell_type": "code",
   "execution_count": 97,
   "id": "7cf24339-848f-4542-ae54-7db454e07c16",
   "metadata": {},
   "outputs": [
    {
     "data": {
      "text/plain": [
       "array([[4.84874471, 0.18735792, 5.82171685],\n",
       "       [8.44331152, 2.70256618, 3.32110384],\n",
       "       [3.31615364, 7.90619133, 2.8955159 ],\n",
       "       ...,\n",
       "       [3.23396472, 5.43360595, 6.62600703],\n",
       "       [9.05692913, 2.91925138, 4.44639324],\n",
       "       [4.35305087, 4.38024508, 5.2823422 ]])"
      ]
     },
     "execution_count": 97,
     "metadata": {},
     "output_type": "execute_result"
    }
   ],
   "source": [
    "vector3D"
   ]
  },
  {
   "cell_type": "code",
   "execution_count": 99,
   "id": "4e70d7b3-6ae6-41c8-8f34-e4db221fa560",
   "metadata": {},
   "outputs": [
    {
     "data": {
      "text/plain": [
       "array([[2.42437236, 0.09367896, 2.91085842],\n",
       "       [4.22165576, 1.35128309, 1.66055192],\n",
       "       [1.65807682, 3.95309567, 1.44775795],\n",
       "       ...,\n",
       "       [1.61698236, 2.71680297, 3.31300352],\n",
       "       [4.52846456, 1.45962569, 2.22319662],\n",
       "       [2.17652543, 2.19012254, 2.6411711 ]])"
      ]
     },
     "execution_count": 99,
     "metadata": {},
     "output_type": "execute_result"
    }
   ],
   "source": [
    "vector3D *0.5  # scale the vectors"
   ]
  },
  {
   "cell_type": "code",
   "execution_count": 101,
   "id": "61a882bc-6e31-4fd1-a2ef-937ec90ceed7",
   "metadata": {},
   "outputs": [
    {
     "data": {
      "text/plain": [
       "array([[ 6.34874471,  7.58735792,  5.22171685],\n",
       "       [ 9.94331152, 10.10256618,  2.72110384],\n",
       "       [ 4.81615364, 15.30619133,  2.2955159 ],\n",
       "       ...,\n",
       "       [ 4.73396472, 12.83360595,  6.02600703],\n",
       "       [10.55692913, 10.31925138,  3.84639324],\n",
       "       [ 5.85305087, 11.78024508,  4.6823422 ]])"
      ]
     },
     "execution_count": 101,
     "metadata": {},
     "output_type": "execute_result"
    }
   ],
   "source": [
    "vector3D + np.array([1.5, 7.4, -0.6]) # broadcasting"
   ]
  },
  {
   "cell_type": "code",
   "execution_count": 102,
   "id": "5eeb2dfc-d69e-4b8c-a820-c467668d48b4",
   "metadata": {},
   "outputs": [
    {
     "data": {
      "text/plain": [
       "(100000, 3)"
      ]
     },
     "execution_count": 102,
     "metadata": {},
     "output_type": "execute_result"
    }
   ],
   "source": [
    "vector3D.shape"
   ]
  },
  {
   "cell_type": "code",
   "execution_count": 103,
   "id": "75467133-2b3a-4b1d-aee5-49795070cd18",
   "metadata": {},
   "outputs": [
    {
     "data": {
      "text/plain": [
       "(3,)"
      ]
     },
     "execution_count": 103,
     "metadata": {},
     "output_type": "execute_result"
    }
   ],
   "source": [
    "np.array([1.5, 7.4, -0.6]).shape"
   ]
  },
  {
   "cell_type": "code",
   "execution_count": 104,
   "id": "97159289-20d2-4c52-9aa4-e22e5df2f4b2",
   "metadata": {},
   "outputs": [
    {
     "data": {
      "text/plain": [
       "array([[ 9.84874471,  5.18735792, 10.82171685],\n",
       "       [13.44331152,  7.70256618,  8.32110384],\n",
       "       [ 8.31615364, 12.90619133,  7.8955159 ],\n",
       "       ...,\n",
       "       [ 8.23396472, 10.43360595, 11.62600703],\n",
       "       [14.05692913,  7.91925138,  9.44639324],\n",
       "       [ 9.35305087,  9.38024508, 10.2823422 ]])"
      ]
     },
     "execution_count": 104,
     "metadata": {},
     "output_type": "execute_result"
    }
   ],
   "source": [
    "vector3D + 5"
   ]
  },
  {
   "cell_type": "code",
   "execution_count": 105,
   "id": "cce46bcc-dd0c-45be-b454-e8f3d895dc06",
   "metadata": {},
   "outputs": [
    {
     "ename": "ValueError",
     "evalue": "operands could not be broadcast together with shapes (100000,3) (2,) ",
     "output_type": "error",
     "traceback": [
      "\u001b[0;31m---------------------------------------------------------------------------\u001b[0m",
      "\u001b[0;31mValueError\u001b[0m                                Traceback (most recent call last)",
      "Cell \u001b[0;32mIn[105], line 1\u001b[0m\n\u001b[0;32m----> 1\u001b[0m \u001b[43mvector3D\u001b[49m\u001b[43m \u001b[49m\u001b[38;5;241;43m+\u001b[39;49m\u001b[43m \u001b[49m\u001b[43mnp\u001b[49m\u001b[38;5;241;43m.\u001b[39;49m\u001b[43marray\u001b[49m\u001b[43m(\u001b[49m\u001b[43m[\u001b[49m\u001b[38;5;241;43m6\u001b[39;49m\u001b[43m,\u001b[49m\u001b[43m \u001b[49m\u001b[38;5;241;43m8\u001b[39;49m\u001b[43m]\u001b[49m\u001b[43m)\u001b[49m\n",
      "\u001b[0;31mValueError\u001b[0m: operands could not be broadcast together with shapes (100000,3) (2,) "
     ]
    }
   ],
   "source": [
    "vector3D + np.array([6, 8])"
   ]
  },
  {
   "cell_type": "markdown",
   "id": "09c3d4dd-cacd-40f5-aab7-41cefb2d7166",
   "metadata": {},
   "source": [
    "### Fancy indexing"
   ]
  },
  {
   "cell_type": "code",
   "execution_count": 109,
   "id": "2f778278-2569-4759-9671-fd16cb24dd35",
   "metadata": {},
   "outputs": [],
   "source": [
    "a = np.random.normal(4,3, size =(100, 3))"
   ]
  },
  {
   "cell_type": "code",
   "execution_count": 110,
   "id": "10069bba-a093-4a56-802b-5cc504f516da",
   "metadata": {},
   "outputs": [
    {
     "data": {
      "text/plain": [
       "array([[ 5.25525173e+00,  6.67056690e+00,  8.03483133e+00],\n",
       "       [ 1.11009643e+01,  8.86528471e+00,  5.65853081e+00],\n",
       "       [ 2.83145262e+00,  4.26186176e+00,  4.75525025e+00],\n",
       "       [ 5.93997896e+00,  3.81662536e+00,  4.66978028e+00],\n",
       "       [ 5.05267974e+00,  8.75318283e+00,  6.84512896e+00],\n",
       "       [ 6.95451632e+00,  3.45545416e+00,  3.17126905e+00],\n",
       "       [ 3.48185165e+00,  1.35604950e+00,  5.31072257e+00],\n",
       "       [-4.75433213e-01,  3.56629257e+00,  4.34106747e+00],\n",
       "       [-1.00739853e+00,  1.56251296e+00,  4.69291858e+00],\n",
       "       [ 6.97430964e+00, -9.90827999e-02,  2.81160176e+00],\n",
       "       [ 5.08840751e+00,  7.09433688e+00,  8.55811481e+00],\n",
       "       [ 1.67807877e+00,  8.11448642e+00,  5.46336787e+00],\n",
       "       [ 6.99505408e+00, -3.30941517e+00,  6.05328714e+00],\n",
       "       [ 7.59164265e+00,  5.31216069e-01,  5.28111084e+00],\n",
       "       [ 7.83767718e+00,  5.07140460e-01,  5.94224638e+00],\n",
       "       [ 5.78504435e+00,  4.87721615e+00, -1.08450203e+00],\n",
       "       [ 5.73202138e+00,  6.33421120e+00,  1.27410615e-01],\n",
       "       [ 6.36057289e+00,  6.02370469e+00,  4.71535094e+00],\n",
       "       [ 1.03139438e+01,  5.51482657e+00,  6.54349598e+00],\n",
       "       [ 5.30769434e-01,  3.42643972e+00,  2.45309786e+00],\n",
       "       [ 7.72130186e-01,  5.19056687e+00,  5.91460545e+00],\n",
       "       [ 7.36484620e+00,  7.69744145e+00,  1.13768613e+00],\n",
       "       [ 5.18931977e+00, -1.24301745e+00,  1.08071157e+00],\n",
       "       [ 5.15345657e+00,  5.72466542e+00,  5.35305339e+00],\n",
       "       [ 4.09759148e+00,  3.93819449e+00,  7.54147892e+00],\n",
       "       [ 2.00644960e+00,  1.14057547e+01,  4.47606912e+00],\n",
       "       [ 3.21831000e+00,  8.57891597e+00,  5.62669958e+00],\n",
       "       [ 8.94123613e+00, -1.73936819e-01,  2.16034350e+00],\n",
       "       [ 4.08998725e+00,  1.90291569e+00,  9.77132548e-01],\n",
       "       [ 5.52442463e+00, -7.26796163e-01,  4.89579760e+00],\n",
       "       [ 5.38774570e+00, -3.81248831e-01,  5.29978333e+00],\n",
       "       [ 6.27885291e+00,  7.65081808e+00,  1.62275946e+00],\n",
       "       [-4.67510577e-01,  4.24305388e+00,  6.29928520e-01],\n",
       "       [ 5.48510884e+00,  3.08941426e+00,  2.11066601e+00],\n",
       "       [ 4.54688291e+00, -2.77501542e-01,  3.27294678e+00],\n",
       "       [ 1.80230096e+00,  2.97133318e+00,  4.03553049e+00],\n",
       "       [ 1.02056910e+00,  4.69479289e+00,  4.07695043e+00],\n",
       "       [ 1.20531394e+00,  2.21081953e+00,  3.43227690e+00],\n",
       "       [ 5.12047408e+00,  4.78294663e+00,  1.54678029e+00],\n",
       "       [-1.78625867e+00,  5.71443946e+00,  3.79180088e+00],\n",
       "       [-1.36499813e+00, -2.73465388e+00,  3.50733478e+00],\n",
       "       [ 6.79612278e+00,  4.53037128e+00,  2.08731522e+00],\n",
       "       [ 4.85261708e+00, -3.94780054e+00,  6.29613574e+00],\n",
       "       [ 5.18981418e+00,  2.64790356e+00,  1.60766011e+00],\n",
       "       [ 2.03731854e+00,  5.89213598e+00,  6.06401644e+00],\n",
       "       [ 7.84085132e+00, -4.95456863e-01,  1.17328162e+01],\n",
       "       [ 2.86660096e+00,  2.26029277e+00,  5.36489416e+00],\n",
       "       [ 5.82436176e-01, -1.02669775e+00,  7.61121181e+00],\n",
       "       [ 7.58415272e+00,  4.27600330e+00,  8.22242830e+00],\n",
       "       [ 6.92187076e+00,  8.19013758e+00,  4.66128821e+00],\n",
       "       [ 3.96509071e+00, -9.87427466e-01,  7.70291091e+00],\n",
       "       [ 1.35799789e+00,  6.09803833e+00,  2.98153292e+00],\n",
       "       [ 3.89686119e+00, -2.96482405e+00, -5.81111157e-01],\n",
       "       [ 4.91113216e+00,  6.95498180e+00,  2.31906214e+00],\n",
       "       [ 4.49272124e+00,  4.55761814e+00,  5.68782105e+00],\n",
       "       [ 5.54126121e+00,  4.20484476e+00,  4.54368057e+00],\n",
       "       [ 1.20598876e+01,  8.15207207e-02,  6.67927819e+00],\n",
       "       [ 2.00444430e+00,  3.44761871e+00, -1.23153798e+00],\n",
       "       [ 3.45193014e+00,  6.61351325e+00,  1.94166535e+00],\n",
       "       [ 3.21485763e+00,  1.28094946e+00,  9.76397008e+00],\n",
       "       [ 7.01914195e+00, -2.61439959e+00,  3.89423259e+00],\n",
       "       [ 2.92031837e-01,  1.94046819e+00,  1.04094982e+00],\n",
       "       [ 3.10226857e+00,  2.99851651e+00,  1.22154299e+01],\n",
       "       [-3.97029051e-01,  3.53051374e+00,  4.22033459e+00],\n",
       "       [ 1.51362846e+00,  3.63586024e+00,  5.44960791e+00],\n",
       "       [ 5.10595778e+00, -3.53037865e-01,  1.04398677e+00],\n",
       "       [ 2.35531638e+00,  4.87893880e+00,  4.09565215e-01],\n",
       "       [ 5.21204564e+00,  6.40270393e+00, -4.06816114e-01],\n",
       "       [ 1.02092789e+00,  1.73370365e+00,  5.00210249e+00],\n",
       "       [ 7.90933767e-01,  1.00217543e+01,  8.10455506e+00],\n",
       "       [ 7.27346758e+00,  7.30341253e+00,  5.80763653e+00],\n",
       "       [ 1.67563798e+00,  2.13694232e+00, -5.58900010e-03],\n",
       "       [ 1.36222911e+00,  5.35583768e+00,  6.85017500e+00],\n",
       "       [ 1.31878526e+00,  6.63895200e+00,  8.19352806e+00],\n",
       "       [ 5.62917769e+00,  3.90287281e+00,  1.11970345e+00],\n",
       "       [ 2.06995078e+00,  6.62631261e+00,  1.22375104e+01],\n",
       "       [ 2.29229610e-01,  5.25689307e+00,  4.27937037e+00],\n",
       "       [-4.29596483e-01,  8.70132232e+00,  3.90653986e+00],\n",
       "       [ 2.26994767e+00,  2.73421662e+00,  4.47854358e+00],\n",
       "       [ 5.50428710e+00,  9.15650423e+00,  6.07410011e-01],\n",
       "       [ 3.29207579e+00,  1.45366262e+00, -2.09051307e+00],\n",
       "       [ 3.71552487e+00,  5.30449284e+00,  5.62244458e+00],\n",
       "       [ 4.04224256e+00,  8.26897415e+00,  9.28665688e-01],\n",
       "       [ 2.56365970e+00,  6.37338423e+00,  3.44025762e+00],\n",
       "       [-2.24651816e-02,  4.97903587e+00,  2.51657333e+00],\n",
       "       [ 1.70058645e+00,  2.24844527e+00,  4.68800596e-02],\n",
       "       [-5.89173302e-01,  4.00105615e+00,  6.48163982e+00],\n",
       "       [ 5.46224467e+00,  3.27432214e+00,  5.72897106e+00],\n",
       "       [ 4.90689238e+00,  3.69281450e+00,  9.85727352e+00],\n",
       "       [ 3.10882284e+00,  7.62865722e-01,  4.18615450e+00],\n",
       "       [ 3.55995612e+00, -4.45096167e-01,  1.48813705e+00],\n",
       "       [ 5.33192894e+00,  7.17734709e+00,  3.85274391e-01],\n",
       "       [ 1.72667281e+00,  1.91709284e+00,  4.52328258e+00],\n",
       "       [ 8.54562531e-01,  4.54126002e-02,  5.65155357e+00],\n",
       "       [ 2.81805391e+00,  1.04916220e+01,  4.00958582e+00],\n",
       "       [ 3.80217571e+00,  8.15526504e+00,  2.71398955e+00],\n",
       "       [ 2.98126408e+00,  3.14979335e+00,  3.57775074e+00],\n",
       "       [ 3.13507703e+00,  6.05632672e+00,  1.48164405e+00],\n",
       "       [ 2.92173467e+00,  7.84955601e+00, -1.95380902e+00],\n",
       "       [ 4.47210792e+00, -2.16070808e+00,  6.62076599e+00]])"
      ]
     },
     "execution_count": 110,
     "metadata": {},
     "output_type": "execute_result"
    }
   ],
   "source": [
    "a"
   ]
  },
  {
   "cell_type": "code",
   "execution_count": 113,
   "id": "1f8e3665-23ca-4ac3-97b0-ed6c8051211a",
   "metadata": {},
   "outputs": [
    {
     "data": {
      "text/plain": [
       "3.4554541552374136"
      ]
     },
     "execution_count": 113,
     "metadata": {},
     "output_type": "execute_result"
    }
   ],
   "source": [
    "a[5,1]"
   ]
  },
  {
   "cell_type": "code",
   "execution_count": 114,
   "id": "5ac1d7c1-1a2f-4686-8d64-984875409d9e",
   "metadata": {},
   "outputs": [
    {
     "data": {
      "text/plain": [
       "array([ 6.6705669 ,  8.86528471,  4.26186176,  3.81662536,  8.75318283,\n",
       "        3.45545416,  1.3560495 ,  3.56629257,  1.56251296, -0.0990828 ,\n",
       "        7.09433688,  8.11448642, -3.30941517,  0.53121607,  0.50714046,\n",
       "        4.87721615,  6.3342112 ,  6.02370469,  5.51482657,  3.42643972,\n",
       "        5.19056687,  7.69744145, -1.24301745,  5.72466542,  3.93819449,\n",
       "       11.40575465,  8.57891597, -0.17393682,  1.90291569, -0.72679616,\n",
       "       -0.38124883,  7.65081808,  4.24305388,  3.08941426, -0.27750154,\n",
       "        2.97133318,  4.69479289,  2.21081953,  4.78294663,  5.71443946,\n",
       "       -2.73465388,  4.53037128, -3.94780054,  2.64790356,  5.89213598,\n",
       "       -0.49545686,  2.26029277, -1.02669775,  4.2760033 ,  8.19013758,\n",
       "       -0.98742747,  6.09803833, -2.96482405,  6.9549818 ,  4.55761814,\n",
       "        4.20484476,  0.08152072,  3.44761871,  6.61351325,  1.28094946,\n",
       "       -2.61439959,  1.94046819,  2.99851651,  3.53051374,  3.63586024,\n",
       "       -0.35303787,  4.8789388 ,  6.40270393,  1.73370365, 10.02175433,\n",
       "        7.30341253,  2.13694232,  5.35583768,  6.638952  ,  3.90287281,\n",
       "        6.62631261,  5.25689307,  8.70132232,  2.73421662,  9.15650423,\n",
       "        1.45366262,  5.30449284,  8.26897415,  6.37338423,  4.97903587,\n",
       "        2.24844527,  4.00105615,  3.27432214,  3.6928145 ,  0.76286572,\n",
       "       -0.44509617,  7.17734709,  1.91709284,  0.0454126 , 10.491622  ,\n",
       "        8.15526504,  3.14979335,  6.05632672,  7.84955601, -2.16070808])"
      ]
     },
     "execution_count": 114,
     "metadata": {},
     "output_type": "execute_result"
    }
   ],
   "source": [
    "a[:,1]"
   ]
  },
  {
   "cell_type": "code",
   "execution_count": 115,
   "id": "15fb9a4a-9f09-4202-9187-1dd032e9ec59",
   "metadata": {},
   "outputs": [],
   "source": [
    "l = [ 1, 2, 3, 8, 5 , 8, 9]"
   ]
  },
  {
   "cell_type": "code",
   "execution_count": 116,
   "id": "76dde1e7-e2f7-40b2-bd1f-cf05a240a556",
   "metadata": {},
   "outputs": [
    {
     "data": {
      "text/plain": [
       "[5, 8, 9]"
      ]
     },
     "execution_count": 116,
     "metadata": {},
     "output_type": "execute_result"
    }
   ],
   "source": [
    "l[4:7]"
   ]
  },
  {
   "cell_type": "code",
   "execution_count": 117,
   "id": "a0c7fdfc-b3e7-47a8-bb6a-ccf15e8623d6",
   "metadata": {},
   "outputs": [
    {
     "data": {
      "text/plain": [
       "[1, 2, 3, 8, 5, 8, 9]"
      ]
     },
     "execution_count": 117,
     "metadata": {},
     "output_type": "execute_result"
    }
   ],
   "source": [
    "l[:]"
   ]
  },
  {
   "cell_type": "code",
   "execution_count": 118,
   "id": "62114af7-f4b5-4af4-97a4-25bd964d2bb7",
   "metadata": {},
   "outputs": [],
   "source": [
    "ll = [ [1,2], [3, 4] , [ 5,6]]\n"
   ]
  },
  {
   "cell_type": "code",
   "execution_count": 120,
   "id": "941976dc-cd61-485b-86e1-63a30a692aca",
   "metadata": {},
   "outputs": [
    {
     "ename": "TypeError",
     "evalue": "list indices must be integers or slices, not tuple",
     "output_type": "error",
     "traceback": [
      "\u001b[0;31m---------------------------------------------------------------------------\u001b[0m",
      "\u001b[0;31mTypeError\u001b[0m                                 Traceback (most recent call last)",
      "Cell \u001b[0;32mIn[120], line 1\u001b[0m\n\u001b[0;32m----> 1\u001b[0m \u001b[43mll\u001b[49m\u001b[43m \u001b[49m\u001b[43m[\u001b[49m\u001b[43m:\u001b[49m\u001b[43m,\u001b[49m\u001b[43m \u001b[49m\u001b[38;5;241;43m1\u001b[39;49m\u001b[43m]\u001b[49m\n",
      "\u001b[0;31mTypeError\u001b[0m: list indices must be integers or slices, not tuple"
     ]
    }
   ],
   "source": [
    "ll [:, 1]"
   ]
  },
  {
   "cell_type": "code",
   "execution_count": 121,
   "id": "2afd3b07-f17e-4f36-b539-f86e1e5ad0dc",
   "metadata": {},
   "outputs": [
    {
     "data": {
      "text/plain": [
       "array([2, 4, 6])"
      ]
     },
     "execution_count": 121,
     "metadata": {},
     "output_type": "execute_result"
    }
   ],
   "source": [
    "a = np.array(ll)\n",
    "a[:, 1]"
   ]
  },
  {
   "cell_type": "code",
   "execution_count": 122,
   "id": "3fc948d9-110f-4048-b71e-834992c76e8b",
   "metadata": {},
   "outputs": [
    {
     "data": {
      "text/plain": [
       "array([[1, 2],\n",
       "       [3, 4],\n",
       "       [5, 6]])"
      ]
     },
     "execution_count": 122,
     "metadata": {},
     "output_type": "execute_result"
    }
   ],
   "source": [
    "a\n"
   ]
  },
  {
   "cell_type": "code",
   "execution_count": 125,
   "id": "88ded65d-eed7-46bc-b199-7ddd812873eb",
   "metadata": {},
   "outputs": [
    {
     "data": {
      "text/plain": [
       "array([3, 4])"
      ]
     },
     "execution_count": 125,
     "metadata": {},
     "output_type": "execute_result"
    }
   ],
   "source": [
    "a[1, :]"
   ]
  },
  {
   "cell_type": "markdown",
   "id": "fccc37ed-bc3f-40a9-8942-428e1099136c",
   "metadata": {},
   "source": [
    "### lists as indices"
   ]
  },
  {
   "cell_type": "code",
   "execution_count": 127,
   "id": "9a992520-28dd-43fd-a8e2-f5aa02097186",
   "metadata": {},
   "outputs": [],
   "source": [
    "b = np.random.normal (0, 1, size =10)"
   ]
  },
  {
   "cell_type": "code",
   "execution_count": 128,
   "id": "32a3229e-625c-4b7b-be16-dcb8e536e100",
   "metadata": {},
   "outputs": [
    {
     "data": {
      "text/plain": [
       "array([-0.25738088,  0.42271356,  1.12800684,  0.48500958, -0.99205066,\n",
       "       -0.62009779, -0.46666615,  1.2633033 , -0.24220731, -1.4580159 ])"
      ]
     },
     "execution_count": 128,
     "metadata": {},
     "output_type": "execute_result"
    }
   ],
   "source": [
    "b"
   ]
  },
  {
   "cell_type": "code",
   "execution_count": 129,
   "id": "0f72e1bb-0500-4aa2-bc67-0f213b4d1719",
   "metadata": {},
   "outputs": [
    {
     "data": {
      "text/plain": [
       "array([0.42271356, 1.12800684, 0.48500958, 1.2633033 ])"
      ]
     },
     "execution_count": 129,
     "metadata": {},
     "output_type": "execute_result"
    }
   ],
   "source": [
    "b[[1,2,3,7]]"
   ]
  },
  {
   "cell_type": "code",
   "execution_count": 130,
   "id": "46082718-453a-4fad-adcc-bf636d791f6f",
   "metadata": {},
   "outputs": [
    {
     "data": {
      "text/plain": [
       "array([1.2633033 , 0.48500958, 0.42271356, 1.12800684])"
      ]
     },
     "execution_count": 130,
     "metadata": {},
     "output_type": "execute_result"
    }
   ],
   "source": [
    "b[[7, 3, 1, 2]]"
   ]
  },
  {
   "cell_type": "markdown",
   "id": "9f7fe45e-6982-40cf-bdee-83fbaa727adc",
   "metadata": {},
   "source": [
    "### masking"
   ]
  },
  {
   "cell_type": "code",
   "execution_count": 132,
   "id": "f894b608-e754-4b1d-b8ac-1645371fa1b0",
   "metadata": {},
   "outputs": [
    {
     "data": {
      "text/plain": [
       "array([-0.25738088,  0.42271356,  1.12800684,  0.48500958, -0.99205066,\n",
       "       -0.62009779, -0.46666615,  1.2633033 , -0.24220731, -1.4580159 ])"
      ]
     },
     "execution_count": 132,
     "metadata": {},
     "output_type": "execute_result"
    }
   ],
   "source": [
    "b"
   ]
  },
  {
   "cell_type": "code",
   "execution_count": 134,
   "id": "a71129f0-65c7-4eb4-bc19-233b360f81c0",
   "metadata": {},
   "outputs": [],
   "source": [
    "mask = b  < 0"
   ]
  },
  {
   "cell_type": "code",
   "execution_count": 135,
   "id": "89567c66-570c-4566-b3c4-01b8cf526461",
   "metadata": {},
   "outputs": [
    {
     "data": {
      "text/plain": [
       "array([-0.25738088, -0.99205066, -0.62009779, -0.46666615, -0.24220731,\n",
       "       -1.4580159 ])"
      ]
     },
     "execution_count": 135,
     "metadata": {},
     "output_type": "execute_result"
    }
   ],
   "source": [
    "b[mask]"
   ]
  },
  {
   "cell_type": "code",
   "execution_count": 136,
   "id": "ca2ca755-b109-4169-950f-1a4a9623fe35",
   "metadata": {},
   "outputs": [
    {
     "data": {
      "text/plain": [
       "array([-0.25738088, -0.99205066, -0.62009779, -0.46666615, -0.24220731,\n",
       "       -1.4580159 ])"
      ]
     },
     "execution_count": 136,
     "metadata": {},
     "output_type": "execute_result"
    }
   ],
   "source": [
    "b[b <0]"
   ]
  },
  {
   "cell_type": "markdown",
   "id": "3ac51fe5-1aa2-450e-9a5d-8837eef78b27",
   "metadata": {},
   "source": [
    "# practical exercise"
   ]
  },
  {
   "cell_type": "markdown",
   "id": "13c67bc9-166d-4783-b4e1-aa6fab0a3b42",
   "metadata": {},
   "source": [
    "lets use the  \"pulse.csv\" dataset\n",
    "- a) read it into numpy arrays\n",
    "- b) calculate the standard deviation of each column  first with a loop then using vectorization"
   ]
  },
  {
   "cell_type": "code",
   "execution_count": 141,
   "id": "6be23fea-eab1-4ac9-9b4f-1b54feee692c",
   "metadata": {},
   "outputs": [],
   "source": [
    "filename= \"lecture-python-master/data/pulse.csv\""
   ]
  },
  {
   "cell_type": "code",
   "execution_count": 151,
   "id": "0d8cbb10-938c-4ce6-8938-ff92e3a018ce",
   "metadata": {},
   "outputs": [],
   "source": [
    "data=np.loadtxt(filename, skiprows=15, delimiter=',')"
   ]
  },
  {
   "cell_type": "code",
   "execution_count": 152,
   "id": "cac4029c-2599-4d46-9e8b-9c2a6998dab4",
   "metadata": {},
   "outputs": [
    {
     "data": {
      "text/plain": [
       "array([[-4.00000e-08, -4.37750e-01],\n",
       "       [-3.96000e-08, -4.37547e-01],\n",
       "       [-3.92000e-08, -4.37109e-01],\n",
       "       ...,\n",
       "       [ 1.59200e-07, -4.32016e-01],\n",
       "       [ 1.59600e-07, -4.32547e-01],\n",
       "       [ 1.60000e-07, -4.32344e-01]])"
      ]
     },
     "execution_count": 152,
     "metadata": {},
     "output_type": "execute_result"
    }
   ],
   "source": [
    "data"
   ]
  },
  {
   "cell_type": "code",
   "execution_count": 153,
   "id": "68c6f108-575b-48b9-a4b4-ad5d839a81cd",
   "metadata": {},
   "outputs": [],
   "source": [
    "time = data[:, 0]\n",
    "V = data[:, 1]"
   ]
  },
  {
   "cell_type": "code",
   "execution_count": 154,
   "id": "558f15f0-ac82-442e-b4ff-9b85c292201e",
   "metadata": {},
   "outputs": [],
   "source": [
    "dataframe = {'time': time, 'V': V}"
   ]
  },
  {
   "cell_type": "code",
   "execution_count": 156,
   "id": "f4922db9-d43a-48f7-9aa3-38515b8e4baf",
   "metadata": {},
   "outputs": [
    {
     "data": {
      "text/plain": [
       "5.785038173311103e-08"
      ]
     },
     "execution_count": 156,
     "metadata": {},
     "output_type": "execute_result"
    }
   ],
   "source": [
    "time.std()"
   ]
  },
  {
   "cell_type": "code",
   "execution_count": 157,
   "id": "954a3fcc-bb62-49b2-83bc-510653c5c11d",
   "metadata": {},
   "outputs": [
    {
     "data": {
      "text/plain": [
       "5.785038173311103e-08"
      ]
     },
     "execution_count": 157,
     "metadata": {},
     "output_type": "execute_result"
    }
   ],
   "source": [
    "np.std(time)"
   ]
  },
  {
   "cell_type": "code",
   "execution_count": 158,
   "id": "56376fca-7fef-4da5-8d7e-de51796d5232",
   "metadata": {},
   "outputs": [
    {
     "name": "stdout",
     "output_type": "stream",
     "text": [
      "6e-08 6e-08\n"
     ]
    }
   ],
   "source": [
    "mean = 0\n",
    "for i in range(len(time)):\n",
    "    mean = mean + time[i]\n",
    "mean = mean / len(time)\n",
    "print (mean, np.mean(time))\n"
   ]
  },
  {
   "cell_type": "code",
   "execution_count": 160,
   "id": "7bf36da5-027b-4a3c-99df-2f7c57c47048",
   "metadata": {},
   "outputs": [
    {
     "name": "stdout",
     "output_type": "stream",
     "text": [
      "6.000000000000001e-08 6e-08\n"
     ]
    }
   ],
   "source": [
    "mean = 0\n",
    "for t in time:\n",
    "    mean = mean + t / len (time)\n",
    "print (mean, np.mean(time))"
   ]
  },
  {
   "cell_type": "code",
   "execution_count": 162,
   "id": "28dc525b-4413-4e4a-b36a-e10d2feb020a",
   "metadata": {},
   "outputs": [
    {
     "data": {
      "text/plain": [
       "6e-08"
      ]
     },
     "execution_count": 162,
     "metadata": {},
     "output_type": "execute_result"
    }
   ],
   "source": [
    "sum(time)/len(time)"
   ]
  },
  {
   "cell_type": "code",
   "execution_count": 164,
   "id": "4a80fb72-f820-4eac-926c-dc3c3143ca36",
   "metadata": {},
   "outputs": [
    {
     "name": "stdout",
     "output_type": "stream",
     "text": [
      "5.785038173311104e-08 5.785038173311103e-08\n"
     ]
    }
   ],
   "source": [
    "std = 0\n",
    "for t in time:\n",
    "    std += (t - mean)**2 / len(time)\n",
    "std = np.sqrt(std)\n",
    "\n",
    "print(std, time.std())"
   ]
  },
  {
   "cell_type": "code",
   "execution_count": 165,
   "id": "d0454a17-3d83-4071-85ab-838f4e867272",
   "metadata": {},
   "outputs": [
    {
     "data": {
      "text/plain": [
       "1.6e-07"
      ]
     },
     "execution_count": 165,
     "metadata": {},
     "output_type": "execute_result"
    }
   ],
   "source": [
    "t"
   ]
  },
  {
   "cell_type": "code",
   "execution_count": 166,
   "id": "b282b601-a4b7-4ae0-8aaf-c32b5ee4c871",
   "metadata": {},
   "outputs": [
    {
     "name": "stdout",
     "output_type": "stream",
     "text": [
      "1.6000000000000194e-07 6e-08\n",
      "0.3526668162994492 5.785038173311103e-08\n"
     ]
    }
   ],
   "source": [
    "mean = 0\n",
    "for v in V:\n",
    "    mean = mean + t / len (time)\n",
    "print (mean, np.mean(time))\n",
    "std = 0\n",
    "for v in V:\n",
    "    std += (v - mean)**2 / len(time)\n",
    "std = np.sqrt(std)\n",
    "\n",
    "print(std, time.std())"
   ]
  },
  {
   "cell_type": "code",
   "execution_count": 175,
   "id": "c5e74b8e-1ca0-44ca-b83d-540480ccb99b",
   "metadata": {},
   "outputs": [],
   "source": [
    "def std_dev(array):\n",
    "    mean = 0\n",
    "    for t in array:\n",
    "        mean = mean + t / len (array)\n",
    "    std = 0\n",
    "    for t in array:\n",
    "        std += (t - mean)**2 / len(array)\n",
    "    std = np.sqrt(std)\n",
    " \n",
    "    return std"
   ]
  },
  {
   "cell_type": "code",
   "execution_count": 176,
   "id": "7a6287fb-a9a8-4e84-bc22-5dffcd84a7e5",
   "metadata": {},
   "outputs": [
    {
     "data": {
      "text/plain": [
       "0.20687816110734636"
      ]
     },
     "execution_count": 176,
     "metadata": {},
     "output_type": "execute_result"
    }
   ],
   "source": [
    "std_dev(V)"
   ]
  },
  {
   "cell_type": "code",
   "execution_count": 177,
   "id": "153bbede-974a-4ddc-8920-c2ca81a8f085",
   "metadata": {},
   "outputs": [
    {
     "data": {
      "text/plain": [
       "5.785038173311104e-08"
      ]
     },
     "execution_count": 177,
     "metadata": {},
     "output_type": "execute_result"
    }
   ],
   "source": [
    "std_dev(time)"
   ]
  },
  {
   "cell_type": "code",
   "execution_count": 178,
   "id": "867b4288-0367-4b8f-98bc-ed8279d9f276",
   "metadata": {},
   "outputs": [
    {
     "data": {
      "text/plain": [
       "0.9979365433859219"
      ]
     },
     "execution_count": 178,
     "metadata": {},
     "output_type": "execute_result"
    }
   ],
   "source": [
    "std_dev(np.random.normal(0,1, size=100000))"
   ]
  },
  {
   "cell_type": "code",
   "execution_count": 179,
   "id": "ec16343e-ae0a-450f-abdc-d0354a8d2660",
   "metadata": {},
   "outputs": [
    {
     "data": {
      "text/plain": [
       "2.2110831935702664"
      ]
     },
     "execution_count": 179,
     "metadata": {},
     "output_type": "execute_result"
    }
   ],
   "source": [
    "std_dev([1 , 5, 6, 8, 7,5])"
   ]
  },
  {
   "cell_type": "code",
   "execution_count": 180,
   "id": "d543576c-ca89-4362-8f9d-bf865ad4ed5b",
   "metadata": {},
   "outputs": [],
   "source": [
    "# qnother way with numpy vecorization"
   ]
  },
  {
   "cell_type": "code",
   "execution_count": 182,
   "id": "d6393e63-29a7-4d8c-9ca7-d5b001db25dc",
   "metadata": {},
   "outputs": [],
   "source": [
    "mean = np.sum(time) / len(time)\n",
    "std = (np.sum((time - mean)**2) / 2)**0.5"
   ]
  },
  {
   "cell_type": "markdown",
   "id": "a93c5f9e-feb7-4d2d-b930-e16ea5fdd45e",
   "metadata": {},
   "source": [
    "## looking at 2019 exam quaestions\n",
    "\n",
    "\n",
    " 2. a) create a new array Tns. Plot the result (1 pts)"
   ]
  },
  {
   "cell_type": "code",
   "execution_count": 183,
   "id": "0a203f3d-f1b4-42b2-ae66-8c358b02dd20",
   "metadata": {},
   "outputs": [
    {
     "data": {
      "text/plain": [
       "array([-4.000e-08, -3.960e-08, -3.920e-08, -3.880e-08, -3.840e-08,\n",
       "       -3.800e-08, -3.760e-08, -3.720e-08, -3.680e-08, -3.640e-08,\n",
       "       -3.600e-08, -3.560e-08, -3.520e-08, -3.480e-08, -3.440e-08,\n",
       "       -3.400e-08, -3.360e-08, -3.320e-08, -3.280e-08, -3.240e-08,\n",
       "       -3.200e-08, -3.160e-08, -3.120e-08, -3.080e-08, -3.040e-08,\n",
       "       -3.000e-08, -2.960e-08, -2.920e-08, -2.880e-08, -2.840e-08,\n",
       "       -2.800e-08, -2.760e-08, -2.720e-08, -2.680e-08, -2.640e-08,\n",
       "       -2.600e-08, -2.560e-08, -2.520e-08, -2.480e-08, -2.440e-08,\n",
       "       -2.400e-08, -2.360e-08, -2.320e-08, -2.280e-08, -2.240e-08,\n",
       "       -2.200e-08, -2.160e-08, -2.120e-08, -2.080e-08, -2.040e-08,\n",
       "       -2.000e-08, -1.960e-08, -1.920e-08, -1.880e-08, -1.840e-08,\n",
       "       -1.800e-08, -1.760e-08, -1.720e-08, -1.680e-08, -1.640e-08,\n",
       "       -1.600e-08, -1.560e-08, -1.520e-08, -1.480e-08, -1.440e-08,\n",
       "       -1.400e-08, -1.360e-08, -1.320e-08, -1.280e-08, -1.240e-08,\n",
       "       -1.200e-08, -1.160e-08, -1.120e-08, -1.080e-08, -1.040e-08,\n",
       "       -1.000e-08, -9.600e-09, -9.200e-09, -8.800e-09, -8.400e-09,\n",
       "       -8.000e-09, -7.600e-09, -7.200e-09, -6.800e-09, -6.400e-09,\n",
       "       -6.000e-09, -5.600e-09, -5.200e-09, -4.800e-09, -4.400e-09,\n",
       "       -4.000e-09, -3.600e-09, -3.200e-09, -2.800e-09, -2.400e-09,\n",
       "       -2.000e-09, -1.600e-09, -1.200e-09, -8.000e-10, -4.000e-10,\n",
       "       -3.100e-22,  4.000e-10,  8.000e-10,  1.200e-09,  1.600e-09,\n",
       "        2.000e-09,  2.400e-09,  2.800e-09,  3.200e-09,  3.600e-09,\n",
       "        4.000e-09,  4.400e-09,  4.800e-09,  5.200e-09,  5.600e-09,\n",
       "        6.000e-09,  6.400e-09,  6.800e-09,  7.200e-09,  7.600e-09,\n",
       "        8.000e-09,  8.400e-09,  8.800e-09,  9.200e-09,  9.600e-09,\n",
       "        1.000e-08,  1.040e-08,  1.080e-08,  1.120e-08,  1.160e-08,\n",
       "        1.200e-08,  1.240e-08,  1.280e-08,  1.320e-08,  1.360e-08,\n",
       "        1.400e-08,  1.440e-08,  1.480e-08,  1.520e-08,  1.560e-08,\n",
       "        1.600e-08,  1.640e-08,  1.680e-08,  1.720e-08,  1.760e-08,\n",
       "        1.800e-08,  1.840e-08,  1.880e-08,  1.920e-08,  1.960e-08,\n",
       "        2.000e-08,  2.040e-08,  2.080e-08,  2.120e-08,  2.160e-08,\n",
       "        2.200e-08,  2.240e-08,  2.280e-08,  2.320e-08,  2.360e-08,\n",
       "        2.400e-08,  2.440e-08,  2.480e-08,  2.520e-08,  2.560e-08,\n",
       "        2.600e-08,  2.640e-08,  2.680e-08,  2.720e-08,  2.760e-08,\n",
       "        2.800e-08,  2.840e-08,  2.880e-08,  2.920e-08,  2.960e-08,\n",
       "        3.000e-08,  3.040e-08,  3.080e-08,  3.120e-08,  3.160e-08,\n",
       "        3.200e-08,  3.240e-08,  3.280e-08,  3.320e-08,  3.360e-08,\n",
       "        3.400e-08,  3.440e-08,  3.480e-08,  3.520e-08,  3.560e-08,\n",
       "        3.600e-08,  3.640e-08,  3.680e-08,  3.720e-08,  3.760e-08,\n",
       "        3.800e-08,  3.840e-08,  3.880e-08,  3.920e-08,  3.960e-08,\n",
       "        4.000e-08,  4.040e-08,  4.080e-08,  4.120e-08,  4.160e-08,\n",
       "        4.200e-08,  4.240e-08,  4.280e-08,  4.320e-08,  4.360e-08,\n",
       "        4.400e-08,  4.440e-08,  4.480e-08,  4.520e-08,  4.560e-08,\n",
       "        4.600e-08,  4.640e-08,  4.680e-08,  4.720e-08,  4.760e-08,\n",
       "        4.800e-08,  4.840e-08,  4.880e-08,  4.920e-08,  4.960e-08,\n",
       "        5.000e-08,  5.040e-08,  5.080e-08,  5.120e-08,  5.160e-08,\n",
       "        5.200e-08,  5.240e-08,  5.280e-08,  5.320e-08,  5.360e-08,\n",
       "        5.400e-08,  5.440e-08,  5.480e-08,  5.520e-08,  5.560e-08,\n",
       "        5.600e-08,  5.640e-08,  5.680e-08,  5.720e-08,  5.760e-08,\n",
       "        5.800e-08,  5.840e-08,  5.880e-08,  5.920e-08,  5.960e-08,\n",
       "        6.000e-08,  6.040e-08,  6.080e-08,  6.120e-08,  6.160e-08,\n",
       "        6.200e-08,  6.240e-08,  6.280e-08,  6.320e-08,  6.360e-08,\n",
       "        6.400e-08,  6.440e-08,  6.480e-08,  6.520e-08,  6.560e-08,\n",
       "        6.600e-08,  6.640e-08,  6.680e-08,  6.720e-08,  6.760e-08,\n",
       "        6.800e-08,  6.840e-08,  6.880e-08,  6.920e-08,  6.960e-08,\n",
       "        7.000e-08,  7.040e-08,  7.080e-08,  7.120e-08,  7.160e-08,\n",
       "        7.200e-08,  7.240e-08,  7.280e-08,  7.320e-08,  7.360e-08,\n",
       "        7.400e-08,  7.440e-08,  7.480e-08,  7.520e-08,  7.560e-08,\n",
       "        7.600e-08,  7.640e-08,  7.680e-08,  7.720e-08,  7.760e-08,\n",
       "        7.800e-08,  7.840e-08,  7.880e-08,  7.920e-08,  7.960e-08,\n",
       "        8.000e-08,  8.040e-08,  8.080e-08,  8.120e-08,  8.160e-08,\n",
       "        8.200e-08,  8.240e-08,  8.280e-08,  8.320e-08,  8.360e-08,\n",
       "        8.400e-08,  8.440e-08,  8.480e-08,  8.520e-08,  8.560e-08,\n",
       "        8.600e-08,  8.640e-08,  8.680e-08,  8.720e-08,  8.760e-08,\n",
       "        8.800e-08,  8.840e-08,  8.880e-08,  8.920e-08,  8.960e-08,\n",
       "        9.000e-08,  9.040e-08,  9.080e-08,  9.120e-08,  9.160e-08,\n",
       "        9.200e-08,  9.240e-08,  9.280e-08,  9.320e-08,  9.360e-08,\n",
       "        9.400e-08,  9.440e-08,  9.480e-08,  9.520e-08,  9.560e-08,\n",
       "        9.600e-08,  9.640e-08,  9.680e-08,  9.720e-08,  9.760e-08,\n",
       "        9.800e-08,  9.840e-08,  9.880e-08,  9.920e-08,  9.960e-08,\n",
       "        1.000e-07,  1.004e-07,  1.008e-07,  1.012e-07,  1.016e-07,\n",
       "        1.020e-07,  1.024e-07,  1.028e-07,  1.032e-07,  1.036e-07,\n",
       "        1.040e-07,  1.044e-07,  1.048e-07,  1.052e-07,  1.056e-07,\n",
       "        1.060e-07,  1.064e-07,  1.068e-07,  1.072e-07,  1.076e-07,\n",
       "        1.080e-07,  1.084e-07,  1.088e-07,  1.092e-07,  1.096e-07,\n",
       "        1.100e-07,  1.104e-07,  1.108e-07,  1.112e-07,  1.116e-07,\n",
       "        1.120e-07,  1.124e-07,  1.128e-07,  1.132e-07,  1.136e-07,\n",
       "        1.140e-07,  1.144e-07,  1.148e-07,  1.152e-07,  1.156e-07,\n",
       "        1.160e-07,  1.164e-07,  1.168e-07,  1.172e-07,  1.176e-07,\n",
       "        1.180e-07,  1.184e-07,  1.188e-07,  1.192e-07,  1.196e-07,\n",
       "        1.200e-07,  1.204e-07,  1.208e-07,  1.212e-07,  1.216e-07,\n",
       "        1.220e-07,  1.224e-07,  1.228e-07,  1.232e-07,  1.236e-07,\n",
       "        1.240e-07,  1.244e-07,  1.248e-07,  1.252e-07,  1.256e-07,\n",
       "        1.260e-07,  1.264e-07,  1.268e-07,  1.272e-07,  1.276e-07,\n",
       "        1.280e-07,  1.284e-07,  1.288e-07,  1.292e-07,  1.296e-07,\n",
       "        1.300e-07,  1.304e-07,  1.308e-07,  1.312e-07,  1.316e-07,\n",
       "        1.320e-07,  1.324e-07,  1.328e-07,  1.332e-07,  1.336e-07,\n",
       "        1.340e-07,  1.344e-07,  1.348e-07,  1.352e-07,  1.356e-07,\n",
       "        1.360e-07,  1.364e-07,  1.368e-07,  1.372e-07,  1.376e-07,\n",
       "        1.380e-07,  1.384e-07,  1.388e-07,  1.392e-07,  1.396e-07,\n",
       "        1.400e-07,  1.404e-07,  1.408e-07,  1.412e-07,  1.416e-07,\n",
       "        1.420e-07,  1.424e-07,  1.428e-07,  1.432e-07,  1.436e-07,\n",
       "        1.440e-07,  1.444e-07,  1.448e-07,  1.452e-07,  1.456e-07,\n",
       "        1.460e-07,  1.464e-07,  1.468e-07,  1.472e-07,  1.476e-07,\n",
       "        1.480e-07,  1.484e-07,  1.488e-07,  1.492e-07,  1.496e-07,\n",
       "        1.500e-07,  1.504e-07,  1.508e-07,  1.512e-07,  1.516e-07,\n",
       "        1.520e-07,  1.524e-07,  1.528e-07,  1.532e-07,  1.536e-07,\n",
       "        1.540e-07,  1.544e-07,  1.548e-07,  1.552e-07,  1.556e-07,\n",
       "        1.560e-07,  1.564e-07,  1.568e-07,  1.572e-07,  1.576e-07,\n",
       "        1.580e-07,  1.584e-07,  1.588e-07,  1.592e-07,  1.596e-07,\n",
       "        1.600e-07])"
      ]
     },
     "execution_count": 183,
     "metadata": {},
     "output_type": "execute_result"
    }
   ],
   "source": [
    " "
   ]
  },
  {
   "cell_type": "code",
   "execution_count": 184,
   "id": "ba66d3a1-ee71-4816-9fb1-97a7504212c9",
   "metadata": {},
   "outputs": [],
   "source": [
    "data=np.loadtxt(filename, skiprows=15, delimiter=',')"
   ]
  },
  {
   "cell_type": "code",
   "execution_count": 185,
   "id": "f41fde16-87c7-4b5c-9c97-b27737ba9991",
   "metadata": {},
   "outputs": [
    {
     "data": {
      "text/plain": [
       "array([[-4.00000e-08, -4.37750e-01],\n",
       "       [-3.96000e-08, -4.37547e-01],\n",
       "       [-3.92000e-08, -4.37109e-01],\n",
       "       ...,\n",
       "       [ 1.59200e-07, -4.32016e-01],\n",
       "       [ 1.59600e-07, -4.32547e-01],\n",
       "       [ 1.60000e-07, -4.32344e-01]])"
      ]
     },
     "execution_count": 185,
     "metadata": {},
     "output_type": "execute_result"
    }
   ],
   "source": [
    "data"
   ]
  },
  {
   "cell_type": "code",
   "execution_count": 186,
   "id": "3bd6d413-9a5f-4bad-af8d-ffa5f1f5848a",
   "metadata": {},
   "outputs": [],
   "source": [
    "time = data[:, 0]"
   ]
  },
  {
   "cell_type": "code",
   "execution_count": 187,
   "id": "b22c2141-468d-4a36-99fc-e17774d064be",
   "metadata": {},
   "outputs": [],
   "source": [
    "voltage = data[:, 1]"
   ]
  },
  {
   "cell_type": "code",
   "execution_count": 188,
   "id": "c068622d-273d-4fad-b8c8-6f49cd42a946",
   "metadata": {},
   "outputs": [
    {
     "data": {
      "text/plain": [
       "501"
      ]
     },
     "execution_count": 188,
     "metadata": {},
     "output_type": "execute_result"
    }
   ],
   "source": [
    "len(time)"
   ]
  },
  {
   "cell_type": "code",
   "execution_count": 189,
   "id": "e942859b-5d25-4f9b-9d00-3a5730ba579f",
   "metadata": {},
   "outputs": [],
   "source": [
    "Tns = time * 1e9"
   ]
  },
  {
   "cell_type": "code",
   "execution_count": 190,
   "id": "504c10e5-2833-4403-87a7-b123a771cd3e",
   "metadata": {},
   "outputs": [
    {
     "data": {
      "text/plain": [
       "array([-4.000e+01, -3.960e+01, -3.920e+01, -3.880e+01, -3.840e+01,\n",
       "       -3.800e+01, -3.760e+01, -3.720e+01, -3.680e+01, -3.640e+01,\n",
       "       -3.600e+01, -3.560e+01, -3.520e+01, -3.480e+01, -3.440e+01,\n",
       "       -3.400e+01, -3.360e+01, -3.320e+01, -3.280e+01, -3.240e+01,\n",
       "       -3.200e+01, -3.160e+01, -3.120e+01, -3.080e+01, -3.040e+01,\n",
       "       -3.000e+01, -2.960e+01, -2.920e+01, -2.880e+01, -2.840e+01,\n",
       "       -2.800e+01, -2.760e+01, -2.720e+01, -2.680e+01, -2.640e+01,\n",
       "       -2.600e+01, -2.560e+01, -2.520e+01, -2.480e+01, -2.440e+01,\n",
       "       -2.400e+01, -2.360e+01, -2.320e+01, -2.280e+01, -2.240e+01,\n",
       "       -2.200e+01, -2.160e+01, -2.120e+01, -2.080e+01, -2.040e+01,\n",
       "       -2.000e+01, -1.960e+01, -1.920e+01, -1.880e+01, -1.840e+01,\n",
       "       -1.800e+01, -1.760e+01, -1.720e+01, -1.680e+01, -1.640e+01,\n",
       "       -1.600e+01, -1.560e+01, -1.520e+01, -1.480e+01, -1.440e+01,\n",
       "       -1.400e+01, -1.360e+01, -1.320e+01, -1.280e+01, -1.240e+01,\n",
       "       -1.200e+01, -1.160e+01, -1.120e+01, -1.080e+01, -1.040e+01,\n",
       "       -1.000e+01, -9.600e+00, -9.200e+00, -8.800e+00, -8.400e+00,\n",
       "       -8.000e+00, -7.600e+00, -7.200e+00, -6.800e+00, -6.400e+00,\n",
       "       -6.000e+00, -5.600e+00, -5.200e+00, -4.800e+00, -4.400e+00,\n",
       "       -4.000e+00, -3.600e+00, -3.200e+00, -2.800e+00, -2.400e+00,\n",
       "       -2.000e+00, -1.600e+00, -1.200e+00, -8.000e-01, -4.000e-01,\n",
       "       -3.100e-13,  4.000e-01,  8.000e-01,  1.200e+00,  1.600e+00,\n",
       "        2.000e+00,  2.400e+00,  2.800e+00,  3.200e+00,  3.600e+00,\n",
       "        4.000e+00,  4.400e+00,  4.800e+00,  5.200e+00,  5.600e+00,\n",
       "        6.000e+00,  6.400e+00,  6.800e+00,  7.200e+00,  7.600e+00,\n",
       "        8.000e+00,  8.400e+00,  8.800e+00,  9.200e+00,  9.600e+00,\n",
       "        1.000e+01,  1.040e+01,  1.080e+01,  1.120e+01,  1.160e+01,\n",
       "        1.200e+01,  1.240e+01,  1.280e+01,  1.320e+01,  1.360e+01,\n",
       "        1.400e+01,  1.440e+01,  1.480e+01,  1.520e+01,  1.560e+01,\n",
       "        1.600e+01,  1.640e+01,  1.680e+01,  1.720e+01,  1.760e+01,\n",
       "        1.800e+01,  1.840e+01,  1.880e+01,  1.920e+01,  1.960e+01,\n",
       "        2.000e+01,  2.040e+01,  2.080e+01,  2.120e+01,  2.160e+01,\n",
       "        2.200e+01,  2.240e+01,  2.280e+01,  2.320e+01,  2.360e+01,\n",
       "        2.400e+01,  2.440e+01,  2.480e+01,  2.520e+01,  2.560e+01,\n",
       "        2.600e+01,  2.640e+01,  2.680e+01,  2.720e+01,  2.760e+01,\n",
       "        2.800e+01,  2.840e+01,  2.880e+01,  2.920e+01,  2.960e+01,\n",
       "        3.000e+01,  3.040e+01,  3.080e+01,  3.120e+01,  3.160e+01,\n",
       "        3.200e+01,  3.240e+01,  3.280e+01,  3.320e+01,  3.360e+01,\n",
       "        3.400e+01,  3.440e+01,  3.480e+01,  3.520e+01,  3.560e+01,\n",
       "        3.600e+01,  3.640e+01,  3.680e+01,  3.720e+01,  3.760e+01,\n",
       "        3.800e+01,  3.840e+01,  3.880e+01,  3.920e+01,  3.960e+01,\n",
       "        4.000e+01,  4.040e+01,  4.080e+01,  4.120e+01,  4.160e+01,\n",
       "        4.200e+01,  4.240e+01,  4.280e+01,  4.320e+01,  4.360e+01,\n",
       "        4.400e+01,  4.440e+01,  4.480e+01,  4.520e+01,  4.560e+01,\n",
       "        4.600e+01,  4.640e+01,  4.680e+01,  4.720e+01,  4.760e+01,\n",
       "        4.800e+01,  4.840e+01,  4.880e+01,  4.920e+01,  4.960e+01,\n",
       "        5.000e+01,  5.040e+01,  5.080e+01,  5.120e+01,  5.160e+01,\n",
       "        5.200e+01,  5.240e+01,  5.280e+01,  5.320e+01,  5.360e+01,\n",
       "        5.400e+01,  5.440e+01,  5.480e+01,  5.520e+01,  5.560e+01,\n",
       "        5.600e+01,  5.640e+01,  5.680e+01,  5.720e+01,  5.760e+01,\n",
       "        5.800e+01,  5.840e+01,  5.880e+01,  5.920e+01,  5.960e+01,\n",
       "        6.000e+01,  6.040e+01,  6.080e+01,  6.120e+01,  6.160e+01,\n",
       "        6.200e+01,  6.240e+01,  6.280e+01,  6.320e+01,  6.360e+01,\n",
       "        6.400e+01,  6.440e+01,  6.480e+01,  6.520e+01,  6.560e+01,\n",
       "        6.600e+01,  6.640e+01,  6.680e+01,  6.720e+01,  6.760e+01,\n",
       "        6.800e+01,  6.840e+01,  6.880e+01,  6.920e+01,  6.960e+01,\n",
       "        7.000e+01,  7.040e+01,  7.080e+01,  7.120e+01,  7.160e+01,\n",
       "        7.200e+01,  7.240e+01,  7.280e+01,  7.320e+01,  7.360e+01,\n",
       "        7.400e+01,  7.440e+01,  7.480e+01,  7.520e+01,  7.560e+01,\n",
       "        7.600e+01,  7.640e+01,  7.680e+01,  7.720e+01,  7.760e+01,\n",
       "        7.800e+01,  7.840e+01,  7.880e+01,  7.920e+01,  7.960e+01,\n",
       "        8.000e+01,  8.040e+01,  8.080e+01,  8.120e+01,  8.160e+01,\n",
       "        8.200e+01,  8.240e+01,  8.280e+01,  8.320e+01,  8.360e+01,\n",
       "        8.400e+01,  8.440e+01,  8.480e+01,  8.520e+01,  8.560e+01,\n",
       "        8.600e+01,  8.640e+01,  8.680e+01,  8.720e+01,  8.760e+01,\n",
       "        8.800e+01,  8.840e+01,  8.880e+01,  8.920e+01,  8.960e+01,\n",
       "        9.000e+01,  9.040e+01,  9.080e+01,  9.120e+01,  9.160e+01,\n",
       "        9.200e+01,  9.240e+01,  9.280e+01,  9.320e+01,  9.360e+01,\n",
       "        9.400e+01,  9.440e+01,  9.480e+01,  9.520e+01,  9.560e+01,\n",
       "        9.600e+01,  9.640e+01,  9.680e+01,  9.720e+01,  9.760e+01,\n",
       "        9.800e+01,  9.840e+01,  9.880e+01,  9.920e+01,  9.960e+01,\n",
       "        1.000e+02,  1.004e+02,  1.008e+02,  1.012e+02,  1.016e+02,\n",
       "        1.020e+02,  1.024e+02,  1.028e+02,  1.032e+02,  1.036e+02,\n",
       "        1.040e+02,  1.044e+02,  1.048e+02,  1.052e+02,  1.056e+02,\n",
       "        1.060e+02,  1.064e+02,  1.068e+02,  1.072e+02,  1.076e+02,\n",
       "        1.080e+02,  1.084e+02,  1.088e+02,  1.092e+02,  1.096e+02,\n",
       "        1.100e+02,  1.104e+02,  1.108e+02,  1.112e+02,  1.116e+02,\n",
       "        1.120e+02,  1.124e+02,  1.128e+02,  1.132e+02,  1.136e+02,\n",
       "        1.140e+02,  1.144e+02,  1.148e+02,  1.152e+02,  1.156e+02,\n",
       "        1.160e+02,  1.164e+02,  1.168e+02,  1.172e+02,  1.176e+02,\n",
       "        1.180e+02,  1.184e+02,  1.188e+02,  1.192e+02,  1.196e+02,\n",
       "        1.200e+02,  1.204e+02,  1.208e+02,  1.212e+02,  1.216e+02,\n",
       "        1.220e+02,  1.224e+02,  1.228e+02,  1.232e+02,  1.236e+02,\n",
       "        1.240e+02,  1.244e+02,  1.248e+02,  1.252e+02,  1.256e+02,\n",
       "        1.260e+02,  1.264e+02,  1.268e+02,  1.272e+02,  1.276e+02,\n",
       "        1.280e+02,  1.284e+02,  1.288e+02,  1.292e+02,  1.296e+02,\n",
       "        1.300e+02,  1.304e+02,  1.308e+02,  1.312e+02,  1.316e+02,\n",
       "        1.320e+02,  1.324e+02,  1.328e+02,  1.332e+02,  1.336e+02,\n",
       "        1.340e+02,  1.344e+02,  1.348e+02,  1.352e+02,  1.356e+02,\n",
       "        1.360e+02,  1.364e+02,  1.368e+02,  1.372e+02,  1.376e+02,\n",
       "        1.380e+02,  1.384e+02,  1.388e+02,  1.392e+02,  1.396e+02,\n",
       "        1.400e+02,  1.404e+02,  1.408e+02,  1.412e+02,  1.416e+02,\n",
       "        1.420e+02,  1.424e+02,  1.428e+02,  1.432e+02,  1.436e+02,\n",
       "        1.440e+02,  1.444e+02,  1.448e+02,  1.452e+02,  1.456e+02,\n",
       "        1.460e+02,  1.464e+02,  1.468e+02,  1.472e+02,  1.476e+02,\n",
       "        1.480e+02,  1.484e+02,  1.488e+02,  1.492e+02,  1.496e+02,\n",
       "        1.500e+02,  1.504e+02,  1.508e+02,  1.512e+02,  1.516e+02,\n",
       "        1.520e+02,  1.524e+02,  1.528e+02,  1.532e+02,  1.536e+02,\n",
       "        1.540e+02,  1.544e+02,  1.548e+02,  1.552e+02,  1.556e+02,\n",
       "        1.560e+02,  1.564e+02,  1.568e+02,  1.572e+02,  1.576e+02,\n",
       "        1.580e+02,  1.584e+02,  1.588e+02,  1.592e+02,  1.596e+02,\n",
       "        1.600e+02])"
      ]
     },
     "execution_count": 190,
     "metadata": {},
     "output_type": "execute_result"
    }
   ],
   "source": [
    "Tns"
   ]
  },
  {
   "cell_type": "code",
   "execution_count": 191,
   "id": "ea4fdf1e-5a68-4f9f-bb60-cc950b843056",
   "metadata": {},
   "outputs": [],
   "source": [
    "import matplotlib.pyplot as plt\n"
   ]
  },
  {
   "cell_type": "code",
   "execution_count": 193,
   "id": "04a1b988-16f2-42fa-a3be-33a6400f7b19",
   "metadata": {},
   "outputs": [
    {
     "data": {
      "text/plain": [
       "[<matplotlib.lines.Line2D at 0x7f404eaba080>]"
      ]
     },
     "execution_count": 193,
     "metadata": {},
     "output_type": "execute_result"
    },
    {
     "data": {
      "image/png": "[encoded data removed]",
      "text/plain": [
       "<Figure size 640x480 with 1 Axes>"
      ]
     },
     "metadata": {},
     "output_type": "display_data"
    }
   ],
   "source": [
    "plt.plot(Tns, voltage)"
   ]
  },
  {
   "cell_type": "code",
   "execution_count": 195,
   "id": "9a5c5f4f-2106-46d9-afcb-44ca311dfdc9",
   "metadata": {},
   "outputs": [],
   "source": [
    "mask = Tns < 0"
   ]
  },
  {
   "cell_type": "code",
   "execution_count": 197,
   "id": "ef3b2ab6-3597-40af-95f4-42ce1745862e",
   "metadata": {},
   "outputs": [
    {
     "data": {
      "text/plain": [
       "array([-0.43775 , -0.437547, -0.437109, -0.437016, -0.436938, -0.436781,\n",
       "       -0.436422, -0.437   , -0.43775 , -0.439312, -0.439891, -0.440297,\n",
       "       -0.440359, -0.440531, -0.440781, -0.440516, -0.441047, -0.4415  ,\n",
       "       -0.441891, -0.442063, -0.442328, -0.441641, -0.441469, -0.441297,\n",
       "       -0.44025 , -0.440297, -0.440344, -0.440812, -0.441922, -0.442359,\n",
       "       -0.442266, -0.442203, -0.441938, -0.44125 , -0.440906, -0.441125,\n",
       "       -0.441281, -0.441016, -0.440781, -0.439484, -0.43875 , -0.438328,\n",
       "       -0.438563, -0.438328, -0.438641, -0.438594, -0.438672, -0.438563,\n",
       "       -0.437906, -0.437625, -0.438406, -0.438641, -0.438781, -0.439203,\n",
       "       -0.439   , -0.439016, -0.438406, -0.438656, -0.438656, -0.438125,\n",
       "       -0.437156, -0.436891, -0.436734, -0.437141, -0.437484, -0.437891,\n",
       "       -0.437516, -0.437234, -0.437219, -0.437078, -0.437906, -0.439234,\n",
       "       -0.439641, -0.440203, -0.440547, -0.441156, -0.441078, -0.440594,\n",
       "       -0.441453, -0.441984, -0.441938, -0.442016, -0.442859, -0.443406,\n",
       "       -0.44325 , -0.442422, -0.441594, -0.439875, -0.437125, -0.433688,\n",
       "       -0.429016, -0.423547, -0.415297, -0.405016, -0.394   , -0.381547,\n",
       "       -0.367828, -0.353469, -0.338844, -0.323813, -0.306563])"
      ]
     },
     "execution_count": 197,
     "metadata": {},
     "output_type": "execute_result"
    }
   ],
   "source": [
    "voltage[mask]"
   ]
  },
  {
   "cell_type": "code",
   "execution_count": 200,
   "id": "8267a8c4-c284-4a97-a1fc-d64b10cc4b71",
   "metadata": {},
   "outputs": [],
   "source": [
    "pedestal = voltage[Tns < 0].mean()"
   ]
  },
  {
   "cell_type": "code",
   "execution_count": 201,
   "id": "0359cb9a-e691-4952-8f06-f6a509db24ed",
   "metadata": {},
   "outputs": [
    {
     "data": {
      "text/plain": [
       "-0.4326889405940594"
      ]
     },
     "execution_count": 201,
     "metadata": {},
     "output_type": "execute_result"
    }
   ],
   "source": [
    "pedestal"
   ]
  },
  {
   "cell_type": "code",
   "execution_count": 202,
   "id": "ef423b3b-8a8a-4064-a67e-c0bcbb804fb5",
   "metadata": {},
   "outputs": [],
   "source": [
    "Vnorm = voltage - pedestal"
   ]
  },
  {
   "cell_type": "code",
   "execution_count": 204,
   "id": "a52de96f-8b09-4259-a886-094cf2ca8766",
   "metadata": {},
   "outputs": [
    {
     "data": {
      "text/plain": [
       "[<matplotlib.lines.Line2D at 0x7f404e98b040>]"
      ]
     },
     "execution_count": 204,
     "metadata": {},
     "output_type": "execute_result"
    },
    {
     "data": {
      "image/png": "[encoded data removed]",
      "text/plain": [
       "<Figure size 640x480 with 1 Axes>"
      ]
     },
     "metadata": {},
     "output_type": "display_data"
    }
   ],
   "source": [
    "plt.plot(Tns, Vnorm)"
   ]
  },
  {
   "cell_type": "code",
   "execution_count": null,
   "id": "cf5c20ba-cea3-4b2f-9d4a-aca5ecf8d282",
   "metadata": {},
   "outputs": [],
   "source": []
  }
 ],
 "metadata": {
  "kernelspec": {
   "display_name": "Python 3 (ipykernel)",
   "language": "python",
   "name": "python3"
  },
  "language_info": {
   "codemirror_mode": {
    "name": "ipython",
    "version": 3
   },
   "file_extension": ".py",
   "mimetype": "text/x-python",
   "name": "python",
   "nbconvert_exporter": "python",
   "pygments_lexer": "ipython3",
   "version": "3.10.14"
  }
 },
 "nbformat": 4,
 "nbformat_minor": 5
}
