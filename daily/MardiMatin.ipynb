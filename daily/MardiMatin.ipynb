{
 "cells": [
  {
   "cell_type": "code",
   "execution_count": 1,
   "metadata": {},
   "outputs": [],
   "source": [
    "def f(a):\n",
    "    res = a*3\n",
    "    return res"
   ]
  },
  {
   "cell_type": "code",
   "execution_count": 2,
   "metadata": {},
   "outputs": [
    {
     "data": {
      "text/plain": [
       "30"
      ]
     },
     "execution_count": 2,
     "metadata": {},
     "output_type": "execute_result"
    }
   ],
   "source": [
    "f(10)"
   ]
  },
  {
   "cell_type": "code",
   "execution_count": 3,
   "metadata": {},
   "outputs": [
    {
     "data": {
      "text/plain": [
       "'ouhouhouh'"
      ]
     },
     "execution_count": 3,
     "metadata": {},
     "output_type": "execute_result"
    }
   ],
   "source": [
    "f('ouh')"
   ]
  },
  {
   "cell_type": "code",
   "execution_count": 4,
   "metadata": {},
   "outputs": [],
   "source": [
    "def f2(*args):\n",
    "    for a in args:\n",
    "        print(a)\n",
    "    return"
   ]
  },
  {
   "cell_type": "code",
   "execution_count": 5,
   "metadata": {},
   "outputs": [],
   "source": [
    "f2()"
   ]
  },
  {
   "cell_type": "code",
   "execution_count": 6,
   "metadata": {},
   "outputs": [
    {
     "name": "stdout",
     "output_type": "stream",
     "text": [
      "2\n"
     ]
    }
   ],
   "source": [
    "f2(2)"
   ]
  },
  {
   "cell_type": "code",
   "execution_count": 7,
   "metadata": {},
   "outputs": [
    {
     "name": "stdout",
     "output_type": "stream",
     "text": [
      "1\n",
      "2\n",
      "ouhou\n",
      "[3, 4, 'hou2']\n",
      "{'G': 2, 'H': 12}\n"
     ]
    }
   ],
   "source": [
    "f2(1, 2, 'ouhou', [3, 4, 'hou2'], {'G': 2, 'H': 12})"
   ]
  },
  {
   "cell_type": "code",
   "execution_count": 8,
   "metadata": {},
   "outputs": [
    {
     "name": "stdout",
     "output_type": "stream",
     "text": [
      "1 2 3 4\n"
     ]
    }
   ],
   "source": [
    "lst = [1, 2, 3, 4]\n",
    "print(*lst)"
   ]
  },
  {
   "cell_type": "code",
   "execution_count": 9,
   "metadata": {},
   "outputs": [],
   "source": [
    "import matplotlib.pyplot as plt"
   ]
  },
  {
   "cell_type": "code",
   "execution_count": 10,
   "metadata": {},
   "outputs": [
    {
     "data": {
      "text/plain": [
       "[]"
      ]
     },
     "execution_count": 10,
     "metadata": {},
     "output_type": "execute_result"
    },
    {
     "data": {
      "image/png": "[encoded data removed]",
      "text/plain": [
       "<Figure size 432x288 with 1 Axes>"
      ]
     },
     "metadata": {
      "needs_background": "light"
     },
     "output_type": "display_data"
    }
   ],
   "source": [
    "plt.plot()"
   ]
  },
  {
   "cell_type": "code",
   "execution_count": 11,
   "metadata": {},
   "outputs": [],
   "source": [
    "# Text to be written (can be one line string 'my text' or multiple lines string - docstring)\n",
    "text = '''Gervaise avait attendu Lantier jusqu’à deux heures du matin. Puis,\n",
    "toute frissonnante d’être restée en camisole à l’air vif de la fenêtre,\n",
    "elle s’était assoupie, jetée en travers du lit, fiévreuse, les joues\n",
    "trempées de larmes.\n",
    "'''"
   ]
  },
  {
   "cell_type": "code",
   "execution_count": 12,
   "metadata": {},
   "outputs": [],
   "source": [
    "# Open in write mode\n",
    "f = open('test.txt', 'w')\n",
    "\n",
    "# Write string\n",
    "f.write(text)\n",
    "\n",
    "# Close\n",
    "f.close()"
   ]
  },
  {
   "cell_type": "code",
   "execution_count": 13,
   "metadata": {},
   "outputs": [],
   "source": [
    "def SumNpint(N, p):\n",
    "    \n",
    "    # Initialization\n",
    "    Sum = 0\n",
    "    \n",
    "    # Loop and sum\n",
    "    for i in range(N):\n",
    "        Sum = Sum + i**p\n",
    "    \n",
    "    # Return the result\n",
    "    return Sum"
   ]
  },
  {
   "cell_type": "code",
   "execution_count": 14,
   "metadata": {},
   "outputs": [],
   "source": [
    "# Open file in writting mode\n",
    "f = open('SumIntegers.txt', 'w')\n",
    "\n",
    "# Write data\n",
    "for n in range(0, 100):\n",
    "    data_str = '{}: {}\\n'.format(n, SumNpint(n, 2))\n",
    "    f.write(data_str)\n",
    "    \n",
    "# Close the file\n",
    "f.close()"
   ]
  },
  {
   "cell_type": "code",
   "execution_count": 15,
   "metadata": {
    "scrolled": false
   },
   "outputs": [
    {
     "data": {
      "image/png": "[encoded data removed]",
      "text/plain": [
       "<Figure size 432x288 with 1 Axes>"
      ]
     },
     "metadata": {
      "needs_background": "light"
     },
     "output_type": "display_data"
    }
   ],
   "source": [
    "# Open a file in reading mode \n",
    "f = open('SumIntegers.txt', 'r')\n",
    "\n",
    "# Loop over the lines\n",
    "x, y = [], []\n",
    "for line in f:\n",
    "    line = line.strip()\n",
    "    data_str = line.split(': ')\n",
    "    data = [float(d) for d in data_str]\n",
    "    x.append(data[0])\n",
    "    y.append(data[1])\n",
    "f.close()\n",
    "\n",
    "# Plot the data\n",
    "plt.plot(x, y);"
   ]
  },
  {
   "cell_type": "markdown",
   "metadata": {},
   "source": [
    "## Session pratique"
   ]
  },
  {
   "cell_type": "markdown",
   "metadata": {},
   "source": [
    "1. Calculer le nombre de lettres de chaque mot dans une phrase de votre choix. Imprimer le resultat sous la forme\n",
    "`mot: n`."
   ]
  },
  {
   "cell_type": "code",
   "execution_count": 1,
   "metadata": {},
   "outputs": [
    {
     "name": "stdout",
     "output_type": "stream",
     "text": [
      "Avec les tests de personnalité, apprenez à déterminer les principaux traits de votre caractère et de votre sens relationnel. Les tests sont un format largement utilisé par les psys, et même les recruteurs dans le cadre d’entretiens d’embauche.\n"
     ]
    }
   ],
   "source": [
    "sentence = 'Avec les tests de personnalité, apprenez à déterminer les principaux traits de votre caractère et de votre sens relationnel. Les tests sont un format largement utilisé par les psys, et même les recruteurs dans le cadre d’entretiens d’embauche.'\n",
    "print(sentence)"
   ]
  },
  {
   "cell_type": "code",
   "execution_count": 4,
   "metadata": {},
   "outputs": [
    {
     "name": "stdout",
     "output_type": "stream",
     "text": [
      "Avec: 4\n",
      "les: 3\n",
      "tests: 5\n",
      "de: 2\n",
      "personnalité,: 13\n",
      "apprenez: 8\n",
      "à: 1\n",
      "déterminer: 10\n",
      "les: 3\n",
      "principaux: 10\n",
      "traits: 6\n",
      "de: 2\n",
      "votre: 5\n",
      "caractère: 9\n",
      "et: 2\n",
      "de: 2\n",
      "votre: 5\n",
      "sens: 4\n",
      "relationnel.: 12\n",
      "Les: 3\n",
      "tests: 5\n",
      "sont: 4\n",
      "un: 2\n",
      "format: 6\n",
      "largement: 9\n",
      "utilisé: 7\n",
      "par: 3\n",
      "les: 3\n",
      "psys,: 5\n",
      "et: 2\n",
      "même: 4\n",
      "les: 3\n",
      "recruteurs: 10\n",
      "dans: 4\n",
      "le: 2\n",
      "cadre: 5\n",
      "d’entretiens: 12\n",
      "d’embauche.: 11\n"
     ]
    }
   ],
   "source": [
    "wordsList = sentence.split(' ')\n",
    "for w in wordsList:\n",
    "    print('{}: {}'.format(w, len(w)))"
   ]
  },
  {
   "cell_type": "markdown",
   "metadata": {},
   "source": [
    "2. Creer une liste qui contient un mot sur deux."
   ]
  },
  {
   "cell_type": "code",
   "execution_count": 7,
   "metadata": {},
   "outputs": [
    {
     "name": "stdout",
     "output_type": "stream",
     "text": [
      "['Avec', 'tests', 'personnalité,', 'à', 'les', 'traits', 'votre', 'et', 'votre', 'relationnel.', 'tests', 'un', 'largement', 'par', 'psys,', 'même', 'recruteurs', 'le', 'd’entretiens']\n",
      "['d’embauche.', 'd’entretiens', 'cadre', 'le', 'dans', 'recruteurs', 'les', 'même', 'et', 'psys,', 'les', 'par', 'utilisé', 'largement', 'format', 'un', 'sont', 'tests', 'Les', 'relationnel.', 'sens', 'votre', 'de', 'et', 'caractère', 'votre', 'de', 'traits', 'principaux', 'les', 'déterminer', 'à', 'apprenez', 'personnalité,', 'de', 'tests', 'les', 'Avec']\n"
     ]
    }
   ],
   "source": [
    "subList = wordsList[::2]\n",
    "print(subList)\n",
    "\n",
    "reversedList = wordsList[::-1]\n",
    "print(reversedList)"
   ]
  },
  {
   "cell_type": "markdown",
   "metadata": {},
   "source": [
    "3. Calculer la moyenne et l'écart type du nombre de lettres, sur tous les mots. Precisez combien de mots sont dans la phrase."
   ]
  },
  {
   "cell_type": "code",
   "execution_count": 14,
   "metadata": {},
   "outputs": [
    {
     "name": "stdout",
     "output_type": "stream",
     "text": [
      "5.421052631578949 3.3295454008283603\n"
     ]
    }
   ],
   "source": [
    "mean = 0\n",
    "for w in wordsList:\n",
    "    mean = mean + len(w) / len(wordsList)\n",
    "\n",
    "std2 = 0\n",
    "for w in wordsList:\n",
    "    std2 = std2 + (len(w) - mean)**2 / len(wordsList)\n",
    "std = std2**0.5\n",
    "\n",
    "print(mean, std)"
   ]
  },
  {
   "cell_type": "markdown",
   "metadata": {},
   "source": [
    "4. Choisir un texte plus long, de plusieurs phrases, comme par exemple ici:\n",
    "https://github.com/rmadar/lecture-python/blob/master/data/LAssommoir_fr.txt\n",
    "et calculer:\n",
    " + le nombre de phrases\n",
    " + le nombre de mots par phrase, et sa valeur moyenne\n",
    " + le nombre de lettres par mots, et sa valeur moyenne\n",
    " \n",
    "**Indication:** lire les instruction du notebook https://github.com/rmadar/lecture-python/blob/master/exercises/2019/TextAnalysis.ipynb"
   ]
  },
  {
   "cell_type": "markdown",
   "metadata": {},
   "source": [
    "5. Refaire le meme exercice avec le meme texte dans d'autres langues."
   ]
  },
  {
   "cell_type": "code",
   "execution_count": null,
   "metadata": {},
   "outputs": [],
   "source": []
  }
 ],
 "metadata": {
  "kernelspec": {
   "display_name": "Python 3",
   "language": "python",
   "name": "python3"
  },
  "language_info": {
   "codemirror_mode": {
    "name": "ipython",
    "version": 3
   },
   "file_extension": ".py",
   "mimetype": "text/x-python",
   "name": "python",
   "nbconvert_exporter": "python",
   "pygments_lexer": "ipython3",
   "version": "3.8.5"
  }
 },
 "nbformat": 4,
 "nbformat_minor": 4
}
