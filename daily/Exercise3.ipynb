{
 "cells": [
  {
   "cell_type": "markdown",
   "metadata": {},
   "source": [
    "## Exercise 3\n",
    "You will study some data related to the usage of a car.  \n",
    "The dataset is located available with the lecture (`data/CarData.csv` in the main directory of the course).\n",
    "\n",
    "#### Step 1\n",
    "Open the file and load it in a DataFrame (with pandas).  \n",
    "List all the variables, their type and some basic information about them (min, mean, std, max, ...).\n",
    "\n",
    "#### Step 2\n",
    "Do the histograms and scatter plots of all the float type vaiables.  \n",
    "What can you conclude about how they are distributed and related ?  \n",
    "Hint : Don't hesitate to 'zoom in' to better see the denser parts\n",
    "\n",
    "#### Step 3\n",
    "Lets focus on the variables related to the time of travel (hour, day and week).  \n",
    "How are the travels distributed in time ?\n",
    "\n",
    "#### Step 4\n",
    "Fit the duration VS distance using scipy.  \n",
    "You can split the distance range in two and fit them sepparatetly.\n",
    "Hint : I recommend to use polynomial functions of different degree for the fit.\n",
    "#### Step 5 (optional)\n",
    "Use any tool from scipy to measure the goodness of fit (something like khi2)."
   ]
  },
  {
   "cell_type": "code",
   "execution_count": null,
   "metadata": {},
   "outputs": [],
   "source": []
  }
 ],
 "metadata": {
  "kernelspec": {
   "display_name": "Python 3",
   "language": "python",
   "name": "python3"
  },
  "language_info": {
   "codemirror_mode": {
    "name": "ipython",
    "version": 3
   },
   "file_extension": ".py",
   "mimetype": "text/x-python",
   "name": "python",
   "nbconvert_exporter": "python",
   "pygments_lexer": "ipython3",
   "version": "3.6.9"
  }
 },
 "nbformat": 4,
 "nbformat_minor": 2
}
