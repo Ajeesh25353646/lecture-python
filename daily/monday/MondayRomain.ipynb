{
 "cells": [
  {
   "cell_type": "code",
   "execution_count": 3,
   "id": "2a93eb1e",
   "metadata": {},
   "outputs": [
    {
     "name": "stdout",
     "output_type": "stream",
     "text": [
      "7\n"
     ]
    }
   ],
   "source": [
    "a=3\n",
    "b=4\n",
    "print(a+b)"
   ]
  },
  {
   "cell_type": "markdown",
   "id": "0ba59d8b",
   "metadata": {},
   "source": [
    "This a text\n",
    "\n",
    "# Section\n",
    "\n",
    "## Sub-section\n",
    "\n",
    "+ normal\n",
    "+ **bold**\n",
    "+ *italic*\n",
    "+ [ent link](https://ent.uca.fr/moodle/course/view.php?id=26834#section-0)\n",
    "\n",
    "$$\n",
    "\\int^{1}_0 f(x)dx = 2.0 \n",
    "$$"
   ]
  },
  {
   "cell_type": "code",
   "execution_count": 4,
   "id": "f067fd30",
   "metadata": {},
   "outputs": [
    {
     "name": "stdout",
     "output_type": "stream",
     "text": [
      "5\n"
     ]
    }
   ],
   "source": [
    "## CODE 1\n",
    "x = 2\n",
    "y = 3\n",
    "print(x+y)"
   ]
  },
  {
   "cell_type": "code",
   "execution_count": 5,
   "id": "867457de",
   "metadata": {},
   "outputs": [
    {
     "name": "stdout",
     "output_type": "stream",
     "text": [
      "13\n"
     ]
    }
   ],
   "source": [
    "## CODE 2\n",
    "x = 10\n",
    "print(x+y)"
   ]
  },
  {
   "cell_type": "code",
   "execution_count": 6,
   "id": "c6b8dd17",
   "metadata": {},
   "outputs": [
    {
     "name": "stdout",
     "output_type": "stream",
     "text": [
      "20\n"
     ]
    }
   ],
   "source": [
    "## CODE 3\n",
    "y = 10\n",
    "print(x+y)"
   ]
  },
  {
   "cell_type": "code",
   "execution_count": 7,
   "id": "63af99b0",
   "metadata": {},
   "outputs": [],
   "source": [
    "import numpy as np"
   ]
  },
  {
   "cell_type": "code",
   "execution_count": 8,
   "id": "30cf5019",
   "metadata": {},
   "outputs": [
    {
     "name": "stdout",
     "output_type": "stream",
     "text": [
      "Hello\n"
     ]
    }
   ],
   "source": [
    "my_str = 'Hello'\n",
    "print(my_str)"
   ]
  },
  {
   "cell_type": "code",
   "execution_count": 9,
   "id": "71e1ef92",
   "metadata": {},
   "outputs": [
    {
     "data": {
      "text/plain": [
       "5"
      ]
     },
     "execution_count": 9,
     "metadata": {},
     "output_type": "execute_result"
    }
   ],
   "source": [
    "len(my_str)"
   ]
  },
  {
   "cell_type": "code",
   "execution_count": 10,
   "id": "b67bcad0",
   "metadata": {},
   "outputs": [
    {
     "data": {
      "text/plain": [
       "'l'"
      ]
     },
     "execution_count": 10,
     "metadata": {},
     "output_type": "execute_result"
    }
   ],
   "source": [
    "my_str[2]"
   ]
  },
  {
   "cell_type": "code",
   "execution_count": 11,
   "id": "971ed2f2",
   "metadata": {},
   "outputs": [
    {
     "name": "stdout",
     "output_type": "stream",
     "text": [
      "HelloWorld\n"
     ]
    }
   ],
   "source": [
    "str2 = 'World'\n",
    "print(my_str + str2)"
   ]
  },
  {
   "cell_type": "code",
   "execution_count": 12,
   "id": "1852007a",
   "metadata": {},
   "outputs": [
    {
     "ename": "TypeError",
     "evalue": "unsupported operand type(s) for -: 'str' and 'str'",
     "output_type": "error",
     "traceback": [
      "\u001b[0;31m---------------------------------------------------------------------------\u001b[0m",
      "\u001b[0;31mTypeError\u001b[0m                                 Traceback (most recent call last)",
      "\u001b[0;32m/tmp/ipykernel_8579/3300100506.py\u001b[0m in \u001b[0;36m<cell line: 1>\u001b[0;34m()\u001b[0m\n\u001b[0;32m----> 1\u001b[0;31m \u001b[0mprint\u001b[0m\u001b[0;34m(\u001b[0m\u001b[0mmy_str\u001b[0m \u001b[0;34m-\u001b[0m \u001b[0mstr2\u001b[0m\u001b[0;34m)\u001b[0m\u001b[0;34m\u001b[0m\u001b[0;34m\u001b[0m\u001b[0m\n\u001b[0m",
      "\u001b[0;31mTypeError\u001b[0m: unsupported operand type(s) for -: 'str' and 'str'"
     ]
    }
   ],
   "source": [
    "print(my_str - str2)"
   ]
  },
  {
   "cell_type": "code",
   "execution_count": 13,
   "id": "d63b26df",
   "metadata": {},
   "outputs": [
    {
     "data": {
      "text/plain": [
       "'WORLD'"
      ]
     },
     "execution_count": 13,
     "metadata": {},
     "output_type": "execute_result"
    }
   ],
   "source": [
    "str2.upper()"
   ]
  },
  {
   "cell_type": "code",
   "execution_count": 14,
   "id": "43dfca4e",
   "metadata": {},
   "outputs": [],
   "source": [
    "s = 'It is rainy today'"
   ]
  },
  {
   "cell_type": "code",
   "execution_count": 15,
   "id": "da8e68b8",
   "metadata": {},
   "outputs": [],
   "source": [
    "words = s.split(' ')"
   ]
  },
  {
   "cell_type": "code",
   "execution_count": 16,
   "id": "282c34fe",
   "metadata": {},
   "outputs": [
    {
     "data": {
      "text/plain": [
       "list"
      ]
     },
     "execution_count": 16,
     "metadata": {},
     "output_type": "execute_result"
    }
   ],
   "source": [
    "type(words)"
   ]
  },
  {
   "cell_type": "code",
   "execution_count": 17,
   "id": "6e3de783",
   "metadata": {},
   "outputs": [
    {
     "data": {
      "text/plain": [
       "4"
      ]
     },
     "execution_count": 17,
     "metadata": {},
     "output_type": "execute_result"
    }
   ],
   "source": [
    "len(words)"
   ]
  },
  {
   "cell_type": "code",
   "execution_count": 19,
   "id": "e24802e6",
   "metadata": {},
   "outputs": [
    {
     "name": "stdout",
     "output_type": "stream",
     "text": [
      "It <class 'str'> 2\n",
      "is <class 'str'> 2\n",
      "rainy <class 'str'> 5\n",
      "today <class 'str'> 5\n"
     ]
    }
   ],
   "source": [
    "for w in words:\n",
    "    print(w, type(w), len(w))"
   ]
  },
  {
   "cell_type": "code",
   "execution_count": 20,
   "id": "b138d2b8",
   "metadata": {},
   "outputs": [],
   "source": [
    "l = [1, 'word', [2, 3], 2.3, 2+1j]"
   ]
  },
  {
   "cell_type": "code",
   "execution_count": 21,
   "id": "1c05247b",
   "metadata": {},
   "outputs": [
    {
     "name": "stdout",
     "output_type": "stream",
     "text": [
      "[1, 'word', [2, 3], 2.3, (2+1j)]\n"
     ]
    }
   ],
   "source": [
    "print(l)"
   ]
  },
  {
   "cell_type": "code",
   "execution_count": 22,
   "id": "6d5a9dbf",
   "metadata": {},
   "outputs": [
    {
     "data": {
      "text/plain": [
       "2.3"
      ]
     },
     "execution_count": 22,
     "metadata": {},
     "output_type": "execute_result"
    }
   ],
   "source": [
    "l[3]"
   ]
  },
  {
   "cell_type": "code",
   "execution_count": 24,
   "id": "3d833a6e",
   "metadata": {},
   "outputs": [
    {
     "data": {
      "text/plain": [
       "['word', [2, 3]]"
      ]
     },
     "execution_count": 24,
     "metadata": {},
     "output_type": "execute_result"
    }
   ],
   "source": [
    "start, stop, step = 1, 3, 1\n",
    "l[start:stop:step]"
   ]
  },
  {
   "cell_type": "code",
   "execution_count": 26,
   "id": "046cff6f",
   "metadata": {},
   "outputs": [
    {
     "data": {
      "text/plain": [
       "[(2+1j), 2.3, [2, 3], 'word', 1]"
      ]
     },
     "execution_count": 26,
     "metadata": {},
     "output_type": "execute_result"
    }
   ],
   "source": [
    "l[::-1]"
   ]
  },
  {
   "cell_type": "code",
   "execution_count": 27,
   "id": "b7c67685",
   "metadata": {},
   "outputs": [
    {
     "data": {
      "text/plain": [
       "['word', 2.3]"
      ]
     },
     "execution_count": 27,
     "metadata": {},
     "output_type": "execute_result"
    }
   ],
   "source": [
    "l[1::2]"
   ]
  },
  {
   "cell_type": "code",
   "execution_count": 34,
   "id": "0c319c09",
   "metadata": {},
   "outputs": [
    {
     "data": {
      "text/plain": [
       "'new element'"
      ]
     },
     "execution_count": 34,
     "metadata": {},
     "output_type": "execute_result"
    }
   ],
   "source": [
    "l[-1]"
   ]
  },
  {
   "cell_type": "code",
   "execution_count": 30,
   "id": "659e0c27",
   "metadata": {},
   "outputs": [],
   "source": [
    "def print_list(l):\n",
    "    '''\n",
    "    Print the content of the list \"l\" with the type of each item.\n",
    "    \n",
    "    Argument:\n",
    "     * l : python list\n",
    "    '''\n",
    "    \n",
    "    for x in l:\n",
    "        text = f'x={x}, type={type(x)}'\n",
    "        print(text)"
   ]
  },
  {
   "cell_type": "code",
   "execution_count": 31,
   "id": "88cf45ff",
   "metadata": {},
   "outputs": [
    {
     "name": "stdout",
     "output_type": "stream",
     "text": [
      "x=1, type=<class 'int'>\n",
      "x=word, type=<class 'str'>\n",
      "x=[2, 3], type=<class 'list'>\n",
      "x=2.3, type=<class 'float'>\n",
      "x=(2+1j), type=<class 'complex'>\n",
      "x=new element, type=<class 'str'>\n",
      "x=new element, type=<class 'str'>\n"
     ]
    }
   ],
   "source": [
    "l.append('new element')\n",
    "print_list(l)"
   ]
  },
  {
   "cell_type": "code",
   "execution_count": 32,
   "id": "23f4f785",
   "metadata": {},
   "outputs": [
    {
     "data": {
      "text/plain": [
       "'new element'"
      ]
     },
     "execution_count": 32,
     "metadata": {},
     "output_type": "execute_result"
    }
   ],
   "source": [
    "l.pop()"
   ]
  },
  {
   "cell_type": "code",
   "execution_count": 33,
   "id": "b40a03c7",
   "metadata": {},
   "outputs": [
    {
     "name": "stdout",
     "output_type": "stream",
     "text": [
      "[1, 'word', [2, 3], 2.3, (2+1j), 'new element']\n"
     ]
    }
   ],
   "source": [
    " print(l)"
   ]
  },
  {
   "cell_type": "code",
   "execution_count": 35,
   "id": "74e2014d",
   "metadata": {},
   "outputs": [
    {
     "name": "stdout",
     "output_type": "stream",
     "text": [
      "{'name': 'Charles', 'age': 78, 'size': 173, 'gender': 'M'}\n"
     ]
    }
   ],
   "source": [
    "# dictionnary\n",
    "person = {'name': 'Charles', 'age': 78, 'size': 173, 'gender': 'M'}\n",
    "print(person)"
   ]
  },
  {
   "cell_type": "code",
   "execution_count": 36,
   "id": "857b22c4",
   "metadata": {},
   "outputs": [
    {
     "ename": "KeyError",
     "evalue": "2",
     "output_type": "error",
     "traceback": [
      "\u001b[0;31m---------------------------------------------------------------------------\u001b[0m",
      "\u001b[0;31mKeyError\u001b[0m                                  Traceback (most recent call last)",
      "\u001b[0;32m/tmp/ipykernel_8579/1952637047.py\u001b[0m in \u001b[0;36m<cell line: 1>\u001b[0;34m()\u001b[0m\n\u001b[0;32m----> 1\u001b[0;31m \u001b[0mperson\u001b[0m\u001b[0;34m[\u001b[0m\u001b[0;36m2\u001b[0m\u001b[0;34m]\u001b[0m\u001b[0;34m\u001b[0m\u001b[0;34m\u001b[0m\u001b[0m\n\u001b[0m",
      "\u001b[0;31mKeyError\u001b[0m: 2"
     ]
    }
   ],
   "source": [
    "person[2]"
   ]
  },
  {
   "cell_type": "code",
   "execution_count": 37,
   "id": "d4c9a921",
   "metadata": {},
   "outputs": [
    {
     "data": {
      "text/plain": [
       "'Charles'"
      ]
     },
     "execution_count": 37,
     "metadata": {},
     "output_type": "execute_result"
    }
   ],
   "source": [
    "person['name']"
   ]
  },
  {
   "cell_type": "code",
   "execution_count": 38,
   "id": "7d4577e5",
   "metadata": {},
   "outputs": [
    {
     "name": "stdout",
     "output_type": "stream",
     "text": [
      "{'name': 'Charles', 'age': 78, 'size': 173, 'gender': 'M', 'eyes': 'blue'}\n"
     ]
    }
   ],
   "source": [
    "person['eyes'] = 'blue'\n",
    "print(person)"
   ]
  },
  {
   "cell_type": "code",
   "execution_count": 40,
   "id": "59870fa8",
   "metadata": {},
   "outputs": [
    {
     "name": "stdout",
     "output_type": "stream",
     "text": [
      "key not present\n"
     ]
    }
   ],
   "source": [
    "if 'hairs' in person:\n",
    "    print(person['hairs'])\n",
    "else:\n",
    "    print('key not present')"
   ]
  },
  {
   "cell_type": "code",
   "execution_count": 41,
   "id": "e9809c61",
   "metadata": {},
   "outputs": [],
   "source": [
    "if 'hairs' in person:\n",
    "    print(person['hairs'])"
   ]
  },
  {
   "cell_type": "code",
   "execution_count": 42,
   "id": "736ccfbc",
   "metadata": {},
   "outputs": [
    {
     "name": "stdout",
     "output_type": "stream",
     "text": [
      "key=name, value=Charles\n",
      "key=age, value=78\n",
      "key=size, value=173\n",
      "key=gender, value=M\n",
      "key=eyes, value=blue\n"
     ]
    }
   ],
   "source": [
    "for k, v in person.items():\n",
    "    print(f'key={k}, value={v}')"
   ]
  },
  {
   "cell_type": "code",
   "execution_count": 43,
   "id": "20edafdf",
   "metadata": {},
   "outputs": [
    {
     "name": "stdout",
     "output_type": "stream",
     "text": [
      "0\n",
      "1\n",
      "2\n",
      "3\n",
      "4\n",
      "5\n",
      "6\n",
      "7\n",
      "8\n",
      "9\n"
     ]
    }
   ],
   "source": [
    "i=0\n",
    "while(i<10):\n",
    "    print(i)\n",
    "    i += 1"
   ]
  },
  {
   "cell_type": "code",
   "execution_count": 44,
   "id": "419f8131",
   "metadata": {},
   "outputs": [
    {
     "name": "stdout",
     "output_type": "stream",
     "text": [
      "285\n"
     ]
    }
   ],
   "source": [
    "# Compute sum(i^2) for i from 0 to 9\n",
    "x = 0\n",
    "for i in range(0, 10):\n",
    "    x += i**2\n",
    "print(x)"
   ]
  },
  {
   "cell_type": "code",
   "execution_count": 47,
   "id": "19db43c8",
   "metadata": {},
   "outputs": [
    {
     "name": "stdout",
     "output_type": "stream",
     "text": [
      "[1, 4, 9, 16, 25, 36, 49, 64, 81]\n"
     ]
    }
   ],
   "source": [
    "# List\n",
    "list_squares = [i**2 for i in range(1, 10)]\n",
    "print(list_squares)"
   ]
  },
  {
   "cell_type": "code",
   "execution_count": 48,
   "id": "0c92ad36",
   "metadata": {},
   "outputs": [
    {
     "name": "stdout",
     "output_type": "stream",
     "text": [
      "[4, 16, 36, 64]\n"
     ]
    }
   ],
   "source": [
    "list_squares = [i**2 for i in range(1, 10) if i%2==0]\n",
    "print(list_squares)"
   ]
  },
  {
   "cell_type": "code",
   "execution_count": 51,
   "id": "665b991b",
   "metadata": {},
   "outputs": [
    {
     "data": {
      "text/plain": [
       "81"
      ]
     },
     "execution_count": 51,
     "metadata": {},
     "output_type": "execute_result"
    }
   ],
   "source": [
    "list_squares = [i**2-j**2 for i in range(1, 10) for j in range(1, 10)]\n",
    "len(list_squares)"
   ]
  },
  {
   "cell_type": "code",
   "execution_count": 53,
   "id": "299a8c42",
   "metadata": {},
   "outputs": [
    {
     "name": "stdout",
     "output_type": "stream",
     "text": [
      "{1: 1, 2: 4, 3: 9, 4: 16, 5: 25, 6: 36, 7: 49, 8: 64, 9: 81}\n"
     ]
    }
   ],
   "source": [
    "dict_square = {i: i**2 for i in range(1, 10)}\n",
    "print(dict_square)\n",
    "\n",
    "dict_square = {}\n",
    "for i in range(1, 10):\n",
    "    dict_square[i] = i**2"
   ]
  },
  {
   "cell_type": "code",
   "execution_count": 54,
   "id": "cfa872ef",
   "metadata": {},
   "outputs": [
    {
     "data": {
      "text/plain": [
       "[1, 'word', [2, 3], 2.3, (2+1j), 'new element']"
      ]
     },
     "execution_count": 54,
     "metadata": {},
     "output_type": "execute_result"
    }
   ],
   "source": [
    "l"
   ]
  },
  {
   "cell_type": "code",
   "execution_count": 55,
   "id": "7950a6f9",
   "metadata": {},
   "outputs": [
    {
     "name": "stdout",
     "output_type": "stream",
     "text": [
      "0 1\n",
      "1 word\n",
      "2 [2, 3]\n",
      "3 2.3\n",
      "4 (2+1j)\n",
      "5 new element\n"
     ]
    }
   ],
   "source": [
    "for i, element in enumerate(l):\n",
    "    print(i, element)"
   ]
  },
  {
   "cell_type": "code",
   "execution_count": 56,
   "id": "4e1da731",
   "metadata": {},
   "outputs": [],
   "source": [
    "l1, l2 = l, l[::-1]"
   ]
  },
  {
   "cell_type": "code",
   "execution_count": 58,
   "id": "757b222c",
   "metadata": {},
   "outputs": [
    {
     "name": "stdout",
     "output_type": "stream",
     "text": [
      "1 new element\n",
      "word (2+1j)\n",
      "[2, 3] 2.3\n",
      "2.3 [2, 3]\n",
      "(2+1j) word\n",
      "new element 1\n"
     ]
    }
   ],
   "source": [
    "for x, y in zip(l1, l2):\n",
    "    print(x, y)"
   ]
  },
  {
   "cell_type": "code",
   "execution_count": 59,
   "id": "fdffb7df",
   "metadata": {},
   "outputs": [
    {
     "name": "stdout",
     "output_type": "stream",
     "text": [
      "1 new element\n",
      "word (2+1j)\n",
      "[2, 3] 2.3\n",
      "2.3 [2, 3]\n"
     ]
    }
   ],
   "source": [
    "for x, y in zip(l1, l2[:-2]):\n",
    "    print(x, y)"
   ]
  },
  {
   "cell_type": "code",
   "execution_count": 67,
   "id": "110acce7",
   "metadata": {},
   "outputs": [],
   "source": [
    "def my_function(argument, n=5):\n",
    "    '''\n",
    "    Multiply argument with n. The operation \"argument * n\"\n",
    "    must be allowed.\n",
    "    '''\n",
    "    result = argument * n\n",
    "    return result"
   ]
  },
  {
   "cell_type": "code",
   "execution_count": 61,
   "id": "53f58775",
   "metadata": {},
   "outputs": [
    {
     "data": {
      "text/plain": [
       "15"
      ]
     },
     "execution_count": 61,
     "metadata": {},
     "output_type": "execute_result"
    }
   ],
   "source": [
    "my_function(3, 5)"
   ]
  },
  {
   "cell_type": "code",
   "execution_count": 63,
   "id": "90be7f3c",
   "metadata": {},
   "outputs": [
    {
     "data": {
      "text/plain": [
       "15"
      ]
     },
     "execution_count": 63,
     "metadata": {},
     "output_type": "execute_result"
    }
   ],
   "source": [
    "my_function(3)"
   ]
  },
  {
   "cell_type": "code",
   "execution_count": 64,
   "id": "4073c413",
   "metadata": {},
   "outputs": [
    {
     "ename": "TypeError",
     "evalue": "my_function() missing 1 required positional argument: 'argument'",
     "output_type": "error",
     "traceback": [
      "\u001b[0;31m---------------------------------------------------------------------------\u001b[0m",
      "\u001b[0;31mTypeError\u001b[0m                                 Traceback (most recent call last)",
      "\u001b[0;32m/tmp/ipykernel_8579/1574855892.py\u001b[0m in \u001b[0;36m<cell line: 1>\u001b[0;34m()\u001b[0m\n\u001b[0;32m----> 1\u001b[0;31m \u001b[0mmy_function\u001b[0m\u001b[0;34m(\u001b[0m\u001b[0;34m)\u001b[0m\u001b[0;34m\u001b[0m\u001b[0;34m\u001b[0m\u001b[0m\n\u001b[0m",
      "\u001b[0;31mTypeError\u001b[0m: my_function() missing 1 required positional argument: 'argument'"
     ]
    }
   ],
   "source": [
    "my_function()"
   ]
  },
  {
   "cell_type": "code",
   "execution_count": 65,
   "id": "9c365da5",
   "metadata": {},
   "outputs": [
    {
     "data": {
      "text/plain": [
       "'hellohellohello'"
      ]
     },
     "execution_count": 65,
     "metadata": {},
     "output_type": "execute_result"
    }
   ],
   "source": [
    "my_function('hello', 3)"
   ]
  },
  {
   "cell_type": "code",
   "execution_count": 66,
   "id": "8090ed24",
   "metadata": {},
   "outputs": [
    {
     "ename": "TypeError",
     "evalue": "can't multiply sequence by non-int of type 'float'",
     "output_type": "error",
     "traceback": [
      "\u001b[0;31m---------------------------------------------------------------------------\u001b[0m",
      "\u001b[0;31mTypeError\u001b[0m                                 Traceback (most recent call last)",
      "\u001b[0;32m/tmp/ipykernel_8579/429005038.py\u001b[0m in \u001b[0;36m<cell line: 1>\u001b[0;34m()\u001b[0m\n\u001b[0;32m----> 1\u001b[0;31m \u001b[0mmy_function\u001b[0m\u001b[0;34m(\u001b[0m\u001b[0;34m'hello'\u001b[0m\u001b[0;34m,\u001b[0m \u001b[0;36m3.3\u001b[0m\u001b[0;34m)\u001b[0m\u001b[0;34m\u001b[0m\u001b[0;34m\u001b[0m\u001b[0m\n\u001b[0m",
      "\u001b[0;32m/tmp/ipykernel_8579/4209350419.py\u001b[0m in \u001b[0;36mmy_function\u001b[0;34m(argument, n)\u001b[0m\n\u001b[1;32m      1\u001b[0m \u001b[0;32mdef\u001b[0m \u001b[0mmy_function\u001b[0m\u001b[0;34m(\u001b[0m\u001b[0margument\u001b[0m\u001b[0;34m,\u001b[0m \u001b[0mn\u001b[0m\u001b[0;34m=\u001b[0m\u001b[0;36m5\u001b[0m\u001b[0;34m)\u001b[0m\u001b[0;34m:\u001b[0m\u001b[0;34m\u001b[0m\u001b[0;34m\u001b[0m\u001b[0m\n\u001b[0;32m----> 2\u001b[0;31m     \u001b[0mresult\u001b[0m \u001b[0;34m=\u001b[0m \u001b[0margument\u001b[0m \u001b[0;34m*\u001b[0m \u001b[0mn\u001b[0m\u001b[0;34m\u001b[0m\u001b[0;34m\u001b[0m\u001b[0m\n\u001b[0m\u001b[1;32m      3\u001b[0m     \u001b[0;32mreturn\u001b[0m \u001b[0mresult\u001b[0m\u001b[0;34m\u001b[0m\u001b[0;34m\u001b[0m\u001b[0m\n",
      "\u001b[0;31mTypeError\u001b[0m: can't multiply sequence by non-int of type 'float'"
     ]
    }
   ],
   "source": [
    "my_function('hello', 3.3)"
   ]
  },
  {
   "cell_type": "code",
   "execution_count": 73,
   "id": "d9d87621",
   "metadata": {},
   "outputs": [],
   "source": [
    "def sum_of_square(N):\n",
    "    '''\n",
    "    Compute sum(i^2) for i from 0 to N-1.\n",
    "    \n",
    "    Arguments:\n",
    "     * N: integer\n",
    "    '''\n",
    "    x = 0\n",
    "    for i in range(0, N):\n",
    "        x += i**2\n",
    "    \n",
    "    return x"
   ]
  },
  {
   "cell_type": "code",
   "execution_count": 72,
   "id": "b3166501",
   "metadata": {},
   "outputs": [
    {
     "data": {
      "text/plain": [
       "332833500"
      ]
     },
     "execution_count": 72,
     "metadata": {},
     "output_type": "execute_result"
    }
   ],
   "source": [
    "sum_of_square(1000)"
   ]
  },
  {
   "cell_type": "code",
   "execution_count": 74,
   "id": "4edc542c",
   "metadata": {},
   "outputs": [],
   "source": [
    "# Test function\n",
    "def mean(a, b, c):\n",
    "    return (a+b+c)/3."
   ]
  },
  {
   "cell_type": "code",
   "execution_count": 75,
   "id": "3c13bd9f",
   "metadata": {},
   "outputs": [
    {
     "data": {
      "text/plain": [
       "14.0"
      ]
     },
     "execution_count": 75,
     "metadata": {},
     "output_type": "execute_result"
    }
   ],
   "source": [
    "mean(12, 14, 16)"
   ]
  },
  {
   "cell_type": "code",
   "execution_count": 76,
   "id": "d9727c56",
   "metadata": {},
   "outputs": [
    {
     "data": {
      "text/plain": [
       "14.0"
      ]
     },
     "execution_count": 76,
     "metadata": {},
     "output_type": "execute_result"
    }
   ],
   "source": [
    "numbers = (12, 14, 16)\n",
    "mean(*numbers)"
   ]
  },
  {
   "cell_type": "code",
   "execution_count": 79,
   "id": "576cf590",
   "metadata": {},
   "outputs": [],
   "source": [
    "def mean_n(*args):\n",
    "    S = 0\n",
    "    for a in args:\n",
    "        S += a\n",
    "    return S/len(args)"
   ]
  },
  {
   "cell_type": "code",
   "execution_count": 81,
   "id": "dfc08e2e",
   "metadata": {},
   "outputs": [
    {
     "data": {
      "text/plain": [
       "14.0"
      ]
     },
     "execution_count": 81,
     "metadata": {},
     "output_type": "execute_result"
    }
   ],
   "source": [
    "mean_n(*numbers)"
   ]
  },
  {
   "cell_type": "code",
   "execution_count": 82,
   "id": "6879cdcd",
   "metadata": {},
   "outputs": [
    {
     "data": {
      "text/plain": [
       "15.285714285714286"
      ]
     },
     "execution_count": 82,
     "metadata": {},
     "output_type": "execute_result"
    }
   ],
   "source": [
    "numbers = (12, 14, 16, 18, 18, 19, 10)\n",
    "mean_n(*numbers)"
   ]
  },
  {
   "cell_type": "code",
   "execution_count": 87,
   "id": "b1d648fa",
   "metadata": {},
   "outputs": [],
   "source": [
    "def mean_n(**kwargs):\n",
    "\n",
    "    S, n = 0, 0\n",
    "    for k, a in kwargs.items():\n",
    "        S += a\n",
    "        n +=1\n",
    "        print(f'{k} : {a} -- cumulative average = {S/n:.2f}')\n",
    "    return S/n\n"
   ]
  },
  {
   "cell_type": "code",
   "execution_count": 88,
   "id": "98d7776f",
   "metadata": {},
   "outputs": [],
   "source": [
    "marks = {'homework': 19, 'classexam': 15, 'oral': 12}"
   ]
  },
  {
   "cell_type": "code",
   "execution_count": 90,
   "id": "518cd010",
   "metadata": {},
   "outputs": [
    {
     "name": "stdout",
     "output_type": "stream",
     "text": [
      "homework : 19 -- cumulative average = 19.00\n",
      "classexam : 15 -- cumulative average = 17.00\n",
      "oral : 12 -- cumulative average = 15.33\n"
     ]
    }
   ],
   "source": [
    "res = mean_n(**marks)"
   ]
  },
  {
   "cell_type": "code",
   "execution_count": 92,
   "id": "25cef721",
   "metadata": {},
   "outputs": [],
   "source": [
    "# Text to be written (can be one line string 'my text' or multiple lines string - docstring)\n",
    "text = '''Gervaise avait attendu Lantier jusqu’à deux heures du matin. Puis,\n",
    "toute frissonnante d’être restée en camisole à l’air vif de la fenêtre,\n",
    "elle s’était assoupie, jetée en travers du lit, fiévreuse, les joues\n",
    "trempées de larmes.\n",
    "'''"
   ]
  },
  {
   "cell_type": "code",
   "execution_count": 93,
   "id": "45e4ebe1",
   "metadata": {},
   "outputs": [],
   "source": [
    "f = open('monday_test.txt', 'w')\n",
    "f.write(text)\n",
    "f.close()"
   ]
  },
  {
   "cell_type": "code",
   "execution_count": 95,
   "id": "21f85251",
   "metadata": {},
   "outputs": [
    {
     "name": "stdout",
     "output_type": "stream",
     "text": [
      "0 Gervaise avait attendu Lantier jusqu’à deux heures du matin. Puis,\n",
      "\n",
      "1 toute frissonnante d’être restée en camisole à l’air vif de la fenêtre,\n",
      "\n",
      "2 elle s’était assoupie, jetée en travers du lit, fiévreuse, les joues\n",
      "\n",
      "3 trempées de larmes.\n",
      "\n"
     ]
    }
   ],
   "source": [
    "f = open('monday_test.txt', 'r')\n",
    "for i, l in enumerate(f.readlines()):\n",
    "    print(i, l)\n",
    "f.close()"
   ]
  },
  {
   "cell_type": "markdown",
   "id": "811e0cc5",
   "metadata": {},
   "source": [
    "### Exercise\n",
    "\n",
    " 1. take a little text on the web and save it in a text file.\n",
    " 2. read the file, remove all the 'e' and save the result in a new file\n",
    " 3. compute the frequency of appearence of each letter in the orignal text"
   ]
  },
  {
   "cell_type": "code",
   "execution_count": 97,
   "id": "7f67afb5",
   "metadata": {},
   "outputs": [],
   "source": [
    "# 2. Remove the e, and save the result in a new file\n",
    "fin = open('monday_test.txt', 'r')\n",
    "fout = open('monday_test_noe.txt', 'w')\n",
    "for l in fin.readlines():\n",
    "    l_noe = l.replace('e', '')\n",
    "    fout.write(l_noe)\n",
    "fin.close()\n",
    "fout.close()"
   ]
  },
  {
   "cell_type": "code",
   "execution_count": 142,
   "id": "dab8eced",
   "metadata": {},
   "outputs": [
    {
     "name": "stdout",
     "output_type": "stream",
     "text": [
      "['g', 'e', 'r', 'v', 'a', 'i', 's', 'e', 'a', 'v', 'a', 'i', 't', 'a', 't', 't', 'e', 'n', 'd', 'u', 'l', 'a', 'n', 't', 'i', 'e', 'r', 'j', 'u', 's', 'q', 'u', 'à', 'd', 'e', 'u', 'x', 'h', 'e', 'u', 'r', 'e', 's', 'd', 'u', 'm', 'a', 't', 'i', 'n', 'p', 'u', 'i', 's', 't', 'o', 'u', 't', 'e', 'f', 'r', 'i', 's', 's', 'o', 'n', 'n', 'a', 'n', 't', 'e', 'd', 'ê', 't', 'r', 'e', 'r', 'e', 's', 't', 'é', 'e', 'e', 'n', 'c', 'a', 'm', 'i', 's', 'o', 'l', 'e', 'à', 'l', 'a', 'i', 'r', 'v', 'i', 'f', 'd', 'e', 'l', 'a', 'f', 'e', 'n', 'ê', 't', 'r', 'e', 'e', 'l', 'l', 'e', 's', 'é', 't', 'a', 'i', 't', 'a', 's', 's', 'o', 'u', 'p', 'i', 'e', 'j', 'e', 't', 'é', 'e', 'e', 'n', 't', 'r', 'a', 'v', 'e', 'r', 's', 'd', 'u', 'l', 'i', 't', 'f', 'i', 'é', 'v', 'r', 'e', 'u', 's', 'e', 'l', 'e', 's', 'j', 'o', 'u', 'e', 's', 't', 'r', 'e', 'm', 'p', 'é', 'e', 's', 'd', 'e', 'l', 'a', 'r', 'm', 'e', 's']\n",
      "181\n"
     ]
    }
   ],
   "source": [
    "# 3. compute the frequency of appearence of each letter in the orignal text\n",
    "\n",
    "removed_symbol =  [',', '.', '’', ' ']\n",
    "\n",
    "f = open('monday_test.txt', 'r')\n",
    "\n",
    "letters = []\n",
    "for l in f:\n",
    "    l = l.strip().lower()\n",
    "    l = list(l)\n",
    "    for s in removed_symbol:\n",
    "        while s in l:\n",
    "            l.remove(s)\n",
    "    letters += l\n",
    "f.close()\n",
    "\n",
    "print(letters)\n",
    "\n",
    "Ntot = len(letters)\n",
    "print(Ntot)"
   ]
  },
  {
   "cell_type": "code",
   "execution_count": 143,
   "id": "a8bd0e1b",
   "metadata": {},
   "outputs": [
    {
     "name": "stdout",
     "output_type": "stream",
     "text": [
      "['g', 'e', 'r', 'v', 'a', 'i', 's', 't', 'n', 'd', 'u', 'l', 'j', 'q', 'à', 'x', 'h', 'm', 'p', 'o', 'f', 'ê', 'é', 'c']\n"
     ]
    }
   ],
   "source": [
    "def unique(Xs):\n",
    "    u = []\n",
    "    for x in Xs:\n",
    "        if x not in u:\n",
    "            u.append(x)\n",
    "    return u\n",
    "\n",
    "alphabet = unique(letters)\n",
    "print(alphabet)"
   ]
  },
  {
   "cell_type": "code",
   "execution_count": 144,
   "id": "e9fb299e",
   "metadata": {},
   "outputs": [
    {
     "name": "stdout",
     "output_type": "stream",
     "text": [
      "g appears in 0.6% of cases\n",
      "e appears in 17.7% of cases\n",
      "r appears in 7.2% of cases\n",
      "v appears in 2.8% of cases\n",
      "a appears in 7.7% of cases\n",
      "i appears in 7.2% of cases\n",
      "s appears in 9.4% of cases\n",
      "t appears in 9.4% of cases\n",
      "n appears in 5.0% of cases\n",
      "d appears in 3.9% of cases\n",
      "u appears in 6.6% of cases\n",
      "l appears in 5.0% of cases\n",
      "j appears in 1.7% of cases\n",
      "q appears in 0.6% of cases\n",
      "à appears in 1.1% of cases\n",
      "x appears in 0.6% of cases\n",
      "h appears in 0.6% of cases\n",
      "m appears in 2.2% of cases\n",
      "p appears in 1.7% of cases\n",
      "o appears in 2.8% of cases\n",
      "f appears in 2.2% of cases\n",
      "ê appears in 1.1% of cases\n",
      "é appears in 2.8% of cases\n",
      "c appears in 0.6% of cases\n"
     ]
    }
   ],
   "source": [
    "result = {}\n",
    "for let in alphabet:\n",
    "    result[let] = letters.count(let) /Ntot * 100\n",
    "\n",
    "for k, v in result.items():\n",
    "    print(f'{k} appears in {v:.1f}% of cases')"
   ]
  },
  {
   "cell_type": "code",
   "execution_count": 145,
   "id": "3802dc49",
   "metadata": {},
   "outputs": [],
   "source": [
    "#result = {}\n",
    "#for let in alphabet:\n",
    "#    result[let] = 0\n",
    "#    while(let in letters):\n",
    "#        letters.remove(let)\n",
    "#        result[let] += 1./Ntot * 100\n",
    "#for k, v in result.items():\n",
    "#    print(f'{k} appears in {v:.1f}% of cases')"
   ]
  },
  {
   "cell_type": "code",
   "execution_count": null,
   "id": "520fdf15",
   "metadata": {},
   "outputs": [],
   "source": []
  },
  {
   "cell_type": "code",
   "execution_count": null,
   "id": "384e2f2a",
   "metadata": {},
   "outputs": [],
   "source": []
  },
  {
   "cell_type": "code",
   "execution_count": null,
   "id": "8980b904",
   "metadata": {},
   "outputs": [],
   "source": []
  },
  {
   "cell_type": "code",
   "execution_count": 146,
   "id": "38815267",
   "metadata": {},
   "outputs": [],
   "source": [
    "# Data taken from kaggle: https://www.kaggle.com/jolasa/waves-measuring-buoys-data-mooloolaba\n",
    "data_csv_format = '''index,date,height,heightMax,period,energy,direction,temperature\n",
    "1,01/01/2017 00:00,-99.9,-99.9,-99.9,-99.9,-99.9,-99.9\n",
    "2,01/01/2017 00:30,0.875,1.39,4.421,4.506,-99.9,-99.9\n",
    "3,01/01/2017 01:00,0.763,1.15,4.52,5.513,49,25.65\n",
    "4,01/01/2017 01:30,0.77,1.41,4.582,5.647,75,25.5\n",
    "5,01/01/2017 02:00,0.747,1.16,4.515,5.083,91,25.45\n",
    "6,01/01/2017 02:30,0.718,1.61,4.614,6.181,68,25.45\n",
    "7,01/01/2017 03:00,0.707,1.34,4.568,4.705,73,25.5\n",
    "8,01/01/2017 03:30,0.729,1.21,4.786,4.484,63,25.5\n",
    "9,01/01/2017 04:00,0.733,1.2,4.897,5.042,68,25.5\n",
    "10,01/01/2017 04:30,0.711,1.29,5.019,8.439,66,25.5\n",
    "11,01/01/2017 05:00,0.698,1.11,4.867,4.584,64,25.55\n",
    "12,01/01/2017 05:30,0.686,1.14,4.755,5.211,56,25.55\n",
    "13,01/01/2017 06:00,0.721,1.12,4.843,5.813,67,25.5\n",
    "14,01/01/2017 06:30,0.679,1.22,4.948,4.71,81,25.45\n",
    "15,01/01/2017 07:00,0.66,1.08,5.068,5.353,90,25.45\n",
    "16,01/01/2017 07:30,0.662,1.18,5.263,7.436,67,25.4\n",
    "17,01/01/2017 08:00,0.653,1.21,5.007,6.001,90,25.45\n",
    "18,01/01/2017 08:30,0.665,1.17,4.952,6.414,90,25.55\n",
    "19,01/01/2017 09:00,0.684,1.55,5.022,6.691,88,25.6\n",
    "20,01/01/2017 09:30,0.679,1.09,4.926,6.804,88,25.65\n",
    "21,01/01/2017 10:00,0.667,1.12,4.928,6.641,122,25.75\n",
    "22,01/01/2017 10:30,0.688,1.13,4.808,5.958,91,25.7\n",
    "23,01/01/2017 11:00,0.644,0.99,4.559,6.691,92,25.9\n",
    "'''\n",
    "\n",
    "# Create csv file using these data\n",
    "f = open('wave_data.csv', 'w')\n",
    "f.write(data_csv_format)\n",
    "f.close()"
   ]
  },
  {
   "cell_type": "code",
   "execution_count": 147,
   "id": "9dddf35e",
   "metadata": {},
   "outputs": [
    {
     "name": "stdout",
     "output_type": "stream",
     "text": [
      "MondayMorning_Romain.ipynb  monday_test_noe.txt  monday_test.txt  wave_data.csv\r\n"
     ]
    }
   ],
   "source": [
    "!ls"
   ]
  },
  {
   "cell_type": "code",
   "execution_count": 185,
   "id": "46b36234",
   "metadata": {},
   "outputs": [],
   "source": [
    "# Input file and containers to store data\n",
    "f = open('wave_data.csv', 'r')\n",
    "features = []\n",
    "waves = []\n",
    "\n",
    "# Loop over the lines\n",
    "for l in f:\n",
    "    \n",
    "    # Initialize the container for one wave\n",
    "    w = {}\n",
    "    \n",
    "    # Clean the line and get each field\n",
    "    values = l.strip().split(',')\n",
    "    \n",
    "    # Get the first line as being all the features\n",
    "    if values[0] == 'index':\n",
    "        features = values\n",
    "    \n",
    "    # Get the other line as data, as float except for the data\n",
    "    else:\n",
    "        for i, feat in enumerate(features):\n",
    "            w[feat] = values[i]\n",
    "        if feat != 'date':\n",
    "                w[feat] = float(w[feat])\n",
    "        waves.append(w)"
   ]
  },
  {
   "cell_type": "code",
   "execution_count": 187,
   "id": "b5c83ef1",
   "metadata": {},
   "outputs": [
    {
     "name": "stdout",
     "output_type": "stream",
     "text": [
      "Date/Time 01/01/2017 00:00\n",
      "Hs -99.9\n",
      "Hmax -99.9\n",
      "Tz -99.9\n",
      "Tp -99.9\n",
      "Peak Direction -99.9\n",
      "SST -99.9\n",
      "Date/Time 01/01/2017 00:30\n",
      "Hs 0.875\n",
      "Hmax 1.39\n",
      "Tz 4.421\n",
      "Tp 4.506\n",
      "Peak Direction -99.9\n",
      "SST -99.9\n",
      "Date/Time 01/01/2017 01:00\n",
      "Hs 0.763\n",
      "Hmax 1.15\n",
      "Tz 4.52\n",
      "Tp 5.513\n",
      "Peak Direction 49\n",
      "SST 25.65\n",
      "Date/Time 01/01/2017 01:30\n",
      "Hs 0.77\n",
      "Hmax 1.41\n",
      "Tz 4.582\n",
      "Tp 5.647\n",
      "Peak Direction 75\n",
      "SST 25.5\n",
      "Date/Time 01/01/2017 02:00\n",
      "Hs 0.747\n",
      "Hmax 1.16\n",
      "Tz 4.515\n",
      "Tp 5.083\n",
      "Peak Direction 91\n",
      "SST 25.45\n"
     ]
    }
   ],
   "source": [
    "for w in waves[:5]:\n",
    "    for k, v in w.items():\n",
    "        print(k, v)"
   ]
  },
  {
   "cell_type": "code",
   "execution_count": 200,
   "id": "918840e2",
   "metadata": {
    "scrolled": false
   },
   "outputs": [],
   "source": [
    "# Input file and containers to store data\n",
    "f = open('../data/WaveData.csv', 'r')\n",
    "features = []\n",
    "waves = []\n",
    "\n",
    "# Loop over the lines\n",
    "for l in f:\n",
    "    \n",
    "    # Initialize the container for one wave\n",
    "    w = {}\n",
    "    \n",
    "    # Clean the line and get each field\n",
    "    values = l.strip().split(',')\n",
    "    \n",
    "    # Get the first line as being all the features\n",
    "    if values[0] == 'Date/Time':\n",
    "        features = values\n",
    "    \n",
    "    # Get the other line as data, as float except for the data\n",
    "    else:\n",
    "        for i, feat in enumerate(features):\n",
    "            w[feat] = values[i]\n",
    "        if feat != 'Date/Time':\n",
    "                w[feat] = float(w[feat])\n",
    "        waves.append(w)"
   ]
  },
  {
   "cell_type": "code",
   "execution_count": 206,
   "id": "92b61cdb",
   "metadata": {
    "scrolled": false
   },
   "outputs": [],
   "source": [
    "Data = {}\n",
    "for feat in features[1:]:\n",
    "    Data[feat] = []\n",
    "    for w in waves:\n",
    "        Data[feat].append(float(w[feat]))"
   ]
  },
  {
   "cell_type": "code",
   "execution_count": 232,
   "id": "1be3d127",
   "metadata": {},
   "outputs": [
    {
     "name": "stdout",
     "output_type": "stream",
     "text": [
      "Hs 85\n",
      "Hmax 85\n",
      "Tz 85\n",
      "Tp 85\n",
      "Peak Direction 271\n",
      "SST 262\n"
     ]
    }
   ],
   "source": [
    "for k, v in Data.items():\n",
    "    #print(k, v[:5], len(v))\n",
    "    Nbad = 0 \n",
    "    for val in v:\n",
    "        if val<-99:\n",
    "            Nbad += 1\n",
    "    print(k, Nbad)\n",
    "    \n",
    "    \n"
   ]
  },
  {
   "cell_type": "markdown",
   "id": "4d03768e",
   "metadata": {},
   "source": [
    "### Questions\n",
    " + how many corrupted waves\n",
    " + compute and print the mean and RMS of each features"
   ]
  },
  {
   "cell_type": "code",
   "execution_count": 207,
   "id": "7ba24a5c",
   "metadata": {},
   "outputs": [],
   "source": [
    "import matplotlib.pyplot as plt"
   ]
  },
  {
   "cell_type": "code",
   "execution_count": 216,
   "id": "db31827a",
   "metadata": {},
   "outputs": [
    {
     "data": {
      "text/plain": [
       "(0.0, 7.0)"
      ]
     },
     "execution_count": 216,
     "metadata": {},
     "output_type": "execute_result"
    },
    {
     "data": {
      "image/png": "[encoded data removed]",
      "text/plain": [
       "<Figure size 432x288 with 1 Axes>"
      ]
     },
     "metadata": {
      "needs_background": "light"
     },
     "output_type": "display_data"
    }
   ],
   "source": [
    "plt.scatter(Data['Hs'][:5000], Data['Hmax'][:5000]);\n",
    "plt.xlim(0, 7)\n",
    "plt.ylim(0, 7)"
   ]
  },
  {
   "cell_type": "code",
   "execution_count": 222,
   "id": "dbf70192",
   "metadata": {},
   "outputs": [
    {
     "data": {
      "image/png": "[encoded data removed]",
      "text/plain": [
       "<Figure size 432x288 with 1 Axes>"
      ]
     },
     "metadata": {
      "needs_background": "light"
     },
     "output_type": "display_data"
    }
   ],
   "source": [
    "plt.hist(Data['Hs']  , bins=100, range=[0, 7], alpha=0.5);\n",
    "plt.hist(Data['Hmax'], bins=100, range=[0, 7], alpha=0.5);"
   ]
  },
  {
   "cell_type": "code",
   "execution_count": 225,
   "id": "4c768f79",
   "metadata": {},
   "outputs": [
    {
     "data": {
      "image/png": "[encoded data removed]",
      "text/plain": [
       "<Figure size 432x288 with 1 Axes>"
      ]
     },
     "metadata": {
      "needs_background": "light"
     },
     "output_type": "display_data"
    }
   ],
   "source": [
    "plt.hist(Data['Tz'], bins=50, range=[0, 20], alpha=0.5);\n",
    "plt.hist(Data['Tp'], bins=50, range=[0, 20], alpha=0.5);"
   ]
  },
  {
   "cell_type": "code",
   "execution_count": null,
   "id": "c80d87e9",
   "metadata": {},
   "outputs": [],
   "source": []
  }
 ],
 "metadata": {
  "kernelspec": {
   "display_name": "Python 3 (ipykernel)",
   "language": "python",
   "name": "python3"
  },
  "language_info": {
   "codemirror_mode": {
    "name": "ipython",
    "version": 3
   },
   "file_extension": ".py",
   "mimetype": "text/x-python",
   "name": "python",
   "nbconvert_exporter": "python",
   "pygments_lexer": "ipython3",
   "version": "3.10.5"
  }
 },
 "nbformat": 4,
 "nbformat_minor": 5
}
