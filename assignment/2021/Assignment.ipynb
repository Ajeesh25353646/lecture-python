{
 "cells": [
  {
   "cell_type": "markdown",
   "metadata": {},
   "source": [
    "# Python Data Analysis: Home Exam (2021-2022)\n",
    "\n",
    "> + **Allocated time:** 10 days\n",
    "> + **Send your final notebook** at [romain.madar@cern.ch](mailto:romain.madar@cern.ch) and [louis.vaslin@clermont.in2p3.fr](mailto:louis.vaslin@clermont.in2p3.fr) before **27/09/2020 23:59:59 CEST** \n",
    ">\n",
    "> **Comment 1**: the final mark will be a number between 0 (very bad) and 20 (very good). The evaluation of this exam takes into account the correctness of the answers, but also the clarity of the explanations and the quality of the code. *There is no required knowledge about Parkinson disease or general medecine to answer the questions asked in this exam.*\n",
    ">\n",
    "> **Comment 2**: discussions are encouraged,  with the professor (*via* email or just passing by my office) and between students. However you should make sure to demonstrate that *you understand what is in your notebook*.\n",
    "> \n",
    "> This exam is split int 2 parts: (1) data exploration and (2) building a predictive model"
   ]
  },
  {
   "cell_type": "markdown",
   "metadata": {},
   "source": [
    "## A bit of context ...\n",
    "\n",
    "The dataset considered in this project describe 120 years of olympic games, including all the Games from Athens 1896 to Rio 2016. The data contains 271116 rows and 15 columns. Each row corresponds to an individual athlete competing in an individual Olympic event (athlete-events). The columns are:\n",
    "+ `ID` - Unique number for each athlete\n",
    "+ `Name` - Athlete's name\n",
    "+ `Sex` - M or F\n",
    "+ `Age` - Integer\n",
    "+ `Height` - In centimeters\n",
    "+ `Weight` - In kilograms\n",
    "+ `Team` - Team name\n",
    "+ `NOC` - National Olympic Committee (3-letter code)\n",
    "+ `Games` - Year and season\n",
    "+ `Year` - Integer\n",
    "+ `Season` - Summer or Winter\n",
    "+ `City` - Host city\n",
    "+ `Sport` - Sport\n",
    "+ `Event` - Event\n",
    "+ `Medal` - Gold, Silver, Bronze, or NA\n",
    "\n",
    "The goal of this project is to explore these data from different points of view, in order to isolate some tendencies. In the last part of the projet, we will try to build a predictive model based on these data."
   ]
  },
  {
   "cell_type": "markdown",
   "metadata": {},
   "source": [
    "## Packages importation and data"
   ]
  },
  {
   "cell_type": "markdown",
   "metadata": {},
   "source": [
    "### Import the usual packages"
   ]
  },
  {
   "cell_type": "code",
   "execution_count": 5,
   "metadata": {},
   "outputs": [],
   "source": []
  },
  {
   "cell_type": "markdown",
   "metadata": {},
   "source": [
    "### Import the data\n",
    "\n",
    "The data file can be found in `lecture-python/data` directory and is called `athlete_events.csv`. This file in the csv format. Create a pandas dataframe `df` from the csv file, and print the first 5 rows of the data."
   ]
  },
  {
   "cell_type": "code",
   "execution_count": null,
   "metadata": {
    "scrolled": true
   },
   "outputs": [],
   "source": []
  },
  {
   "cell_type": "markdown",
   "metadata": {},
   "source": [
    "## 1. Data exploration (10pts)"
   ]
  },
  {
   "cell_type": "markdown",
   "metadata": {},
   "source": [
    "**1.1 Basic quantities.** The first step to get familiar with the dataset is to look at basic quantities. Please provide:\n",
    " 1. List of years with olympic games\n",
    " 1. number of countries, defined as a unique National Olympic Commitee identifier (NOC), over the entire period\n",
    " 1. number of sports over the entire period\n",
    " 1. number of sport for each season, over the entire period\n",
    " 1. fraction of male and female over the entire period"
   ]
  },
  {
   "cell_type": "code",
   "execution_count": null,
   "metadata": {},
   "outputs": [],
   "source": []
  },
  {
   "cell_type": "markdown",
   "metadata": {},
   "source": [
    "**1.2 Biological data.** A first point of view to explore these data could be to focus on biological caracteristics of athletes. In that purpose, produce the following plots:\n",
    "\n",
    " 1. Weight *v.s.* height *v.s.* age for both men and women (best graphical representation to be chosen)\n",
    " 1. Height *v.s* time for both men and women\n",
    " 1. Weight *v.s* time for both men and women\n",
    " 1. Age *v.s* time for both men and women\n",
    "\n",
    "What do you observe for the last 3 points? How can you explain this observation?"
   ]
  },
  {
   "cell_type": "code",
   "execution_count": null,
   "metadata": {},
   "outputs": [],
   "source": []
  },
  {
   "cell_type": "markdown",
   "metadata": {},
   "source": [
    "**1.3 Parity data.** One can also look how the presence of women in Olympic Games evovled with time. To address this question, please produce the following plots:\n",
    "\n",
    " 1. fraction male/female as function of time\n",
    " 1. fraction of male/female, for each sport for 2014, and 2016 separately"
   ]
  },
  {
   "cell_type": "code",
   "execution_count": null,
   "metadata": {},
   "outputs": [],
   "source": []
  },
  {
   "cell_type": "markdown",
   "metadata": {},
   "source": [
    "**1.4. Medals.** In order to have a better overview of game winners, one can explore how the gold, sylver and bronze medals are distributed accross countries, sport, etc ... Produce the following plots:\n",
    "\n",
    " 1. Histogram of medal type accross all athelete-events\n",
    " 1. Which sport has more medals? Does it change with time?\n",
    " 1. Number of countries versus time? gold/silver/bronze for each across countries? does it change with time?\n",
    " \n",
    "*HINT:* it may be useful to create categorical variable assicated to the type of won medal."
   ]
  },
  {
   "cell_type": "code",
   "execution_count": null,
   "metadata": {},
   "outputs": [],
   "source": []
  },
  {
   "cell_type": "markdown",
   "metadata": {},
   "source": [
    "## 2. Modelling a 2D correlation (5ps)\n",
    "\n",
    "**2.1.** Define analytical function `model_height(weight, *params)` that would well describe the average behaviour of heights *v.s* weights. This function will have some free parameters `*params` to be latter adjusted. "
   ]
  },
  {
   "cell_type": "code",
   "execution_count": null,
   "metadata": {},
   "outputs": [],
   "source": []
  },
  {
   "cell_type": "markdown",
   "metadata": {},
   "source": [
    "**2.2.** Define bins of weights, for each bin compute the averaged weight and the average height. Store them into two arrays, `meanW` and `meanH`."
   ]
  },
  {
   "cell_type": "code",
   "execution_count": null,
   "metadata": {},
   "outputs": [],
   "source": []
  },
  {
   "cell_type": "markdown",
   "metadata": {},
   "source": [
    "**2.3.** Define a cost function of your choice, quantifiying the difference between the function predicting the average weights and the observed average weights, for all heights."
   ]
  },
  {
   "cell_type": "code",
   "execution_count": null,
   "metadata": {},
   "outputs": [],
   "source": []
  },
  {
   "cell_type": "markdown",
   "metadata": {},
   "source": [
    "**2.4.** Using `scipy.minimize` function, find set of parameters `*params` that minimize the cost function."
   ]
  },
  {
   "cell_type": "code",
   "execution_count": null,
   "metadata": {},
   "outputs": [],
   "source": []
  },
  {
   "cell_type": "markdown",
   "metadata": {},
   "source": [
    "**2.5.** Overlay on the same plot: the cloud of points, the computed average and the predicted average. Wat do you conclude about your choice of analytical function?"
   ]
  },
  {
   "cell_type": "code",
   "execution_count": null,
   "metadata": {},
   "outputs": [],
   "source": []
  },
  {
   "cell_type": "markdown",
   "metadata": {},
   "source": [
    "**2.6.** Repeat the exercise with this binning `[25, 75, 125, 250]` and this function $h(w) = p_0 + p_1 x$, just to get a result to be compared with others."
   ]
  },
  {
   "cell_type": "code",
   "execution_count": null,
   "metadata": {},
   "outputs": [],
   "source": []
  },
  {
   "cell_type": "markdown",
   "metadata": {},
   "source": [
    "## 3. Toward building a n-dimenstional predictive model (5pts+3pts)\n",
    "\n",
    "**3.1.** Define two populations, athelete-event with and without a medal, and find and plot few distributions that shows some discriminating power for these two populations.\n",
    "\n",
    "**3.2. BONUS QUESTION.** Using the library of you choice, try to build a model that predict the probablity to win medal for a given athelete."
   ]
  },
  {
   "cell_type": "code",
   "execution_count": null,
   "metadata": {},
   "outputs": [],
   "source": []
  }
 ],
 "metadata": {
  "kernelspec": {
   "display_name": "Python 3",
   "language": "python",
   "name": "python3"
  },
  "language_info": {
   "codemirror_mode": {
    "name": "ipython",
    "version": 3
   },
   "file_extension": ".py",
   "mimetype": "text/x-python",
   "name": "python",
   "nbconvert_exporter": "python",
   "pygments_lexer": "ipython3",
   "version": "3.8.5"
  }
 },
 "nbformat": 4,
 "nbformat_minor": 4
}
