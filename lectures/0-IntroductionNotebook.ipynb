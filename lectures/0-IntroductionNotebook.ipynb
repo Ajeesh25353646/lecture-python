{
 "cells": [
  {
   "cell_type": "markdown",
   "metadata": {},
   "source": [
    "# Practical Introduction to Jupyter Notebook"
   ]
  },
  {
   "cell_type": "markdown",
   "metadata": {},
   "source": [
    "> **Skills to take away**\n",
    ">\n",
    "> + *basic*: create a new notebook, create a cell, choose cell type, write/execute code cells, write simple text cells.\n",
    "> + *medium*: use python help for module and functions, basic formatting of text in markdown\n",
    "> + *expert*: advanced formatting (table, links, code, quotation, equations with LaTex, ...)"
   ]
  },
  {
   "cell_type": "markdown",
   "metadata": {},
   "source": [
    "## What is a notebook"
   ]
  },
  {
   "cell_type": "markdown",
   "metadata": {},
   "source": [
    "A notebook is environment combining code edition/execution and text edition (for documentation, anotation, etc ...) with nice formatting options. The basic element of a notebook is a **cell**, which can be either a **code cell** or a **markdown cell** (as seen later in this chapter, *markdown* is a system to format text using raw text only). The creation of a new cell can done using the \"plus\" button in the top menu, the type of the cell (code or markdown) can be selected using the drop-down menu (there are actually more categories but only code and markdown matters). They are few keyboard shortcuts which are all accessible using the small \"keyboard button\" in the top menu."
   ]
  },
  {
   "cell_type": "markdown",
   "metadata": {},
   "source": [
    "## Cells of code"
   ]
  },
  {
   "cell_type": "markdown",
   "metadata": {},
   "source": [
    "### Input and output\n",
    "\n",
    "There is an example of cell code just below, in which two variables are defined ($x$ and $y$) first and the sum is computed. To execute the code of this cell, one can do `SHIFT`+`ENTER` (or click on \"run\" button in the top menu - less convenient)."
   ]
  },
  {
   "cell_type": "code",
   "execution_count": 1,
   "metadata": {},
   "outputs": [
    {
     "data": {
      "text/plain": [
       "5"
      ]
     },
     "execution_count": 1,
     "metadata": {},
     "output_type": "execute_result"
    }
   ],
   "source": [
    "# Variable definition\n",
    "x = 2\n",
    "y = 3\n",
    "\n",
    "# Compute the sum\n",
    "x + y"
   ]
  },
  {
   "cell_type": "markdown",
   "metadata": {},
   "source": [
    "The output of the last instruction is displayed after the mention `Out[CellNumber]`, while the input (*i.e.* the code itself) in the cell is after the mention `In[CellNumber]`. Note that if this code would be executed as normal python file, they would be no output in the terminal: *this behaviour is specific to notebooks*. If the last instruction doesn't produce any result, nothing is displayed at the execution of the cell:"
   ]
  },
  {
   "cell_type": "code",
   "execution_count": 2,
   "metadata": {},
   "outputs": [],
   "source": [
    "x = 4"
   ]
  },
  {
   "cell_type": "markdown",
   "metadata": {},
   "source": [
    "If we want to remove the output of the last instruction (can be useful when doing plots), we can use a `;` at the end of the last instruction:"
   ]
  },
  {
   "cell_type": "code",
   "execution_count": 3,
   "metadata": {},
   "outputs": [],
   "source": [
    "# Variable definition\n",
    "x = 2\n",
    "y = 3\n",
    "\n",
    "# Compute the sum\n",
    "x + y;"
   ]
  },
  {
   "cell_type": "markdown",
   "metadata": {},
   "source": [
    "If the code actually prints something (as it would do in a terminal), then the same thing will be printed in the notebook but the without the mention `Out[CellNumber]`:"
   ]
  },
  {
   "cell_type": "code",
   "execution_count": 4,
   "metadata": {},
   "outputs": [
    {
     "name": "stdout",
     "output_type": "stream",
     "text": [
      "5\n"
     ]
    }
   ],
   "source": [
    "# Variable definition\n",
    "x = 2\n",
    "y = 3\n",
    "\n",
    "# Compute and print the sum\n",
    "print(x + y)"
   ]
  },
  {
   "cell_type": "markdown",
   "metadata": {},
   "source": [
    "### Be careful: order of execution matters!"
   ]
  },
  {
   "cell_type": "markdown",
   "metadata": {},
   "source": [
    "When working with notebooks, we usually have several cells having each their piece of code. This induces a counter-intuitive behaviour which can cause mistakes if cells are not executed in the proper order. An example is given below:"
   ]
  },
  {
   "cell_type": "code",
   "execution_count": 5,
   "metadata": {},
   "outputs": [
    {
     "name": "stdout",
     "output_type": "stream",
     "text": [
      "5\n"
     ]
    }
   ],
   "source": [
    "## CODE 1\n",
    "x = 2\n",
    "y = 3\n",
    "print(x+y)"
   ]
  },
  {
   "cell_type": "code",
   "execution_count": 6,
   "metadata": {},
   "outputs": [
    {
     "name": "stdout",
     "output_type": "stream",
     "text": [
      "13\n"
     ]
    }
   ],
   "source": [
    "## CODE 2\n",
    "x = 10\n",
    "print(x+y)"
   ]
  },
  {
   "cell_type": "code",
   "execution_count": 7,
   "metadata": {},
   "outputs": [
    {
     "name": "stdout",
     "output_type": "stream",
     "text": [
      "20\n"
     ]
    }
   ],
   "source": [
    "## CODE 3\n",
    "y = 10\n",
    "print(x+y)"
   ]
  },
  {
   "cell_type": "markdown",
   "metadata": {},
   "source": [
    "The order of the execution impact the final results:\n",
    " + 1 -> 2 -> 3 leads to 5, 13, 20\n",
    " + 1 -> 3 -> 2 leads to 5, 20, 12\n",
    " \n",
    "This is again specific to notebooks: the value of a variable in memory is used at the time when a cell is executed. In a normal python file, every instructions is executed from A to Z when the command `python myCode.py` is launched in a terminal."
   ]
  },
  {
   "cell_type": "markdown",
   "metadata": {},
   "source": [
    "### A realistic example with several code cells\n",
    "\n",
    "Usually, we can use the cell structure to organize the code. The following example shows a first cell containing initialization of some variable, a second cell with the main function defined, and a third cell with a code using both initialized variable and the function."
   ]
  },
  {
   "cell_type": "code",
   "execution_count": 8,
   "metadata": {},
   "outputs": [],
   "source": [
    "n1 = 10\n",
    "n2 = 50\n",
    "n3 = 99"
   ]
  },
  {
   "cell_type": "code",
   "execution_count": 9,
   "metadata": {},
   "outputs": [],
   "source": [
    "def SumUpToN(n):\n",
    "    '''\n",
    "    This function returns the sum of the n first integers:\n",
    "       sum = 1 + 2 + ... + n\n",
    "    '''\n",
    "    \n",
    "    # Initisalisation\n",
    "    s = 0\n",
    "    \n",
    "    # Loop over from to n\n",
    "    for i in range(n+1):\n",
    "         s = s + i\n",
    "            \n",
    "    # Return the result\n",
    "    return s"
   ]
  },
  {
   "cell_type": "code",
   "execution_count": 10,
   "metadata": {},
   "outputs": [
    {
     "name": "stdout",
     "output_type": "stream",
     "text": [
      "n = 10 --> SUM = 55\n",
      "n = 50 --> SUM = 1275\n",
      "n = 99 --> SUM = 4950\n"
     ]
    }
   ],
   "source": [
    "for n in [n1, n2, n3]:\n",
    "    print('n = {} --> SUM = {}'.format(n, SumUpToN(n)))"
   ]
  },
  {
   "cell_type": "markdown",
   "metadata": {},
   "source": [
    "### Example with plots\n",
    "\n",
    "Relatively often, doing plots is a valuable approach to demonstrate a point or gain intuition on data. Jupyter notebooks allow to display plots which is produced by a code, as shown by the example below."
   ]
  },
  {
   "cell_type": "code",
   "execution_count": 11,
   "metadata": {},
   "outputs": [
    {
     "data": {
      "image/png": "[encoded data removed]",
      "text/plain": [
       "<Figure size 432x288 with 1 Axes>"
      ]
     },
     "metadata": {
      "needs_background": "light"
     },
     "output_type": "display_data"
    }
   ],
   "source": [
    "# import python plotting tool\n",
    "import matplotlib.pyplot as plt\n",
    "\n",
    "# Define its behaviour in the notebook.\n",
    "# Note: this command needs to be run once per notebook, note per cell.\n",
    "%matplotlib inline\n",
    "\n",
    "# Define Xs = [0, 1, ... 50].\n",
    "Xs = range(50)\n",
    "\n",
    "# Define Ys = [SumUpToN(0), SumUpToN(1), ..., SumUpToN(50)].\n",
    "Ys = [SumUpToN(x) for x in Xs]\n",
    "\n",
    "# Plot Ys vs Xs.\n",
    "plt.plot(Xs, Ys)\n",
    "\n",
    "# Add label to x-axis.\n",
    "# Mote the \";\" to avoid to have line printed (try without to check).\n",
    "plt.xlabel('N')\n",
    "plt.ylabel('Sum of intergers up to N');"
   ]
  },
  {
   "cell_type": "markdown",
   "metadata": {},
   "source": [
    "### How to use python documentation\n",
    "\n",
    "Python libraries come with a documentation, both at the package level and a the function level (a package is a group of defined functions; numpy is package). It is possible to access the documentation while coding directly in the notebook. The example shows how to print the help of a given function from numpy (used to generate random numbers between 0 and 1)."
   ]
  },
  {
   "cell_type": "code",
   "execution_count": 12,
   "metadata": {
    "scrolled": false
   },
   "outputs": [
    {
     "name": "stdout",
     "output_type": "stream",
     "text": [
      "Help on built-in function rand:\n",
      "\n",
      "rand(...) method of mtrand.RandomState instance\n",
      "    rand(d0, d1, ..., dn)\n",
      "    \n",
      "    Random values in a given shape.\n",
      "    \n",
      "    Create an array of the given shape and populate it with\n",
      "    random samples from a uniform distribution\n",
      "    over ``[0, 1)``.\n",
      "    \n",
      "    Parameters\n",
      "    ----------\n",
      "    d0, d1, ..., dn : int, optional\n",
      "        The dimensions of the returned array, should all be positive.\n",
      "        If no argument is given a single Python float is returned.\n",
      "    \n",
      "    Returns\n",
      "    -------\n",
      "    out : ndarray, shape ``(d0, d1, ..., dn)``\n",
      "        Random values.\n",
      "    \n",
      "    See Also\n",
      "    --------\n",
      "    random\n",
      "    \n",
      "    Notes\n",
      "    -----\n",
      "    This is a convenience function. If you want an interface that\n",
      "    takes a shape-tuple as the first argument, refer to\n",
      "    np.random.random_sample .\n",
      "    \n",
      "    Examples\n",
      "    --------\n",
      "    >>> np.random.rand(3,2)\n",
      "    array([[ 0.14022471,  0.96360618],  #random\n",
      "           [ 0.37601032,  0.25528411],  #random\n",
      "           [ 0.49313049,  0.94909878]]) #random\n",
      "\n"
     ]
    }
   ],
   "source": [
    "import numpy as np\n",
    "help(np.random.rand)"
   ]
  },
  {
   "cell_type": "markdown",
   "metadata": {},
   "source": [
    "It is also possible to write a documentation for the function that we define in the notebook, *via* the **docstring** (text at the begining of the function which is between `'''`). This documentation is also accessible on-the-fly thanks to the keyboad `SHIFT`+`TAB` when the cursor is after the first parenthesis, or can be printed using `help(SumUpToN)`"
   ]
  },
  {
   "cell_type": "code",
   "execution_count": 13,
   "metadata": {},
   "outputs": [
    {
     "name": "stdout",
     "output_type": "stream",
     "text": [
      "Help on function SumUpToN in module __main__:\n",
      "\n",
      "SumUpToN(n)\n",
      "    This function returns the sum of the n first integers:\n",
      "       sum = 1 + 2 + ... + n\n",
      "\n"
     ]
    }
   ],
   "source": [
    "help(SumUpToN)"
   ]
  },
  {
   "cell_type": "markdown",
   "metadata": {},
   "source": [
    "## Cells of text\n",
    "\n",
    "The cells of text are used to document the notebook, *e.g.* explaining what is the goal of the next cell of code or describing the context of the analysis done in the whole notebook. Several syntax are supported by notebooks to format the text, and only the main features will be presented here. One can remember the markdown for most of the formating style and basic $\\LaTeX$ for mathematical symbols and equations. Note that HTML sytntax is also supported."
   ]
  },
  {
   "cell_type": "markdown",
   "metadata": {},
   "source": [
    "### The markdown syntax\n",
    "\n",
    "+ `*italic text*` $\\to$ *italic text*\n",
    "+ `**bold text**` $\\to$  **bold text**\n",
    "+ ``` `line of code` ``` $\\to$  `line of code`\n",
    "+ `[link](url)` $\\to$ [link](url)\n",
    "+ `![name](image.jpg)` $\\to$ include an image in the notebook\n",
    "+ Table formating:\n",
    "```\n",
    "| col1 | col2 |\n",
    "|------|------|\n",
    "|   y  |   n  |\n",
    "|   y  |   y  |\n",
    "|   n  |   n  |\n",
    "```\n",
    "\n",
    "renders as\n",
    "\n",
    "| col1 | col2 |\n",
    "|------|------|\n",
    "|   y  |   n  |\n",
    "|   y  |   y  |\n",
    "|   n  |   n  |\n",
    "\n",
    " + headers are done using `#` symbols at the begining of a cell:\n",
    " ```\n",
    " # Title\n",
    " blabla\n",
    " ## Subtitle\n",
    " blabla\n",
    " ### subsubtitle\n",
    " blabla\n",
    " ```\n",
    " renders as"
   ]
  },
  {
   "cell_type": "markdown",
   "metadata": {},
   "source": [
    "<hr>\n",
    " \n",
    " # Title\n",
    " blabla\n",
    " ## Subtitle\n",
    " blabla\n",
    " ### subsubtitle\n",
    " blabla\n",
    " \n",
    " <hr>"
   ]
  },
  {
   "cell_type": "markdown",
   "metadata": {},
   "source": [
    "   + We can also put some code in a markdown cell, but it will not be executed. This can be done with such a block, where the langage can be specifed too:\n",
    "\n",
    "<pre>    \n",
    "```python\n",
    "# Python code\n",
    "list = [0, 1, 2, 3]\n",
    "for i in list:\n",
    "    print(i)\n",
    "```\n",
    "</pre>\n",
    "\n",
    "\n",
    "renders as \n",
    "\n",
    "\n",
    "```python\n",
    "# Python code\n",
    "list = [0, 1, 2, 3]\n",
    "for i in list:\n",
    "    print(i)\n",
    "```\n",
    "\n",
    "   + it is also possible to use quotation-like formatting:\n",
    "```\n",
    "> One day, one man said this would be a nice quotation.\n",
    ">\n",
    "> Romain M.\n",
    "```\n",
    "\n",
    "renders as\n",
    "\n",
    "> One day, one man said this would be a nice quotation.\n",
    ">\n",
    "> Romain M.\n"
   ]
  },
  {
   "cell_type": "markdown",
   "metadata": {},
   "source": [
    "### Typical use of LaTeX\n",
    "\n",
    "$\\LaTeX$ is a (very rich) langage on its own to format text and it will not be touched in here. The typical needs for $\\LaTeX$ in notebooks is for mathematical symbols and equations. For example:\n",
    "```\n",
    "$$\n",
    "\\sum_{i=0}^{n} i^2 \\neq \\int^{\\infty}_{0} \\varphi \\times f(\\theta) \\times \\sin\\left(\\frac{\\pi x}{x+1}\\right) \\, \\mathrm{d}x\n",
    "$$\n",
    "```\n",
    "renders as\n",
    "\n",
    "$$\n",
    "\\sum_{i=0}^{n} i^2 \\neq \\int^{\\infty}_{0} \\varphi \\times f(\\theta) \\times \\sin\\left(\\frac{\\pi x}{x+1}\\right) \\, \\mathrm{d}x\n",
    "$$\n",
    "\n",
    "\n"
   ]
  },
  {
   "cell_type": "markdown",
   "metadata": {},
   "source": [
    "### Typical use of HTML\n",
    "\n",
    "The same command stands for HTML too: this is a rich langage on its own (together with CSS) and it will not be touched here. Just keep in mind that you can use it to do some cosmetics. For example:\n",
    "\n",
    "```\n",
    "<div style=\"color:white;background:blue;width:50%;padding:10px;font-size:18px;text-align:center\">\n",
    "This is a block with a HTML + CSS style!\n",
    "</div>\n",
    "```\n",
    "renders as\n",
    "\n",
    "<div style=\"color:white;background:blue;width:50%;padding:10px;font-size:18px;text-align:center\">\n",
    "This is a block with a HTML + CSS style!\n",
    "</div>"
   ]
  }
 ],
 "metadata": {
  "kernelspec": {
   "display_name": "Python 3",
   "language": "python",
   "name": "python3"
  },
  "language_info": {
   "codemirror_mode": {
    "name": "ipython",
    "version": 3
   },
   "file_extension": ".py",
   "mimetype": "text/x-python",
   "name": "python",
   "nbconvert_exporter": "python",
   "pygments_lexer": "ipython3",
   "version": "3.8.5"
  }
 },
 "nbformat": 4,
 "nbformat_minor": 2
}
