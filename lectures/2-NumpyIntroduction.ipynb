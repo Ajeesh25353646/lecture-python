{
 "cells": [
  {
   "cell_type": "markdown",
   "metadata": {},
   "source": [
    "# Basic introduction to NumPy\n",
    "\n",
    "**Why numpy?** Numpy stands for *numerical python* and is highly optimized (and then fast) for computations in python. Numpy is one of the core package on which many others are based on, such as scipy (for *scientific python*), matplotlib or pandas (described at the end of this chapter). A lot of other scientific tools are also based on numpy and that justifies to have - at least - a basic understanding of how it works. Very well, but one could also ask why using python?\n",
    "\n",
    "**Why python?** Depending on your preferences and your purposes, python can be a very good option or not (of course this is largely a matter of taste and not everyone agrees with this statement). In any case, many tools are available in python, scanning a very broad spectrum of applications, from machine learning to web design or string processing."
   ]
  },
  {
   "cell_type": "markdown",
   "metadata": {},
   "source": [
    "## The core object: arrays\n",
    "\n",
    "The core of numpy is the called numpy array. These objects allow to efficiently perform computations over large dataset in a very consise way from the language point of view, and very fast from the processing time point of view. The price to pay is to give up explicit *for* loops. This lead to somehow a counter intuitive logic - at first.\n",
    "\n",
    "### Main differences with usual python lists\n",
    "\n",
    "The first point is to differenciate numpy array from python list, since they don't behave in the same way. Let's define two python lists and the two equivalent numpy arrays."
   ]
  },
  {
   "cell_type": "code",
   "execution_count": 1,
   "metadata": {},
   "outputs": [
    {
     "name": "stdout",
     "output_type": "stream",
     "text": [
      "[1, 2, 3] [3, 4, 5]\n"
     ]
    }
   ],
   "source": [
    "import numpy as np\n",
    "l1, l2 = [1, 2, 3], [3, 4, 5]\n",
    "a1, a2 = np.array([1, 2, 3]), np.array([3, 4, 5])\n",
    "print(l1, l2)"
   ]
  },
  {
   "cell_type": "markdown",
   "metadata": {},
   "source": [
    "First of all, all mathematical operations act element by element in a numpy array. For python list, the addition acts as a concatenation of the lists, and a multiplication by a scalar acts as a replication of the lists:"
   ]
  },
  {
   "cell_type": "code",
   "execution_count": 2,
   "metadata": {},
   "outputs": [
    {
     "name": "stdout",
     "output_type": "stream",
     "text": [
      "python lists: [1, 2, 3, 3, 4, 5]\n",
      "numpy arrays: [4 6 8]\n"
     ]
    }
   ],
   "source": [
    "# obj1+obj2\n",
    "print('python lists: {}'.format(l1+l2))\n",
    "print('numpy arrays: {}'.format(a1+a2))"
   ]
  },
  {
   "cell_type": "code",
   "execution_count": 3,
   "metadata": {},
   "outputs": [
    {
     "name": "stdout",
     "output_type": "stream",
     "text": [
      "python list: [1, 2, 3, 1, 2, 3, 1, 2, 3]\n",
      "numpy array: [3 6 9]\n"
     ]
    }
   ],
   "source": [
    "# obj*3\n",
    "print('python list: {}'.format(l1*3))\n",
    "print('numpy array: {}'.format(a1*3))"
   ]
  },
  {
   "cell_type": "markdown",
   "metadata": {},
   "source": [
    "One other important difference is about the way to access element of an array, the so called slicing and indexing. Here the behaviour of python list and numpy arrays are closer expect that numpy array supports few more features, such as indexing by an array of integer (which doesn't work for python lists). Use cases of such indexing will be heavily illustrated in the next chapters."
   ]
  },
  {
   "cell_type": "code",
   "execution_count": 4,
   "metadata": {},
   "outputs": [
    {
     "name": "stdout",
     "output_type": "stream",
     "text": [
      "python list: 2\n",
      "numpy array: 2\n"
     ]
    }
   ],
   "source": [
    "# Indexing with an integer: obj[1]\n",
    "print('python list: {}'.format(l1[1]))\n",
    "print('numpy array: {}'.format(a1[1]))"
   ]
  },
  {
   "cell_type": "code",
   "execution_count": 5,
   "metadata": {},
   "outputs": [
    {
     "name": "stdout",
     "output_type": "stream",
     "text": [
      "python list: [2, 3]\n",
      "numpy array: [2, 3]\n"
     ]
    }
   ],
   "source": [
    "# Indexing with a slicing: obj[slice(1,3))]\n",
    "print('python list: {}'.format(l1[slice(1,3)]))\n",
    "print('numpy array: {}'.format(l1[slice(1,3)]))"
   ]
  },
  {
   "cell_type": "code",
   "execution_count": 6,
   "metadata": {},
   "outputs": [
    {
     "name": "stdout",
     "output_type": "stream",
     "text": [
      "python list: IMPOSSIBLE\n",
      "numpy array: [1 3]\n"
     ]
    }
   ],
   "source": [
    "# Indexing with a list of integers: obj[[0,2]]\n",
    "print('python list: IMPOSSIBLE')\n",
    "print('numpy array: {}'.format(a1[[0,2]]))"
   ]
  },
  {
   "cell_type": "markdown",
   "metadata": {},
   "source": [
    "### Main caracteristics of an array\n",
    "\n",
    "The strenght of numpy array is to be multidimensional. This enables a description of a whole complex dataset into a single numpy array, on which one can do operations. In numpy, dimension are also called *axis*. For example, a set of 2 position in space $\\vec{r}_i$ can be seen as 2D numpy array, with the first axis being the point $i=1$ or $i=2$, and the second axis being the coordinates ($x,y,z$). There are few attributes which describe multidimentional arrays:\n",
    "\n",
    "  + `a.dtype`: type of data contained in the array\n",
    "  + `a.shape`: number of elements along each dimension (or axis)\n",
    "  + `a.size`: total number of elements (product of `a.shape` elements)\n",
    "  + `a.ndim`: number of dimensions (or axis)"
   ]
  },
  {
   "cell_type": "code",
   "execution_count": 7,
   "metadata": {},
   "outputs": [
    {
     "name": "stdout",
     "output_type": "stream",
     "text": [
      "a.dtype = int64\n",
      "a.shape = (2, 3)\n",
      "a.size  = 6\n",
      "a.ndim  = 2\n"
     ]
    }
   ],
   "source": [
    "points = np.array([[ 0,  1, 2],\n",
    "                   [ 3,  4, 5]])\n",
    "\n",
    "print('a.dtype = {}'.format(points.dtype))\n",
    "print('a.shape = {}'.format(points.shape))\n",
    "print('a.size  = {}'.format(points.size))\n",
    "print('a.ndim  = {}'.format(points.ndim))"
   ]
  },
  {
   "cell_type": "markdown",
   "metadata": {},
   "source": [
    "## The three key features of NumPy\n",
    "\n",
    "### Vectorization\n",
    "\n",
    "The *vectorization* is a way to make computations on numpy array **without explicit loops**, which are very slow in python. The idea of vectorization is to compute a given operation *element-wise* while the operation is called on the array itself. An example is given below to compute the inverse of 100000 numbers, both with explicit loop and vectorization."
   ]
  },
  {
   "cell_type": "code",
   "execution_count": 8,
   "metadata": {},
   "outputs": [],
   "source": [
    "a = np.random.randint(low=1, high=100, size=100000)\n",
    "\n",
    "def explicit_loop_for_inverse(array):\n",
    "    res = []\n",
    "    for a in array:\n",
    "        res.append(1./a)\n",
    "    return np.array(res)"
   ]
  },
  {
   "cell_type": "code",
   "execution_count": 9,
   "metadata": {},
   "outputs": [
    {
     "name": "stdout",
     "output_type": "stream",
     "text": [
      "186 ms ± 13.8 ms per loop (mean ± std. dev. of 7 runs, 10 loops each)\n"
     ]
    }
   ],
   "source": [
    "# Using explicit loop\n",
    "%timeit explicit_loop_for_inverse(a)"
   ]
  },
  {
   "cell_type": "code",
   "execution_count": 10,
   "metadata": {},
   "outputs": [
    {
     "name": "stdout",
     "output_type": "stream",
     "text": [
      "150 ms ± 13.2 ms per loop (mean ± std. dev. of 7 runs, 10 loops each)\n"
     ]
    }
   ],
   "source": [
    "# Using list comprehension\n",
    "%timeit [1./x for x in a]"
   ]
  },
  {
   "cell_type": "code",
   "execution_count": 11,
   "metadata": {},
   "outputs": [
    {
     "name": "stdout",
     "output_type": "stream",
     "text": [
      "106 µs ± 2.65 µs per loop (mean ± std. dev. of 7 runs, 10000 loops each)\n"
     ]
    }
   ],
   "source": [
    "# Using vectorization\n",
    "%timeit 1./a"
   ]
  },
  {
   "cell_type": "markdown",
   "metadata": {},
   "source": [
    "**The suppression of explicit *for* loops is probably the most unfamiliar aspect of numpy - according to me - and deserves a bit a of practice. At the end, lines of codes becomes relatively short but ones need to properly think how to implement a given computation in a *pythonic way*.**\n",
    "\n",
    "Many standard functions are implemented in a vectorized way, they are call the *universal functions*, or `ufunc`. Few examples are given below but the full description can be found in [numpy documentation](https://docs.scipy.org/doc/numpy-1.15.1/reference/ufuncs.html)."
   ]
  },
  {
   "cell_type": "code",
   "execution_count": 12,
   "metadata": {},
   "outputs": [
    {
     "name": "stdout",
     "output_type": "stream",
     "text": [
      "a        : [72 29 76]\n",
      "a^2      : [5184  841 5776]\n",
      "a/(1-a^a): [ 7.20000000e+01 -5.24473513e-18  7.60000000e+01]\n",
      "cos(a)   : [-0.96725059 -0.74805753  0.82433133]\n",
      "exp(a)   : [1.85867175e+31 3.93133430e+12 1.01480039e+33]\n"
     ]
    }
   ],
   "source": [
    "a = np.random.randint(low=1, high=100, size=3)\n",
    "print('a        : {}'.format(a))\n",
    "print('a^2      : {}'.format(a**2))\n",
    "print('a/(1-a^a): {}'.format(a/(1-a**a)))\n",
    "print('cos(a)   : {}'.format(np.cos(a)))\n",
    "print('exp(a)   : {}'.format(np.exp(a)))"
   ]
  },
  {
   "cell_type": "markdown",
   "metadata": {},
   "source": [
    "All these ufunct can work for n-dimension arrays and can be used in a very flexible way depeding on the axis you are refering too. Indeed the mathematical operation can be performed over a different axis of the array, having a totally different meaning. Let's give a simple concrete example with a 2D array of shape (5,2), *i.e.* 5 vectors of three coordinates $(x,y,z)$  Much more examples will be discussed in the section 2."
   ]
  },
  {
   "cell_type": "code",
   "execution_count": 13,
   "metadata": {},
   "outputs": [
    {
     "name": "stdout",
     "output_type": "stream",
     "text": [
      "mean = [50.2 42.6 69.6]\n",
      "distances = [ 74.16872656  86.68909966 124.83989747  98.04590761 123.59611644]\n"
     ]
    }
   ],
   "source": [
    "# Generate 5 vectors (x,y,z)\n",
    "positions = np.random.randint(low=1, high=100, size=(5, 3))\n",
    "\n",
    "# Average of the coordinate over the 5 observations\n",
    "pos_mean = np.mean(positions, axis=0)\n",
    "print('mean = {}'.format(pos_mean))\n",
    "\n",
    "# Distance to the origin sqrt(x^2 + y^2 + z^2) for the 5 observations\n",
    "distances = np.sqrt(np.sum(positions**2, axis=1))\n",
    "print('distances = {}'.format(distances))"
   ]
  },
  {
   "cell_type": "markdown",
   "metadata": {},
   "source": [
    "**Note on matrix product.** Numpy arrays can be used to describe and manipulate matrices. There is a special way to do a matrix product instead of element-wise product. You can use `np.dot(a, b)` (or `a.dot(b)`), even if several other syntaxes are possible (like `a@b`, or equivalently `np.matmul(a, b)`). If you are interested into these features, I would recommand to read in detail the [`np.dot` documentation](https://numpy.org/devdocs/reference/generated/numpy.dot.html), because different syntax dont really correspond to the same mathematical operation (for instance, `np.matmul(a, b)` allows *broadcasting* for $2 \\times 2$ matrix product - cf. latter)."
   ]
  },
  {
   "cell_type": "code",
   "execution_count": 14,
   "metadata": {},
   "outputs": [
    {
     "name": "stdout",
     "output_type": "stream",
     "text": [
      "[[3 5]\n",
      " [2 4]]\n"
     ]
    }
   ],
   "source": [
    "a = np.array([[1, 1],\n",
    "              [1, 0]], dtype=np.int)\n",
    "\n",
    "b = np.array([[2, 4],\n",
    "              [1, 1]], dtype=np.int)\n",
    "\n",
    "print(np.dot(a, b))"
   ]
  },
  {
   "cell_type": "markdown",
   "metadata": {},
   "source": [
    "### Broadcasting\n",
    "\n",
    "The *broadcasting* is a way to compute operation between arrays of having different sizes in a implicit (and consice) manner. One concrete example could be to translate three positions $\\vec{r}_i=(x,y)_i$ by a vector $\\vec{d}_0$ simply by adding `points+d0` where `points.shape=(3,2)` and `d0.shape=(2,)`. Few examples are given below but more details are give in [this documentation](https://docs.scipy.org/doc/numpy-1.13.0/user/basics.broadcasting.html)."
   ]
  },
  {
   "cell_type": "code",
   "execution_count": 15,
   "metadata": {},
   "outputs": [
    {
     "name": "stdout",
     "output_type": "stream",
     "text": [
      "a+b = \n",
      "[6 7 8]\n"
     ]
    }
   ],
   "source": [
    "# operation between shape (3) and (1)\n",
    "a = np.array([1, 2, 3])\n",
    "b = np.array([5])\n",
    "print('a+b = \\n{}'.format(a+b))"
   ]
  },
  {
   "cell_type": "code",
   "execution_count": 16,
   "metadata": {},
   "outputs": [
    {
     "name": "stdout",
     "output_type": "stream",
     "text": [
      "a+b = \n",
      "[[5 6 7]\n",
      " [6 7 8]]\n"
     ]
    }
   ],
   "source": [
    "# operation between shape (3) and (1,2)\n",
    "a = np.array([1, 2, 3])\n",
    "b = np.array([\n",
    "              [4],\n",
    "              [5],\n",
    "             ])\n",
    "print('a+b = \\n{}'.format(a+b))"
   ]
  },
  {
   "cell_type": "code",
   "execution_count": 17,
   "metadata": {},
   "outputs": [
    {
     "name": "stdout",
     "output_type": "stream",
     "text": [
      "points:\n",
      " [[ 0.24333406 -0.80020589]\n",
      " [ 1.06124037  0.11580338]\n",
      " [ 0.52607555 -1.94077365]]\n",
      "\n",
      "points+d0:\n",
      " [[1.24333406 3.19979411]\n",
      " [2.06124037 4.11580338]\n",
      " [1.52607555 2.05922635]]\n"
     ]
    }
   ],
   "source": [
    "# Translating 3 2D vectors by d0=(1,4)\n",
    "points = np.random.normal(size=(3, 2))\n",
    "d0 = np.array([1, 4])\n",
    "print('points:\\n {}\\n'.format(points))\n",
    "print('points+d0:\\n {}'.format(points+d0))"
   ]
  },
  {
   "cell_type": "markdown",
   "metadata": {},
   "source": [
    "Not all shapes can be combined together and there are *broadcasting rules*, which are (quoting the [numpy documentation](https://docs.scipy.org/doc/numpy-1.15.0/user/basics.broadcasting.html)):\n",
    "\n",
    "> When operating on two arrays, NumPy compares their shapes element-wise. It starts with the trailing dimensions, and works its way forward. Two dimensions are compatible when\n",
    "> \n",
    ">   1. they are equal, or\n",
    ">   2. one of them is 1\n",
    "  \n",
    "In a failing case, one can then add a new *empty axis* `np.newaxis` to an array to make their dimension equal and then the broadcasting possible. Here is a very simle example:"
   ]
  },
  {
   "cell_type": "code",
   "execution_count": 18,
   "metadata": {},
   "outputs": [],
   "source": [
    "a = np.arange(10).reshape(2,5)\n",
    "b = np.array([10,20])"
   ]
  },
  {
   "cell_type": "code",
   "execution_count": 19,
   "metadata": {},
   "outputs": [
    {
     "name": "stdout",
     "output_type": "stream",
     "text": [
      "Impossible for (2, 5) and (2,)\n"
     ]
    }
   ],
   "source": [
    "try:\n",
    "    res = a+b\n",
    "    print('Possible for {} and {}:'.format(a.shape, b.shape))\n",
    "    print('a+b = \\n {}'.format(res))\n",
    "except ValueError:\n",
    "    print('Impossible for {} and {}'.format(a.shape, b.shape))"
   ]
  },
  {
   "cell_type": "code",
   "execution_count": 20,
   "metadata": {},
   "outputs": [
    {
     "name": "stdout",
     "output_type": "stream",
     "text": [
      "Possible for (2, 5) and (2, 1):\n",
      "a+c = \n",
      " [[10 11 12 13 14]\n",
      " [25 26 27 28 29]]\n"
     ]
    }
   ],
   "source": [
    "c = b[:, np.newaxis]\n",
    "try: \n",
    "    res = a+c\n",
    "    print('Possible for {} and {}:'.format(a.shape, c.shape))\n",
    "    print('a+c = \\n {}'.format(res))\n",
    "except ValueError:\n",
    "    print('Broadcasting for {} and {}'.format(a.shape, c.shape))"
   ]
  },
  {
   "cell_type": "markdown",
   "metadata": {},
   "source": [
    "### Working with sub-arrays: slicing, indexing and mask (or selection)\n",
    "\n",
    "As mentioned eariler, *slicing and indexing* are ways to access elements or sub-arrays in a smart way. Python allows slicing with `Slice()` object but `numpy` allows to push the logic much further with what is called *fancy indexing*. Few examples are given below and for more details, please have a look to [this documentation page](https://docs.scipy.org/doc/numpy-1.15.1/reference/arrays.indexing.html).\n",
    "\n",
    "**Rule 1:** the syntax is `a[i]` to access the ith element. It is also possible to go from the last element using negative indices: `a[-1]` is the last element."
   ]
  },
  {
   "cell_type": "code",
   "execution_count": 21,
   "metadata": {},
   "outputs": [
    {
     "name": "stdout",
     "output_type": "stream",
     "text": [
      "a = [26 15 60 38 79 78 12 27 86 14]\n",
      "a[2] = 60\n",
      "a[-1] = 14\n",
      "a[[1, 2, 5]] = [15 60 78]\n"
     ]
    }
   ],
   "source": [
    "a = np.random.randint(low=1, high=100, size=10)\n",
    "print('a = {}'.format(a))\n",
    "print('a[2] = {}'.format(a[2]))\n",
    "print('a[-1] = {}'.format(a[-1]))\n",
    "print('a[[1, 2, 5]] = {}'.format(a[[1, 2, 5]]))"
   ]
  },
  {
   "cell_type": "markdown",
   "metadata": {},
   "source": [
    "**Rule 2:** numpy also support array of indices. If the index array is multi-dimensional, the returned array will have the same dimension as the indices array."
   ]
  },
  {
   "cell_type": "code",
   "execution_count": 22,
   "metadata": {
    "scrolled": false
   },
   "outputs": [
    {
     "name": "stdout",
     "output_type": "stream",
     "text": [
      "indices =\n",
      " [[0 1]\n",
      " [2 3]\n",
      " [4 5]]\n",
      "a[indices] =\n",
      " [[26 15]\n",
      " [60 38]\n",
      " [79 78]]\n"
     ]
    }
   ],
   "source": [
    "# Small n-dimensional indices array: 3 arrays of 2 elements\n",
    "indices = np.arange(6).reshape(3,2)\n",
    "print('indices =\\n {}'.format(indices))\n",
    "print('a[indices] =\\n {}'.format(a[indices]))"
   ]
  },
  {
   "cell_type": "code",
   "execution_count": 23,
   "metadata": {},
   "outputs": [
    {
     "name": "stdout",
     "output_type": "stream",
     "text": [
      "indices_big =\n",
      " [[[3 1]\n",
      "  [4 2]\n",
      "  [1 7]]\n",
      "\n",
      " [[4 6]\n",
      "  [7 6]\n",
      "  [0 4]]]\n",
      "a[indices_big] =\n",
      " [[[38 15]\n",
      "  [79 60]\n",
      "  [15 27]]\n",
      "\n",
      " [[79 12]\n",
      "  [27 12]\n",
      "  [26 79]]]\n"
     ]
    }
   ],
   "source": [
    "# Playing with n-dimensional indices array: 2 arrays of (10, 10) arrays\n",
    "indices_big = np.random.randint(low=0, high=10, size=(2, 3, 2))\n",
    "print('indices_big =\\n {}'.format(indices_big))\n",
    "print('a[indices_big] =\\n {}'.format(a[indices_big]))"
   ]
  },
  {
   "cell_type": "markdown",
   "metadata": {},
   "source": [
    "**Rule 3:** There is a smart way to access sub-arrays with the syntax `a[min:max:step]`. In that way, it's for example very easy to take one element over two (`step=2`), or reverse the order of an array (`step=-1`). This syntax works also for n-dimensional array, where each dimension is sperated by a comma. An example is given for a 1D array and for a 3D array of shape (5, 2, 3) - that can considered as 5 observations of 2 positions in space."
   ]
  },
  {
   "cell_type": "code",
   "execution_count": 24,
   "metadata": {},
   "outputs": [
    {
     "name": "stdout",
     "output_type": "stream",
     "text": [
      "full array a              = [10 31 61 38  1 17 59 24  3 61]\n",
      "from 0 to 1: a[:2]        = [10 31]\n",
      "from 4 to end: a[4:]      = [ 1 17 59 24  3 61]\n",
      "reverse order: a[::-1]    = [61  3 24 59 17  1 38 61 31 10]\n",
      "all even elements: a[::2] = [10 61  1 59  3]\n"
     ]
    }
   ],
   "source": [
    "# 1D array\n",
    "a = np.random.randint(low=1, high=100, size=10)\n",
    "print('full array a              = {}'.format(a))\n",
    "print('from 0 to 1: a[:2]        = {}'.format(a[:2]))\n",
    "print('from 4 to end: a[4:]      = {}'.format(a[4:]))\n",
    "print('reverse order: a[::-1]    = {}'.format(a[::-1]))\n",
    "print('all even elements: a[::2] = {}'.format(a[::2]))"
   ]
  },
  {
   "cell_type": "code",
   "execution_count": 25,
   "metadata": {
    "scrolled": false
   },
   "outputs": [
    {
     "name": "stdout",
     "output_type": "stream",
     "text": [
      "a = \n",
      "[[[20  0  7]\n",
      "  [93 24  4]]\n",
      "\n",
      " [[43 65 46]\n",
      "  [97 59 57]]\n",
      "\n",
      " [[86  2 85]\n",
      "  [31  0 57]]\n",
      "\n",
      " [[46  1 94]\n",
      "  [98 65  6]]\n",
      "\n",
      " [[81 15  3]\n",
      "  [88 47 90]]]\n"
     ]
    }
   ],
   "source": [
    "# 3D array\n",
    "a = np.random.randint(low=0, high=100, size=(5, 2, 3))\n",
    "print('a = \\n{}'.format(a))"
   ]
  },
  {
   "cell_type": "markdown",
   "metadata": {},
   "source": [
    "Let's say, one wants to take only the $(x,y)$ coordinates for the first vector for all 5 observations. This is how each axis will be sliced:\n",
    "  - first axis (=5 observations): `:`, *i.e.* takes all\n",
    "  - second axis (=2 vectors): `1` *i.e.* only the 2nd element\n",
    "  - third axis (=3 coordinates): `0:2` *i.e.* from $0$ to $2-1=1$, so only $(x,y)$"
   ]
  },
  {
   "cell_type": "code",
   "execution_count": 26,
   "metadata": {},
   "outputs": [
    {
     "name": "stdout",
     "output_type": "stream",
     "text": [
      "a[:, 0, 0:2] =\n",
      " [[20  0]\n",
      " [43 65]\n",
      " [86  2]\n",
      " [46  1]\n",
      " [81 15]]\n"
     ]
    }
   ],
   "source": [
    "# Taking only the x,y values of the first vector for all observation:\n",
    "print('a[:, 0, 0:2] =\\n {}'.format(a[:, 0, 0:2]))"
   ]
  },
  {
   "cell_type": "code",
   "execution_count": 27,
   "metadata": {},
   "outputs": [
    {
     "name": "stdout",
     "output_type": "stream",
     "text": [
      "a[:, ::-1, :] = \n",
      "[[[93 24  4]\n",
      "  [20  0  7]]\n",
      "\n",
      " [[97 59 57]\n",
      "  [43 65 46]]\n",
      "\n",
      " [[31  0 57]\n",
      "  [86  2 85]]\n",
      "\n",
      " [[98 65  6]\n",
      "  [46  1 94]]\n",
      "\n",
      " [[88 47 90]\n",
      "  [81 15  3]]]\n"
     ]
    }
   ],
   "source": [
    "# Reverse the order of the 2 vector for each observation:\n",
    "print('a[:, ::-1, :] = \\n{}'.format(a[:, ::-1, :]))"
   ]
  },
  {
   "cell_type": "markdown",
   "metadata": {},
   "source": [
    "**Rule 4:** The last part of of indexing is about *masking* array or in a more common language, *selecting* sub-arrays/elements. This allows to get only elements satisfying a given criteria, exploiting the indexing rules described above. Indeed, a boolean operation applied to an array such as `a>0` will directly return an array of boolean values `True` or `False` depending if the corresponding element satisfies the condition or not."
   ]
  },
  {
   "cell_type": "code",
   "execution_count": 28,
   "metadata": {},
   "outputs": [
    {
     "name": "stdout",
     "output_type": "stream",
     "text": [
      "a = \n",
      "[[ 19 -52  77]\n",
      " [ 36 -68  88]\n",
      " [-61 -18 -71]\n",
      " [ 64 -46  58]\n",
      " [-83 -12  18]]\n",
      "\n",
      "mask = \n",
      " [[ True False  True]\n",
      " [ True False  True]\n",
      " [False False False]\n",
      " [ True False  True]\n",
      " [False False  True]]\n"
     ]
    }
   ],
   "source": [
    "a = np.random.randint(low=-100, high=100, size=(5, 3))\n",
    "mask = a>0\n",
    "print('a = \\n{}'.format(a))\n",
    "print('\\nmask = \\n {}'.format(mask))"
   ]
  },
  {
   "cell_type": "code",
   "execution_count": 29,
   "metadata": {},
   "outputs": [
    {
     "name": "stdout",
     "output_type": "stream",
     "text": [
      "\n",
      "a[mask] = \n",
      " [19 77 36 88 64 58 18]\n",
      "\n",
      "a*mask = \n",
      " [[19  0 77]\n",
      " [36  0 88]\n",
      " [ 0  0  0]\n",
      " [64  0 58]\n",
      " [ 0  0 18]]\n",
      "\n",
      "a[~mask] = \n",
      " [-52 -68 -61 -18 -71 -46 -83 -12]\n",
      "\n",
      "a*~mask  = \n",
      " [[  0 -52   0]\n",
      " [  0 -68   0]\n",
      " [-61 -18 -71]\n",
      " [  0 -46   0]\n",
      " [-83 -12   0]]\n"
     ]
    }
   ],
   "source": [
    "print('\\na[mask] = \\n {}'.format(a[mask])) # always return 1D array\n",
    "print('\\na*mask = \\n {}'.format(a*mask)) # preserves the dimension (False=0)\n",
    "print('\\na[~mask] = \\n {}'.format(a[~mask])) # ~mask is the negation of mask\n",
    "print('\\na*~mask  = \\n {}'.format(a*~mask)) # working for a product too."
   ]
  },
  {
   "cell_type": "markdown",
   "metadata": {},
   "source": [
    "**Note** the case of boolean arrays as indices has then a special treatment in numpy (since the result is always a 1D array). There is actually a dedicated numpy object called *masked array* (cf. [documentation](https://docs.scipy.org/doc/numpy-1.15.1/reference/maskedarray.html)) which allows to keep the whole array but without considering some elements in the computation (*e.g.* CCD camera with dead pixel). Note however that when a boolean array is used in an mathematical operation (such as `a*mask`) then `False` is treated as `0` and `True` as `1`:"
   ]
  },
  {
   "cell_type": "code",
   "execution_count": 30,
   "metadata": {},
   "outputs": [
    {
     "name": "stdout",
     "output_type": "stream",
     "text": [
      "a+mask = \n",
      "[[ 20 -52  78]\n",
      " [ 37 -68  89]\n",
      " [-61 -18 -71]\n",
      " [ 65 -46  59]\n",
      " [-83 -12  19]]\n"
     ]
    }
   ],
   "source": [
    "print('a+mask = \\n{}'.format(a+mask))"
   ]
  },
  {
   "cell_type": "markdown",
   "metadata": {},
   "source": [
    "This boolean arrays are also very useful to *replace a category of elements* with a given value in a very easy, consise and readable way:"
   ]
  },
  {
   "cell_type": "code",
   "execution_count": 31,
   "metadata": {},
   "outputs": [
    {
     "name": "stdout",
     "output_type": "stream",
     "text": [
      "Before: a=\n",
      "[[ 42  81  68]\n",
      " [ -5  89 -83]\n",
      " [-23  77  93]\n",
      " [ 78  18 -29]\n",
      " [-99 -38  54]]\n",
      "\n",
      "After: a=\n",
      "[[  42   81   68]\n",
      " [  25   89 6889]\n",
      " [ 529   77   93]\n",
      " [  78   18  841]\n",
      " [9801 1444   54]]\n"
     ]
    }
   ],
   "source": [
    "a = np.random.randint(low=-100, high=100, size=(5, 3))\n",
    "print('Before: a=\\n{}'.format(a))\n",
    "\n",
    "a[a<0] = a[a<0]**2\n",
    "print('\\nAfter: a=\\n{}'.format(a))"
   ]
  },
  {
   "cell_type": "markdown",
   "metadata": {},
   "source": [
    "## Few useful NumPy tips\n",
    "\n",
    "This short section is presenting few handy features to know about NumPy, which can help beginners. For a slightly more complete view of \"everyday NumPy\", I would recommand to have a look to the [*cheat sheet* from DataCamp](https://www.datacamp.com/community/blog/python-numpy-cheat-sheet)."
   ]
  },
  {
   "cell_type": "markdown",
   "metadata": {},
   "source": [
    "**Dummy array initialization.**"
   ]
  },
  {
   "cell_type": "code",
   "execution_count": 32,
   "metadata": {},
   "outputs": [],
   "source": [
    "x = np.zeros(shape=(3, 2))               # Only 0\n",
    "x = np.ones(shape=(3, 2))                # Only 1\n",
    "x = np.full(shape=(3, 2), fill_value=10) # Only 10\n",
    "x = np.eye(2)                            # Create identity matrix (only return 2D array)"
   ]
  },
  {
   "cell_type": "markdown",
   "metadata": {},
   "source": [
    "**Create sequence of numbers.**"
   ]
  },
  {
   "cell_type": "code",
   "execution_count": 33,
   "metadata": {},
   "outputs": [],
   "source": [
    "# Linear inteveral from 0 to 10\n",
    "x = np.linspace(0, 10, 10) # 10 numbers between 0 and 1\n",
    "x = np.arange(0, 10, 1.0)  # One number every 1.0 between 0 and 1\n",
    "x = np.logspace(0, 10, 10) # 10 numbers between 10**0 and 10**10"
   ]
  },
  {
   "cell_type": "markdown",
   "metadata": {},
   "source": [
    "**Shape-based manipulation of arrays.**"
   ]
  },
  {
   "cell_type": "code",
   "execution_count": 34,
   "metadata": {},
   "outputs": [],
   "source": [
    "a = np.arange(0, 18).reshape(3, 3, 2)\n",
    "x = a.ravel()                     # Return a flat array\n",
    "x = a.reshape(9, 2)               # change the shape\n",
    "x = a.T                           # transpose array: a.T[i, j, k] = a[k, j, i]\n",
    "x = np.concatenate([a,a], axis=0) # concatenate arrays along a given axis (shape is (6, 3, 2))\n",
    "x = np.stack([a, a], axis=0)      # group arrays along a given axis (shape is (2, 3, 3, 2))"
   ]
  },
  {
   "cell_type": "markdown",
   "metadata": {},
   "source": [
    "**Compare arrays.**"
   ]
  },
  {
   "cell_type": "code",
   "execution_count": 35,
   "metadata": {
    "scrolled": true
   },
   "outputs": [
    {
     "name": "stdout",
     "output_type": "stream",
     "text": [
      "a = [[-6 -5 -4 -3]\n",
      " [-2 -1  0  1]\n",
      " [ 2  3  4  5]]\n",
      "\n",
      "b = [[6 5 4 3]\n",
      " [2 1 0 1]\n",
      " [2 3 4 5]]\n",
      "\n",
      "c = [[6 5 4 3]\n",
      " [2 1 0 1]\n",
      " [2 3 4 5]\n",
      " [1 2 3 4]]\n"
     ]
    }
   ],
   "source": [
    "# Making dummy arrays for comparisons\n",
    "a = np.arange(-6, 6).reshape(3, 4)\n",
    "b = np.abs(a)\n",
    "c = np.append(b, [[1, 2, 3, 4]], axis=0)\n",
    "\n",
    "# Print the arrays\n",
    "print('a = {}\\n'.format(a))\n",
    "print('b = {}\\n'.format(b))\n",
    "print('c = {}'.format(c))"
   ]
  },
  {
   "cell_type": "code",
   "execution_count": 36,
   "metadata": {},
   "outputs": [
    {
     "name": "stdout",
     "output_type": "stream",
     "text": [
      "[[False False False False]\n",
      " [False False  True  True]\n",
      " [ True  True  True  True]]\n",
      "False\n",
      "True\n",
      "True\n"
     ]
    }
   ],
   "source": [
    "# Arrays with the same shapes\n",
    "print(np.equal(a, b))             # Return array with element-wise True/False\n",
    "print(np.all(a==b))               # Return true is all element is true\n",
    "print(np.allclose(a, b, rtol=10)) # same as all function with relative/absolute precision\n",
    "print(np.any(a==b))               # Return true if any of the element is true"
   ]
  },
  {
   "cell_type": "code",
   "execution_count": 37,
   "metadata": {},
   "outputs": [
    {
     "name": "stdout",
     "output_type": "stream",
     "text": [
      "False\n",
      "False\n"
     ]
    }
   ],
   "source": [
    "# Arrays with the possibly different shapes\n",
    "print(np.array_equal(a, c)) # True if a and b have the same shape and np.equal(a, b)\n",
    "print(np.array_equiv(a, b)) # True if a and b have braodcastable shapes and same elements"
   ]
  },
  {
   "cell_type": "code",
   "execution_count": 38,
   "metadata": {},
   "outputs": [
    {
     "data": {
      "text/plain": [
       "True"
      ]
     },
     "execution_count": 38,
     "metadata": {},
     "output_type": "execute_result"
    }
   ],
   "source": [
    "# Example of equivalent arrays\n",
    "a = np.array([1, 2])\n",
    "b = np.array([[1, 2], [1, 2]])\n",
    "np.array_equiv(a, b)"
   ]
  },
  {
   "cell_type": "markdown",
   "metadata": {},
   "source": [
    "## Example of simple gradient descent: NumPy *v.s.* pure python\n",
    "\n",
    "\n",
    "### Gradient descent: what (for)?\n",
    "\n",
    "The gradient descent is a method allowing to numerically find a the minum of a function $f(p_0, ..., p_n)$. Finding minumum is needed for most of machine learning problems (I include usual model fitting in the machine learning category here): ones always want to find the *best set of parameter describing a dataset, assuming a given function*. Let's assume, you have $n$ couple of measured values $(x_i, y_i)$ and you want to be able to *predict* the mathematical relationship between $x$ and $y$ for all points: $y_i = \\text{model}(x_i)$. Usually the mathematical function \"model\" will depend on some unknown parameters $p_0, ..., p_N$. In that case, the function to minimze is often the *error* function (or *cost*):\n",
    "$$\n",
    "f(p_0, ...p_N) \\;=\\; \\frac{1}{n} \\, \\sum^{n}_{i=1}\\big(y_i - \\text{model}(x_i; p_0, ...p_N) \\big)^2\n",
    "$$\n",
    "\n",
    "Finding the minimum of an error (cost) function is rather general to any (supervised) learning algorithm. These notions will be described in more details in other lectures.\n",
    "\n",
    "\n",
    "**How does gradient descent work?** At each iteration (or *epoch*), parameters are updated using a step value $\\mu$ along the oposit direction of the gradient, evaluated at the present point:\n",
    "$$\n",
    "(p_0, ... ,p_N)^{i+1} \\; \\leftarrow \\; (p_0, ... ,p_N)^{i} \\: - \\: \\mu \\, \\big(\\frac{\\partial f}{\\partial p_0}, ... \\frac{\\partial f}{\\partial p_N}\\big)\\big|_{(p_0, ... ,p_N)^{i}}\n",
    "$$\n",
    "\n",
    "This assume that the value of the gradient is known. There are some technics to numerically estimate the gradient for arbitrary function. In the example below, we consider a much simpler situation - which actually has an exact solution: a linear model. In other words, there are only two parameters and we assume that:\n",
    "$$\n",
    "\\text{model}(x) = p_0 + p_1 x\n",
    "$$\n",
    "with the following loss function gradient:\n",
    "\\begin{eqnarray}\n",
    "\\frac{\\partial f}{\\partial p_0} &=& -\\frac{2}{n} \\sum^{i=n}_{i=0} \\big(y_i - p_0  -p_1 x_i) \\big) \\\\\n",
    "\\frac{\\partial f}{\\partial p_1} &=& -\\frac{2}{n} \\sum^{i=n}_{i=0} \\big((y_i - p_0  -p_1 x_i) \\times x_i \\big)\n",
    "\\end{eqnarray}\n",
    "\n",
    "From a coding point of view, we will then introduce an array `delta = [yi - p0 - p1*xi]` which will be used to compute both the two gradient components and the loss function. The next two section describe the pure python implementation and a numpy implementation, in order to compare performences. Before, let's define our fake dataset:"
   ]
  },
  {
   "cell_type": "code",
   "execution_count": 274,
   "metadata": {},
   "outputs": [],
   "source": [
    "# For plotting\n",
    "import matplotlib.pyplot as plt\n",
    "\n",
    "\n",
    "# Fake (xi, yi) data\n",
    "n = 1000\n",
    "x = np.linspace(0, 2, n)\n",
    "xfine = np.linspace(0, 2, 1000)\n",
    "y = 3 + 2 * x + 0.1*np.random.randn(n)\n",
    "\n",
    "\n",
    "# Util function\n",
    "def plot_model(p, loss):\n",
    "\n",
    "    # Figure\n",
    "    plt.figure(figsize=(20, 7))\n",
    "\n",
    "    # Plot (xi,yi) data and overlay (x, model(x, p)) points\n",
    "    plt.subplot(1, 2, 1)\n",
    "    plt.plot(x, y, 'o', alpha=0.3, markersize=3)\n",
    "    plt.plot(xfine, p[0]+p[1]*xfine, linewidth=3, color='tab:red')\n",
    "    \n",
    "    # Plot the loss function v.s. epoch\n",
    "    plt.subplot(1, 2, 2)\n",
    "    plt.semilogy(loss, linewidth=3);"
   ]
  },
  {
   "cell_type": "markdown",
   "metadata": {},
   "source": [
    "### Pure python implementation"
   ]
  },
  {
   "cell_type": "code",
   "execution_count": 275,
   "metadata": {},
   "outputs": [],
   "source": [
    "def python_linear_descent(x, y, mu, N_epochs):\n",
    "\n",
    "    # Length of data\n",
    "    n = len(x)\n",
    "    \n",
    "    # Initialize predictions, errors, parameters and gradients.\n",
    "    ym = [0] * n\n",
    "    pm = [0, 0]\n",
    "    grad = [0, 0]\n",
    "    loss = [0] * N_epochs\n",
    "    \n",
    "    # Looping over iterations (epochs)\n",
    "    for i_epoch in range(0, N_epochs):\n",
    "        delta = tuple(i - j for i, j in zip(y, ym))\n",
    "        grad[0] = -2/n * sum(delta)\n",
    "        grad[1] = -2/n * sum(i * j for i, j in zip(delta, x))\n",
    "        pm = [i - mu * j for i, j in zip(pm, grad)]\n",
    "        ym = (pm[0] + pm[1] * i for i in x)\n",
    "        \n",
    "        # Save the loss\n",
    "        loss[i_epoch] = sum([d**2 for d in delta])\n",
    "    \n",
    "    return pm, loss"
   ]
  },
  {
   "cell_type": "code",
   "execution_count": 263,
   "metadata": {},
   "outputs": [
    {
     "name": "stdout",
     "output_type": "stream",
     "text": [
      "1.43 s ± 4.58 ms per loop (mean ± std. dev. of 7 runs, 1 loop each)\n"
     ]
    }
   ],
   "source": [
    "%timeit python_linear_descent(x, y, mu=0.01, N_epochs=2000)"
   ]
  },
  {
   "cell_type": "code",
   "execution_count": 270,
   "metadata": {},
   "outputs": [],
   "source": [
    "p, loss = python_linear_descent(x, y, mu=0.01, N_epochs=2000)"
   ]
  },
  {
   "cell_type": "code",
   "execution_count": 271,
   "metadata": {},
   "outputs": [
    {
     "data": {
      "image/png": "[encoded data removed]",
      "text/plain": [
       "<Figure size 1440x504 with 2 Axes>"
      ]
     },
     "metadata": {
      "needs_background": "light"
     },
     "output_type": "display_data"
    }
   ],
   "source": [
    "plot_model(p, loss)"
   ]
  },
  {
   "cell_type": "markdown",
   "metadata": {},
   "source": [
    "### Numpy implementation"
   ]
  },
  {
   "cell_type": "code",
   "execution_count": 276,
   "metadata": {},
   "outputs": [],
   "source": [
    "def numpy_linear_descent(x, y, mu, N_epochs):\n",
    "\n",
    "    # To define the lost function\n",
    "    n = x.shape[0]\n",
    "    \n",
    "    # Initialize predictions, errors, parameters and gradients.\n",
    "    ym = np.zeros(n)\n",
    "    loss = np.zeros(N_epochs)\n",
    "    pm, grad = np.zeros(2), np.zeros(2)\n",
    "    \n",
    "    # Looping over iterations (epochs)\n",
    "    for i_epoch in range(0, N_epochs):\n",
    "        delta = y-ym\n",
    "        grad[:] = -2/n * np.sum(delta), -2/n * np.sum(delta*x)\n",
    "        pm = pm - mu*grad\n",
    "        ym = pm[0] + pm[1]*x\n",
    "        \n",
    "        # Save the loss\n",
    "        loss[i_epoch] = np.sum(delta**2)\n",
    "    \n",
    "    return pm, loss"
   ]
  },
  {
   "cell_type": "code",
   "execution_count": 266,
   "metadata": {},
   "outputs": [
    {
     "name": "stdout",
     "output_type": "stream",
     "text": [
      "45.9 ms ± 605 µs per loop (mean ± std. dev. of 7 runs, 10 loops each)\n"
     ]
    }
   ],
   "source": [
    "%timeit numpy_linear_descent(x, y, mu=0.01, N_epochs=2000)"
   ]
  },
  {
   "cell_type": "code",
   "execution_count": 272,
   "metadata": {},
   "outputs": [
    {
     "data": {
      "image/png": "[encoded data removed]",
      "text/plain": [
       "<Figure size 1440x504 with 2 Axes>"
      ]
     },
     "metadata": {
      "needs_background": "light"
     },
     "output_type": "display_data"
    }
   ],
   "source": [
    "p, loss = numpy_linear_descent(x, y, mu=0.01, N_epochs=2000)\n",
    "plot_model(p, loss)"
   ]
  }
 ],
 "metadata": {
  "kernelspec": {
   "display_name": "Python 3",
   "language": "python",
   "name": "python3"
  },
  "language_info": {
   "codemirror_mode": {
    "name": "ipython",
    "version": 3
   },
   "file_extension": ".py",
   "mimetype": "text/x-python",
   "name": "python",
   "nbconvert_exporter": "python",
   "pygments_lexer": "ipython3",
   "version": "3.7.3"
  }
 },
 "nbformat": 4,
 "nbformat_minor": 2
}
