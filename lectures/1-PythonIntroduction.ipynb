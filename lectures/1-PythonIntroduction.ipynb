{
 "cells": [
  {
   "cell_type": "markdown",
   "metadata": {},
   "source": [
    "# Brief introduction to Python"
   ]
  },
  {
   "cell_type": "markdown",
   "metadata": {},
   "source": [
    "## General information\n",
    "\n",
    "Python and jupyter-notebook can be installed using [anaconda](https://www.anaconda.com/). This is probably the easiest way to follow this lecture. The goal of this first chapter is to give a *very quick introduction basis*, but practice is mandatory to get confortable with python objects and synthax. Practicing is possible with a web browser only using the [www3school python tutorials](https://www.w3schools.com/python).\n",
    "\n",
    "In python, there is one instruction per line. Variable assignment is done with with `=`,  indentation is used to group instructions together under a loop or a condition block: there is no backet (like in C++) or equivalent. Comments (*i.e.* uninterpreted text) start with `#`. Importation of external modules or fonction can be done with three different ways: `import module`, `import module as m` or `from module import this_function`.\n",
    "\n",
    "In the following example, the result of the command will be printed so that people can check that the computer is doing what is expected. The instruction `print(x)` will print the content of `x`. If several variables are printed, is it convenient to use `print('x={} and y={}'.format(x, y))` synthax that will print `x` and `y` in bracket fields with one command - even if they have different types."
   ]
  },
  {
   "cell_type": "markdown",
   "metadata": {},
   "source": [
    "##  Object types in python\n",
    "\n",
    "### Numbers\n",
    "\n",
    "There are three type of numbers: int, float and complex. The usual operations (`+`, `-`, `*`, `/`) are available. In addition, there is also `a**b` (which means $a^b$), `a // b` and `a % b`  (which are the result of integer divisions - see example below)."
   ]
  },
  {
   "cell_type": "code",
   "execution_count": 1,
   "metadata": {},
   "outputs": [
    {
     "name": "stdout",
     "output_type": "stream",
     "text": [
      "5.140000000000001\n",
      "8.815240927012887\n"
     ]
    }
   ],
   "source": [
    "# Basic numbers and operations\n",
    "a = 2\n",
    "b = 3.14\n",
    "print(a+b)\n",
    "print(a**b)"
   ]
  },
  {
   "cell_type": "code",
   "execution_count": 2,
   "metadata": {},
   "outputs": [
    {
     "data": {
      "text/plain": [
       "(-1+0j)"
      ]
     },
     "execution_count": 2,
     "metadata": {},
     "output_type": "execute_result"
    }
   ],
   "source": [
    "# Complex numbers and power\n",
    "a = 1j\n",
    "a**2"
   ]
  },
  {
   "cell_type": "code",
   "execution_count": 3,
   "metadata": {},
   "outputs": [
    {
     "name": "stdout",
     "output_type": "stream",
     "text": [
      "10 = 2x4 + 2\n"
     ]
    }
   ],
   "source": [
    "# Integer division example (// and % operators)\n",
    "a , b = 10, 4\n",
    "divisor, rest = a//b, a%b\n",
    "print('{} = {}x{} + {}'.format(a, divisor, b, rest))"
   ]
  },
  {
   "cell_type": "markdown",
   "metadata": {},
   "source": [
    "### Strings\n",
    "\n",
    "String allows to manipulate words, sentence or even text with specific methods. String are also python lists and list methods work as well (see below). The common and useful string manipulations can be counting the number of letters with `len(word)` or even manipulate a collection of words using `sentence.split(' ')`. Many methods exist, which can be looked at by typing `help(str)` in a python terminal or a jupyter nootebook."
   ]
  },
  {
   "cell_type": "code",
   "execution_count": 4,
   "metadata": {
    "scrolled": false
   },
   "outputs": [
    {
     "name": "stdout",
     "output_type": "stream",
     "text": [
      "hello 5 l\n"
     ]
    }
   ],
   "source": [
    "w1 = 'hello'\n",
    "print(w1, len(w1), w1[3])"
   ]
  },
  {
   "cell_type": "code",
   "execution_count": 5,
   "metadata": {},
   "outputs": [
    {
     "name": "stdout",
     "output_type": "stream",
     "text": [
      "hello world\n"
     ]
    }
   ],
   "source": [
    "# Summing two strings is possible (all other operators dont work)\n",
    "blank, w2 = ' ', 'world'\n",
    "sentence = w1 + blank + w2\n",
    "print(sentence)"
   ]
  },
  {
   "cell_type": "code",
   "execution_count": 6,
   "metadata": {},
   "outputs": [
    {
     "name": "stdout",
     "output_type": "stream",
     "text": [
      "hello worldhello worldhello world\n"
     ]
    }
   ],
   "source": [
    "# Multiplying a string by an integer is also possible\n",
    "repetition = sentence*3\n",
    "print(repetition)"
   ]
  },
  {
   "cell_type": "code",
   "execution_count": 7,
   "metadata": {},
   "outputs": [
    {
     "name": "stdout",
     "output_type": "stream",
     "text": [
      "['It', 'is', 'rainy', 'today']\n"
     ]
    }
   ],
   "source": [
    "# Get a list of words from a sentence (cf. below for list objects)\n",
    "s = 'It is rainy today'\n",
    "list_words = s.split(' ')\n",
    "print(list_words)"
   ]
  },
  {
   "cell_type": "code",
   "execution_count": 8,
   "metadata": {},
   "outputs": [
    {
     "name": "stdout",
     "output_type": "stream",
     "text": [
      "It 2\n",
      "is 2\n",
      "rainy 5\n",
      "today 5\n"
     ]
    }
   ],
   "source": [
    "# Looping over the words and get the number of letters\n",
    "for w in s.split(' '):\n",
    "    print(w, len(w))"
   ]
  },
  {
   "cell_type": "markdown",
   "metadata": {},
   "source": [
    "## Object collections in python\n",
    "\n",
    "There are four types of collection, which share several methods but differ from various aspects:\n",
    "  + list\n",
    "  + dictionnary\n",
    "  + tuple\n",
    "  + set\n",
    "\n",
    "The most commonly used are the lists and dictionnary. The specificy of the set is that it is unordered, while the specificyt of the tuple is that it cannot be modified. The common methods are \n",
    "+ number of items: `len(x)`\n",
    "+ loop over items with `for element in x:`\n",
    "+ check if a item is in the list: `element in x` \n",
    "\n",
    "\n",
    "### Lists\n",
    "\n",
    "This one of the most used collection object in python because it is the next-to-simplest level, after individual variables. A python list is a *list of objects* with possibly different types. One can search, loop, count with list. One can also add two lists or multiply a list by an integer, which makes a *concatenation* or a *duplication* (these points will be important for numpy arrays). The indexing of elements is also a nice way to access the information of interest: one can access the $i^{\\text{th}}$ element with `my_list[i]` or get a sub-list with `my_list[i:j]`. One can also take only one element every `n` with `my_list[i:j:n]` (more precisely this takes elements of index $i+p\\times n$ until $j$, with $p=0, 1, 2, ...$). With this synthax, reverting the order of the list is easy: `reverted_list = my_list[::-1]`, where empty variable are default values (namely `0` and `len(my_list)`)."
   ]
  },
  {
   "cell_type": "code",
   "execution_count": 9,
   "metadata": {},
   "outputs": [
    {
     "name": "stdout",
     "output_type": "stream",
     "text": [
      "Second element is 3\n",
      "Number of elements: 4\n",
      "Is 'banana' in the list? True\n"
     ]
    }
   ],
   "source": [
    "# Defining a list and access basic information\n",
    "my_list1 = [1, 3, 4, 'banana']\n",
    "print('Second element is {}'.format(my_list1[1]))\n",
    "print('Number of elements: {}'.format(len(my_list1)))\n",
    "print('Is \\'banana\\' in the list? {}'.format('banana' in my_list1))"
   ]
  },
  {
   "cell_type": "code",
   "execution_count": 10,
   "metadata": {},
   "outputs": [
    {
     "name": "stdout",
     "output_type": "stream",
     "text": [
      "[1, 3, 4, 'banana', 'string', (1+3j), [100, 1000]]\n"
     ]
    }
   ],
   "source": [
    "# Sum of two lists\n",
    "my_list2 = ['string', 1+3j, [100, 1000]]\n",
    "my_list = my_list1 + my_list2\n",
    "print(my_list)"
   ]
  },
  {
   "cell_type": "code",
   "execution_count": 11,
   "metadata": {},
   "outputs": [
    {
     "name": "stdout",
     "output_type": "stream",
     "text": [
      "[1, 3, 4, 'banana', 'string', (1+3j), [100, 1000], 1, 3, 4, 'banana', 'string', (1+3j), [100, 1000]]\n"
     ]
    }
   ],
   "source": [
    "# List multiplied by an integer\n",
    "my_list = my_list*2\n",
    "print(my_list)"
   ]
  },
  {
   "cell_type": "code",
   "execution_count": 12,
   "metadata": {},
   "outputs": [
    {
     "name": "stdout",
     "output_type": "stream",
     "text": [
      "[100, 1000] is <class 'list'>\n",
      "(1+3j) is <class 'complex'>\n",
      "string is <class 'str'>\n",
      "banana is <class 'str'>\n",
      "4 is <class 'int'>\n",
      "3 is <class 'int'>\n"
     ]
    }
   ],
   "source": [
    "# Looping over list element and print the type of seven first elements in the reversed order.\n",
    "for element in my_list[6:0:-1]:\n",
    "    print('{} is {}'.format(element, type(element)))"
   ]
  },
  {
   "cell_type": "markdown",
   "metadata": {},
   "source": [
    "### sets and tuples\n",
    "\n",
    "Tuples and set are modified version of python list. Tuples are ordered but cannot be modified (no assignment, no addition, while sets are not ordered but can be mofided. In this context, order means indexing (so `x[i:j:n]` synthax, among others). Search or loop over elements work in the same way as for list."
   ]
  },
  {
   "cell_type": "code",
   "execution_count": 13,
   "metadata": {},
   "outputs": [
    {
     "name": "stdout",
     "output_type": "stream",
     "text": [
      "(1, 3, 7)\n",
      "7\n",
      "Impossible to change the value of a tuple\n"
     ]
    }
   ],
   "source": [
    "# Tuple\n",
    "t = (1, 3, 7)\n",
    "print(t)\n",
    "\n",
    "# Access the third element\n",
    "print(t[2])\n",
    "\n",
    "# Try to modify the second element - using the 'try - except' synthax\n",
    "try: \n",
    "    t[1] = 'hello'\n",
    "except TypeError:\n",
    "    print('Impossible to change the value of a tuple')"
   ]
  },
  {
   "cell_type": "markdown",
   "metadata": {},
   "source": [
    "Sets can modified with methods like `s.add(x)` or `s.update([x, y])`."
   ]
  },
  {
   "cell_type": "code",
   "execution_count": 14,
   "metadata": {},
   "outputs": [
    {
     "name": "stdout",
     "output_type": "stream",
     "text": [
      "{'apple', 'banana', 'orange'}\n",
      "{'apple', 'pineapple', 'banana', 'orange'}\n",
      "{'apple', 'pineapple', 'pear', 'prune', 'banana', 'orange'}\n"
     ]
    }
   ],
   "source": [
    "# Set\n",
    "s = {'apple', 'banana', 'orange'}\n",
    "print(s)\n",
    "\n",
    "# Add one element\n",
    "s.add('pineapple')\n",
    "print(s)\n",
    "\n",
    "# Add a list\n",
    "s.update(['pear', 'prune'])\n",
    "print(s)"
   ]
  },
  {
   "cell_type": "code",
   "execution_count": 15,
   "metadata": {},
   "outputs": [
    {
     "name": "stdout",
     "output_type": "stream",
     "text": [
      "Impossible to access element via indexing\n"
     ]
    }
   ],
   "source": [
    "# Try to access the second element - using the 'try - except' synthax\n",
    "try: \n",
    "    print(s[1])\n",
    "except TypeError:\n",
    "    print('Impossible to access element via indexing')"
   ]
  },
  {
   "cell_type": "markdown",
   "metadata": {},
   "source": [
    "### Dictionnaries\n",
    "\n",
    "Other types are important to manipulate and organize data. The most common one is the dictionnary which work with a pair of (`key`, `value`). The `key` must be a non-modifiable object, in practice string or integer, but cannot be a list. This is a very powerful concept to store different types of information into the same object. One can easily loop, search, modify a given key value, or even add a new key quite easily."
   ]
  },
  {
   "cell_type": "code",
   "execution_count": 16,
   "metadata": {},
   "outputs": [
    {
     "name": "stdout",
     "output_type": "stream",
     "text": [
      "{'name': 'Charles', 'age': 78, 'size': 173, 'gender': 'M'}\n"
     ]
    }
   ],
   "source": [
    "# dictionnary\n",
    "person = {'name': 'Charles', 'age': 78, 'size': 173, 'gender': 'M'}\n",
    "print(person)"
   ]
  },
  {
   "cell_type": "code",
   "execution_count": 17,
   "metadata": {},
   "outputs": [
    {
     "name": "stdout",
     "output_type": "stream",
     "text": [
      "Charles (M) is 78 years old and is 173 cm\n"
     ]
    }
   ],
   "source": [
    "# Accessing value using the key\n",
    "template = '{} ({}) is {} years old and is {} cm'\n",
    "print(template.format(person['name'], person['gender'], person['age'], person['size']))"
   ]
  },
  {
   "cell_type": "code",
   "execution_count": 18,
   "metadata": {},
   "outputs": [
    {
     "name": "stdout",
     "output_type": "stream",
     "text": [
      "{'name': 'Charles', 'age': 78, 'size': 173, 'gender': 'M', 'eyes': 'blue'}\n"
     ]
    }
   ],
   "source": [
    "# Adding a key and its value\n",
    "person['eyes'] = 'blue'\n",
    "print(person)"
   ]
  },
  {
   "cell_type": "code",
   "execution_count": 19,
   "metadata": {},
   "outputs": [
    {
     "name": "stdout",
     "output_type": "stream",
     "text": [
      "True\n",
      "False\n"
     ]
    }
   ],
   "source": [
    "# Test if a key is present\n",
    "print('name' in person)\n",
    "print('brand' in person)"
   ]
  },
  {
   "cell_type": "markdown",
   "metadata": {},
   "source": [
    "## Loops in python\n",
    "\n",
    "Loops are at the core of programming and especially for data analysis oriented tasks. There are two way of repeating a instruction several times: the `for` loop and the `while` loop. Several instructions are common to both loops, such as `continue` (skip instruction after and switch to the next element) or `break` (stop the loop), but the use case of these two ways are different.\n",
    "\n",
    "### For loops\n",
    "\n",
    "For data analysis, I think these are the most used ones. But as we will see in the introduction to numpy, for loops must not be used for heavy computations in python. For loops are relevant for small (~1000) data samples (and computations). We'll come back to this point in the lecture. Below, few example are given."
   ]
  },
  {
   "cell_type": "code",
   "execution_count": 20,
   "metadata": {},
   "outputs": [
    {
     "name": "stdout",
     "output_type": "stream",
     "text": [
      "285\n"
     ]
    }
   ],
   "source": [
    "# Compute sum(i^2) for i from 0 to 9\n",
    "x = 0\n",
    "for i in range(0, 10):\n",
    "    x += i**2\n",
    "print(x)"
   ]
  },
  {
   "cell_type": "code",
   "execution_count": 21,
   "metadata": {},
   "outputs": [
    {
     "name": "stdout",
     "output_type": "stream",
     "text": [
      "apple\n",
      "pineapple\n",
      "pear\n",
      "prune\n"
     ]
    }
   ],
   "source": [
    "# Loop over fruit via a set and print only ones with a 'p'\n",
    "for fruit in s:\n",
    "    if 'p' in fruit:\n",
    "        print(fruit)"
   ]
  },
  {
   "cell_type": "markdown",
   "metadata": {},
   "source": [
    "There are several ways to loop over dictionnary depending on how we want to access the information. Indeed, you can access information by keys, values, or both. An example of each are given below."
   ]
  },
  {
   "cell_type": "code",
   "execution_count": 22,
   "metadata": {},
   "outputs": [
    {
     "name": "stdout",
     "output_type": "stream",
     "text": [
      "name: Charles\n",
      "age: 78\n",
      "size: 173\n",
      "gender: M\n",
      "eyes: blue\n"
     ]
    }
   ],
   "source": [
    "# Loop over keys for a dictionnary and access the value of each\n",
    "for properties in person:\n",
    "    value = person[properties]\n",
    "    print('{}: {}'.format(properties, value))"
   ]
  },
  {
   "cell_type": "code",
   "execution_count": 23,
   "metadata": {},
   "outputs": [
    {
     "name": "stdout",
     "output_type": "stream",
     "text": [
      "Charles\n",
      "78\n",
      "173\n",
      "M\n",
      "blue\n"
     ]
    }
   ],
   "source": [
    "# Loop over dictionnary values only\n",
    "for v in person.values():\n",
    "    print(v)"
   ]
  },
  {
   "cell_type": "code",
   "execution_count": 24,
   "metadata": {},
   "outputs": [
    {
     "name": "stdout",
     "output_type": "stream",
     "text": [
      "name: Charles\n",
      "age: 78\n",
      "size: 173\n",
      "gender: M\n",
      "eyes: blue\n"
     ]
    }
   ],
   "source": [
    "# Loop over both keys and values directly\n",
    "for key, value in person.items():\n",
    "    print('{}: {}'.format(key, value))"
   ]
  },
  {
   "cell_type": "markdown",
   "metadata": {},
   "source": [
    "### While loops\n",
    "\n",
    "While loops are bit less used in practive but they are quickly discribed for completness. The idea is to repeat a given instruction until a condition is reached."
   ]
  },
  {
   "cell_type": "code",
   "execution_count": 25,
   "metadata": {},
   "outputs": [
    {
     "name": "stdout",
     "output_type": "stream",
     "text": [
      "['apple', 'pineapple', 'pear', 'prune', 'banana']\n",
      "['apple', 'pineapple', 'pear', 'prune']\n",
      "['apple', 'pineapple', 'pear']\n",
      "['apple', 'pineapple']\n",
      "['apple']\n",
      "[]\n"
     ]
    }
   ],
   "source": [
    "# Cast (ie change type) the set s into a list\n",
    "my_list = list(s)\n",
    "\n",
    "# Remove item one by one until there are no items left.\n",
    "while len(my_list)>0:\n",
    "    my_list.pop()\n",
    "    print(my_list)"
   ]
  },
  {
   "cell_type": "markdown",
   "metadata": {},
   "source": [
    "## Few python synthax tips"
   ]
  },
  {
   "cell_type": "markdown",
   "metadata": {},
   "source": [
    "### Comprehension"
   ]
  },
  {
   "cell_type": "code",
   "execution_count": 26,
   "metadata": {},
   "outputs": [
    {
     "name": "stdout",
     "output_type": "stream",
     "text": [
      "[1, 4, 9, 16, 25, 36, 49, 64, 81]\n",
      "{1: 1, 4: 16, 9: 81, 16: 256, 25: 625}\n"
     ]
    }
   ],
   "source": [
    "# List\n",
    "list_squares = [i**2 for i in range(1, 10)]\n",
    "print(list_squares)\n",
    "\n",
    "# Dictionnary\n",
    "dict_squares = {i:i**2 for i in list_squares[0:5]}\n",
    "print(dict_squares)"
   ]
  },
  {
   "cell_type": "code",
   "execution_count": 27,
   "metadata": {},
   "outputs": [
    {
     "name": "stdout",
     "output_type": "stream",
     "text": [
      "[0, 2, 4, 6, 8]\n"
     ]
    }
   ],
   "source": [
    "# Comprehension list with a condition (e.g. keep only even numbers)\n",
    "list_even = [i for i in range(0, 10) if i%2==0]\n",
    "print(list_even)"
   ]
  },
  {
   "cell_type": "code",
   "execution_count": 28,
   "metadata": {},
   "outputs": [
    {
     "name": "stdout",
     "output_type": "stream",
     "text": [
      "[0, 1, 2, 3, 4, 10, 11, 12, 13, 14, 20, 21, 22, 23, 24, 30, 31, 32, 33, 34, 40, 41, 42, 43, 44]\n"
     ]
    }
   ],
   "source": [
    "# Comprehension with nested loops\n",
    "sum_integers = [i*10+j for i in range(0,5) for j in range(0, 5)]\n",
    "print(sum_integers)"
   ]
  },
  {
   "cell_type": "markdown",
   "metadata": {},
   "source": [
    "### Looping with `enumerate` and `zip`\n",
    "\n",
    "The keywork `enumerate` return directly a counter together with the element arising in the loop. This is useful if you need to count the number of iterations of the loop. This can be done without `enumerate` but you need to add two lines (initialisation of the counter, and incrementation)."
   ]
  },
  {
   "cell_type": "code",
   "execution_count": 29,
   "metadata": {},
   "outputs": [
    {
     "name": "stdout",
     "output_type": "stream",
     "text": [
      "I         :  0\n",
      "would     :  1\n",
      "like      :  2\n",
      "to        :  3\n",
      "analyse   :  4\n",
      "this      :  5\n",
      "sentence  :  6\n",
      "in        :  7\n",
      "term      :  8\n",
      "of        :  9\n",
      "word      :  10\n",
      "position  :  11\n"
     ]
    }
   ],
   "source": [
    "# Position of each word in a sentence\n",
    "sentence = 'I would like to analyse this sentence in term of word position'\n",
    "words = sentence.split(' ')\n",
    "for i, w in enumerate(words):\n",
    "    print(w.ljust(10) + ':  ' + str(i))"
   ]
  },
  {
   "cell_type": "markdown",
   "metadata": {},
   "source": [
    "The `zip(list1, list2)` synthax allows to form pairs using elements of each list at *the same position*. This is quite convenient to associate some objects which are stored in different collections in a very quick and readable way. If `list1` and `list2` don't have the same size, the mimimum of the two lenght is taken. Finally, the `zip()` command can take more than two collections and return then a group of element which has the size of the number of collection."
   ]
  },
  {
   "cell_type": "code",
   "execution_count": 30,
   "metadata": {},
   "outputs": [
    {
     "name": "stdout",
     "output_type": "stream",
     "text": [
      "banana is yellow\n",
      "orange is orange\n",
      "pineapple is brown\n",
      "pear is green\n",
      "prune is purple\n"
     ]
    }
   ],
   "source": [
    "# Associate fruits and colors\n",
    "fruits = ['banana', 'orange', 'pineapple', 'pear', 'prune']\n",
    "colors = ['yellow', 'orange', 'brown', 'green', 'purple']\n",
    "for f, c in zip(fruits, colors):\n",
    "    print('{} is {}'.format(f, c))"
   ]
  },
  {
   "cell_type": "code",
   "execution_count": 31,
   "metadata": {},
   "outputs": [
    {
     "name": "stdout",
     "output_type": "stream",
     "text": [
      "0 0 0 0\n",
      "1 10 100 111\n",
      "2 20 200 222\n",
      "3 30 300 333\n",
      "4 40 400 444\n",
      "5 50 500 555\n",
      "6 60 600 666\n",
      "7 70 700 777\n",
      "8 80 800 888\n",
      "9 90 900 999\n"
     ]
    }
   ],
   "source": [
    "# Using zip() with three lists\n",
    "l1, l2, l3 = range(0, 10), range(0, 100, 10), range(0, 1000, 100)\n",
    "for i, j, k in zip(l1, l2, l3):\n",
    "    print(i, j, k, i+j+k)"
   ]
  },
  {
   "cell_type": "markdown",
   "metadata": {},
   "source": [
    "## Functions\n",
    "\n",
    "Functions are defined as a set of instruction encapsulated into one object. This is particulary convenient when one has to the same list of instructions several times. A good guideline to know when to write a function could be \n",
    "\n",
    "> If you copy-paste the same pieace of code more than two times, then make a function\n",
    "\n",
    "\n",
    "### Definition\n",
    "\n",
    "A function takes some arguments, perform some instruction an return a result. The syntax to define and call a function is showed below. In python, function must be defined *before* being used (as opposed to C++ where it can be different, as soon as the function is declared). This makes the concept of *package* quite relevant to wrapp-up several function into a python file which can be imported in the main code."
   ]
  },
  {
   "cell_type": "code",
   "execution_count": 32,
   "metadata": {},
   "outputs": [
    {
     "data": {
      "text/plain": [
       "6"
      ]
     },
     "execution_count": 32,
     "metadata": {},
     "output_type": "execute_result"
    }
   ],
   "source": [
    "# Definition syntax\n",
    "def function(argument):\n",
    "    result = argument * 3\n",
    "    return result\n",
    "\n",
    "# Call syntax\n",
    "function(2)"
   ]
  },
  {
   "cell_type": "markdown",
   "metadata": {},
   "source": [
    "The type of the arguement is not fixed (since it is a general feature of python) so the same instruction will be interpreted differently depending on the type. The following example shows the different result of the function above for two argument types."
   ]
  },
  {
   "cell_type": "code",
   "execution_count": 33,
   "metadata": {},
   "outputs": [
    {
     "name": "stdout",
     "output_type": "stream",
     "text": [
      "function(10) = 30\n",
      "function('ouh') = ouhouhouh\n"
     ]
    }
   ],
   "source": [
    "# Print the result for two types of arguements\n",
    "print('function(10) = {}'.format(function(10)))\n",
    "print('function(\\'ouh\\') = {}'.format(function('ouh')))"
   ]
  },
  {
   "cell_type": "code",
   "execution_count": 34,
   "metadata": {},
   "outputs": [],
   "source": [
    "def person_printer(p):\n",
    "    template = '{} ({}) is {} years old and is {} cm'\n",
    "    print(template.format(p['name'], p['gender'], p['age'], p['size']))\n",
    "    return\n",
    "\n",
    "\n",
    "def grow_old(p, n_years):\n",
    "    \n",
    "    # 1. copy the dictionnary person (otherwise p *will* be modified)\n",
    "    res = p.copy()\n",
    "    \n",
    "    # 2. Compute the new age and size\n",
    "    new_age = res['age'] + n_years\n",
    "    new_size = res['size'] - n_years*0.13\n",
    "    \n",
    "    # 3. Assign the new age/size to the result\n",
    "    res['age'] = new_age\n",
    "    res['size'] = new_size\n",
    "    \n",
    "    # 4. Return the result\n",
    "    return res"
   ]
  },
  {
   "cell_type": "code",
   "execution_count": 35,
   "metadata": {},
   "outputs": [
    {
     "name": "stdout",
     "output_type": "stream",
     "text": [
      "Charles (M) is 78 years old and is 173 cm\n",
      "Charles (M) is 88 years old and is 171.7 cm\n"
     ]
    }
   ],
   "source": [
    "# Print before growing old\n",
    "person_printer(person)\n",
    "\n",
    "# Growing old\n",
    "old_guy = grow_old(person, 10)\n",
    "\n",
    "# Print after growing old\n",
    "person_printer(old_guy)"
   ]
  },
  {
   "cell_type": "markdown",
   "metadata": {},
   "source": [
    "### Docstring\n",
    "\n",
    "This offers the possibility to document your code in a proper way, which is quite useful for others (and for you, when you will re-use a code after several years). This is then a good practice to do, even if it takes time. This can be accessed using the command `help(function)` or by using the keyboard shortcut `Shift+Tab` in jupyter notebook (when the cursor is after the opening parenthesis of the function). The syntax to add docstring is `'''My documentation'''` at the very begining of the function. "
   ]
  },
  {
   "cell_type": "code",
   "execution_count": 36,
   "metadata": {},
   "outputs": [],
   "source": [
    "def grow_old(p, n_years):\n",
    "    '''\n",
    "    Take a person dictionnary and update the age and the size to make the person older.\n",
    "    \n",
    "    Parameters\n",
    "    ----------\n",
    "    p: dictionnary \n",
    "        Person object as defined earlier in the code, with at least 'age' (year) \n",
    "        and 'size' (cm) keys, to get old.\n",
    "    n_years: integer\n",
    "        Number of years to be added to the age of the person.\n",
    "    \n",
    "    Return\n",
    "    ------\n",
    "    person: dictionnary\n",
    "       Person object as defined earlier in the code with age and size updated as\n",
    "         age  -> age+n_years\n",
    "         size -> size-n_years*0.13\n",
    "    '''\n",
    "    \n",
    "    # 1. copy the dictionnary person (otherwise p will be modified, which might problematic)\n",
    "    res = p.copy()\n",
    "    \n",
    "    # 2. Compute the new age and size\n",
    "    new_age = res['age'] + n_years\n",
    "    new_size = res['size'] - n_years*0.13\n",
    "    \n",
    "    # 3. Assign the new age/size to the result\n",
    "    res['age'] = new_age\n",
    "    res['size'] = new_size\n",
    "    \n",
    "    # 4. Return the result\n",
    "    return res"
   ]
  },
  {
   "cell_type": "code",
   "execution_count": 37,
   "metadata": {},
   "outputs": [
    {
     "name": "stdout",
     "output_type": "stream",
     "text": [
      "Help on function grow_old in module __main__:\n",
      "\n",
      "grow_old(p, n_years)\n",
      "    Take a person dictionnary and update the age and the size to make the person older.\n",
      "    \n",
      "    Parameters\n",
      "    ----------\n",
      "    p: dictionnary \n",
      "        Person object as defined earlier in the code, with at least 'age' (year) \n",
      "        and 'size' (cm) keys, to get old.\n",
      "    n_years: integer\n",
      "        Number of years to be added to the age of the person.\n",
      "    \n",
      "    Return\n",
      "    ------\n",
      "    person: dictionnary\n",
      "       Person object as defined earlier in the code with age and size updated as\n",
      "         age  -> age+n_years\n",
      "         size -> size-n_years*0.13\n",
      "\n"
     ]
    }
   ],
   "source": [
    "help(grow_old)"
   ]
  },
  {
   "cell_type": "markdown",
   "metadata": {},
   "source": [
    "There are several ways to organise the docstring and the example above is based on numpy docstring style. Note that docstring can be also added to a module (in practice, a python file) to document the content, goal and usage of this module."
   ]
  },
  {
   "cell_type": "markdown",
   "metadata": {},
   "source": [
    "### Arbitrary number of arguments: `*args` and `**kwargs`\n",
    "\n",
    "The example above are relatively simple and generally function takes several arguments. Sometime it is even convenient to have an unfixed number of arguments, so that the function is rather evolutive when the code grows. Python offres a nice way to define such a function thanks to the *packing* and *unpacking* notion, which is describe right below."
   ]
  },
  {
   "cell_type": "markdown",
   "metadata": {},
   "source": [
    "#### *Apparte* packing and unpacking\n",
    "\n",
    "In short, this is the possibity to convert a list into a serie of objects (unpacking) or vis-versa (packing). This way of writing collection makes code developments very consise and fast, especially to call function with a several arguments in a nice way. This also allows to define function with an arbitrary number of arguments as already mentioned. The following dummy function is used to illustrate the concept of packing/unpacking with both a list and a dictionnary."
   ]
  },
  {
   "cell_type": "code",
   "execution_count": 38,
   "metadata": {},
   "outputs": [],
   "source": [
    "# Test function\n",
    "def mean(a, b, c):\n",
    "    return (a+b+c)/3."
   ]
  },
  {
   "cell_type": "markdown",
   "metadata": {},
   "source": [
    "It is possible to use a list of three number to specify the argument values of the `mean(a, b, c)` function, using the unpacking syntax for list: `*list`. This is demonstrated below:"
   ]
  },
  {
   "cell_type": "code",
   "execution_count": 39,
   "metadata": {},
   "outputs": [
    {
     "data": {
      "text/plain": [
       "12.333333333333334"
      ]
     },
     "execution_count": 39,
     "metadata": {},
     "output_type": "execute_result"
    }
   ],
   "source": [
    "# Packing & unpacking with a list (or a tuple): *list\n",
    "my_numbers = [10, 12, 15]\n",
    "mean(*my_numbers)"
   ]
  },
  {
   "cell_type": "markdown",
   "metadata": {},
   "source": [
    "This is also sometime convenient to call the argument by their name (mostly to make the code more readable). This type of arguments are called *keyword arguments* and can be packed/unpacked into a dictionnary. Each argument name is a key of this dictionnary and the value is the values passed to the function. The unpacking is done with `**dict`."
   ]
  },
  {
   "cell_type": "code",
   "execution_count": 40,
   "metadata": {},
   "outputs": [
    {
     "data": {
      "text/plain": [
       "12.333333333333334"
      ]
     },
     "execution_count": 40,
     "metadata": {},
     "output_type": "execute_result"
    }
   ],
   "source": [
    "# Packing & unpacking with a dictionnary: **dict\n",
    "my_numbers = {'a': 10, 'b': 12, 'c': 15}\n",
    "mean(**my_numbers)"
   ]
  },
  {
   "cell_type": "markdown",
   "metadata": {},
   "source": [
    "Coming back to the initial motivation, *i.e.* having an arbitrary number of arugments. It is possible to define such a function as follow - which in that case just print number and the list of arguments:"
   ]
  },
  {
   "cell_type": "code",
   "execution_count": 41,
   "metadata": {},
   "outputs": [],
   "source": [
    "# Function definition with *args\n",
    "def test_function(*args):\n",
    "    print('There are {} arguments: '.format(len(args)))\n",
    "    for a in args:\n",
    "        print('  -> {}'.format(a))\n",
    "    print('')\n",
    "    return"
   ]
  },
  {
   "cell_type": "code",
   "execution_count": 42,
   "metadata": {},
   "outputs": [
    {
     "name": "stdout",
     "output_type": "stream",
     "text": [
      "There are 0 arguments: \n",
      "\n",
      "There are 1 arguments: \n",
      "  -> hoho\n",
      "\n",
      "There are 2 arguments: \n",
      "  -> hoho\n",
      "  -> 3\n",
      "\n",
      "There are 4 arguments: \n",
      "  -> hoho\n",
      "  -> 3\n",
      "  -> [1, 'banana']\n",
      "  -> {'mood': 'happy', 'state': 'holidays'}\n",
      "\n"
     ]
    }
   ],
   "source": [
    "# Test with different numbers/types of arguments\n",
    "test_function()\n",
    "test_function('hoho')\n",
    "test_function('hoho', 3)\n",
    "test_function('hoho', 3, [1,'banana'], {'mood': 'happy', 'state': 'holidays'})"
   ]
  },
  {
   "cell_type": "code",
   "execution_count": 43,
   "metadata": {},
   "outputs": [],
   "source": [
    "# Function definition with kwargs\n",
    "def test_function(**kwargs):\n",
    "    print('There are {} arguments: '.format(len(kwargs)))\n",
    "    for k, v in kwargs.items():\n",
    "        print(' {}={}'.format(k, v))\n",
    "    print('')\n",
    "    return"
   ]
  },
  {
   "cell_type": "code",
   "execution_count": 104,
   "metadata": {
    "scrolled": true
   },
   "outputs": [
    {
     "name": "stdout",
     "output_type": "stream",
     "text": [
      "There are 0 arguments: \n",
      "\n",
      "There are 1 arguments: \n",
      " x=hoho\n",
      "\n",
      "There are 2 arguments: \n",
      " word=hoho\n",
      " multiplicity=3\n",
      "\n",
      "There are 4 arguments: \n",
      " a=hoho\n",
      " N=3\n",
      " shopping=[1, 'banana']\n",
      " feeling={'mood': 'happy', 'state': 'holidays'}\n",
      "\n"
     ]
    }
   ],
   "source": [
    "test_function()\n",
    "test_function(x='hoho')\n",
    "test_function(word='hoho', multiplicity=3)\n",
    "test_function(a='hoho', N=3, shopping=[1,'banana'], feeling={'mood': 'happy', 'state': 'holidays'})"
   ]
  },
  {
   "cell_type": "markdown",
   "metadata": {},
   "source": [
    "This can be used to declare argument in a very readable and concise way. This might be helpful for some cosmetic argument of plot that can be common to several plots (but not all). We'll see some concrete example later in the lecture. In the meanwhile, here is the equivalent of last call from the code above:"
   ]
  },
  {
   "cell_type": "code",
   "execution_count": 45,
   "metadata": {},
   "outputs": [
    {
     "name": "stdout",
     "output_type": "stream",
     "text": [
      "There are 4 arguments: \n",
      " a=hoho\n",
      " N=3\n",
      " shopping=[1, 'banana']\n",
      " feeling={'mood': 'happy', 'state': 'holidays'}\n",
      "\n"
     ]
    }
   ],
   "source": [
    "# Pack all keyword arguments in a dictionnary first\n",
    "my_args = {\n",
    "           'a': 'hoho', \n",
    "           'N': 3, \n",
    "           'shopping': [1,'banana'], \n",
    "           'feeling': {'mood': 'happy', 'state': 'holidays'}\n",
    "          }\n",
    "\n",
    "# Then call the function\n",
    "test_function(**my_args)"
   ]
  },
  {
   "cell_type": "markdown",
   "metadata": {},
   "source": [
    "## File manipulation\n"
   ]
  },
  {
   "cell_type": "markdown",
   "metadata": {},
   "source": [
    "### Open, write and close a file"
   ]
  },
  {
   "cell_type": "code",
   "execution_count": 63,
   "metadata": {},
   "outputs": [],
   "source": [
    "f = open('test.txt', 'w')\n",
    "f.write('# Writing a text into a file is quite easy in python')\n",
    "f.write('# This can be used to store data')\n",
    "f.write('time, height, N, price')\n",
    "f.write('1.2, 2.0, 3, 8.7')\n",
    "f.close()"
   ]
  },
  {
   "cell_type": "markdown",
   "metadata": {},
   "source": [
    "### Open, read and close a file"
   ]
  },
  {
   "cell_type": "code",
   "execution_count": 65,
   "metadata": {},
   "outputs": [
    {
     "name": "stdout",
     "output_type": "stream",
     "text": [
      "# Writing a text into a file is quite easy in python# This can be used to store datatime, height, N, price1.2, 2.0, 3, 8.7\n"
     ]
    }
   ],
   "source": [
    "f = open(\"test.txt\", \"r\")\n",
    "for line in f:\n",
    "    print(line)\n",
    "f.close()"
   ]
  },
  {
   "cell_type": "code",
   "execution_count": null,
   "metadata": {},
   "outputs": [],
   "source": []
  }
 ],
 "metadata": {
  "kernelspec": {
   "display_name": "Python 3",
   "language": "python",
   "name": "python3"
  },
  "language_info": {
   "codemirror_mode": {
    "name": "ipython",
    "version": 3
   },
   "file_extension": ".py",
   "mimetype": "text/x-python",
   "name": "python",
   "nbconvert_exporter": "python",
   "pygments_lexer": "ipython3",
   "version": "3.7.1"
  }
 },
 "nbformat": 4,
 "nbformat_minor": 2
}
