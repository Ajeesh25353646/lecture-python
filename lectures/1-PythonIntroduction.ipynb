{
 "cells": [
  {
   "cell_type": "markdown",
   "metadata": {},
   "source": [
    "# Brief introduction to Python"
   ]
  },
  {
   "cell_type": "markdown",
   "metadata": {},
   "source": [
    "## General information\n",
    "\n",
    "Python and jupyter-notebook can be installed using [anaconda](https://www.anaconda.com/). This is probably the easiest way to follow this lecture. The goal of this first chapter is to give a *very quick introduction basis*, but practice is mandatory to get confortable with python objects and synthax. Practicing is possible with a web browser only using the [www3school python tutorials](https://www.w3schools.com/python).\n",
    "\n",
    "In python, there is one instruction per line. Variable assignment is done with with `=`,  indentation is used to group instructions together under a loop or a condition block: there is no backet (like in C++) or equivalent. Importation of external modules or fonction can be done with three different ways: `import module`, `import module as m` or `from module import this_function`."
   ]
  },
  {
   "cell_type": "markdown",
   "metadata": {},
   "source": [
    "##  Numbers\n",
    "\n",
    "There are three type of numbers: int, float and complex. The usual operations (`+`, `-`, `*`, `/`) are available and also `a**b` which means a to the power b $a^b$."
   ]
  },
  {
   "cell_type": "code",
   "execution_count": 70,
   "metadata": {},
   "outputs": [
    {
     "name": "stdout",
     "output_type": "stream",
     "text": [
      "5.140000000000001\n",
      "8.815240927012887\n"
     ]
    }
   ],
   "source": [
    "a = 2\n",
    "b = 3.14\n",
    "print(a+b)\n",
    "print(a**b)"
   ]
  },
  {
   "cell_type": "code",
   "execution_count": 72,
   "metadata": {},
   "outputs": [
    {
     "data": {
      "text/plain": [
       "(-1+0j)"
      ]
     },
     "execution_count": 72,
     "metadata": {},
     "output_type": "execute_result"
    }
   ],
   "source": [
    "a = 1j\n",
    "a**2"
   ]
  },
  {
   "cell_type": "markdown",
   "metadata": {},
   "source": [
    "## Strings\n",
    "\n",
    "String allows to manipulate words, sentence or even text."
   ]
  },
  {
   "cell_type": "code",
   "execution_count": 4,
   "metadata": {},
   "outputs": [
    {
     "data": {
      "text/plain": [
       "'l'"
      ]
     },
     "execution_count": 4,
     "metadata": {},
     "output_type": "execute_result"
    }
   ],
   "source": [
    "w = 'hello'\n",
    "w[2]"
   ]
  },
  {
   "cell_type": "code",
   "execution_count": 5,
   "metadata": {},
   "outputs": [],
   "source": [
    "s = 'It is rainy today' "
   ]
  },
  {
   "cell_type": "code",
   "execution_count": 6,
   "metadata": {},
   "outputs": [
    {
     "data": {
      "text/plain": [
       "['It', 'is', 'rainy', 'today']"
      ]
     },
     "execution_count": 6,
     "metadata": {},
     "output_type": "execute_result"
    }
   ],
   "source": [
    "s.split(' ')"
   ]
  },
  {
   "cell_type": "code",
   "execution_count": 7,
   "metadata": {},
   "outputs": [
    {
     "data": {
      "text/plain": [
       "['I', ' is rainy ', 'oday']"
      ]
     },
     "execution_count": 7,
     "metadata": {},
     "output_type": "execute_result"
    }
   ],
   "source": [
    "s.split('t')"
   ]
  },
  {
   "cell_type": "markdown",
   "metadata": {},
   "source": [
    "Common and useful string manipulations:\n",
    "   + count letters in a word: `len(w)`\n",
    "   + split a sentence into a list of words: `s.split(' ')` \n",
    "   + is a word in a sentence: `w in s.split(' ')`"
   ]
  },
  {
   "cell_type": "markdown",
   "metadata": {},
   "source": [
    "## Python collections (arrays)\n",
    "\n",
    "There are four types of collection, which share several methods\n",
    "  + list\n",
    "  + dictionnary\n",
    "  + tuple\n",
    "  + set\n",
    "\n",
    "The most commonly used are the lists and dictionnary. The specificy of the set is that it is unordered, while the specificyt of the tuple is that it cannot be modified. The common methods are \n",
    "+ number of items: `len(x)`\n",
    "+ loop over items with `for element in x:`\n",
    "+ check if a item is in the list: `element in x` \n",
    "\n",
    "### Lists"
   ]
  },
  {
   "cell_type": "code",
   "execution_count": 55,
   "metadata": {},
   "outputs": [
    {
     "name": "stdout",
     "output_type": "stream",
     "text": [
      "[1, 3, 4, 'banana']\n",
      "4\n",
      "True\n"
     ]
    }
   ],
   "source": [
    "l = [1, 3, 4, 'banana']\n",
    "print(l)\n",
    "print(len(l))\n",
    "print('banana' in l)"
   ]
  },
  {
   "cell_type": "markdown",
   "metadata": {},
   "source": [
    "### Dictionnaries\n",
    "\n",
    "Other types are important to manipulate or organize data. The most common one is the dictionnary which work with a pair of (`key`, `value`). The `key` can be a string or an integer"
   ]
  },
  {
   "cell_type": "code",
   "execution_count": 56,
   "metadata": {},
   "outputs": [
    {
     "name": "stdout",
     "output_type": "stream",
     "text": [
      "{'name': 'Charles', 'age': 78, 'size': 173, 'gender': 'M'}\n"
     ]
    }
   ],
   "source": [
    "# Definition\n",
    "person = {'name': 'Charles', 'age': 78, 'size': 173, 'gender': 'M'}\n",
    "print(person)"
   ]
  },
  {
   "cell_type": "code",
   "execution_count": 57,
   "metadata": {},
   "outputs": [
    {
     "name": "stdout",
     "output_type": "stream",
     "text": [
      "Charles (M) is 78 years old and is 173 cm\n"
     ]
    }
   ],
   "source": [
    "# Accessing elements\n",
    "template = '{} ({}) is {} years old and is {} cm'\n",
    "print(template.format(person['name'], person['gender'], person['age'], person['size']))"
   ]
  },
  {
   "cell_type": "code",
   "execution_count": 58,
   "metadata": {},
   "outputs": [
    {
     "name": "stdout",
     "output_type": "stream",
     "text": [
      "{'name': 'Charles', 'age': 78, 'size': 173, 'gender': 'M', 'eyes': 'blue'}\n"
     ]
    }
   ],
   "source": [
    "# Adding a key:value\n",
    "person['eyes'] = 'blue'\n",
    "print(person)"
   ]
  },
  {
   "cell_type": "code",
   "execution_count": 59,
   "metadata": {},
   "outputs": [
    {
     "name": "stdout",
     "output_type": "stream",
     "text": [
      "True\n",
      "False\n"
     ]
    }
   ],
   "source": [
    "# Test if a key is present\n",
    "print('name' in person)\n",
    "print('brand' in person)"
   ]
  },
  {
   "cell_type": "markdown",
   "metadata": {},
   "source": [
    "### sets and tuples\n",
    "\n",
    "Tuples are ordered but cannot be modified (no assignment, no addition). An instruction like `t[0]=2` will crash."
   ]
  },
  {
   "cell_type": "code",
   "execution_count": 60,
   "metadata": {},
   "outputs": [],
   "source": [
    "t = (1, 3, 7)"
   ]
  },
  {
   "cell_type": "markdown",
   "metadata": {},
   "source": [
    "Sets are unordered but can be modified with methods like `s.add(x)` or `s.update([x, y])`."
   ]
  },
  {
   "cell_type": "code",
   "execution_count": 64,
   "metadata": {},
   "outputs": [
    {
     "name": "stdout",
     "output_type": "stream",
     "text": [
      "{'orange', 'banana', 'apple'}\n"
     ]
    }
   ],
   "source": [
    "s = {'apple', 'banana', 'orange'}\n",
    "print(s)"
   ]
  },
  {
   "cell_type": "code",
   "execution_count": 65,
   "metadata": {},
   "outputs": [
    {
     "name": "stdout",
     "output_type": "stream",
     "text": [
      "{'pineapple', 'orange', 'banana', 'apple'}\n"
     ]
    }
   ],
   "source": [
    "s.add('pineapple')\n",
    "print(s)"
   ]
  },
  {
   "cell_type": "code",
   "execution_count": 66,
   "metadata": {},
   "outputs": [
    {
     "name": "stdout",
     "output_type": "stream",
     "text": [
      "{'banana', 'apple', 'pear', 'prune', 'orange', 'pineapple'}\n"
     ]
    }
   ],
   "source": [
    "s.update(['pear', 'prune'])\n",
    "print(s)"
   ]
  },
  {
   "cell_type": "markdown",
   "metadata": {},
   "source": [
    "## Loops"
   ]
  },
  {
   "cell_type": "code",
   "execution_count": 55,
   "metadata": {},
   "outputs": [
    {
     "name": "stdout",
     "output_type": "stream",
     "text": [
      "0\n",
      "2\n",
      "4\n",
      "6\n",
      "8\n"
     ]
    }
   ],
   "source": [
    "for i in range(0, 10, 2):\n",
    "    print(i)"
   ]
  },
  {
   "cell_type": "code",
   "execution_count": 41,
   "metadata": {},
   "outputs": [
    {
     "name": "stdout",
     "output_type": "stream",
     "text": [
      "test\n",
      "7\n",
      "[1, 2]\n"
     ]
    }
   ],
   "source": [
    "for i in l:\n",
    "    print(i)"
   ]
  },
  {
   "cell_type": "code",
   "execution_count": 14,
   "metadata": {},
   "outputs": [
    {
     "name": "stdout",
     "output_type": "stream",
     "text": [
      "name Charles\n",
      "age 78\n",
      "size 173\n",
      "gender M\n"
     ]
    }
   ],
   "source": [
    "# Loop over keys for a dictionnary\n",
    "for k in person:\n",
    "    print(k, person[k])"
   ]
  },
  {
   "cell_type": "code",
   "execution_count": 13,
   "metadata": {},
   "outputs": [
    {
     "name": "stdout",
     "output_type": "stream",
     "text": [
      "Charles\n",
      "78\n",
      "173\n",
      "M\n"
     ]
    }
   ],
   "source": [
    "# Loop over values\n",
    "for v in person.values():\n",
    "    print(v)"
   ]
  },
  {
   "cell_type": "code",
   "execution_count": 15,
   "metadata": {},
   "outputs": [
    {
     "name": "stdout",
     "output_type": "stream",
     "text": [
      "name: Charles\n",
      "age: 78\n",
      "size: 173\n",
      "gender: M\n"
     ]
    }
   ],
   "source": [
    "# Both keys and values\n",
    "for k, v in person.items():\n",
    "    print('{}: {}'.format(k, v))"
   ]
  },
  {
   "cell_type": "markdown",
   "metadata": {},
   "source": [
    "## Synthax tips"
   ]
  },
  {
   "cell_type": "markdown",
   "metadata": {},
   "source": [
    "### Comprehension"
   ]
  },
  {
   "cell_type": "code",
   "execution_count": 73,
   "metadata": {},
   "outputs": [],
   "source": [
    "list_squares = [i**2 for i in range(1, 10)]\n",
    "dict_squares = {i:i**2 for i in list_squares[0:5]}"
   ]
  },
  {
   "cell_type": "code",
   "execution_count": 74,
   "metadata": {},
   "outputs": [
    {
     "name": "stdout",
     "output_type": "stream",
     "text": [
      "[1, 4, 9, 16, 25, 36, 49, 64, 81]\n"
     ]
    }
   ],
   "source": [
    "print(list_squares)"
   ]
  },
  {
   "cell_type": "code",
   "execution_count": 75,
   "metadata": {},
   "outputs": [
    {
     "name": "stdout",
     "output_type": "stream",
     "text": [
      "{1: 1, 4: 16, 9: 81, 16: 256, 25: 625}\n"
     ]
    }
   ],
   "source": [
    "print(dict_squares)"
   ]
  },
  {
   "cell_type": "markdown",
   "metadata": {},
   "source": [
    "### Looping with `enumerate` and `zip`"
   ]
  },
  {
   "cell_type": "code",
   "execution_count": 76,
   "metadata": {},
   "outputs": [
    {
     "name": "stdout",
     "output_type": "stream",
     "text": [
      "0 0 0\n",
      "1 10 11\n",
      "2 20 22\n",
      "3 30 33\n",
      "4 40 44\n",
      "5 50 55\n",
      "6 60 66\n",
      "7 70 77\n",
      "8 80 88\n",
      "9 90 99\n"
     ]
    }
   ],
   "source": [
    "l1, l2 = range(0, 10), range(0, 100, 10)\n",
    "for i, j in zip(l1, l2):\n",
    "    print(i, j, i+j)"
   ]
  },
  {
   "cell_type": "code",
   "execution_count": 77,
   "metadata": {},
   "outputs": [
    {
     "name": "stdout",
     "output_type": "stream",
     "text": [
      "I         :  0\n",
      "would     :  1\n",
      "like      :  2\n",
      "to        :  3\n",
      "analyse   :  4\n",
      "this      :  5\n",
      "sentence  :  6\n",
      "in        :  7\n",
      "term      :  8\n",
      "of        :  9\n",
      "word      :  10\n",
      "position  :  11\n"
     ]
    }
   ],
   "source": [
    "# Position of each word in a sentence\n",
    "sentence = 'I would like to analyse this sentence in term of word position'\n",
    "words = sentence.split(' ')\n",
    "for i, w in enumerate(words):\n",
    "    print(w.ljust(10) + ':  ' + str(i))"
   ]
  },
  {
   "cell_type": "markdown",
   "metadata": {},
   "source": [
    "## Functions\n",
    "\n",
    "### Definition"
   ]
  },
  {
   "cell_type": "code",
   "execution_count": 78,
   "metadata": {},
   "outputs": [],
   "source": [
    "def function(argument):\n",
    "    result = argument * 3\n",
    "    return result"
   ]
  },
  {
   "cell_type": "code",
   "execution_count": 79,
   "metadata": {},
   "outputs": [
    {
     "name": "stdout",
     "output_type": "stream",
     "text": [
      "function(10) = 30\n",
      "function('ouh') = ouhouhouh\n"
     ]
    }
   ],
   "source": [
    "# Some test\n",
    "print('function(10) = {}'.format(function(10)))\n",
    "print('function(\\'ouh\\') = {}'.format(function('ouh')))"
   ]
  },
  {
   "cell_type": "code",
   "execution_count": 80,
   "metadata": {},
   "outputs": [],
   "source": [
    "def person_printer(p):\n",
    "    template = '{} ({}) is {} years old and is {} cm'\n",
    "    print(template.format(p['name'], p['gender'], p['age'], p['size']))\n",
    "\n",
    "    person_printer(person)"
   ]
  },
  {
   "cell_type": "markdown",
   "metadata": {},
   "source": [
    "### Docstring"
   ]
  },
  {
   "cell_type": "code",
   "execution_count": 81,
   "metadata": {},
   "outputs": [
    {
     "name": "stdout",
     "output_type": "stream",
     "text": [
      "Help on function person_printer in module __main__:\n",
      "\n",
      "person_printer(p)\n",
      "    This fonction print the main caracteristics of a person.\n",
      "    p: dictionnary {\"name\": XX, \"gender\": XX, \"age\": XX, \"size\": XX}\n",
      "\n"
     ]
    }
   ],
   "source": [
    "def person_printer(p):\n",
    "    '''\n",
    "    This fonction print the main caracteristics of a person.\n",
    "    p: dictionnary {\"name\": XX, \"gender\": XX, \"age\": XX, \"size\": XX}\n",
    "    '''\n",
    "    template = '{} ({}) is {} years old and is {} cm'\n",
    "    print(template.format(p['name'], p['gender'], p['age'], p['size']))\n",
    "\n",
    "help(person_printer)"
   ]
  },
  {
   "cell_type": "markdown",
   "metadata": {},
   "source": [
    "### Arbitrary number of arguments (`*args` and `**kwargs`)\n",
    "\n",
    "Definition of packing and unpacking, some examples"
   ]
  },
  {
   "cell_type": "markdown",
   "metadata": {},
   "source": [
    "## File manipulation\n",
    "\n",
    "### Open and read a file"
   ]
  },
  {
   "cell_type": "code",
   "execution_count": null,
   "metadata": {},
   "outputs": [],
   "source": []
  },
  {
   "cell_type": "markdown",
   "metadata": {},
   "source": [
    "### Write a file"
   ]
  },
  {
   "cell_type": "code",
   "execution_count": null,
   "metadata": {},
   "outputs": [],
   "source": []
  }
 ],
 "metadata": {
  "kernelspec": {
   "display_name": "Python 3",
   "language": "python",
   "name": "python3"
  },
  "language_info": {
   "codemirror_mode": {
    "name": "ipython",
    "version": 3
   },
   "file_extension": ".py",
   "mimetype": "text/x-python",
   "name": "python",
   "nbconvert_exporter": "python",
   "pygments_lexer": "ipython3",
   "version": "3.7.3"
  }
 },
 "nbformat": 4,
 "nbformat_minor": 2
}
