{
 "cells": [
  {
   "cell_type": "markdown",
   "metadata": {},
   "source": [
    "# Text mining and basic language comparison"
   ]
  },
  {
   "cell_type": "markdown",
   "metadata": {},
   "source": [
    "The goal of this project is to analyse the first chapter of the Emile Zola's book, *L'assommoir* in five different languages. This project uses most of the concept that were shown during the python introduction and some guidance is provided if external knowledge is required. The data can be found at `../data/LAssommoir_*txt` for the five studied languages."
   ]
  },
  {
   "cell_type": "code",
   "execution_count": 1,
   "metadata": {},
   "outputs": [],
   "source": [
    "from collections import Counter\n",
    "from collections import OrderedDict"
   ]
  },
  {
   "cell_type": "markdown",
   "metadata": {},
   "source": [
    "## Read input file and get a list of individual sentence\n",
    "\n",
    "Given the text file which are provided, some tips are given in order to have a good start.\n",
    "\n",
    " 1. all file must be openned with `open(filename, 'r', encoding='utf8')` command (with the `encoding` option)\n",
    " 2. the caracter `\\xa0` will have to be replaced by white space in all the text: `line.replace('\\xa0',' ')`\n",
    " 3. the most common caracter to define sentence is `.` but not only: `['.', '…', '...', '?', '¿', '!']` should be taken as possible separators\n",
    " \n",
    "All these step will be done one by one in order to get a list of clean sentence to be studied.\n",
    " \n",
    "**1. Write a function which returns the whole text as a single python string.**"
   ]
  },
  {
   "cell_type": "code",
   "execution_count": 2,
   "metadata": {},
   "outputs": [],
   "source": [
    "def get_text(filename):\n",
    "    '''\n",
    "    Return a single string containing the text of the file 'filename'\n",
    "    '''\n",
    "    # Read the file and return a single string\n",
    "    return text"
   ]
  },
  {
   "cell_type": "code",
   "execution_count": 1,
   "metadata": {},
   "outputs": [],
   "source": [
    "# test the function an print the first 1000 caracters"
   ]
  },
  {
   "cell_type": "markdown",
   "metadata": {},
   "source": [
    "**2. Write a function which takes the precedent string and return a list of sentences.**"
   ]
  },
  {
   "cell_type": "code",
   "execution_count": 2,
   "metadata": {
    "scrolled": false
   },
   "outputs": [],
   "source": [
    "def get_sentences(text):\n",
    "    \n",
    "    # Get the sentences separated by ., ..., ?, !\n",
    "    seps = ['.', '…', '...', '?', '¿', '!']\n",
    "\n",
    "    # Loop over the separators and for each of them split the text by it\n",
    "    \n",
    "    # Return the list of sentences\n",
    "    return sentences"
   ]
  },
  {
   "cell_type": "code",
   "execution_count": 10,
   "metadata": {
    "scrolled": false
   },
   "outputs": [],
   "source": [
    "# test the function and print the 5 first sentences\n",
    "# using the following formating:\n",
    "# i. sentences[i]"
   ]
  },
  {
   "cell_type": "markdown",
   "metadata": {},
   "source": [
    "**3. Keep only sentences without `\\n` and which are not only a ponctuation symbol.**\n",
    "\n",
    "To indroduce the problem with the french text, print `sentences[40:45]`, what do you notice?"
   ]
  },
  {
   "cell_type": "code",
   "execution_count": 8,
   "metadata": {
    "scrolled": true
   },
   "outputs": [],
   "source": [
    "# Print the sentences from the 40th to the 45th"
   ]
  },
  {
   "cell_type": "markdown",
   "metadata": {},
   "source": [
    "The ponctuation signs which appear in practice are listed below:\n",
    "```python\n",
    "symbols = [' ', '…', '...', '?', '!', ';', ',', '-', '—', '–', '“', '”', '¿',\n",
    "           '\"', '\\'', '’', '(', ')', '›', '‹', '»', '«']\n",
    "```\n",
    "\n",
    "Sentences which are only one of these signs have to be disregarded. One can use `str.strip()` function to make sure all special caracters at the begining/end of a line are removed."
   ]
  },
  {
   "cell_type": "code",
   "execution_count": 6,
   "metadata": {},
   "outputs": [],
   "source": [
    "def clean_sentences(sentences):\n",
    "    symbols = [' ', '…', '...', '?', '!', ';', ',', '-', '—', '–', '“', '”', '¿',\n",
    "               '\"', '\\'', '’', '(', ')', '›', '‹', '»', '«']\n",
    "    # return a list of striped sentences, disregarding all of the above symbols"
   ]
  },
  {
   "cell_type": "code",
   "execution_count": 7,
   "metadata": {},
   "outputs": [],
   "source": [
    "# Reprint the sentences from the 40th to the 45th"
   ]
  },
  {
   "cell_type": "markdown",
   "metadata": {},
   "source": [
    "## Extract a list of words and a list of letters\n",
    "\n",
    "**4. Write a function which takes the list of clean sentences and return a list of words.**\n",
    "\n",
    "As before, the main separator of words is the white space, but it is not the only one. We provide a list of caracters which might appear, and which can be changed into white space, so that at the end all words are separated by a white space:\n",
    "```python\n",
    "to_be_space = ['…', '...', '?', '!', ';', ',', '-', '—', '–', \n",
    "               '\"', '\\'', '’', '(', ')', '›', '‹', '»', '«']\n",
    "```\n",
    "\n",
    "Since we will later perform some statistics on words, we want to be case-insensitive. There is a function to convert any string into a lower case string: `string.casefold()`."
   ]
  },
  {
   "cell_type": "code",
   "execution_count": 9,
   "metadata": {},
   "outputs": [],
   "source": [
    "def get_words_from_sentences(sentences):\n",
    "    to_be_space = ['…', '...', '?', '!', ';', ',', '-', '—', '–', \n",
    "                   '\"', '\\'', '’', '(', ')', '›', '‹', '»', '«']\n",
    "    # Return a list of words separated by spaces but also by any of the above symbols"
   ]
  },
  {
   "cell_type": "code",
   "execution_count": 11,
   "metadata": {},
   "outputs": [],
   "source": [
    "# Test the function and print the 10 first words\n",
    "# using the following formating:\n",
    "# i. words[i]"
   ]
  },
  {
   "cell_type": "markdown",
   "metadata": {},
   "source": [
    "**5. Write a function which takes the list of clean sentences and return a list of individual letters.**\n",
    "\n",
    "Wha we call letter is every symbols (including accents, etc ...) but:\n",
    "\n",
    "```python\n",
    "to_disgard = [' ', '…', '...', '?', '!', ';', ',', '-', '—', '–', '“', '”', '¿',\n",
    "              '\"', '\\'', '’', '(', ')', '›', '‹', '»', '«']\n",
    "```\n",
    "\n",
    "One might be careful that we also want to be case-insensitive for letters as well."
   ]
  },
  {
   "cell_type": "code",
   "execution_count": 12,
   "metadata": {},
   "outputs": [],
   "source": [
    "def get_letters_from_sentences(sentences):\n",
    "    to_disgard = [' ', '…', '...', '?', '!', ';', ',', '-', '—', '–', '“', '”', '¿',\n",
    "                  '\"', '\\'', '’', '(', ')', '›', '‹', '»', '«']\n",
    "    # Return a list of letters (capital insensitive) assuming that any of the above symbols is not a word"
   ]
  },
  {
   "cell_type": "code",
   "execution_count": 13,
   "metadata": {},
   "outputs": [],
   "source": [
    "# test the finction and print the 50 first letters"
   ]
  },
  {
   "cell_type": "markdown",
   "metadata": {},
   "source": [
    "## Counting sentences, words and letters ...\n",
    "\n",
    "**6. Write a function which return a list of integer corresponding to the number of words per sentences**"
   ]
  },
  {
   "cell_type": "code",
   "execution_count": 17,
   "metadata": {},
   "outputs": [],
   "source": [
    "def count_words_per_sentences(sentences):\n",
    "    # return a list which contain the number of words for each sentence\n",
    "    return "
   ]
  },
  {
   "cell_type": "code",
   "execution_count": 18,
   "metadata": {
    "scrolled": false
   },
   "outputs": [],
   "source": [
    "# Test the function and print the number of words and the associated sentence for the 5 first sentences\n",
    "# One can use the zip(collection1, collection2) syntax."
   ]
  },
  {
   "cell_type": "markdown",
   "metadata": {},
   "source": [
    "**7. In the same way count the number of letters per words**"
   ]
  },
  {
   "cell_type": "code",
   "execution_count": 19,
   "metadata": {},
   "outputs": [],
   "source": [
    "def count_letters_per_words(words):\n",
    "    # return a list which contain the number of letters for each word\n",
    "    return"
   ]
  },
  {
   "cell_type": "code",
   "execution_count": 20,
   "metadata": {},
   "outputs": [],
   "source": [
    "# Test the function and print the number of letters and the associated word for the 5 first words"
   ]
  },
  {
   "cell_type": "markdown",
   "metadata": {},
   "source": [
    "**8. Extract the occurence frequency of a given letter or words using `Counter()` function**\n",
    "\n",
    "The function `Counter()` is part of the module `collections` - which is imported at the begining of the notebook - and return the number of occurence of each element of a list:"
   ]
  },
  {
   "cell_type": "code",
   "execution_count": 17,
   "metadata": {
    "scrolled": true
   },
   "outputs": [
    {
     "name": "stdout",
     "output_type": "stream",
     "text": [
      "Counter({1: 3, 3: 2, 2: 1})\n"
     ]
    }
   ],
   "source": [
    "l = [1, 2, 3, 1, 3, 1]\n",
    "counts = Counter(l)\n",
    "print(counts)"
   ]
  },
  {
   "cell_type": "markdown",
   "metadata": {},
   "source": [
    "It can be convenient to convert this object into a dictionnary, since we can sort dictionnary by key or value, thanks to the object `OrderedDict` from `collections` module (we remind you that dictionnary are natively not ordered). We provide the function to sort a dictionnary with decreasing values."
   ]
  },
  {
   "cell_type": "code",
   "execution_count": 18,
   "metadata": {},
   "outputs": [
    {
     "name": "stdout",
     "output_type": "stream",
     "text": [
      "Unsorted: {1: 3, 2: 1, 3: 2}\n",
      "Sorted  : OrderedDict([(1, 3), (3, 2), (2, 1)])\n"
     ]
    }
   ],
   "source": [
    "counts = dict(counts)\n",
    "sorted_counts = OrderedDict(sorted(counts.items(), key=lambda x: x[1], reverse=True))\n",
    "print('Unsorted: {}'.format(counts))\n",
    "print('Sorted  : {}'.format(sorted_counts))"
   ]
  },
  {
   "cell_type": "markdown",
   "metadata": {},
   "source": [
    "Write two functions which return an ordered dictionnary containing `letter:frequency` and `word:frequency`."
   ]
  },
  {
   "cell_type": "code",
   "execution_count": 21,
   "metadata": {},
   "outputs": [],
   "source": [
    "def count_letters_frequency(letters):\n",
    "    return\n",
    "\n",
    "def count_words_frequency(words):\n",
    "    return"
   ]
  },
  {
   "cell_type": "code",
   "execution_count": 23,
   "metadata": {},
   "outputs": [],
   "source": [
    "# Test the letter function and print the 5 mostly used letters"
   ]
  },
  {
   "cell_type": "code",
   "execution_count": 25,
   "metadata": {},
   "outputs": [],
   "source": [
    "# Test the word function and the 5 mostly used words"
   ]
  },
  {
   "cell_type": "markdown",
   "metadata": {},
   "source": [
    "## Explore language comparison\n",
    "\n",
    "### Wrap up several functions into a single loading fonction\n",
    "\n",
    "**9. Write a function which perform all the operations above and return a dictionnary with all the raw information needed to perform some statistics.**\n",
    "\n",
    "We need to to store the list of sentences, the list of words and the list of letters. These three lists allows to call the different function designed before. We propose to store this information into a dictionnary `data`."
   ]
  },
  {
   "cell_type": "code",
   "execution_count": 26,
   "metadata": {},
   "outputs": [],
   "source": [
    "def get_clean_sentences(fname):\n",
    "    return\n",
    "    \n",
    "def get_text_data(fname):\n",
    "    data = {}\n",
    "    return data "
   ]
  },
  {
   "cell_type": "code",
   "execution_count": 28,
   "metadata": {},
   "outputs": [],
   "source": [
    "# Load the dictionnary for french text and print the number of sentences, words and letters"
   ]
  },
  {
   "cell_type": "markdown",
   "metadata": {},
   "source": [
    "Now, everything is ready to load the five languages and compare their caracteristics using simple statistics:\n",
    "  + average sentence/word length\n",
    "  + which letters are the most used?\n",
    "  + which letters are used is some language and not others?\n",
    "  + which are the most common words in each language?"
   ]
  },
  {
   "cell_type": "code",
   "execution_count": 34,
   "metadata": {
    "scrolled": false
   },
   "outputs": [],
   "source": [
    "# Loading all languages: fr, en, de, it, es \n",
    "data_fr = get_text_data('../data/LAssommoir_fr.txt')\n",
    "data_en = get_text_data('../data/LAssommoir_en.txt')\n",
    "data_de = get_text_data('../data/LAssommoir_de.txt')\n",
    "data_it = get_text_data('../data/LAssommoir_it.txt')\n",
    "data_es = get_text_data('../data/LAssommoir_es.txt')"
   ]
  },
  {
   "cell_type": "code",
   "execution_count": 35,
   "metadata": {},
   "outputs": [
    {
     "name": "stdout",
     "output_type": "stream",
     "text": [
      "FR: -99.00 words/sentence\n",
      "EN: -99.00 words/sentence\n",
      "DE: -99.00 words/sentence\n",
      "IT: -99.00 words/sentence\n",
      "ES: -99.00 words/sentence\n"
     ]
    }
   ],
   "source": [
    "all_data = [data_fr, data_en, data_de, data_it, data_es]\n",
    "all_name = ['FR', 'EN', 'DE', 'IT', 'ES']\n",
    "\n",
    "# Example of averaged sentence length\n",
    "for n, d in zip(all_name, all_data):\n",
    "    # Compute and print the average number of word per sentence\n",
    "    print('{}: {:.2f} words/sentence'.format(n, -99))"
   ]
  },
  {
   "cell_type": "markdown",
   "metadata": {},
   "source": [
    "## To go further: more variables and plots"
   ]
  },
  {
   "cell_type": "markdown",
   "metadata": {},
   "source": [
    "One other intersting variable is the number of unique words as function of the total number of words. Indeed, this allows to probe the basic amount of word duplication. The way to compute it to perform the same counting on a subset of words which increase for each element of the list:"
   ]
  },
  {
   "cell_type": "code",
   "execution_count": 26,
   "metadata": {},
   "outputs": [],
   "source": [
    "# Count the number of unique words as function ot total words\n",
    "def count_cumulative_words(words):\n",
    "    return\n",
    "\n",
    "# Add this information to a dictionnary\n",
    "def add_cumul_words(data):\n",
    "    return\n",
    "\n",
    "# Add to all data we have so far\n",
    "for d in all_data:\n",
    "    add_cumul_words(d)"
   ]
  },
  {
   "cell_type": "markdown",
   "metadata": {},
   "source": [
    "This part is showing what we can do with `matplotlib`, which is one of the most standard library for plotting in python:"
   ]
  },
  {
   "cell_type": "code",
   "execution_count": 39,
   "metadata": {},
   "outputs": [],
   "source": [
    "import matplotlib.pyplot as plt"
   ]
  },
  {
   "cell_type": "markdown",
   "metadata": {},
   "source": [
    "The default style can be tuned using a cosmetic parameters dictionnary, as follow:"
   ]
  },
  {
   "cell_type": "code",
   "execution_count": 40,
   "metadata": {},
   "outputs": [],
   "source": [
    "# Plot settings\n",
    "import matplotlib as mpl\n",
    "mpl.rcParams['legend.frameon' ] = False\n",
    "mpl.rcParams['legend.fontsize'] = 'xx-large'\n",
    "mpl.rcParams['xtick.labelsize'] = 18\n",
    "mpl.rcParams['ytick.labelsize'] = 18\n",
    "mpl.rcParams['axes.titlesize' ] = 18\n",
    "mpl.rcParams['axes.labelsize' ] = 18\n",
    "mpl.rcParams['lines.linewidth'] = 2.5\n",
    "mpl.rcParams['axes.linewidth'] = 1.0"
   ]
  },
  {
   "cell_type": "markdown",
   "metadata": {},
   "source": [
    "The following function takes in argument a list of `[name, data]` and compare few distributions of interst for all the data which are passed. This used sub plot feature of matplolib, as well as three types of graphical representation: `hist` (histogram) and `plot` (x *v.s.* y) and `bar` (y *v.s.* label)."
   ]
  },
  {
   "cell_type": "code",
   "execution_count": 41,
   "metadata": {},
   "outputs": [],
   "source": [
    "def plot_text_data(*args):\n",
    "    '''\n",
    "    *arg is a list of [name, data] for each language.\n",
    "    '''\n",
    "    \n",
    "    # Prepare the canvas to plot the results\n",
    "    plt.figure(figsize=(23, 15))\n",
    "    grid = plt.GridSpec(2, 3, wspace=0.3, hspace=0.2)\n",
    "    ax1 = plt.subplot(grid[0, 0])\n",
    "    ax2 = plt.subplot(grid[0, 1])\n",
    "    ax3 = plt.subplot(grid[1, :3])\n",
    "    ax4 = plt.subplot(grid[0, 2])\n",
    "    \n",
    "    # plot style\n",
    "    hist_style = {'density': True, 'histtype': 'step', 'alpha': 0.3, 'linewidth': 5}\n",
    "    plot_style = {'alpha': 0.3, 'linewidth': 5}\n",
    "    \n",
    "    for data in args:\n",
    "    \n",
    "        # Unpack text data\n",
    "        name, text_data = data\n",
    "        sentences = text_data['sentences']\n",
    "        words = text_data['words']\n",
    "        letters = text_data['letters']\n",
    "        cumul_words = text_data['cumul_words']\n",
    "        \n",
    "        # Compute few basic stat\n",
    "        Nwords = count_words_per_sentences(sentences)\n",
    "        Nletters = count_letters_per_words(words)\n",
    "        freq_letters = count_letters_frequency(letters)\n",
    "    \n",
    "        # plot sentence length\n",
    "        ax1.hist(Nwords, bins=range(1, 80, 4), label=name + ' ({})'.format(len(sentences)), **hist_style)\n",
    "        ax1.set_xlabel('Number of words per sentence')\n",
    "        ax1.legend()\n",
    "    \n",
    "        # plot word length\n",
    "        ax2.hist(Nletters, bins=range(1, 26), label=name + ' ({})'.format(len(words)), **hist_style)\n",
    "        ax2.set_xlabel('Number of letters per word')\n",
    "        ax2.legend()\n",
    "    \n",
    "        # plot letter apparition frequency\n",
    "        x, y = list(freq_letters.keys()), list(freq_letters.values())    \n",
    "        ax3.bar(x, y, alpha=0.3, label=name)\n",
    "        ax3.legend()\n",
    "        \n",
    "        # plot cumulative number of words\n",
    "        ax4.plot(cumul_words, label=name, **plot_style)\n",
    "        ax4.set_xlabel('Number of words')\n",
    "        ax4.set_ylabel('Number of unique words')\n",
    "        ax4.legend()\n",
    "\n",
    "    return"
   ]
  },
  {
   "cell_type": "code",
   "execution_count": 44,
   "metadata": {
    "scrolled": false
   },
   "outputs": [],
   "source": [
    "# Based on the function above, plot all data (you can try to think about more interesting plots too!)"
   ]
  },
  {
   "cell_type": "markdown",
   "metadata": {},
   "source": [
    "This last part compare the 50 most commonly used words in the 5 languages, ranked by decreasing order of occurence. A variation of `bar` style can be used - with horizontal bars: `barh` - instead of the `ax.plot()` command used below."
   ]
  },
  {
   "cell_type": "code",
   "execution_count": 54,
   "metadata": {
    "scrolled": false
   },
   "outputs": [
    {
     "data": {
      "image/png": "[encoded data removed]",
      "text/plain": [
       "<Figure size 2880x2880 with 5 Axes>"
      ]
     },
     "metadata": {
      "needs_background": "light"
     },
     "output_type": "display_data"
    }
   ],
   "source": [
    "# Figure and subplots\n",
    "fig, axs = plt.subplots(figsize=(40, 40), nrows=1, ncols=len(all_data))\n",
    "\n",
    "# Loop over axis and data\n",
    "for ax in axs:\n",
    "    ax.plot()"
   ]
  }
 ],
 "metadata": {
  "kernelspec": {
   "display_name": "Python 3",
   "language": "python",
   "name": "python3"
  },
  "language_info": {
   "codemirror_mode": {
    "name": "ipython",
    "version": 3
   },
   "file_extension": ".py",
   "mimetype": "text/x-python",
   "name": "python",
   "nbconvert_exporter": "python",
   "pygments_lexer": "ipython3",
   "version": "3.7.3"
  }
 },
 "nbformat": 4,
 "nbformat_minor": 2
}
